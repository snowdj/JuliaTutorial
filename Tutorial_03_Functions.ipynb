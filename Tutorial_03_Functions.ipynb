{
 "cells": [
  {
   "cell_type": "markdown",
   "metadata": {
    "collapsed": true
   },
   "source": [
    "# Functions\n",
    "\n",
    "This notebook shows how to define functions with one (or several) inputs and outputs. It also shows how to use to dot (.) syntax to apply a function to each element of an array."
   ]
  },
  {
   "cell_type": "markdown",
   "metadata": {},
   "source": [
    "## Loading Packages"
   ]
  },
  {
   "cell_type": "code",
   "execution_count": 1,
   "metadata": {},
   "outputs": [
    {
     "data": {
      "text/plain": [
       "printlnPs (generic function with 2 methods)"
      ]
     },
     "execution_count": 1,
     "metadata": {},
     "output_type": "execute_result"
    }
   ],
   "source": [
    "using Dates, Roots\n",
    "             \n",
    "include(\"printmat.jl\")"
   ]
  },
  {
   "cell_type": "code",
   "execution_count": 2,
   "metadata": {},
   "outputs": [],
   "source": [
    "using Plots\n",
    "\n",
    "backend = \"gr\"              #\"gr\" (default), \"pyplot\" \n",
    "\n",
    "if backend == \"pyplot\"\n",
    "    pyplot(size=(600,400))\n",
    "else    \n",
    "    gr(size=(480,320))\n",
    "    default(fmt = :svg)\n",
    "end"
   ]
  },
  {
   "cell_type": "markdown",
   "metadata": {},
   "source": [
    "# Functions with One Output"
   ]
  },
  {
   "cell_type": "markdown",
   "metadata": {},
   "source": [
    "## The Basic Approach\n",
    "\n",
    "The basic approach to define a function with the name `fn` is\n",
    "```\n",
    "function fn(x,b)\n",
    "    ...(some code)\n",
    "    return y\n",
    "end    \n",
    "``` \n",
    "\n",
    "Once you have defined a function, you can use it (call on it) by, for instance, `y1 = fn(2,1)`. This will generate a `y1` variable (not a `y` variable) in the workspace. Inside the function, `x` is then 2 and `b` is 1. Clearly, if `x1=2 and b1=1`, you get the same result by calling as `y1 = fn(x1,b1)`."
   ]
  },
  {
   "cell_type": "code",
   "execution_count": 3,
   "metadata": {},
   "outputs": [
    {
     "name": "stdout",
     "output_type": "stream",
     "text": [
      "result from fn1(2,1):      0.310\n"
     ]
    }
   ],
   "source": [
    "function fn1(x,b)                   #x and b are the inputs\n",
    "    c = 0.5                         #c is only \"seen\" inside the function   \n",
    "    y = b*(x-1.1)^2 - c\n",
    "    return y                        #this is the output \n",
    "end\n",
    "\n",
    "y1 = fn1(2,1)\n",
    "printlnPs(\"result from fn1(2,1): \",y1)"
   ]
  },
  {
   "cell_type": "markdown",
   "metadata": {},
   "source": [
    "## Default Values for the Inputs\n",
    "\n",
    "You can change the first line of the function to specify default values as \n",
    "```\n",
    "function fn(x,b=1)\n",
    "```\n",
    "\n",
    "In this case you can call on the function as `fn(x)` and the value of `b` will default to 1. (Clearly, inputs with default values must be towards the end of the list of inputs.)"
   ]
  },
  {
   "cell_type": "code",
   "execution_count": 4,
   "metadata": {},
   "outputs": [
    {
     "name": "stdout",
     "output_type": "stream",
     "text": [
      "result from fn2(2,1) and fn2(2):      0.310     0.310\n"
     ]
    }
   ],
   "source": [
    "function fn2(x,b=1)                 #b=1 is the default in case we call as fn2(x)\n",
    "    y = b*(x-1.1)^2 - 0.5\n",
    "    return y\n",
    "end\n",
    "\n",
    "printlnPs(\"result from fn2(2,1) and fn2(2): \",fn2(2,1),fn2(2))"
   ]
  },
  {
   "cell_type": "markdown",
   "metadata": {},
   "source": [
    "## Elementwise Evaluation\n",
    "\n",
    "To apply the function to each element of arrays `x` and `b`, use the dot syntax: \n",
    "```\n",
    "y = fn.(x,b)\n",
    "```\n",
    "This calculates `fn(x[i],b[i])` for each pair `(x[i],b[i])`.\n",
    "\n",
    "Instead, with `fn.(x,2)`, you calculate `fn(x[i],2)` for each element `x[i]`."
   ]
  },
  {
   "cell_type": "code",
   "execution_count": 5,
   "metadata": {},
   "outputs": [
    {
     "name": "stdout",
     "output_type": "stream",
     "text": [
      "\n",
      "result from the function fn2.(x1,2): \n",
      "    -0.480\n",
      "    -0.180\n",
      "\n",
      "\n",
      "result from the function fn2.(x1,b1): \n",
      "    -0.480\n",
      "    -0.180\n",
      "\n"
     ]
    }
   ],
   "source": [
    "x1 = [1,1.5]\n",
    "b1 = [2,2]\n",
    "\n",
    "println(\"\\nresult from the function fn2.(x1,2): \")\n",
    "printmat(fn2.(x1,2))\n",
    "\n",
    "println(\"\\nresult from the function fn2.(x1,b1): \")\n",
    "printmat(fn2.(x1,b1))"
   ]
  },
  {
   "cell_type": "code",
   "execution_count": 6,
   "metadata": {},
   "outputs": [
    {
     "data": {
      "image/svg+xml": [
       "<?xml version=\"1.0\" encoding=\"utf-8\"?>\n",
       "<svg xmlns=\"http://www.w3.org/2000/svg\" xmlns:xlink=\"http://www.w3.org/1999/xlink\" width=\"480\" height=\"320\" viewBox=\"0 0 1920 1280\">\n",
       "<defs>\n",
       "  <clipPath id=\"clip8900\">\n",
       "    <rect x=\"0\" y=\"0\" width=\"2000\" height=\"2000\"/>\n",
       "  </clipPath>\n",
       "</defs>\n",
       "<defs>\n",
       "  <clipPath id=\"clip8901\">\n",
       "    <rect x=\"0\" y=\"0\" width=\"1920\" height=\"1280\"/>\n",
       "  </clipPath>\n",
       "</defs>\n",
       "<polygon clip-path=\"url(#clip8901)\" points=\"\n",
       "0,1280 1920,1280 1920,0 0,0 \n",
       "  \" fill=\"#ffffff\" fill-opacity=\"1\"/>\n",
       "<defs>\n",
       "  <clipPath id=\"clip8902\">\n",
       "    <rect x=\"384\" y=\"0\" width=\"1345\" height=\"1280\"/>\n",
       "  </clipPath>\n",
       "</defs>\n",
       "<polygon clip-path=\"url(#clip8901)\" points=\"\n",
       "121.251,1183.47 1841.26,1183.47 1841.26,47.2441 121.251,47.2441 \n",
       "  \" fill=\"#ffffff\" fill-opacity=\"1\"/>\n",
       "<defs>\n",
       "  <clipPath id=\"clip8903\">\n",
       "    <rect x=\"121\" y=\"47\" width=\"1721\" height=\"1137\"/>\n",
       "  </clipPath>\n",
       "</defs>\n",
       "<polyline clip-path=\"url(#clip8903)\" style=\"stroke:#000000; stroke-width:2; stroke-opacity:0.1; fill:none\" points=\"\n",
       "  169.93,1183.47 169.93,47.2441 \n",
       "  \"/>\n",
       "<polyline clip-path=\"url(#clip8903)\" style=\"stroke:#000000; stroke-width:2; stroke-opacity:0.1; fill:none\" points=\"\n",
       "  575.593,1183.47 575.593,47.2441 \n",
       "  \"/>\n",
       "<polyline clip-path=\"url(#clip8903)\" style=\"stroke:#000000; stroke-width:2; stroke-opacity:0.1; fill:none\" points=\"\n",
       "  981.255,1183.47 981.255,47.2441 \n",
       "  \"/>\n",
       "<polyline clip-path=\"url(#clip8903)\" style=\"stroke:#000000; stroke-width:2; stroke-opacity:0.1; fill:none\" points=\"\n",
       "  1386.92,1183.47 1386.92,47.2441 \n",
       "  \"/>\n",
       "<polyline clip-path=\"url(#clip8903)\" style=\"stroke:#000000; stroke-width:2; stroke-opacity:0.1; fill:none\" points=\"\n",
       "  1792.58,1183.47 1792.58,47.2441 \n",
       "  \"/>\n",
       "<polyline clip-path=\"url(#clip8903)\" style=\"stroke:#000000; stroke-width:2; stroke-opacity:0.1; fill:none\" points=\"\n",
       "  121.251,1090.55 1841.26,1090.55 \n",
       "  \"/>\n",
       "<polyline clip-path=\"url(#clip8903)\" style=\"stroke:#000000; stroke-width:2; stroke-opacity:0.1; fill:none\" points=\"\n",
       "  121.251,847.486 1841.26,847.486 \n",
       "  \"/>\n",
       "<polyline clip-path=\"url(#clip8903)\" style=\"stroke:#000000; stroke-width:2; stroke-opacity:0.1; fill:none\" points=\"\n",
       "  121.251,604.421 1841.26,604.421 \n",
       "  \"/>\n",
       "<polyline clip-path=\"url(#clip8903)\" style=\"stroke:#000000; stroke-width:2; stroke-opacity:0.1; fill:none\" points=\"\n",
       "  121.251,361.357 1841.26,361.357 \n",
       "  \"/>\n",
       "<polyline clip-path=\"url(#clip8903)\" style=\"stroke:#000000; stroke-width:2; stroke-opacity:0.1; fill:none\" points=\"\n",
       "  121.251,118.292 1841.26,118.292 \n",
       "  \"/>\n",
       "<polyline clip-path=\"url(#clip8901)\" style=\"stroke:#000000; stroke-width:4; stroke-opacity:1; fill:none\" points=\"\n",
       "  121.251,1183.47 1841.26,1183.47 \n",
       "  \"/>\n",
       "<polyline clip-path=\"url(#clip8901)\" style=\"stroke:#000000; stroke-width:4; stroke-opacity:1; fill:none\" points=\"\n",
       "  121.251,1183.47 121.251,47.2441 \n",
       "  \"/>\n",
       "<polyline clip-path=\"url(#clip8901)\" style=\"stroke:#000000; stroke-width:4; stroke-opacity:1; fill:none\" points=\"\n",
       "  169.93,1183.47 169.93,1166.43 \n",
       "  \"/>\n",
       "<polyline clip-path=\"url(#clip8901)\" style=\"stroke:#000000; stroke-width:4; stroke-opacity:1; fill:none\" points=\"\n",
       "  575.593,1183.47 575.593,1166.43 \n",
       "  \"/>\n",
       "<polyline clip-path=\"url(#clip8901)\" style=\"stroke:#000000; stroke-width:4; stroke-opacity:1; fill:none\" points=\"\n",
       "  981.255,1183.47 981.255,1166.43 \n",
       "  \"/>\n",
       "<polyline clip-path=\"url(#clip8901)\" style=\"stroke:#000000; stroke-width:4; stroke-opacity:1; fill:none\" points=\"\n",
       "  1386.92,1183.47 1386.92,1166.43 \n",
       "  \"/>\n",
       "<polyline clip-path=\"url(#clip8901)\" style=\"stroke:#000000; stroke-width:4; stroke-opacity:1; fill:none\" points=\"\n",
       "  1792.58,1183.47 1792.58,1166.43 \n",
       "  \"/>\n",
       "<polyline clip-path=\"url(#clip8901)\" style=\"stroke:#000000; stroke-width:4; stroke-opacity:1; fill:none\" points=\"\n",
       "  121.251,1090.55 147.051,1090.55 \n",
       "  \"/>\n",
       "<polyline clip-path=\"url(#clip8901)\" style=\"stroke:#000000; stroke-width:4; stroke-opacity:1; fill:none\" points=\"\n",
       "  121.251,847.486 147.051,847.486 \n",
       "  \"/>\n",
       "<polyline clip-path=\"url(#clip8901)\" style=\"stroke:#000000; stroke-width:4; stroke-opacity:1; fill:none\" points=\"\n",
       "  121.251,604.421 147.051,604.421 \n",
       "  \"/>\n",
       "<polyline clip-path=\"url(#clip8901)\" style=\"stroke:#000000; stroke-width:4; stroke-opacity:1; fill:none\" points=\"\n",
       "  121.251,361.357 147.051,361.357 \n",
       "  \"/>\n",
       "<polyline clip-path=\"url(#clip8901)\" style=\"stroke:#000000; stroke-width:4; stroke-opacity:1; fill:none\" points=\"\n",
       "  121.251,118.292 147.051,118.292 \n",
       "  \"/>\n",
       "<g clip-path=\"url(#clip8901)\">\n",
       "<text style=\"fill:#000000; fill-opacity:1; font-family:Arial,Helvetica Neue,Helvetica,sans-serif; font-size:48px; text-anchor:middle;\" transform=\"rotate(0, 169.93, 1235.07)\" x=\"169.93\" y=\"1235.07\">-1</text>\n",
       "</g>\n",
       "<g clip-path=\"url(#clip8901)\">\n",
       "<text style=\"fill:#000000; fill-opacity:1; font-family:Arial,Helvetica Neue,Helvetica,sans-serif; font-size:48px; text-anchor:middle;\" transform=\"rotate(0, 575.593, 1235.07)\" x=\"575.593\" y=\"1235.07\">0</text>\n",
       "</g>\n",
       "<g clip-path=\"url(#clip8901)\">\n",
       "<text style=\"fill:#000000; fill-opacity:1; font-family:Arial,Helvetica Neue,Helvetica,sans-serif; font-size:48px; text-anchor:middle;\" transform=\"rotate(0, 981.255, 1235.07)\" x=\"981.255\" y=\"1235.07\">1</text>\n",
       "</g>\n",
       "<g clip-path=\"url(#clip8901)\">\n",
       "<text style=\"fill:#000000; fill-opacity:1; font-family:Arial,Helvetica Neue,Helvetica,sans-serif; font-size:48px; text-anchor:middle;\" transform=\"rotate(0, 1386.92, 1235.07)\" x=\"1386.92\" y=\"1235.07\">2</text>\n",
       "</g>\n",
       "<g clip-path=\"url(#clip8901)\">\n",
       "<text style=\"fill:#000000; fill-opacity:1; font-family:Arial,Helvetica Neue,Helvetica,sans-serif; font-size:48px; text-anchor:middle;\" transform=\"rotate(0, 1792.58, 1235.07)\" x=\"1792.58\" y=\"1235.07\">3</text>\n",
       "</g>\n",
       "<g clip-path=\"url(#clip8901)\">\n",
       "<text style=\"fill:#000000; fill-opacity:1; font-family:Arial,Helvetica Neue,Helvetica,sans-serif; font-size:48px; text-anchor:end;\" transform=\"rotate(0, 102.051, 1108.05)\" x=\"102.051\" y=\"1108.05\">0</text>\n",
       "</g>\n",
       "<g clip-path=\"url(#clip8901)\">\n",
       "<text style=\"fill:#000000; fill-opacity:1; font-family:Arial,Helvetica Neue,Helvetica,sans-serif; font-size:48px; text-anchor:end;\" transform=\"rotate(0, 102.051, 864.986)\" x=\"102.051\" y=\"864.986\">2</text>\n",
       "</g>\n",
       "<g clip-path=\"url(#clip8901)\">\n",
       "<text style=\"fill:#000000; fill-opacity:1; font-family:Arial,Helvetica Neue,Helvetica,sans-serif; font-size:48px; text-anchor:end;\" transform=\"rotate(0, 102.051, 621.921)\" x=\"102.051\" y=\"621.921\">4</text>\n",
       "</g>\n",
       "<g clip-path=\"url(#clip8901)\">\n",
       "<text style=\"fill:#000000; fill-opacity:1; font-family:Arial,Helvetica Neue,Helvetica,sans-serif; font-size:48px; text-anchor:end;\" transform=\"rotate(0, 102.051, 378.857)\" x=\"102.051\" y=\"378.857\">6</text>\n",
       "</g>\n",
       "<g clip-path=\"url(#clip8901)\">\n",
       "<text style=\"fill:#000000; fill-opacity:1; font-family:Arial,Helvetica Neue,Helvetica,sans-serif; font-size:48px; text-anchor:end;\" transform=\"rotate(0, 102.051, 135.792)\" x=\"102.051\" y=\"135.792\">8</text>\n",
       "</g>\n",
       "<polyline clip-path=\"url(#clip8903)\" style=\"stroke:#009af9; stroke-width:4; stroke-opacity:1; fill:none\" points=\"\n",
       "  169.93,79.4016 173.987,89.586 178.043,99.7218 182.1,109.809 186.157,119.848 190.213,129.838 194.27,139.779 198.326,149.672 202.383,159.516 206.44,169.311 \n",
       "  210.496,179.058 214.553,188.756 218.61,198.406 222.666,208.007 226.723,217.56 230.779,227.063 234.836,236.519 238.893,245.925 242.949,255.283 247.006,264.593 \n",
       "  251.063,273.853 255.119,283.066 259.176,292.229 263.232,301.344 267.289,310.41 271.346,319.428 275.402,328.397 279.459,337.318 283.516,346.189 287.572,355.013 \n",
       "  291.629,363.787 295.685,372.513 299.742,381.191 303.799,389.82 307.855,398.4 311.912,406.931 315.969,415.414 320.025,423.849 324.082,432.234 328.138,440.572 \n",
       "  332.195,448.86 336.252,457.1 340.308,465.291 344.365,473.434 348.422,481.528 352.478,489.573 356.535,497.57 360.591,505.518 364.648,513.418 368.705,521.269 \n",
       "  372.761,529.071 376.818,536.825 380.875,544.53 384.931,552.187 388.988,559.795 393.044,567.354 397.101,574.865 401.158,582.327 405.214,589.74 409.271,597.105 \n",
       "  413.328,604.421 417.384,611.689 421.441,618.908 425.497,626.079 429.554,633.2 433.611,640.274 437.667,647.298 441.724,654.274 445.781,661.201 449.837,668.08 \n",
       "  453.894,674.91 457.95,681.692 462.007,688.425 466.064,695.109 470.12,701.745 474.177,708.332 478.234,714.87 482.29,721.36 486.347,727.801 490.403,734.194 \n",
       "  494.46,740.538 498.517,746.833 502.573,753.08 506.63,759.278 510.687,765.428 514.743,771.529 518.8,777.581 522.856,783.585 526.913,789.54 530.97,795.446 \n",
       "  535.026,801.304 539.083,807.113 543.14,812.874 547.196,818.586 551.253,824.249 555.309,829.864 559.366,835.43 563.423,840.948 567.479,846.417 571.536,851.837 \n",
       "  575.593,857.209 579.649,862.532 583.706,867.806 587.762,873.032 591.819,878.21 595.876,883.338 599.932,888.418 603.989,893.45 608.046,898.433 612.102,903.367 \n",
       "  616.159,908.252 620.215,913.089 624.272,917.878 628.329,922.618 632.385,927.309 636.442,931.951 640.499,936.545 644.555,941.091 648.612,945.587 652.669,950.035 \n",
       "  656.725,954.435 660.782,958.786 664.838,963.088 668.895,967.342 672.952,971.547 677.008,975.703 681.065,979.811 685.122,983.87 689.178,987.88 693.235,991.842 \n",
       "  697.291,995.756 701.348,999.621 705.405,1003.44 709.461,1007.2 713.518,1010.92 717.575,1014.59 721.631,1018.21 725.688,1021.79 729.744,1025.31 733.801,1028.79 \n",
       "  737.858,1032.22 741.914,1035.59 745.971,1038.92 750.028,1042.21 754.084,1045.44 758.141,1048.62 762.197,1051.76 766.254,1054.84 770.311,1057.88 774.367,1060.87 \n",
       "  778.424,1063.81 782.481,1066.71 786.537,1069.55 790.594,1072.35 794.65,1075.09 798.707,1077.79 802.764,1080.44 806.82,1083.04 810.877,1085.59 814.934,1088.1 \n",
       "  818.99,1090.55 823.047,1092.96 827.103,1095.32 831.16,1097.62 835.217,1099.88 839.273,1102.1 843.33,1104.26 847.387,1106.37 851.443,1108.44 855.5,1110.46 \n",
       "  859.556,1112.43 863.613,1114.35 867.67,1116.22 871.726,1118.04 875.783,1119.82 879.84,1121.54 883.896,1123.22 887.953,1124.85 892.009,1126.43 896.066,1127.96 \n",
       "  900.123,1129.44 904.179,1130.88 908.236,1132.26 912.293,1133.6 916.349,1134.89 920.406,1136.13 924.462,1137.32 928.519,1138.46 932.576,1139.55 936.632,1140.6 \n",
       "  940.689,1141.59 944.746,1142.54 948.802,1143.44 952.859,1144.29 956.915,1145.09 960.972,1145.85 965.029,1146.55 969.085,1147.21 973.142,1147.82 977.199,1148.38 \n",
       "  981.255,1148.89 985.312,1149.35 989.368,1149.76 993.425,1150.13 997.482,1150.44 1001.54,1150.71 1005.59,1150.93 1009.65,1151.1 1013.71,1151.22 1017.76,1151.29 \n",
       "  1021.82,1151.32 1025.88,1151.29 1029.93,1151.22 1033.99,1151.1 1038.05,1150.93 1042.1,1150.71 1046.16,1150.44 1050.22,1150.13 1054.27,1149.76 1058.33,1149.35 \n",
       "  1062.39,1148.89 1066.44,1148.38 1070.5,1147.82 1074.56,1147.21 1078.61,1146.55 1082.67,1145.85 1086.73,1145.09 1090.78,1144.29 1094.84,1143.44 1098.9,1142.54 \n",
       "  1102.95,1141.59 1107.01,1140.6 1111.07,1139.55 1115.12,1138.46 1119.18,1137.32 1123.24,1136.13 1127.29,1134.89 1131.35,1133.6 1135.41,1132.26 1139.46,1130.88 \n",
       "  1143.52,1129.44 1147.58,1127.96 1151.63,1126.43 1155.69,1124.85 1159.75,1123.22 1163.8,1121.54 1167.86,1119.82 1171.92,1118.04 1175.97,1116.22 1180.03,1114.35 \n",
       "  1184.09,1112.43 1188.14,1110.46 1192.2,1108.44 1196.26,1106.37 1200.31,1104.26 1204.37,1102.1 1208.43,1099.88 1212.48,1097.62 1216.54,1095.32 1220.6,1092.96 \n",
       "  1224.65,1090.55 1228.71,1088.1 1232.77,1085.59 1236.82,1083.04 1240.88,1080.44 1244.94,1077.79 1248.99,1075.09 1253.05,1072.35 1257.11,1069.55 1261.16,1066.71 \n",
       "  1265.22,1063.81 1269.28,1060.87 1273.33,1057.88 1277.39,1054.84 1281.45,1051.76 1285.5,1048.62 1289.56,1045.44 1293.62,1042.21 1297.67,1038.92 1301.73,1035.59 \n",
       "  1305.79,1032.22 1309.84,1028.79 1313.9,1025.31 1317.96,1021.79 1322.01,1018.21 1326.07,1014.59 1330.12,1010.92 1334.18,1007.2 1338.24,1003.44 1342.29,999.621 \n",
       "  1346.35,995.756 1350.41,991.842 1354.46,987.88 1358.52,983.87 1362.58,979.811 1366.63,975.703 1370.69,971.547 1374.75,967.342 1378.8,963.088 1382.86,958.786 \n",
       "  1386.92,954.435 1390.97,950.035 1395.03,945.587 1399.09,941.091 1403.14,936.545 1407.2,931.951 1411.26,927.309 1415.31,922.618 1419.37,917.878 1423.43,913.089 \n",
       "  1427.48,908.252 1431.54,903.367 1435.6,898.433 1439.65,893.45 1443.71,888.418 1447.77,883.338 1451.82,878.21 1455.88,873.032 1459.94,867.806 1463.99,862.532 \n",
       "  1468.05,857.209 1472.11,851.837 1476.16,846.417 1480.22,840.948 1484.28,835.43 1488.33,829.864 1492.39,824.249 1496.45,818.586 1500.5,812.874 1504.56,807.113 \n",
       "  1508.62,801.304 1512.67,795.446 1516.73,789.54 1520.79,783.585 1524.84,777.581 1528.9,771.529 1532.96,765.428 1537.01,759.278 1541.07,753.08 1545.13,746.833 \n",
       "  1549.18,740.538 1553.24,734.194 1557.3,727.801 1561.35,721.36 1565.41,714.87 1569.47,708.332 1573.52,701.745 1577.58,695.109 1581.64,688.425 1585.69,681.692 \n",
       "  1589.75,674.91 1593.81,668.08 1597.86,661.201 1601.92,654.274 1605.98,647.298 1610.03,640.274 1614.09,633.2 1618.15,626.079 1622.2,618.908 1626.26,611.689 \n",
       "  1630.32,604.421 1634.37,597.105 1638.43,589.74 1642.49,582.327 1646.54,574.865 1650.6,567.354 1654.66,559.795 1658.71,552.187 1662.77,544.53 1666.82,536.825 \n",
       "  1670.88,529.071 1674.94,521.269 1678.99,513.418 1683.05,505.518 1687.11,497.57 1691.16,489.573 1695.22,481.528 1699.28,473.434 1703.33,465.291 1707.39,457.1 \n",
       "  1711.45,448.86 1715.5,440.572 1719.56,432.234 1723.62,423.849 1727.67,415.414 1731.73,406.931 1735.79,398.4 1739.84,389.82 1743.9,381.191 1747.96,372.513 \n",
       "  1752.01,363.787 1756.07,355.013 1760.13,346.189 1764.18,337.318 1768.24,328.397 1772.3,319.428 1776.35,310.41 1780.41,301.344 1784.47,292.229 1788.52,283.066 \n",
       "  1792.58,273.853 \n",
       "  \"/>\n",
       "<polyline clip-path=\"url(#clip8903)\" style=\"stroke:#000000; stroke-width:4; stroke-opacity:1; fill:none\" stroke-dasharray=\"16, 10\" points=\"\n",
       "  -171880,1090.55 173842,1090.55 \n",
       "  \"/>\n",
       "<polygon clip-path=\"url(#clip8901)\" points=\"\n",
       "1428.49,222.924 1783.66,222.924 1783.66,101.964 1428.49,101.964 \n",
       "  \" fill=\"#ffffff\" fill-opacity=\"1\"/>\n",
       "<polyline clip-path=\"url(#clip8901)\" style=\"stroke:#000000; stroke-width:4; stroke-opacity:1; fill:none\" points=\"\n",
       "  1428.49,222.924 1783.66,222.924 1783.66,101.964 1428.49,101.964 1428.49,222.924 \n",
       "  \"/>\n",
       "<polyline clip-path=\"url(#clip8901)\" style=\"stroke:#009af9; stroke-width:4; stroke-opacity:1; fill:none\" points=\"\n",
       "  1447.69,162.444 1562.89,162.444 \n",
       "  \"/>\n",
       "<g clip-path=\"url(#clip8901)\">\n",
       "<text style=\"fill:#000000; fill-opacity:1; font-family:Arial,Helvetica Neue,Helvetica,sans-serif; font-size:48px; text-anchor:start;\" transform=\"rotate(0, 1582.09, 179.944)\" x=\"1582.09\" y=\"179.944\">fn1(x,2)</text>\n",
       "</g>\n",
       "</svg>\n"
      ]
     },
     "execution_count": 6,
     "metadata": {},
     "output_type": "execute_result"
    }
   ],
   "source": [
    "x2 = -1:0.01:3                        \n",
    "\n",
    "p1 = plot(x2,fn1.(x2,2),label=\"fn1(x,2)\")           #plotting the function\n",
    "plot!([0],linetype=:hline,linecolor=:black,line=(:dash,1),label=\"\")"
   ]
  },
  {
   "cell_type": "markdown",
   "metadata": {},
   "source": [
    "## A \"one-liner\"\n",
    "\n",
    "We can also create a short version of a function as in the cell below. Notice, however, that this short version can (essentially) only contain one expression."
   ]
  },
  {
   "cell_type": "code",
   "execution_count": 7,
   "metadata": {},
   "outputs": [
    {
     "name": "stdout",
     "output_type": "stream",
     "text": [
      "result from the function fn1b.(x1): \n",
      "    -0.490\n",
      "    -0.340\n",
      "\n"
     ]
    }
   ],
   "source": [
    "fn3(x,b) = b*(x-1.1)^2 - 0.5          #short form of a function\n",
    "\n",
    "y = fn3.(x1,1)                 \n",
    "println(\"result from the function fn1b.(x1): \")\n",
    "printmat(y)"
   ]
  },
  {
   "cell_type": "markdown",
   "metadata": {},
   "source": [
    "## Explicit Names of the Inputs: Keyword Arguments\n",
    "\n",
    "You can also define functions that take *keyword arguments* like in \n",
    "```\n",
    "fn(x;b,c)\n",
    "``` \n",
    "Notice the semi-colon (;). You can also specify default values as `fn(x;b=1,c=0.5)`\n",
    "\n",
    "In this case, you *call* on the function by `fn(x,c=3,b=2)` (or just `fn(x)` if you want to use the default values). This helps remembering/interpreting what the arguments represent. When calling on the function, you can pass the keyword arguments in any order and you can use comma (,) instead of semi-colon (;)."
   ]
  },
  {
   "cell_type": "code",
   "execution_count": 8,
   "metadata": {},
   "outputs": [
    {
     "name": "stdout",
     "output_type": "stream",
     "text": [
      "result from fn4(1,c=3,b=2):     -2.980\n"
     ]
    }
   ],
   "source": [
    "function fn4(x;b=1,c=0.5)\n",
    "    y = b*(x-1.1)^2 - c\n",
    "    return y\n",
    "end\n",
    "\n",
    "printlnPs(\"result from fn4(1,c=3,b=2): \",fn4(1,c=3,b=2))  "
   ]
  },
  {
   "cell_type": "markdown",
   "metadata": {},
   "source": [
    "## An \"Anonymous\" Function\n",
    "\n",
    "The expression \n",
    "```\n",
    "x->2*(x-1.1)^2 - 0.5\n",
    "```\n",
    "creates an anonymous function (a function without a name). \n",
    "\n",
    "This approach is often useful as an input to another function. For instance, the next cell uses\n",
    "```\n",
    "x->fn1(x,2)\n",
    "```\n",
    "This creates an anonymous function with only one input (`x`), which is what the root finding routine ```find_zero()``` wants."
   ]
  },
  {
   "cell_type": "code",
   "execution_count": 9,
   "metadata": {},
   "outputs": [
    {
     "name": "stdout",
     "output_type": "stream",
     "text": [
      "A root at:      0.600, compare with the graph above.\n"
     ]
    }
   ],
   "source": [
    "xRoot = find_zero(x->fn1(x,2),(-1,1))         #finding a root of a function in     \n",
    "                                           #the interval [-1,1]\n",
    "printlnPs(\"A root at: \",xRoot,\", compare with the graph above.\")"
   ]
  },
  {
   "cell_type": "markdown",
   "metadata": {},
   "source": [
    "# Functions with Several Outputs"
   ]
  },
  {
   "cell_type": "markdown",
   "metadata": {},
   "source": [
    "## Basic Approach\n",
    "\n",
    "A function can produce a \"tuple\" like `(y1,y2,y3)` as output.\n",
    "\n",
    "In case you only want the first two outputs, call as `(y1,y2,) = fn(x)`.\n",
    "\n",
    "Instead, if you only want the 2nd and third outputs, call as `(_,y2,y3) = fn(x)`\n",
    "\n",
    "You can also extract the second output as `y2 = fn(x)[2]`"
   ]
  },
  {
   "cell_type": "code",
   "execution_count": 10,
   "metadata": {},
   "outputs": [
    {
     "name": "stdout",
     "output_type": "stream",
     "text": [
      "The first 2 outputs from the function fn11(1,2):     -0.480         2\n",
      "The result from calling fn11(1,2)[2]:          2\n"
     ]
    }
   ],
   "source": [
    "function fn11(x,b=1)                 \n",
    "    y1 = b*(x-1.1)^2 - 0.5\n",
    "    y2 = b*x\n",
    "    y3 = 3\n",
    "    return y1, y2, y3\n",
    "end\n",
    "\n",
    "(y1,y2,) = fn11(1,2)\n",
    "printlnPs(\"The first 2 outputs from the function fn11(1,2): \",y1,y2)\n",
    "\n",
    "y2 = fn11(1,2)[2]         #to grab just the second output from the function\n",
    "printlnPs(\"The result from calling fn11(1,2)[2]: \",y2)"
   ]
  },
  {
   "cell_type": "markdown",
   "metadata": {},
   "source": [
    "## Several Outputs 2: Named Tuples and Dictionaries\n",
    "\n",
    "\n",
    "Instead of returning several values, it might be easier to combine them into either a \"named tuple\" or a dictionary and then exporting that."
   ]
  },
  {
   "cell_type": "code",
   "execution_count": 11,
   "metadata": {},
   "outputs": [
    {
     "name": "stdout",
     "output_type": "stream",
     "text": [
      "from fn12(1,2): \n",
      "    -0.480         2\n"
     ]
    }
   ],
   "source": [
    "function fn12(x,b=1)                 \n",
    "    y1 = b*(x-1.1)^2 - 0.5\n",
    "    y2 = b*x\n",
    "    y3 = 3\n",
    "    y  = (a=y1,b=y2,c=y3)                     #named tuple\n",
    "    return y                                   \n",
    "end\n",
    "\n",
    "y1 = fn12(1,2)\n",
    "println(\"from fn12(1,2): \")      \n",
    "printlnPs(y1.a,y1.b)                          #y1.a to get \"element\" a of the output y1"
   ]
  },
  {
   "cell_type": "code",
   "execution_count": 12,
   "metadata": {},
   "outputs": [
    {
     "name": "stdout",
     "output_type": "stream",
     "text": [
      "from the function fn13(1,2): \n",
      "    -0.480         2\n"
     ]
    }
   ],
   "source": [
    "function fn13(x,b=1)                 \n",
    "    y1 = b*(x-1.1)^2 - 0.5\n",
    "    y2 = b*x\n",
    "    y3 = 3\n",
    "    y  = Dict(\"a\"=>y1,\"b\"=>y2,\"c\"=>y3)                     #dictionary\n",
    "    return y\n",
    "end\n",
    "\n",
    "y1 = fn13(1,2)\n",
    "println(\"from the function fn13(1,2): \")\n",
    "printlnPs(y1[\"a\"],y1[\"b\"])                  #y1[\"a\"] to get \"element\" a of the output y1                          "
   ]
  },
  {
   "cell_type": "markdown",
   "metadata": {},
   "source": [
    "## Several Outputs 3: Elementwise Evaluation (extra)\n",
    "\n",
    "...can be tricky, because you get an array (same dimension as the input) of tuples instead of a tuple of arrays (which is probably what you want).\n",
    "\n",
    "One way around this is to reshuffle the output to get a tuple of arrays.\n",
    "\n",
    "Alternatively, you also loop over the function calls or to write the function so that it can directly handle array inputs (without the dot). This is done in `fn14()`."
   ]
  },
  {
   "cell_type": "code",
   "execution_count": 13,
   "metadata": {},
   "outputs": [
    {
     "name": "stdout",
     "output_type": "stream",
     "text": [
      "type and size of y: Array{Tuple{Float64,Float64,Int64},1} (2,)\n",
      "\n",
      "printing the vectors y1 and y2\n",
      "    -0.480     2.000\n",
      "    -0.180     3.000\n",
      "\n"
     ]
    }
   ],
   "source": [
    "y = fn11.([1,1.5],2)\n",
    "println(\"type and size of y: \",typeof(y),\" \",size(y) )\n",
    "\n",
    "(y1,y2,y3) = ntuple(i->getindex.(y,i),3)    #split up into 3 vectors\n",
    "\n",
    "println(\"\\nprinting the vectors y1 and y2\")\n",
    "printmat([y1 y2])\n"
   ]
  },
  {
   "cell_type": "code",
   "execution_count": 14,
   "metadata": {},
   "outputs": [
    {
     "name": "stdout",
     "output_type": "stream",
     "text": [
      "result from the function fn3b(x1,2): \n",
      "    -0.480     2.000\n",
      "    -0.180     3.000\n",
      "\n"
     ]
    }
   ],
   "source": [
    "function fn14(x,b=1)                 #x can be an array\n",
    "    y1 = b*(x.-1.1).^2 .- 0.5\n",
    "    y2 = b*x\n",
    "    y3 = 3\n",
    "    return y1, y2, y3\n",
    "end\n",
    "\n",
    "(y1,y2,) = fn14(x1,2)                                  #function written to handle arrays\n",
    "println(\"result from the function fn3b(x1,2): \")\n",
    "printmat([y1 y2])"
   ]
  },
  {
   "cell_type": "markdown",
   "metadata": {
    "collapsed": true
   },
   "source": [
    "# Documenting Your Function \n",
    "\n",
    "To use Julia's help function (`? FunctionName`), put the documentation in triple quotes, just above the function defintiion. The cell below illustrates a simple case."
   ]
  },
  {
   "cell_type": "code",
   "execution_count": 15,
   "metadata": {},
   "outputs": [
    {
     "data": {
      "text/plain": [
       "fn101"
      ]
     },
     "execution_count": 15,
     "metadata": {},
     "output_type": "execute_result"
    }
   ],
   "source": [
    "\"\"\"\n",
    "    fn101(x,b=1)\n",
    "\n",
    "Calculate `b*(x-1.1)^2 - 0.5`.\n",
    "\n",
    "# Arguments\n",
    "- `x::Number`:    an important number\n",
    "- `b::Number`:    another number\n",
    "\n",
    "\"\"\"\n",
    "function fn101(x,b=1)       \n",
    "    y = b*(x-1.1)^2 - 0.5\n",
    "    return y\n",
    "end"
   ]
  },
  {
   "cell_type": "code",
   "execution_count": 16,
   "metadata": {},
   "outputs": [
    {
     "name": "stdout",
     "output_type": "stream",
     "text": [
      "search: \u001b[0m\u001b[1mf\u001b[22m\u001b[0m\u001b[1mn\u001b[22m\u001b[0m\u001b[1m1\u001b[22m\u001b[0m\u001b[1m0\u001b[22m\u001b[0m\u001b[1m1\u001b[22m\n",
      "\n"
     ]
    },
    {
     "data": {
      "text/markdown": [
       "```\n",
       "fn101(x,b=1)\n",
       "```\n",
       "\n",
       "Calculate `b*(x-1.1)^2 - 0.5`.\n",
       "\n",
       "# Arguments\n",
       "\n",
       "  * `x::Number`:    an important number\n",
       "  * `b::Number`:    another number\n"
      ],
      "text/plain": [
       "\u001b[36m  fn101(x,b=1)\u001b[39m\n",
       "\n",
       "  Calculate \u001b[36mb*(x-1.1)^2 - 0.5\u001b[39m.\n",
       "\n",
       "\u001b[1m  Arguments\u001b[22m\n",
       "\u001b[1m  ≡≡≡≡≡≡≡≡≡≡≡\u001b[22m\n",
       "\n",
       "    •    \u001b[36mx::Number\u001b[39m: an important number\n",
       "\n",
       "    •    \u001b[36mb::Number\u001b[39m: another number"
      ]
     },
     "execution_count": 16,
     "metadata": {},
     "output_type": "execute_result"
    }
   ],
   "source": [
    "? fn101"
   ]
  },
  {
   "cell_type": "code",
   "execution_count": null,
   "metadata": {},
   "outputs": [],
   "source": []
  }
 ],
 "metadata": {
  "anaconda-cloud": {},
  "kernelspec": {
   "display_name": "Julia 1.0.1",
   "language": "julia",
   "name": "julia-1.0"
  },
  "language_info": {
   "file_extension": ".jl",
   "mimetype": "application/julia",
   "name": "julia",
   "version": "1.0.1"
  }
 },
 "nbformat": 4,
 "nbformat_minor": 1
}
