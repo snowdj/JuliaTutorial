{
 "cells": [
  {
   "cell_type": "markdown",
   "metadata": {
    "collapsed": true
   },
   "source": [
    "# Functions"
   ]
  },
  {
   "cell_type": "markdown",
   "metadata": {},
   "source": [
    "## Loading Packages"
   ]
  },
  {
   "cell_type": "code",
   "execution_count": 1,
   "metadata": {},
   "outputs": [
    {
     "data": {
      "text/plain": [
       "printlnPs (generic function with 2 methods)"
      ]
     },
     "execution_count": 1,
     "metadata": {},
     "output_type": "execute_result"
    }
   ],
   "source": [
    "using Roots\n",
    "\n",
    "using Compat, Missings        #in Julia 0.6 \n",
    "#using Dates                  #in Julia 0.7\n",
    "\n",
    "include(\"printmat.jl\")   #a function for prettier matrix printing"
   ]
  },
  {
   "cell_type": "code",
   "execution_count": 2,
   "metadata": {},
   "outputs": [
    {
     "data": {
      "text/plain": [
       "Plots.GRBackend()"
      ]
     },
     "execution_count": 2,
     "metadata": {},
     "output_type": "execute_result"
    }
   ],
   "source": [
    "using Plots\n",
    "\n",
    "backend = \"gr\"              #\"gr\" (default), \"pyplot\" \n",
    "\n",
    "if backend == \"pyplot\"\n",
    "    pyplot(size=(600,400))\n",
    "else    \n",
    "    gr(size=(600,400))\n",
    "end"
   ]
  },
  {
   "cell_type": "markdown",
   "metadata": {},
   "source": [
    "## A Function with a Scalar Input and a Scalar Output\n",
    "\n",
    "The function below takes a scalar as input and produces a scalar as output."
   ]
  },
  {
   "cell_type": "code",
   "execution_count": 3,
   "metadata": {},
   "outputs": [
    {
     "data": {
      "text/plain": [
       "fn1 (generic function with 1 method)"
      ]
     },
     "execution_count": 3,
     "metadata": {},
     "output_type": "execute_result"
    }
   ],
   "source": [
    "function fn1(x)\n",
    "    b = 2                    #only seen inside function  \n",
    "    y = b*(x-1.1)^2 - 0.5\n",
    "    return y\n",
    "end"
   ]
  },
  {
   "cell_type": "code",
   "execution_count": 4,
   "metadata": {},
   "outputs": [
    {
     "name": "stdout",
     "output_type": "stream",
     "text": [
      "result from calling fn1(1):     -0.480\n"
     ]
    }
   ],
   "source": [
    "y = fn1(1)                   #calling on the function\n",
    "printlnPs(\"result from calling fn1(1): \",y)"
   ]
  },
  {
   "cell_type": "markdown",
   "metadata": {},
   "source": [
    "## Elementwise Evaluation\n",
    "\n",
    "To apply the function to each element of an array, use the dot syntax: \n",
    "```\n",
    "y = fn1.(x)\n",
    "```\n",
    "\n",
    "Alternatively, write a loop or perhaps a function that directly supports elementwise operations on arrays like\n",
    "```\n",
    "y = 2*(x.-1.1).^2 .- 0.5      # .- and .^2 mean that x could be an array \n",
    "```"
   ]
  },
  {
   "cell_type": "code",
   "execution_count": 5,
   "metadata": {},
   "outputs": [
    {
     "name": "stdout",
     "output_type": "stream",
     "text": [
      "result from calling fn1.(x): \n",
      "    -0.480\n",
      "    -0.180\n",
      "\n",
      "fn1.(x) evaluates fn1(x[i,j]) for each element x[i,j]\n"
     ]
    }
   ],
   "source": [
    "x = [1;1.5] \n",
    "\n",
    "y = fn1.(x)                   \n",
    "println(\"result from calling fn1.(x): \")\n",
    "printmat(y)\n",
    "\n",
    "println(\"fn1.(x) evaluates fn1(x[i,j]) for each element x[i,j]\")"
   ]
  },
  {
   "cell_type": "code",
   "execution_count": 6,
   "metadata": {},
   "outputs": [
    {
     "data": {
      "image/svg+xml": [
       "<?xml version=\"1.0\" encoding=\"utf-8\"?>\n",
       "<svg xmlns=\"http://www.w3.org/2000/svg\" xmlns:xlink=\"http://www.w3.org/1999/xlink\" width=\"600\" height=\"400\" viewBox=\"0 0 600 400\">\n",
       "<defs>\n",
       "  <clipPath id=\"clip3000\">\n",
       "    <rect x=\"0\" y=\"0\" width=\"600\" height=\"400\"/>\n",
       "  </clipPath>\n",
       "</defs>\n",
       "<polygon clip-path=\"url(#clip3000)\" points=\"\n",
       "0,400 600,400 600,0 0,0 \n",
       "  \" fill=\"#ffffff\" fill-opacity=\"1\"/>\n",
       "<defs>\n",
       "  <clipPath id=\"clip3001\">\n",
       "    <rect x=\"120\" y=\"0\" width=\"421\" height=\"400\"/>\n",
       "  </clipPath>\n",
       "</defs>\n",
       "<polygon clip-path=\"url(#clip3000)\" points=\"\n",
       "30.3126,375.869 580.315,375.869 580.315,11.811 30.3126,11.811 \n",
       "  \" fill=\"#ffffff\" fill-opacity=\"1\"/>\n",
       "<defs>\n",
       "  <clipPath id=\"clip3002\">\n",
       "    <rect x=\"30\" y=\"11\" width=\"551\" height=\"365\"/>\n",
       "  </clipPath>\n",
       "</defs>\n",
       "<polyline clip-path=\"url(#clip3002)\" style=\"stroke:#000000; stroke-width:0.5; stroke-opacity:0.1; fill:none\" points=\"\n",
       "  45.8787,375.869 45.8787,11.811 \n",
       "  \"/>\n",
       "<polyline clip-path=\"url(#clip3002)\" style=\"stroke:#000000; stroke-width:0.5; stroke-opacity:0.1; fill:none\" points=\"\n",
       "  175.596,375.869 175.596,11.811 \n",
       "  \"/>\n",
       "<polyline clip-path=\"url(#clip3002)\" style=\"stroke:#000000; stroke-width:0.5; stroke-opacity:0.1; fill:none\" points=\"\n",
       "  305.314,375.869 305.314,11.811 \n",
       "  \"/>\n",
       "<polyline clip-path=\"url(#clip3002)\" style=\"stroke:#000000; stroke-width:0.5; stroke-opacity:0.1; fill:none\" points=\"\n",
       "  435.031,375.869 435.031,11.811 \n",
       "  \"/>\n",
       "<polyline clip-path=\"url(#clip3002)\" style=\"stroke:#000000; stroke-width:0.5; stroke-opacity:0.1; fill:none\" points=\"\n",
       "  564.749,375.869 564.749,11.811 \n",
       "  \"/>\n",
       "<polyline clip-path=\"url(#clip3002)\" style=\"stroke:#000000; stroke-width:0.5; stroke-opacity:0.1; fill:none\" points=\"\n",
       "  30.3126,346.095 580.315,346.095 \n",
       "  \"/>\n",
       "<polyline clip-path=\"url(#clip3002)\" style=\"stroke:#000000; stroke-width:0.5; stroke-opacity:0.1; fill:none\" points=\"\n",
       "  30.3126,268.215 580.315,268.215 \n",
       "  \"/>\n",
       "<polyline clip-path=\"url(#clip3002)\" style=\"stroke:#000000; stroke-width:0.5; stroke-opacity:0.1; fill:none\" points=\"\n",
       "  30.3126,190.335 580.315,190.335 \n",
       "  \"/>\n",
       "<polyline clip-path=\"url(#clip3002)\" style=\"stroke:#000000; stroke-width:0.5; stroke-opacity:0.1; fill:none\" points=\"\n",
       "  30.3126,112.455 580.315,112.455 \n",
       "  \"/>\n",
       "<polyline clip-path=\"url(#clip3002)\" style=\"stroke:#000000; stroke-width:0.5; stroke-opacity:0.1; fill:none\" points=\"\n",
       "  30.3126,34.5753 580.315,34.5753 \n",
       "  \"/>\n",
       "<polyline clip-path=\"url(#clip3000)\" style=\"stroke:#000000; stroke-width:1; stroke-opacity:1; fill:none\" points=\"\n",
       "  30.3126,375.869 580.315,375.869 \n",
       "  \"/>\n",
       "<polyline clip-path=\"url(#clip3000)\" style=\"stroke:#000000; stroke-width:1; stroke-opacity:1; fill:none\" points=\"\n",
       "  30.3126,375.869 30.3126,11.811 \n",
       "  \"/>\n",
       "<polyline clip-path=\"url(#clip3000)\" style=\"stroke:#000000; stroke-width:1; stroke-opacity:1; fill:none\" points=\"\n",
       "  45.8787,375.869 45.8787,370.408 \n",
       "  \"/>\n",
       "<polyline clip-path=\"url(#clip3000)\" style=\"stroke:#000000; stroke-width:1; stroke-opacity:1; fill:none\" points=\"\n",
       "  175.596,375.869 175.596,370.408 \n",
       "  \"/>\n",
       "<polyline clip-path=\"url(#clip3000)\" style=\"stroke:#000000; stroke-width:1; stroke-opacity:1; fill:none\" points=\"\n",
       "  305.314,375.869 305.314,370.408 \n",
       "  \"/>\n",
       "<polyline clip-path=\"url(#clip3000)\" style=\"stroke:#000000; stroke-width:1; stroke-opacity:1; fill:none\" points=\"\n",
       "  435.031,375.869 435.031,370.408 \n",
       "  \"/>\n",
       "<polyline clip-path=\"url(#clip3000)\" style=\"stroke:#000000; stroke-width:1; stroke-opacity:1; fill:none\" points=\"\n",
       "  564.749,375.869 564.749,370.408 \n",
       "  \"/>\n",
       "<polyline clip-path=\"url(#clip3000)\" style=\"stroke:#000000; stroke-width:1; stroke-opacity:1; fill:none\" points=\"\n",
       "  30.3126,346.095 38.5627,346.095 \n",
       "  \"/>\n",
       "<polyline clip-path=\"url(#clip3000)\" style=\"stroke:#000000; stroke-width:1; stroke-opacity:1; fill:none\" points=\"\n",
       "  30.3126,268.215 38.5627,268.215 \n",
       "  \"/>\n",
       "<polyline clip-path=\"url(#clip3000)\" style=\"stroke:#000000; stroke-width:1; stroke-opacity:1; fill:none\" points=\"\n",
       "  30.3126,190.335 38.5627,190.335 \n",
       "  \"/>\n",
       "<polyline clip-path=\"url(#clip3000)\" style=\"stroke:#000000; stroke-width:1; stroke-opacity:1; fill:none\" points=\"\n",
       "  30.3126,112.455 38.5627,112.455 \n",
       "  \"/>\n",
       "<polyline clip-path=\"url(#clip3000)\" style=\"stroke:#000000; stroke-width:1; stroke-opacity:1; fill:none\" points=\"\n",
       "  30.3126,34.5753 38.5627,34.5753 \n",
       "  \"/>\n",
       "<g clip-path=\"url(#clip3000)\">\n",
       "<text style=\"fill:#000000; fill-opacity:1; font-family:Arial,Helvetica Neue,Helvetica,sans-serif; font-size:12; text-anchor:middle;\" transform=\"rotate(0, 45.8787, 389.669)\" x=\"45.8787\" y=\"389.669\">-1</text>\n",
       "</g>\n",
       "<g clip-path=\"url(#clip3000)\">\n",
       "<text style=\"fill:#000000; fill-opacity:1; font-family:Arial,Helvetica Neue,Helvetica,sans-serif; font-size:12; text-anchor:middle;\" transform=\"rotate(0, 175.596, 389.669)\" x=\"175.596\" y=\"389.669\">0</text>\n",
       "</g>\n",
       "<g clip-path=\"url(#clip3000)\">\n",
       "<text style=\"fill:#000000; fill-opacity:1; font-family:Arial,Helvetica Neue,Helvetica,sans-serif; font-size:12; text-anchor:middle;\" transform=\"rotate(0, 305.314, 389.669)\" x=\"305.314\" y=\"389.669\">1</text>\n",
       "</g>\n",
       "<g clip-path=\"url(#clip3000)\">\n",
       "<text style=\"fill:#000000; fill-opacity:1; font-family:Arial,Helvetica Neue,Helvetica,sans-serif; font-size:12; text-anchor:middle;\" transform=\"rotate(0, 435.031, 389.669)\" x=\"435.031\" y=\"389.669\">2</text>\n",
       "</g>\n",
       "<g clip-path=\"url(#clip3000)\">\n",
       "<text style=\"fill:#000000; fill-opacity:1; font-family:Arial,Helvetica Neue,Helvetica,sans-serif; font-size:12; text-anchor:middle;\" transform=\"rotate(0, 564.749, 389.669)\" x=\"564.749\" y=\"389.669\">3</text>\n",
       "</g>\n",
       "<g clip-path=\"url(#clip3000)\">\n",
       "<text style=\"fill:#000000; fill-opacity:1; font-family:Arial,Helvetica Neue,Helvetica,sans-serif; font-size:12; text-anchor:end;\" transform=\"rotate(0, 24.3126, 350.595)\" x=\"24.3126\" y=\"350.595\">0</text>\n",
       "</g>\n",
       "<g clip-path=\"url(#clip3000)\">\n",
       "<text style=\"fill:#000000; fill-opacity:1; font-family:Arial,Helvetica Neue,Helvetica,sans-serif; font-size:12; text-anchor:end;\" transform=\"rotate(0, 24.3126, 272.715)\" x=\"24.3126\" y=\"272.715\">2</text>\n",
       "</g>\n",
       "<g clip-path=\"url(#clip3000)\">\n",
       "<text style=\"fill:#000000; fill-opacity:1; font-family:Arial,Helvetica Neue,Helvetica,sans-serif; font-size:12; text-anchor:end;\" transform=\"rotate(0, 24.3126, 194.835)\" x=\"24.3126\" y=\"194.835\">4</text>\n",
       "</g>\n",
       "<g clip-path=\"url(#clip3000)\">\n",
       "<text style=\"fill:#000000; fill-opacity:1; font-family:Arial,Helvetica Neue,Helvetica,sans-serif; font-size:12; text-anchor:end;\" transform=\"rotate(0, 24.3126, 116.955)\" x=\"24.3126\" y=\"116.955\">6</text>\n",
       "</g>\n",
       "<g clip-path=\"url(#clip3000)\">\n",
       "<text style=\"fill:#000000; fill-opacity:1; font-family:Arial,Helvetica Neue,Helvetica,sans-serif; font-size:12; text-anchor:end;\" transform=\"rotate(0, 24.3126, 39.0753)\" x=\"24.3126\" y=\"39.0753\">8</text>\n",
       "</g>\n",
       "<polyline clip-path=\"url(#clip3002)\" style=\"stroke:#009af9; stroke-width:1; stroke-opacity:1; fill:none\" points=\"\n",
       "  45.8787,22.1145 47.1759,25.3777 48.4731,28.6253 49.7703,31.8573 51.0674,35.0738 52.3646,38.2746 53.6618,41.4599 54.959,44.6296 56.2561,47.7838 57.5533,50.9223 \n",
       "  58.8505,54.0453 60.1477,57.1527 61.4448,60.2446 62.742,63.3208 64.0392,66.3815 65.3364,69.4266 66.6335,72.4561 67.9307,75.4701 69.2279,78.4685 70.5251,81.4513 \n",
       "  71.8222,84.4185 73.1194,87.3702 74.4166,90.3062 75.7138,93.2267 77.0109,96.1317 78.3081,99.021 79.6053,101.895 80.9025,104.753 82.1996,107.596 83.4968,110.423 \n",
       "  84.794,113.234 86.0912,116.03 87.3883,118.81 88.6855,121.575 89.9827,124.324 91.2799,127.058 92.577,129.776 93.8742,132.478 95.1714,135.165 96.4686,137.836 \n",
       "  97.7657,140.492 99.0629,143.132 100.36,145.757 101.657,148.366 102.954,150.959 104.252,153.537 105.549,156.099 106.846,158.646 108.143,161.177 109.44,163.693 \n",
       "  110.738,166.192 112.035,168.677 113.332,171.146 114.629,173.599 115.926,176.036 117.223,178.459 118.521,180.865 119.818,183.256 121.115,185.631 122.412,187.991 \n",
       "  123.709,190.335 125.006,192.664 126.304,194.977 127.601,197.274 128.898,199.556 130.195,201.823 131.492,204.073 132.789,206.308 134.087,208.528 135.384,210.732 \n",
       "  136.681,212.92 137.978,215.093 139.275,217.251 140.573,219.392 141.87,221.518 143.167,223.629 144.464,225.724 145.761,227.803 147.058,229.867 148.356,231.915 \n",
       "  149.653,233.948 150.95,235.965 152.247,237.967 153.544,239.953 154.841,241.923 156.139,243.878 157.436,245.817 158.733,247.741 160.03,249.649 161.327,251.541 \n",
       "  162.625,253.418 163.922,255.279 165.219,257.125 166.516,258.955 167.813,260.77 169.11,262.569 170.408,264.352 171.705,266.12 173.002,267.873 174.299,269.609 \n",
       "  175.596,271.33 176.893,273.036 178.191,274.726 179.488,276.4 180.785,278.059 182.082,279.703 183.379,281.33 184.676,282.942 185.974,284.539 187.271,286.12 \n",
       "  188.568,287.685 189.865,289.235 191.162,290.769 192.46,292.288 193.757,293.791 195.054,295.278 196.351,296.75 197.648,298.207 198.945,299.648 200.243,301.073 \n",
       "  201.54,302.482 202.837,303.876 204.134,305.255 205.431,306.618 206.728,307.965 208.026,309.297 209.323,310.613 210.62,311.914 211.917,313.199 213.214,314.468 \n",
       "  214.512,315.722 215.809,316.96 217.106,318.183 218.403,319.39 219.7,320.582 220.997,321.758 222.295,322.918 223.592,324.063 224.889,325.192 226.186,326.306 \n",
       "  227.483,327.404 228.78,328.487 230.078,329.553 231.375,330.605 232.672,331.641 233.969,332.661 235.266,333.666 236.564,334.655 237.861,335.628 239.158,336.586 \n",
       "  240.455,337.528 241.752,338.455 243.049,339.366 244.347,340.262 245.644,341.142 246.941,342.006 248.238,342.855 249.535,343.689 250.832,344.506 252.13,345.309 \n",
       "  253.427,346.095 254.724,346.866 256.021,347.622 257.318,348.361 258.615,349.086 259.913,349.794 261.21,350.488 262.507,351.165 263.804,351.827 265.101,352.474 \n",
       "  266.399,353.104 267.696,353.72 268.993,354.319 270.29,354.903 271.587,355.472 272.884,356.025 274.182,356.562 275.479,357.084 276.776,357.59 278.073,358.081 \n",
       "  279.37,358.556 280.667,359.015 281.965,359.459 283.262,359.888 284.559,360.3 285.856,360.698 287.153,361.079 288.451,361.445 289.748,361.796 291.045,362.131 \n",
       "  292.342,362.45 293.639,362.754 294.936,363.042 296.234,363.314 297.531,363.571 298.828,363.813 300.125,364.039 301.422,364.249 302.719,364.444 304.017,364.623 \n",
       "  305.314,364.786 306.611,364.934 307.908,365.067 309.205,365.184 310.502,365.285 311.8,365.37 313.097,365.441 314.394,365.495 315.691,365.534 316.988,365.557 \n",
       "  318.286,365.565 319.583,365.557 320.88,365.534 322.177,365.495 323.474,365.441 324.771,365.37 326.069,365.285 327.366,365.184 328.663,365.067 329.96,364.934 \n",
       "  331.257,364.786 332.554,364.623 333.852,364.444 335.149,364.249 336.446,364.039 337.743,363.813 339.04,363.571 340.338,363.314 341.635,363.042 342.932,362.754 \n",
       "  344.229,362.45 345.526,362.131 346.823,361.796 348.121,361.445 349.418,361.079 350.715,360.698 352.012,360.3 353.309,359.888 354.606,359.459 355.904,359.015 \n",
       "  357.201,358.556 358.498,358.081 359.795,357.59 361.092,357.084 362.39,356.562 363.687,356.025 364.984,355.472 366.281,354.903 367.578,354.319 368.875,353.72 \n",
       "  370.173,353.104 371.47,352.474 372.767,351.827 374.064,351.165 375.361,350.488 376.658,349.794 377.956,349.086 379.253,348.361 380.55,347.622 381.847,346.866 \n",
       "  383.144,346.095 384.441,345.309 385.739,344.506 387.036,343.689 388.333,342.855 389.63,342.006 390.927,341.142 392.225,340.262 393.522,339.366 394.819,338.455 \n",
       "  396.116,337.528 397.413,336.586 398.71,335.628 400.008,334.655 401.305,333.666 402.602,332.661 403.899,331.641 405.196,330.605 406.493,329.553 407.791,328.487 \n",
       "  409.088,327.404 410.385,326.306 411.682,325.192 412.979,324.063 414.277,322.918 415.574,321.758 416.871,320.582 418.168,319.39 419.465,318.183 420.762,316.96 \n",
       "  422.06,315.722 423.357,314.468 424.654,313.199 425.951,311.914 427.248,310.613 428.545,309.297 429.843,307.965 431.14,306.618 432.437,305.255 433.734,303.876 \n",
       "  435.031,302.482 436.329,301.073 437.626,299.648 438.923,298.207 440.22,296.75 441.517,295.278 442.814,293.791 444.112,292.288 445.409,290.769 446.706,289.235 \n",
       "  448.003,287.685 449.3,286.12 450.597,284.539 451.895,282.942 453.192,281.33 454.489,279.703 455.786,278.059 457.083,276.4 458.38,274.726 459.678,273.036 \n",
       "  460.975,271.33 462.272,269.609 463.569,267.873 464.866,266.12 466.164,264.352 467.461,262.569 468.758,260.77 470.055,258.955 471.352,257.125 472.649,255.279 \n",
       "  473.947,253.418 475.244,251.541 476.541,249.649 477.838,247.741 479.135,245.817 480.432,243.878 481.73,241.923 483.027,239.953 484.324,237.967 485.621,235.965 \n",
       "  486.918,233.948 488.216,231.915 489.513,229.867 490.81,227.803 492.107,225.724 493.404,223.629 494.701,221.518 495.999,219.392 497.296,217.251 498.593,215.093 \n",
       "  499.89,212.92 501.187,210.732 502.484,208.528 503.782,206.308 505.079,204.073 506.376,201.823 507.673,199.556 508.97,197.274 510.267,194.977 511.565,192.664 \n",
       "  512.862,190.335 514.159,187.991 515.456,185.631 516.753,183.256 518.051,180.865 519.348,178.459 520.645,176.036 521.942,173.599 523.239,171.146 524.536,168.677 \n",
       "  525.834,166.192 527.131,163.693 528.428,161.177 529.725,158.646 531.022,156.099 532.319,153.537 533.617,150.959 534.914,148.366 536.211,145.757 537.508,143.132 \n",
       "  538.805,140.492 540.103,137.836 541.4,135.165 542.697,132.478 543.994,129.776 545.291,127.058 546.588,124.324 547.886,121.575 549.183,118.81 550.48,116.03 \n",
       "  551.777,113.234 553.074,110.423 554.371,107.596 555.669,104.753 556.966,101.895 558.263,99.021 559.56,96.1317 560.857,93.2267 562.155,90.3062 563.452,87.3702 \n",
       "  564.749,84.4185 \n",
       "  \"/>\n",
       "<polygon clip-path=\"url(#clip3000)\" points=\"\n",
       "471.558,62.931 562.315,62.931 562.315,32.691 471.558,32.691 \n",
       "  \" fill=\"#ffffff\" fill-opacity=\"1\"/>\n",
       "<polyline clip-path=\"url(#clip3000)\" style=\"stroke:#000000; stroke-width:1; stroke-opacity:1; fill:none\" points=\"\n",
       "  471.558,62.931 562.315,62.931 562.315,32.691 471.558,32.691 471.558,62.931 \n",
       "  \"/>\n",
       "<polyline clip-path=\"url(#clip3000)\" style=\"stroke:#009af9; stroke-width:1; stroke-opacity:1; fill:none\" points=\"\n",
       "  477.558,47.811 513.558,47.811 \n",
       "  \"/>\n",
       "<g clip-path=\"url(#clip3000)\">\n",
       "<text style=\"fill:#000000; fill-opacity:1; font-family:Arial,Helvetica Neue,Helvetica,sans-serif; font-size:12; text-anchor:start;\" transform=\"rotate(0, 519.558, 52.311)\" x=\"519.558\" y=\"52.311\">fn1(x)</text>\n",
       "</g>\n",
       "</svg>\n"
      ]
     },
     "execution_count": 6,
     "metadata": {},
     "output_type": "execute_result"
    }
   ],
   "source": [
    "x2 = -1:0.01:3                        \n",
    "\n",
    "plot(x2,fn1.(x2),label=\"fn1(x)\")           #plotting the function"
   ]
  },
  {
   "cell_type": "markdown",
   "metadata": {},
   "source": [
    "## A \"one-liner\"\n",
    "\n",
    "We can also create a short version of a function as in the cell below. Notice, however, that it can (essentially) only contain one expression."
   ]
  },
  {
   "cell_type": "code",
   "execution_count": 7,
   "metadata": {},
   "outputs": [
    {
     "data": {
      "text/plain": [
       "fn1b (generic function with 1 method)"
      ]
     },
     "execution_count": 7,
     "metadata": {},
     "output_type": "execute_result"
    }
   ],
   "source": [
    "fn1b(x) = 2*(x-1.1)^2 - 0.5          #short form of a function"
   ]
  },
  {
   "cell_type": "code",
   "execution_count": 8,
   "metadata": {},
   "outputs": [
    {
     "name": "stdout",
     "output_type": "stream",
     "text": [
      "result from the function fn1b.(x): \n",
      "    -0.480\n",
      "    -0.180\n",
      "\n"
     ]
    }
   ],
   "source": [
    "y = fn1b.(x)                 \n",
    "println(\"result from the function fn1b.(x): \")\n",
    "printmat(y)"
   ]
  },
  {
   "cell_type": "markdown",
   "metadata": {},
   "source": [
    "## Several Inputs\n",
    "\n",
    "It is straightforward to define functions with several inputs. You can also specify default values of the inputs. They are used when you do not supply those inputs when calling on the function. (Clearly, inputs with default values must be towards the end of the list of inputs.)"
   ]
  },
  {
   "cell_type": "code",
   "execution_count": 9,
   "metadata": {},
   "outputs": [
    {
     "data": {
      "text/plain": [
       "fn2 (generic function with 2 methods)"
      ]
     },
     "execution_count": 9,
     "metadata": {},
     "output_type": "execute_result"
    }
   ],
   "source": [
    "function fn2a(x,b)\n",
    "    y = b*(x-1.1)^2 - 0.5\n",
    "    return y\n",
    "end\n",
    "\n",
    "function fn2(x,b=1)                 #b=1 is the default in case we call as fn2(x)\n",
    "    y = b*(x-1.1)^2 - 0.5\n",
    "    return y\n",
    "end"
   ]
  },
  {
   "cell_type": "code",
   "execution_count": 10,
   "metadata": {},
   "outputs": [
    {
     "name": "stdout",
     "output_type": "stream",
     "text": [
      "result from the fn2a(1,1) and fn2(1):     -0.490    -0.490\n",
      "\n",
      "result from the function fn2.(x,2): \n",
      "    -0.480\n",
      "    -0.180\n",
      "\n"
     ]
    }
   ],
   "source": [
    "printlnPs(\"result from the fn2a(1,1) and fn2(1): \",fn2a(1,1),fn2(1))\n",
    "\n",
    "y2b = fn2.(x,2)\n",
    "println(\"\\nresult from the function fn2.(x,2): \")\n",
    "printmat(y2b)"
   ]
  },
  {
   "cell_type": "markdown",
   "metadata": {},
   "source": [
    "## Several Inputs 2: Keyword Arguments\n",
    "\n",
    "You can also define functions that take *keyword arguments* like in `fn2b(x;b=1,c=0.5)`. Notice the semi-colon (;). \n",
    "\n",
    "In this case, you call on the function by `fn2b(x,b=1,c=3)`. This helps remembering/interpreting what the arguments represent. You can also pass the keyword arguments in any order and you could use comma (,) instead of semi-colon (;)."
   ]
  },
  {
   "cell_type": "code",
   "execution_count": 11,
   "metadata": {},
   "outputs": [
    {
     "data": {
      "text/plain": [
       "fn2b (generic function with 1 method)"
      ]
     },
     "execution_count": 11,
     "metadata": {},
     "output_type": "execute_result"
    }
   ],
   "source": [
    "function fn2b(x;b=1,c=0.5)\n",
    "    y = b*(x-1.1)^2 - c\n",
    "    return y\n",
    "end"
   ]
  },
  {
   "cell_type": "code",
   "execution_count": 12,
   "metadata": {},
   "outputs": [
    {
     "name": "stdout",
     "output_type": "stream",
     "text": [
      "result from the fn2b(1,c=0.5,b=1):     -0.490\n",
      "notice that you can pass the keyword arguments in any order\n"
     ]
    }
   ],
   "source": [
    "printlnPs(\"result from the fn2b(1,c=0.5,b=1): \",fn2b(1,c=0.5,b=1))  \n",
    "\n",
    "println(\"notice that you can pass the keyword arguments in any order\")"
   ]
  },
  {
   "cell_type": "markdown",
   "metadata": {},
   "source": [
    "## An \"Anonymous\" Function\n",
    "\n",
    "The expression \n",
    "```\n",
    "x->2*(x-1.1)^2 - 0.5\n",
    "```\n",
    "creates an anonymous function (a function without a name). \n",
    "\n",
    "This approach is often useful as an input to another function. For instance, the next cell uses\n",
    "```\n",
    "x->fn2a(x,2)\n",
    "```\n",
    "This creates an anonymous function with only one input (```x```), which is what the root finding routine ```find_zero()``` wants."
   ]
  },
  {
   "cell_type": "code",
   "execution_count": 13,
   "metadata": {},
   "outputs": [
    {
     "name": "stdout",
     "output_type": "stream",
     "text": [
      "A root at:      0.600\n",
      "\n",
      "fn2a(x,2)=0.75 at      1.891,    testing:      0.750\n"
     ]
    }
   ],
   "source": [
    "x1 = find_zero(x->fn2a(x,2),(-1,1))         #finding a root of a function in     \n",
    "                                            #the interval [-1,1]\n",
    "printlnPs(\"A root at: \",x1)\n",
    "\n",
    "x2 = find_zero(x->fn2a(x,2)-0.75,2)         #at which x is fn(x,2) == 0.75? Starting guess: x=2\n",
    "                                        \n",
    "printlnPs(\"\\n\",\"fn2a(x,2)=0.75 at \",x2,\",    testing: \",fn2a(x2,2))"
   ]
  },
  {
   "cell_type": "markdown",
   "metadata": {},
   "source": [
    "## Several Outputs\n",
    "\n",
    "Functions can produce a \"tuple\" like `(y1,y2,y3)` as outputs.\n",
    "\n",
    "In case you only want the first two outputs, call as `(y1,y2,) = fn(x)`.\n",
    "\n",
    "Instead, if you only want the 2nd and third outputs, call as `(_,y2,y3) = fn(x)`\n",
    "\n",
    "You can also extract the second output as `y2 = fn(x)[2]`"
   ]
  },
  {
   "cell_type": "code",
   "execution_count": 14,
   "metadata": {},
   "outputs": [
    {
     "data": {
      "text/plain": [
       "fn3 (generic function with 2 methods)"
      ]
     },
     "execution_count": 14,
     "metadata": {},
     "output_type": "execute_result"
    }
   ],
   "source": [
    "function fn3(x,b=1)                 \n",
    "    y1 = b*(x-1.1)^2 - 0.5\n",
    "    y2 = b*x\n",
    "    y3 = 3\n",
    "    return y1, y2, y3\n",
    "end"
   ]
  },
  {
   "cell_type": "code",
   "execution_count": 15,
   "metadata": {},
   "outputs": [
    {
     "name": "stdout",
     "output_type": "stream",
     "text": [
      "The first 2 outputs from the function fn3(1,2): \n",
      "    -0.480     2.000\n",
      "\n",
      "The result from calling fn3(1,2)[2]:          2\n"
     ]
    }
   ],
   "source": [
    "(y1,y2,) = fn3(1,2)\n",
    "println(\"The first 2 outputs from the function fn3(1,2): \")\n",
    "printmat([y1 y2])\n",
    "\n",
    "y2 = fn3(1,2)[2]         #to grab just the second output from the function\n",
    "printlnPs(\"The result from calling fn3(1,2)[2]: \",y2)"
   ]
  },
  {
   "cell_type": "markdown",
   "metadata": {},
   "source": [
    "## Elementwise Evaluation with Several Outputs (extra)\n",
    "\n",
    "...can be tricky, because you get an array (same dimension as the input) of tuples instead of a tuple of arrays (which is probably what you want).\n",
    "\n",
    "One way around this is to reshuffle the array of tuples as matrix - and the split it up into vectors, as in the cell below."
   ]
  },
  {
   "cell_type": "code",
   "execution_count": 16,
   "metadata": {},
   "outputs": [
    {
     "name": "stdout",
     "output_type": "stream",
     "text": [
      "type and size of y: Array{Tuple{Float64,Float64,Int64},1} (2,)\n",
      "\n",
      "printing the vectors y1 and y2\n",
      "    -0.480     2.000\n",
      "    -0.180     3.000\n",
      "\n"
     ]
    }
   ],
   "source": [
    "y = fn3.(x,2)\n",
    "println(\"type and size of y: \",typeof(y),\" \",size(y) )\n",
    "\n",
    "z = [y[i][j] for i = 1:length(x),j=1:3]    #create 2x3 matrix\n",
    "(y1,y2,y3) = [z[:,i] for i=1:3]            #split up into 3 vectors\n",
    "\n",
    "println(\"\\nprinting the vectors y1 and y2\")\n",
    "printmat([y1 y2])"
   ]
  },
  {
   "cell_type": "markdown",
   "metadata": {},
   "source": [
    "However, it might be easier to either loop over the function calls, or to write the function so that it can directly handle array inputs (without the dot), see `fn3b()`."
   ]
  },
  {
   "cell_type": "code",
   "execution_count": 17,
   "metadata": {},
   "outputs": [
    {
     "data": {
      "text/plain": [
       "fn3b (generic function with 2 methods)"
      ]
     },
     "execution_count": 17,
     "metadata": {},
     "output_type": "execute_result"
    }
   ],
   "source": [
    "function fn3b(x,b=1)                 #x can be an array\n",
    "    y1 = b*(x.-1.1).^2 .- 0.5\n",
    "    y2 = b*x\n",
    "    y3 = 3\n",
    "    return y1, y2, y3\n",
    "end"
   ]
  },
  {
   "cell_type": "code",
   "execution_count": 18,
   "metadata": {},
   "outputs": [
    {
     "name": "stdout",
     "output_type": "stream",
     "text": [
      "result from the function fn3b(x,2): \n",
      "    -0.480     2.000\n",
      "    -0.180     3.000\n",
      "\n"
     ]
    }
   ],
   "source": [
    "(y1,y2,) = fn3b(x,2)                                  #function written to handle arrays\n",
    "println(\"result from the function fn3b(x,2): \")\n",
    "printmat([y1 y2])"
   ]
  },
  {
   "cell_type": "markdown",
   "metadata": {
    "collapsed": true
   },
   "source": [
    "## Documenting Your Function \n",
    "\n",
    "To use Julia's help function (`? FunctionName`), put the documentation in triple quotes, just above the function defintiion. The cell below illustrates a simple case."
   ]
  },
  {
   "cell_type": "code",
   "execution_count": 19,
   "metadata": {},
   "outputs": [
    {
     "data": {
      "text/plain": [
       "fn4"
      ]
     },
     "execution_count": 19,
     "metadata": {},
     "output_type": "execute_result"
    }
   ],
   "source": [
    "\"\"\"\n",
    "    fn4(x,b=1)\n",
    "\n",
    "Calculate b*(x-1.1)^2 - 0.5.\n",
    "\n",
    "# Arguments\n",
    "- `x`:    a number\n",
    "- `b`:    a number\n",
    "\n",
    "\"\"\"\n",
    "function fn4(x,b=1)       \n",
    "    y = b*(x-1.1)^2 - 0.5\n",
    "    return y\n",
    "end"
   ]
  },
  {
   "cell_type": "code",
   "execution_count": 20,
   "metadata": {},
   "outputs": [
    {
     "name": "stdout",
     "output_type": "stream",
     "text": [
      "search:"
     ]
    },
    {
     "data": {
      "text/markdown": [
       "```\n",
       "fn4(x,b=1)\n",
       "```\n",
       "\n",
       "Calculate b*(x-1.1)^2 - 0.5.\n",
       "\n",
       "# Arguments\n",
       "\n",
       "  * `x`:    a number\n",
       "  * `b`:    a number\n"
      ],
      "text/plain": [
       "```\n",
       "fn4(x,b=1)\n",
       "```\n",
       "\n",
       "Calculate b*(x-1.1)^2 - 0.5.\n",
       "\n",
       "# Arguments\n",
       "\n",
       "  * `x`:    a number\n",
       "  * `b`:    a number\n"
      ]
     },
     "execution_count": 20,
     "metadata": {},
     "output_type": "execute_result"
    },
    {
     "name": "stdout",
     "output_type": "stream",
     "text": [
      "\n",
      "\n"
     ]
    }
   ],
   "source": [
    "? fn4"
   ]
  },
  {
   "cell_type": "code",
   "execution_count": null,
   "metadata": {},
   "outputs": [],
   "source": []
  }
 ],
 "metadata": {
  "anaconda-cloud": {},
  "kernelspec": {
   "display_name": "Julia 0.6.4",
   "language": "julia",
   "name": "julia-0.6"
  },
  "language_info": {
   "file_extension": ".jl",
   "mimetype": "application/julia",
   "name": "julia",
   "version": "0.6.4"
  }
 },
 "nbformat": 4,
 "nbformat_minor": 1
}
