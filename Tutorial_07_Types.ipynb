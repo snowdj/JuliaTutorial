{
 "cells": [
  {
   "cell_type": "markdown",
   "metadata": {},
   "source": [
    "# Load Packages\n",
    "\n",
    "No packages needed for this notebook."
   ]
  },
  {
   "cell_type": "code",
   "execution_count": 1,
   "metadata": {},
   "outputs": [
    {
     "data": {
      "text/plain": [
       "printlnPs (generic function with 2 methods)"
      ]
     },
     "execution_count": 1,
     "metadata": {},
     "output_type": "execute_result"
    }
   ],
   "source": [
    "using Dates\n",
    "\n",
    "include(\"printmat.jl\")"
   ]
  },
  {
   "cell_type": "markdown",
   "metadata": {},
   "source": [
    "# Some Important Types\n",
    "\n",
    "Julia has many different types of variables: signed integers (like 2 or -5), floating point numbers (2.0 and -5.1), bools (false/true), bitarrays (similar to bools, but with more efficient use of memory), strings (\"hello\"), Dates (2017-04-23) and many more. \n",
    "\n",
    "The numerical types also comes with subtypes for different precisions, for instance, Float16, Float32 and Float64. Unless you specify otherwise, code like\n",
    "```\n",
    "a = 2\n",
    "b = 2.0\n",
    "```\n",
    "gives an Int64 and a Float64 respectively (at least on the 64 bit version of Julia)."
   ]
  },
  {
   "cell_type": "markdown",
   "metadata": {},
   "source": [
    "## Integers and Floats"
   ]
  },
  {
   "cell_type": "code",
   "execution_count": 2,
   "metadata": {},
   "outputs": [
    {
     "name": "stdout",
     "output_type": "stream",
     "text": [
      "a: Int64\n",
      "         2\n",
      "\n",
      "b: Float64\n",
      "     2.000\n",
      "\n",
      "A: Array{Int64,1}\n",
      "         1\n",
      "         2\n",
      "\n",
      "B: Array{Float64,1}\n",
      "     1.000\n",
      "     2.000\n",
      "\n"
     ]
    }
   ],
   "source": [
    "a = 2                   #integer, Int (Int64 on most machines)\n",
    "b = 2.0                 #floating point, (Float64 on most machines)\n",
    "A = [1;2]\n",
    "B = [1.0;2.0]\n",
    "\n",
    "println(\"a: \",typeof(a))\n",
    "printmat(a)\n",
    "\n",
    "println(\"b: \",typeof(b))\n",
    "printmat(b)\n",
    "\n",
    "println(\"A: \",typeof(A))\n",
    "printmat(A)\n",
    "\n",
    "println(\"B: \",typeof(B))\n",
    "printmat(B)"
   ]
  },
  {
   "cell_type": "markdown",
   "metadata": {},
   "source": [
    "## Why Use Int When There Are Floats? \n",
    "\n",
    "That is, why bother with sometimes using 3 when you could use 3.0 everywhere? Mostly because you cannot use 3.0 everywhere... \n",
    "\n",
    "For instance, you cannot pick out element `x[3.0]` from a vector. It has to be `x[3]`."
   ]
  },
  {
   "cell_type": "code",
   "execution_count": 3,
   "metadata": {},
   "outputs": [
    {
     "name": "stdout",
     "output_type": "stream",
     "text": [
      "no, x[3.0] does not work\n"
     ]
    }
   ],
   "source": [
    "x = [1,10,100,1000]\n",
    "y = try \n",
    "   x[3.0]   \n",
    "catch    \n",
    "  println(\"no, x[3.0] does not work\")    \n",
    "end"
   ]
  },
  {
   "cell_type": "markdown",
   "metadata": {},
   "source": [
    "## Bools and BitArrays"
   ]
  },
  {
   "cell_type": "code",
   "execution_count": 4,
   "metadata": {},
   "outputs": [
    {
     "name": "stdout",
     "output_type": "stream",
     "text": [
      "c: Bool\n",
      "      true\n",
      "\n",
      "\n",
      "C: BitArray{1}\n",
      "     false\n",
      "      true\n",
      "\n",
      "A BitArray is a more economical array version of Bool. Notice that typeof(C[1]) gives: Bool\n"
     ]
    }
   ],
   "source": [
    "c = 2 > 1.1\n",
    "println(\"c: \",typeof(c))\n",
    "printmat(c)\n",
    "\n",
    "C = A .> 1.5\n",
    "println(\"\\nC: \",typeof(C))\n",
    "printmat(C)\n",
    "\n",
    "println(\"A BitArray is a more economical array version of Bool. Notice that typeof(C[1]) gives: \",typeof(C[1]))"
   ]
  },
  {
   "cell_type": "markdown",
   "metadata": {},
   "source": [
    "## Char and Strings"
   ]
  },
  {
   "cell_type": "code",
   "execution_count": 5,
   "metadata": {},
   "outputs": [
    {
     "name": "stdout",
     "output_type": "stream",
     "text": [
      "Char\n",
      "String\n"
     ]
    }
   ],
   "source": [
    "t = 'a'                                    #Char, just one letter\n",
    "println(typeof(t))\n",
    "\n",
    "txt = \"Dogs are nicer than cats.\"          #String, could be a long novel \n",
    "println(typeof(txt))"
   ]
  },
  {
   "cell_type": "markdown",
   "metadata": {},
   "source": [
    "# Calculations with Mixed Types and Converting Types\n",
    "\n",
    "A calculation like \"integer\" + \"float\" works and the type of the result will be a float (the more flexible type). Similarly, \"bool\" + \"integer\" will give an integer. \n",
    "\n",
    "These promotion rules make it easy to have mixed types in calculations, and also provide a simple way of converting a variable from one type to another. There are also an explicit `convert()` function that might be quicker."
   ]
  },
  {
   "cell_type": "markdown",
   "metadata": {},
   "source": [
    "## Some Calculations with Mixed Types (\"promotion\")"
   ]
  },
  {
   "cell_type": "code",
   "execution_count": 6,
   "metadata": {},
   "outputs": [
    {
     "name": "stdout",
     "output_type": "stream",
     "text": [
      "integer + float: 3.0\n",
      "bool + integer: 3\n"
     ]
    }
   ],
   "source": [
    "println(\"integer + float: \",1+2.0)                #integer + float\n",
    "println(\"bool + integer: \",(1 .> 0) + 2)          #bool + integer"
   ]
  },
  {
   "cell_type": "markdown",
   "metadata": {},
   "source": [
    "## Converting from Int to Float and Vice Versa"
   ]
  },
  {
   "cell_type": "code",
   "execution_count": 7,
   "metadata": {},
   "outputs": [
    {
     "name": "stdout",
     "output_type": "stream",
     "text": [
      "x: Array{Float64,1}\n",
      "     1.100\n",
      "    10.100\n",
      "   100.100\n",
      "\n",
      "rounding x to int: Array{Int64,1}\n",
      "         1\n",
      "        10\n",
      "       100\n",
      "\n",
      "A: Array{Int64,1}\n",
      "         1\n",
      "         2\n",
      "\n",
      "after converting A to float: Array{Float64,1}\n",
      "     1.000\n",
      "     2.000\n",
      "\n"
     ]
    }
   ],
   "source": [
    "x = [1.1;10.1;100.1]\n",
    "println(\"x: \",typeof(x))\n",
    "printmat(x)\n",
    "\n",
    "B_to_int = round.(Int,x)                     #float -> integer by rounding\n",
    "println(\"rounding x to int: \",typeof(B_to_int))\n",
    "printmat(B_to_int)\n",
    "\n",
    "println(\"A: \",typeof(A))\n",
    "printmat(A)\n",
    "\n",
    "A_to_float = A .+ 0.0                       #int -> float by adding 0.0\n",
    "println(\"after converting A to float: \",typeof(A_to_float))   \n",
    "printmat(A_to_float)                        #convert(Array{Float64},A) also works"
   ]
  },
  {
   "cell_type": "markdown",
   "metadata": {},
   "source": [
    "## Converting from Bools and BitArrays to Int and Vice Versa"
   ]
  },
  {
   "cell_type": "code",
   "execution_count": 8,
   "metadata": {},
   "outputs": [
    {
     "name": "stdout",
     "output_type": "stream",
     "text": [
      "Array{Int64,1}\n",
      "         0\n",
      "         1\n",
      "\n",
      "BitArray{1}\n",
      "      true\n",
      "     false\n",
      "      true\n",
      "\n"
     ]
    }
   ],
   "source": [
    "C_to_int = C .+ 0                        #BitArray -> int by adding 0\n",
    "println(typeof(C_to_int))                #convert.(Int,C) also works\n",
    "printmat(C_to_int)\n",
    "\n",
    "D = [1;0;1]                              \n",
    "D_to_bit = D .> 0                        #int -> BitArray by comparing\n",
    "println(typeof(D_to_bit))                #convert(BitArray,D) also works \n",
    "printmat(D_to_bit)"
   ]
  },
  {
   "cell_type": "markdown",
   "metadata": {},
   "source": [
    "## (extra) From Bools and BitArrays to Int: A Tricky Case\n",
    "\n",
    "`false` is a \"strong zero\" in the sense that \n",
    "`false*NaN == 0` and `false*Inf == 0`. \n",
    "\n",
    "If you do not want that behaviour in your code, transform `false` to 0 and then multiply."
   ]
  },
  {
   "cell_type": "code",
   "execution_count": 9,
   "metadata": {},
   "outputs": [
    {
     "name": "stdout",
     "output_type": "stream",
     "text": [
      "0.0\n",
      "0.0\n",
      "NaN\n",
      "NaN\n"
     ]
    }
   ],
   "source": [
    "println(false*NaN)\n",
    "println(false*Inf)\n",
    "\n",
    "println(convert(Int,false)*NaN)\n",
    "println(convert(Int,false)*Inf)"
   ]
  },
  {
   "cell_type": "markdown",
   "metadata": {},
   "source": [
    "# Testing the Type\n",
    "\n",
    "The perhaps easiest way to test the type is by using the `isa(variable,Type)` function.\n",
    "\n",
    "Notice that an array has the type `Array` and more specifically, `Array{Float64}` if it is an array with Float64 numbers."
   ]
  },
  {
   "cell_type": "code",
   "execution_count": 10,
   "metadata": {},
   "outputs": [
    {
     "name": "stdout",
     "output_type": "stream",
     "text": [
      "1.2 is a Number: true\n",
      "1.2 is an Int: false\n",
      "1.2 is an Int or a Float64: true\n",
      "[1.2, 1.3] is a Float64: false\n",
      "[1.2, 1.3] is an Array: true\n"
     ]
    }
   ],
   "source": [
    "x = 1.2\n",
    "z = [1.2,1.3]\n",
    "\n",
    "println(\"$x is a Number: \",isa(x,Number))\n",
    "println(\"$x is an Int: \",isa(x,Int))\n",
    "println(\"$x is an Int or a Float64: \",isa(x,Union{Int,Float64}))\n",
    "\n",
    "println(\"$z is a Float64: \",isa(z,Float64))\n",
    "println(\"$z is an Array: \",isa(z,Array))"
   ]
  },
  {
   "cell_type": "markdown",
   "metadata": {
    "collapsed": true
   },
   "source": [
    "# Type Instability\n",
    "\n",
    "Your code will run faster if your variables do not change type in the computations. The next cells illustrate that."
   ]
  },
  {
   "cell_type": "code",
   "execution_count": 11,
   "metadata": {},
   "outputs": [
    {
     "data": {
      "text/plain": [
       "fn2 (generic function with 1 method)"
      ]
     },
     "execution_count": 11,
     "metadata": {},
     "output_type": "execute_result"
    }
   ],
   "source": [
    "function fn1(n)\n",
    "    x = 0                    #x starts out as an Int\n",
    "    for i = 1:n\n",
    "        x = x + 0.1          #x is changed from Int to a Float when you add 0.1\n",
    "    end\n",
    "    return x\n",
    "end    \n",
    "\n",
    "function fn2(n)\n",
    "    x = 0.0                  #x starts out as a Float\n",
    "    for i = 1:n\n",
    "        x = x + 0.1          #x remains a float\n",
    "    end\n",
    "    return x\n",
    "end"
   ]
  },
  {
   "cell_type": "code",
   "execution_count": 12,
   "metadata": {},
   "outputs": [
    {
     "name": "stdout",
     "output_type": "stream",
     "text": [
      "  0.121135 seconds (364.40 k allocations: 18.538 MiB, 3.31% gc time)\n",
      "  0.008727 seconds (18.75 k allocations: 958.490 KiB)\n",
      "\n",
      "fn2() is much faster and uses much less memory (even a more serious timing would show that...)\n"
     ]
    }
   ],
   "source": [
    "x = fn1(10)                #a \"dry\" run makes the subsequent timing results more accurate\n",
    "x = fn2(10)\n",
    "\n",
    "@time fn1(1e+6)\n",
    "@time fn2(1e+6)\n",
    "\n",
    "println(\"\\nfn2() is much faster and uses much less memory (even a more serious timing would show that...)\")"
   ]
  },
  {
   "cell_type": "code",
   "execution_count": 13,
   "metadata": {},
   "outputs": [
    {
     "name": "stdout",
     "output_type": "stream",
     "text": [
      "Body\u001b[91m\u001b[1m::Union{Float64, Int64}\u001b[22m\u001b[39m\n",
      "\u001b[90m\u001b[48G│╻╷       Colon\u001b[1G\u001b[39m\u001b[90m3 \u001b[39m1 ── %1  = invoke Base.:(:)(1.0::Float64, 1.0::Float64, _2::Float64)\u001b[36m::StepRangeLen{Float64,Base.TwicePrecision{Float64},Base.TwicePrecision{Float64}}\u001b[39m\n",
      "\u001b[90m\u001b[48G││╻╷╷      iterate\u001b[1G\u001b[39m\u001b[90m  \u001b[39m│    %2  = (Base.getfield)(%1, :len)\u001b[36m::Int64\u001b[39m\n",
      "\u001b[90m\u001b[48G│││╻        <\u001b[1G\u001b[39m\u001b[90m  \u001b[39m│    %3  = (Base.slt_int)(%2, 1)\u001b[36m::Bool\u001b[39m\n",
      "\u001b[90m\u001b[48G│││      \u001b[1G\u001b[39m\u001b[90m  \u001b[39m└───       goto #3 if not %3\n",
      "\u001b[90m\u001b[48G│││      \u001b[1G\u001b[39m\u001b[90m  \u001b[39m2 ──       goto #4\n",
      "\u001b[90m\u001b[48G│││╻╷       unsafe_getindex\u001b[1G\u001b[39m\u001b[90m  \u001b[39m3 ── %6  = (Base.getfield)(%1, :offset)\u001b[36m::Int64\u001b[39m\n",
      "\u001b[90m\u001b[48G││││╻        -\u001b[1G\u001b[39m\u001b[90m  \u001b[39m│    %7  = (Base.sub_int)(1, %6)\u001b[36m::Int64\u001b[39m\n",
      "\u001b[90m\u001b[48G││││╻        getproperty\u001b[1G\u001b[39m\u001b[90m  \u001b[39m│    %8  = (Base.getfield)(%1, :step)\u001b[36m::Base.TwicePrecision{Float64}\u001b[39m\n",
      "\u001b[90m\u001b[48G│││││    \u001b[1G\u001b[39m\u001b[90m  \u001b[39m│    %9  = (Base.getfield)(%8, :hi)\u001b[36m::Float64\u001b[39m\n",
      "\u001b[90m\u001b[48G│││││╻╷╷╷     promote\u001b[1G\u001b[39m\u001b[90m  \u001b[39m│    %10 = (Base.sitofp)(Float64, %7)\u001b[36m::Float64\u001b[39m\n",
      "\u001b[90m\u001b[48G│││││╻        *\u001b[1G\u001b[39m\u001b[90m  \u001b[39m│    %11 = (Base.mul_float)(%10, %9)\u001b[36m::Float64\u001b[39m\n",
      "\u001b[90m\u001b[48G││││╻        getproperty\u001b[1G\u001b[39m\u001b[90m  \u001b[39m│    %12 = (Base.getfield)(%1, :step)\u001b[36m::Base.TwicePrecision{Float64}\u001b[39m\n",
      "\u001b[90m\u001b[48G│││││    \u001b[1G\u001b[39m\u001b[90m  \u001b[39m│    %13 = (Base.getfield)(%12, :lo)\u001b[36m::Float64\u001b[39m\n",
      "\u001b[90m\u001b[48G│││││╻╷╷╷     promote\u001b[1G\u001b[39m\u001b[90m  \u001b[39m│    %14 = (Base.sitofp)(Float64, %7)\u001b[36m::Float64\u001b[39m\n",
      "\u001b[90m\u001b[48G│││││╻        *\u001b[1G\u001b[39m\u001b[90m  \u001b[39m│    %15 = (Base.mul_float)(%14, %13)\u001b[36m::Float64\u001b[39m\n",
      "\u001b[90m\u001b[48G││││╻        getproperty\u001b[1G\u001b[39m\u001b[90m  \u001b[39m│    %16 = (Base.getfield)(%1, :ref)\u001b[36m::Base.TwicePrecision{Float64}\u001b[39m\n",
      "\u001b[90m\u001b[48G│││││    \u001b[1G\u001b[39m\u001b[90m  \u001b[39m│    %17 = (Base.getfield)(%16, :hi)\u001b[36m::Float64\u001b[39m\n",
      "\u001b[90m\u001b[48G│││││╻        abs\u001b[1G\u001b[39m\u001b[90m  \u001b[39m│    %18 = (Base.abs_float)(%11)\u001b[36m::Float64\u001b[39m\n",
      "\u001b[90m\u001b[48G││││││   \u001b[1G\u001b[39m\u001b[90m  \u001b[39m│    %19 = (Base.abs_float)(%17)\u001b[36m::Float64\u001b[39m\n",
      "\u001b[90m\u001b[48G││││││╻        <\u001b[1G\u001b[39m\u001b[90m  \u001b[39m│    %20 = (Base.lt_float)(%19, %18)\u001b[36m::Bool\u001b[39m\n",
      "\u001b[90m\u001b[48G│││││    \u001b[1G\u001b[39m\u001b[90m  \u001b[39m│    %21 = (Core.tuple)(%11, %17)\u001b[36m::Tuple{Float64,Float64}\u001b[39m\n",
      "\u001b[90m\u001b[48G│││││    \u001b[1G\u001b[39m\u001b[90m  \u001b[39m│    %22 = (Core.tuple)(%17, %11)\u001b[36m::Tuple{Float64,Float64}\u001b[39m\n",
      "\u001b[90m\u001b[48G│││││    \u001b[1G\u001b[39m\u001b[90m  \u001b[39m│    %23 = (Base.ifelse)(%20, %21, %22)\u001b[36m::Tuple{Float64,Float64}\u001b[39m\n",
      "\u001b[90m\u001b[48G││││││╻        indexed_iterate\u001b[1G\u001b[39m\u001b[90m  \u001b[39m│    %24 = (Base.getfield)(%23, 1)\u001b[36m::Float64\u001b[39m\n",
      "\u001b[90m\u001b[48G│││││╻        indexed_iterate\u001b[1G\u001b[39m\u001b[90m  \u001b[39m│    %25 = (Base.getfield)(%23, 2)\u001b[36m::Float64\u001b[39m\n",
      "\u001b[90m\u001b[48G│││││╻╷       canonicalize2\u001b[1G\u001b[39m\u001b[90m  \u001b[39m│    %26 = (Base.add_float)(%24, %25)\u001b[36m::Float64\u001b[39m\n",
      "\u001b[90m\u001b[48G││││││╻        -\u001b[1G\u001b[39m\u001b[90m  \u001b[39m│    %27 = (Base.sub_float)(%24, %26)\u001b[36m::Float64\u001b[39m\n",
      "\u001b[90m\u001b[48G││││││╻        +\u001b[1G\u001b[39m\u001b[90m  \u001b[39m│    %28 = (Base.add_float)(%27, %25)\u001b[36m::Float64\u001b[39m\n",
      "\u001b[90m\u001b[48G││││╻        getproperty\u001b[1G\u001b[39m\u001b[90m  \u001b[39m│    %29 = (Base.getfield)(%1, :ref)\u001b[36m::Base.TwicePrecision{Float64}\u001b[39m\n",
      "\u001b[90m\u001b[48G│││││    \u001b[1G\u001b[39m\u001b[90m  \u001b[39m│    %30 = (Base.getfield)(%29, :lo)\u001b[36m::Float64\u001b[39m\n",
      "\u001b[90m\u001b[48G││││╻        +\u001b[1G\u001b[39m\u001b[90m  \u001b[39m│    %31 = (Base.add_float)(%15, %30)\u001b[36m::Float64\u001b[39m\n",
      "\u001b[90m\u001b[48G│││││    \u001b[1G\u001b[39m\u001b[90m  \u001b[39m│    %32 = (Base.add_float)(%28, %31)\u001b[36m::Float64\u001b[39m\n",
      "\u001b[90m\u001b[48G│││││    \u001b[1G\u001b[39m\u001b[90m  \u001b[39m│          (Base.add_float)(%26, %32)\n",
      "\u001b[90m\u001b[48G│││      \u001b[1G\u001b[39m\u001b[90m  \u001b[39m└───       goto #4\n",
      "\u001b[90m\u001b[48G││       \u001b[1G\u001b[39m\u001b[90m  \u001b[39m4 ┄─ %35 = φ (#2 => true, #3 => false)\u001b[36m::Bool\u001b[39m\n",
      "\u001b[90m\u001b[48G││       \u001b[1G\u001b[39m\u001b[90m  \u001b[39m│    %36 = φ (#3 => 2)\u001b[36m::Int64\u001b[39m\n",
      "\u001b[90m\u001b[48G││       \u001b[1G\u001b[39m\u001b[90m  \u001b[39m└───       goto #5\n",
      "\u001b[90m\u001b[48G│        \u001b[1G\u001b[39m\u001b[90m  \u001b[39m5 ── %38 = (Base.not_int)(%35)\u001b[36m::Bool\u001b[39m\n",
      "\u001b[90m\u001b[48G│        \u001b[1G\u001b[39m\u001b[90m  \u001b[39m└───       goto #16 if not %38\n",
      "\u001b[90m\u001b[48G│        \u001b[1G\u001b[39m\u001b[90m  \u001b[39m6 ┄─ %40 = φ (#5 => 0, #15 => %55)\u001b[91m\u001b[1m::Union{Float64, Int64}\u001b[22m\u001b[39m\n",
      "\u001b[90m\u001b[48G│        \u001b[1G\u001b[39m\u001b[90m  \u001b[39m│    %41 = φ (#5 => %36, #15 => %90)\u001b[36m::Int64\u001b[39m\n",
      "\u001b[90m\u001b[48G│        \u001b[1G\u001b[39m\u001b[90m4 \u001b[39m│    %42 = (isa)(%40, Float64)\u001b[36m::Bool\u001b[39m\n",
      "\u001b[90m\u001b[48G│        \u001b[1G\u001b[39m\u001b[90m  \u001b[39m└───       goto #8 if not %42\n",
      "\u001b[90m\u001b[48G│        \u001b[1G\u001b[39m\u001b[90m  \u001b[39m7 ── %44 = π (%40, \u001b[36mFloat64\u001b[39m)\n",
      "\u001b[90m\u001b[48G│╻        +\u001b[1G\u001b[39m\u001b[90m  \u001b[39m│    %45 = (Base.add_float)(%44, 0.1)\u001b[36m::Float64\u001b[39m\n",
      "\u001b[90m\u001b[48G│        \u001b[1G\u001b[39m\u001b[90m  \u001b[39m└───       goto #11\n",
      "\u001b[90m\u001b[48G│        \u001b[1G\u001b[39m\u001b[90m  \u001b[39m8 ── %47 = (isa)(%40, Int64)\u001b[36m::Bool\u001b[39m\n",
      "\u001b[90m\u001b[48G│        \u001b[1G\u001b[39m\u001b[90m  \u001b[39m└───       goto #10 if not %47\n",
      "\u001b[90m\u001b[48G│        \u001b[1G\u001b[39m\u001b[90m  \u001b[39m9 ── %49 = π (%40, \u001b[36mInt64\u001b[39m)\n",
      "\u001b[90m\u001b[48G││╻╷╷╷     promote\u001b[1G\u001b[39m\u001b[90m  \u001b[39m│    %50 = (Base.sitofp)(Float64, %49)\u001b[36m::Float64\u001b[39m\n",
      "\u001b[90m\u001b[48G││╻        +\u001b[1G\u001b[39m\u001b[90m  \u001b[39m│    %51 = (Base.add_float)(%50, 0.1)\u001b[36m::Float64\u001b[39m\n",
      "\u001b[90m\u001b[48G│        \u001b[1G\u001b[39m\u001b[90m  \u001b[39m└───       goto #11\n",
      "\u001b[90m\u001b[48G│        \u001b[1G\u001b[39m\u001b[90m  \u001b[39m10 ─       (Core.throw)(ErrorException(\"fatal error in type inference (type bound)\"))\n",
      "\u001b[90m\u001b[48G│        \u001b[1G\u001b[39m\u001b[90m  \u001b[39m└───       $(Expr(:unreachable))\n",
      "\u001b[90m\u001b[48G│        \u001b[1G\u001b[39m\u001b[90m  \u001b[39m11 ┄ %55 = φ (#7 => %45, #9 => %51)\u001b[36m::Float64\u001b[39m\n",
      "\u001b[90m\u001b[48G││╻╷       length\u001b[1G\u001b[39m\u001b[90m  \u001b[39m│    %56 = (Base.getfield)(%1, :len)\u001b[36m::Int64\u001b[39m\n",
      "\u001b[90m\u001b[48G││╻        <\u001b[1G\u001b[39m\u001b[90m  \u001b[39m│    %57 = (Base.slt_int)(%56, %41)\u001b[36m::Bool\u001b[39m\n",
      "\u001b[90m\u001b[48G││       \u001b[1G\u001b[39m\u001b[90m  \u001b[39m└───       goto #13 if not %57\n",
      "\u001b[90m\u001b[48G││       \u001b[1G\u001b[39m\u001b[90m  \u001b[39m12 ─       goto #14\n",
      "\u001b[90m\u001b[48G││╻╷       unsafe_getindex\u001b[1G\u001b[39m\u001b[90m  \u001b[39m13 ─ %60 = (Base.getfield)(%1, :offset)\u001b[36m::Int64\u001b[39m\n",
      "\u001b[90m\u001b[48G│││╻        -\u001b[1G\u001b[39m\u001b[90m  \u001b[39m│    %61 = (Base.sub_int)(%41, %60)\u001b[36m::Int64\u001b[39m\n",
      "\u001b[90m\u001b[48G│││╻        getproperty\u001b[1G\u001b[39m\u001b[90m  \u001b[39m│    %62 = (Base.getfield)(%1, :step)\u001b[36m::Base.TwicePrecision{Float64}\u001b[39m\n",
      "\u001b[90m\u001b[48G││││     \u001b[1G\u001b[39m\u001b[90m  \u001b[39m│    %63 = (Base.getfield)(%62, :hi)\u001b[36m::Float64\u001b[39m\n",
      "\u001b[90m\u001b[48G││││╻╷╷╷     promote\u001b[1G\u001b[39m\u001b[90m  \u001b[39m│    %64 = (Base.sitofp)(Float64, %61)\u001b[36m::Float64\u001b[39m\n",
      "\u001b[90m\u001b[48G││││╻        *\u001b[1G\u001b[39m\u001b[90m  \u001b[39m│    %65 = (Base.mul_float)(%64, %63)\u001b[36m::Float64\u001b[39m\n",
      "\u001b[90m\u001b[48G│││╻        getproperty\u001b[1G\u001b[39m\u001b[90m  \u001b[39m│    %66 = (Base.getfield)(%1, :step)\u001b[36m::Base.TwicePrecision{Float64}\u001b[39m\n",
      "\u001b[90m\u001b[48G││││     \u001b[1G\u001b[39m\u001b[90m  \u001b[39m│    %67 = (Base.getfield)(%66, :lo)\u001b[36m::Float64\u001b[39m\n",
      "\u001b[90m\u001b[48G││││╻╷╷╷     promote\u001b[1G\u001b[39m\u001b[90m  \u001b[39m│    %68 = (Base.sitofp)(Float64, %61)\u001b[36m::Float64\u001b[39m\n",
      "\u001b[90m\u001b[48G││││╻        *\u001b[1G\u001b[39m\u001b[90m  \u001b[39m│    %69 = (Base.mul_float)(%68, %67)\u001b[36m::Float64\u001b[39m\n",
      "\u001b[90m\u001b[48G│││╻        getproperty\u001b[1G\u001b[39m\u001b[90m  \u001b[39m│    %70 = (Base.getfield)(%1, :ref)\u001b[36m::Base.TwicePrecision{Float64}\u001b[39m\n",
      "\u001b[90m\u001b[48G││││     \u001b[1G\u001b[39m\u001b[90m  \u001b[39m│    %71 = (Base.getfield)(%70, :hi)\u001b[36m::Float64\u001b[39m\n",
      "\u001b[90m\u001b[48G││││╻        abs\u001b[1G\u001b[39m\u001b[90m  \u001b[39m│    %72 = (Base.abs_float)(%65)\u001b[36m::Float64\u001b[39m\n",
      "\u001b[90m\u001b[48G│││││    \u001b[1G\u001b[39m\u001b[90m  \u001b[39m│    %73 = (Base.abs_float)(%71)\u001b[36m::Float64\u001b[39m\n",
      "\u001b[90m\u001b[48G│││││╻        <\u001b[1G\u001b[39m\u001b[90m  \u001b[39m│    %74 = (Base.lt_float)(%73, %72)\u001b[36m::Bool\u001b[39m\n",
      "\u001b[90m\u001b[48G││││     \u001b[1G\u001b[39m\u001b[90m  \u001b[39m│    %75 = (Core.tuple)(%65, %71)\u001b[36m::Tuple{Float64,Float64}\u001b[39m\n",
      "\u001b[90m\u001b[48G││││     \u001b[1G\u001b[39m\u001b[90m  \u001b[39m│    %76 = (Core.tuple)(%71, %65)\u001b[36m::Tuple{Float64,Float64}\u001b[39m\n",
      "\u001b[90m\u001b[48G││││     \u001b[1G\u001b[39m\u001b[90m  \u001b[39m│    %77 = (Base.ifelse)(%74, %75, %76)\u001b[36m::Tuple{Float64,Float64}\u001b[39m\n",
      "\u001b[90m\u001b[48G│││││╻        indexed_iterate\u001b[1G\u001b[39m\u001b[90m  \u001b[39m│    %78 = (Base.getfield)(%77, 1)\u001b[36m::Float64\u001b[39m\n",
      "\u001b[90m\u001b[48G││││╻        indexed_iterate\u001b[1G\u001b[39m\u001b[90m  \u001b[39m│    %79 = (Base.getfield)(%77, 2)\u001b[36m::Float64\u001b[39m\n",
      "\u001b[90m\u001b[48G││││╻╷       canonicalize2\u001b[1G\u001b[39m\u001b[90m  \u001b[39m│    %80 = (Base.add_float)(%78, %79)\u001b[36m::Float64\u001b[39m\n",
      "\u001b[90m\u001b[48G│││││╻        -\u001b[1G\u001b[39m\u001b[90m  \u001b[39m│    %81 = (Base.sub_float)(%78, %80)\u001b[36m::Float64\u001b[39m\n",
      "\u001b[90m\u001b[48G│││││╻        +\u001b[1G\u001b[39m\u001b[90m  \u001b[39m│    %82 = (Base.add_float)(%81, %79)\u001b[36m::Float64\u001b[39m\n",
      "\u001b[90m\u001b[48G│││╻        getproperty\u001b[1G\u001b[39m\u001b[90m  \u001b[39m│    %83 = (Base.getfield)(%1, :ref)\u001b[36m::Base.TwicePrecision{Float64}\u001b[39m\n",
      "\u001b[90m\u001b[48G││││     \u001b[1G\u001b[39m\u001b[90m  \u001b[39m│    %84 = (Base.getfield)(%83, :lo)\u001b[36m::Float64\u001b[39m\n",
      "\u001b[90m\u001b[48G│││╻        +\u001b[1G\u001b[39m\u001b[90m  \u001b[39m│    %85 = (Base.add_float)(%69, %84)\u001b[36m::Float64\u001b[39m\n",
      "\u001b[90m\u001b[48G││││     \u001b[1G\u001b[39m\u001b[90m  \u001b[39m│    %86 = (Base.add_float)(%82, %85)\u001b[36m::Float64\u001b[39m\n",
      "\u001b[90m\u001b[48G││││     \u001b[1G\u001b[39m\u001b[90m  \u001b[39m│          (Base.add_float)(%80, %86)\n",
      "\u001b[90m\u001b[48G││╻        +\u001b[1G\u001b[39m\u001b[90m  \u001b[39m│    %88 = (Base.add_int)(%41, 1)\u001b[36m::Int64\u001b[39m\n",
      "\u001b[90m\u001b[48G││       \u001b[1G\u001b[39m\u001b[90m  \u001b[39m└───       goto #14\n",
      "\u001b[90m\u001b[48G│        \u001b[1G\u001b[39m\u001b[90m  \u001b[39m14 ┄ %90 = φ (#13 => %88)\u001b[36m::Int64\u001b[39m\n"
     ]
    },
    {
     "name": "stdout",
     "output_type": "stream",
     "text": [
      "\u001b[90m\u001b[48G│        \u001b[1G\u001b[39m\u001b[90m  \u001b[39m│    %91 = φ (#12 => true, #13 => false)\u001b[36m::Bool\u001b[39m\n",
      "\u001b[90m\u001b[48G│        \u001b[1G\u001b[39m\u001b[90m  \u001b[39m│    %92 = (Base.not_int)(%91)\u001b[36m::Bool\u001b[39m\n",
      "\u001b[90m\u001b[48G│        \u001b[1G\u001b[39m\u001b[90m  \u001b[39m└───       goto #16 if not %92\n",
      "\u001b[90m\u001b[48G│        \u001b[1G\u001b[39m\u001b[90m  \u001b[39m15 ─       goto #6\n",
      "\u001b[90m\u001b[48G│        \u001b[1G\u001b[39m\u001b[90m6 \u001b[39m16 ─ %95 = φ (#14 => %55, #5 => 0)\u001b[91m\u001b[1m::Union{Float64, Int64}\u001b[22m\u001b[39m\n",
      "\u001b[90m\u001b[48G│        \u001b[1G\u001b[39m\u001b[90m  \u001b[39m└───       return %95\n"
     ]
    }
   ],
   "source": [
    "@code_warntype fn1(1e+6)   #to spot type instability, run this. Notice the red warnings.\n",
    "\n",
    "#@code_warntype fn2(1e+6)  #compare with this"
   ]
  },
  {
   "cell_type": "code",
   "execution_count": null,
   "metadata": {},
   "outputs": [],
   "source": []
  }
 ],
 "metadata": {
  "kernelspec": {
   "display_name": "Julia 1.0.1",
   "language": "julia",
   "name": "julia-1.0"
  },
  "language_info": {
   "file_extension": ".jl",
   "mimetype": "application/julia",
   "name": "julia",
   "version": "1.0.1"
  }
 },
 "nbformat": 4,
 "nbformat_minor": 2
}
