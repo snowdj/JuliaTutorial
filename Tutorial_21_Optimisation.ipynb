{
 "cells": [
  {
   "cell_type": "markdown",
   "metadata": {
    "collapsed": true
   },
   "source": [
    "# Optimisation and Solving Non-linear Equations\n",
    "\n",
    "The package Optim (https://github.com/JuliaNLSolvers/Optim.jl) provides powerful methods for optimisation. It can easily handle objective functions with several choice variables.\n",
    "\n",
    "The package Roots (https://github.com/JuliaMath/Roots.jl) provides methods for solving a non-linear equation (one variable, one function). If you have a system of non-linear equations, try NLsolve.jl (https://github.com/JuliaNLSolvers/NLsolve.jl)."
   ]
  },
  {
   "cell_type": "markdown",
   "metadata": {},
   "source": [
    "# Load Packages"
   ]
  },
  {
   "cell_type": "code",
   "execution_count": 1,
   "metadata": {},
   "outputs": [
    {
     "data": {
      "text/plain": [
       "printlnPs (generic function with 2 methods)"
      ]
     },
     "execution_count": 1,
     "metadata": {},
     "output_type": "execute_result"
    }
   ],
   "source": [
    "using Roots, Optim\n",
    "\n",
    "using Compat, Missings        #in Julia 0.6 \n",
    "#using Dates                  #in Julia 0.7\n",
    "\n",
    "include(\"printmat.jl\")   #just a function for prettier matrix printing"
   ]
  },
  {
   "cell_type": "code",
   "execution_count": 2,
   "metadata": {},
   "outputs": [
    {
     "data": {
      "text/plain": [
       "Plots.GRBackend()"
      ]
     },
     "execution_count": 2,
     "metadata": {},
     "output_type": "execute_result"
    }
   ],
   "source": [
    "using Plots\n",
    "\n",
    "backend = \"gr\"              #\"gr\" (default), \"pyplot\" \n",
    "\n",
    "if backend == \"pyplot\"\n",
    "    pyplot(size=(600,400))\n",
    "else    \n",
    "    gr(size=(600,400))\n",
    "end"
   ]
  },
  {
   "cell_type": "markdown",
   "metadata": {},
   "source": [
    "# Defining and Plotting the Function\n",
    "\n",
    "The next few cells define a fairly simple function and then plots it."
   ]
  },
  {
   "cell_type": "code",
   "execution_count": 3,
   "metadata": {},
   "outputs": [
    {
     "data": {
      "text/plain": [
       "fn1 (generic function with 1 method)"
      ]
     },
     "execution_count": 3,
     "metadata": {},
     "output_type": "execute_result"
    }
   ],
   "source": [
    "function fn1(x,c)                    #notice: the function has two arguments\n",
    "  value = 2*(x - 1.1)^2 - c\n",
    "  return value\n",
    "end  "
   ]
  },
  {
   "cell_type": "code",
   "execution_count": 4,
   "metadata": {},
   "outputs": [
    {
     "name": "stdout",
     "output_type": "stream",
     "text": [
      "x and the result from the function fn1.(x,0.5): \n",
      "     1.000    -0.480\n",
      "     1.500    -0.180\n",
      "\n"
     ]
    }
   ],
   "source": [
    "x = [1,1.5] \n",
    "y = fn1.(x,0.5)                   #calling on the function\n",
    "println(\"x and the result from the function fn1.(x,0.5): \")\n",
    "printmat([x y])"
   ]
  },
  {
   "cell_type": "markdown",
   "metadata": {},
   "source": [
    "## Plotting the Function\n",
    "\n",
    "If possible, plot your function. Maybe you see something strange. It also helps you set the initial guesses (or brackets) for root solving and optimization."
   ]
  },
  {
   "cell_type": "code",
   "execution_count": 5,
   "metadata": {},
   "outputs": [
    {
     "data": {
      "image/svg+xml": [
       "<?xml version=\"1.0\" encoding=\"utf-8\"?>\n",
       "<svg xmlns=\"http://www.w3.org/2000/svg\" xmlns:xlink=\"http://www.w3.org/1999/xlink\" width=\"600\" height=\"400\" viewBox=\"0 0 600 400\">\n",
       "<defs>\n",
       "  <clipPath id=\"clip4400\">\n",
       "    <rect x=\"0\" y=\"0\" width=\"600\" height=\"400\"/>\n",
       "  </clipPath>\n",
       "</defs>\n",
       "<polygon clip-path=\"url(#clip4400)\" points=\"\n",
       "0,400 600,400 600,0 0,0 \n",
       "  \" fill=\"#ffffff\" fill-opacity=\"1\"/>\n",
       "<defs>\n",
       "  <clipPath id=\"clip4401\">\n",
       "    <rect x=\"120\" y=\"0\" width=\"421\" height=\"400\"/>\n",
       "  </clipPath>\n",
       "</defs>\n",
       "<polygon clip-path=\"url(#clip4400)\" points=\"\n",
       "38.1866,360.121 580.315,360.121 580.315,31.4961 38.1866,31.4961 \n",
       "  \" fill=\"#ffffff\" fill-opacity=\"1\"/>\n",
       "<defs>\n",
       "  <clipPath id=\"clip4402\">\n",
       "    <rect x=\"38\" y=\"31\" width=\"543\" height=\"330\"/>\n",
       "  </clipPath>\n",
       "</defs>\n",
       "<polyline clip-path=\"url(#clip4402)\" style=\"stroke:#000000; stroke-width:0.5; stroke-opacity:0.1; fill:none\" points=\"\n",
       "  38.1866,360.121 38.1866,31.4961 \n",
       "  \"/>\n",
       "<polyline clip-path=\"url(#clip4402)\" style=\"stroke:#000000; stroke-width:0.5; stroke-opacity:0.1; fill:none\" points=\"\n",
       "  173.719,360.121 173.719,31.4961 \n",
       "  \"/>\n",
       "<polyline clip-path=\"url(#clip4402)\" style=\"stroke:#000000; stroke-width:0.5; stroke-opacity:0.1; fill:none\" points=\"\n",
       "  309.251,360.121 309.251,31.4961 \n",
       "  \"/>\n",
       "<polyline clip-path=\"url(#clip4402)\" style=\"stroke:#000000; stroke-width:0.5; stroke-opacity:0.1; fill:none\" points=\"\n",
       "  444.783,360.121 444.783,31.4961 \n",
       "  \"/>\n",
       "<polyline clip-path=\"url(#clip4402)\" style=\"stroke:#000000; stroke-width:0.5; stroke-opacity:0.1; fill:none\" points=\"\n",
       "  580.315,360.121 580.315,31.4961 \n",
       "  \"/>\n",
       "<polyline clip-path=\"url(#clip4402)\" style=\"stroke:#000000; stroke-width:0.5; stroke-opacity:0.1; fill:none\" points=\"\n",
       "  38.1866,341.491 580.315,341.491 \n",
       "  \"/>\n",
       "<polyline clip-path=\"url(#clip4402)\" style=\"stroke:#000000; stroke-width:0.5; stroke-opacity:0.1; fill:none\" points=\"\n",
       "  38.1866,266.973 580.315,266.973 \n",
       "  \"/>\n",
       "<polyline clip-path=\"url(#clip4402)\" style=\"stroke:#000000; stroke-width:0.5; stroke-opacity:0.1; fill:none\" points=\"\n",
       "  38.1866,192.455 580.315,192.455 \n",
       "  \"/>\n",
       "<polyline clip-path=\"url(#clip4402)\" style=\"stroke:#000000; stroke-width:0.5; stroke-opacity:0.1; fill:none\" points=\"\n",
       "  38.1866,117.937 580.315,117.937 \n",
       "  \"/>\n",
       "<polyline clip-path=\"url(#clip4402)\" style=\"stroke:#000000; stroke-width:0.5; stroke-opacity:0.1; fill:none\" points=\"\n",
       "  38.1866,43.419 580.315,43.419 \n",
       "  \"/>\n",
       "<polyline clip-path=\"url(#clip4400)\" style=\"stroke:#000000; stroke-width:1; stroke-opacity:1; fill:none\" points=\"\n",
       "  38.1866,360.121 580.315,360.121 \n",
       "  \"/>\n",
       "<polyline clip-path=\"url(#clip4400)\" style=\"stroke:#000000; stroke-width:1; stroke-opacity:1; fill:none\" points=\"\n",
       "  38.1866,360.121 38.1866,31.4961 \n",
       "  \"/>\n",
       "<polyline clip-path=\"url(#clip4400)\" style=\"stroke:#000000; stroke-width:1; stroke-opacity:1; fill:none\" points=\"\n",
       "  38.1866,360.121 38.1866,355.191 \n",
       "  \"/>\n",
       "<polyline clip-path=\"url(#clip4400)\" style=\"stroke:#000000; stroke-width:1; stroke-opacity:1; fill:none\" points=\"\n",
       "  173.719,360.121 173.719,355.191 \n",
       "  \"/>\n",
       "<polyline clip-path=\"url(#clip4400)\" style=\"stroke:#000000; stroke-width:1; stroke-opacity:1; fill:none\" points=\"\n",
       "  309.251,360.121 309.251,355.191 \n",
       "  \"/>\n",
       "<polyline clip-path=\"url(#clip4400)\" style=\"stroke:#000000; stroke-width:1; stroke-opacity:1; fill:none\" points=\"\n",
       "  444.783,360.121 444.783,355.191 \n",
       "  \"/>\n",
       "<polyline clip-path=\"url(#clip4400)\" style=\"stroke:#000000; stroke-width:1; stroke-opacity:1; fill:none\" points=\"\n",
       "  580.315,360.121 580.315,355.191 \n",
       "  \"/>\n",
       "<polyline clip-path=\"url(#clip4400)\" style=\"stroke:#000000; stroke-width:1; stroke-opacity:1; fill:none\" points=\"\n",
       "  38.1866,341.491 46.3186,341.491 \n",
       "  \"/>\n",
       "<polyline clip-path=\"url(#clip4400)\" style=\"stroke:#000000; stroke-width:1; stroke-opacity:1; fill:none\" points=\"\n",
       "  38.1866,266.973 46.3186,266.973 \n",
       "  \"/>\n",
       "<polyline clip-path=\"url(#clip4400)\" style=\"stroke:#000000; stroke-width:1; stroke-opacity:1; fill:none\" points=\"\n",
       "  38.1866,192.455 46.3186,192.455 \n",
       "  \"/>\n",
       "<polyline clip-path=\"url(#clip4400)\" style=\"stroke:#000000; stroke-width:1; stroke-opacity:1; fill:none\" points=\"\n",
       "  38.1866,117.937 46.3186,117.937 \n",
       "  \"/>\n",
       "<polyline clip-path=\"url(#clip4400)\" style=\"stroke:#000000; stroke-width:1; stroke-opacity:1; fill:none\" points=\"\n",
       "  38.1866,43.419 46.3186,43.419 \n",
       "  \"/>\n",
       "<g clip-path=\"url(#clip4400)\">\n",
       "<text style=\"fill:#000000; fill-opacity:1; font-family:Arial,Helvetica Neue,Helvetica,sans-serif; font-size:12; text-anchor:middle;\" transform=\"rotate(0, 38.1866, 373.921)\" x=\"38.1866\" y=\"373.921\">-1</text>\n",
       "</g>\n",
       "<g clip-path=\"url(#clip4400)\">\n",
       "<text style=\"fill:#000000; fill-opacity:1; font-family:Arial,Helvetica Neue,Helvetica,sans-serif; font-size:12; text-anchor:middle;\" transform=\"rotate(0, 173.719, 373.921)\" x=\"173.719\" y=\"373.921\">0</text>\n",
       "</g>\n",
       "<g clip-path=\"url(#clip4400)\">\n",
       "<text style=\"fill:#000000; fill-opacity:1; font-family:Arial,Helvetica Neue,Helvetica,sans-serif; font-size:12; text-anchor:middle;\" transform=\"rotate(0, 309.251, 373.921)\" x=\"309.251\" y=\"373.921\">1</text>\n",
       "</g>\n",
       "<g clip-path=\"url(#clip4400)\">\n",
       "<text style=\"fill:#000000; fill-opacity:1; font-family:Arial,Helvetica Neue,Helvetica,sans-serif; font-size:12; text-anchor:middle;\" transform=\"rotate(0, 444.783, 373.921)\" x=\"444.783\" y=\"373.921\">2</text>\n",
       "</g>\n",
       "<g clip-path=\"url(#clip4400)\">\n",
       "<text style=\"fill:#000000; fill-opacity:1; font-family:Arial,Helvetica Neue,Helvetica,sans-serif; font-size:12; text-anchor:middle;\" transform=\"rotate(0, 580.315, 373.921)\" x=\"580.315\" y=\"373.921\">3</text>\n",
       "</g>\n",
       "<g clip-path=\"url(#clip4400)\">\n",
       "<text style=\"fill:#000000; fill-opacity:1; font-family:Arial,Helvetica Neue,Helvetica,sans-serif; font-size:12; text-anchor:end;\" transform=\"rotate(0, 32.1866, 345.991)\" x=\"32.1866\" y=\"345.991\">0</text>\n",
       "</g>\n",
       "<g clip-path=\"url(#clip4400)\">\n",
       "<text style=\"fill:#000000; fill-opacity:1; font-family:Arial,Helvetica Neue,Helvetica,sans-serif; font-size:12; text-anchor:end;\" transform=\"rotate(0, 32.1866, 271.473)\" x=\"32.1866\" y=\"271.473\">2</text>\n",
       "</g>\n",
       "<g clip-path=\"url(#clip4400)\">\n",
       "<text style=\"fill:#000000; fill-opacity:1; font-family:Arial,Helvetica Neue,Helvetica,sans-serif; font-size:12; text-anchor:end;\" transform=\"rotate(0, 32.1866, 196.955)\" x=\"32.1866\" y=\"196.955\">4</text>\n",
       "</g>\n",
       "<g clip-path=\"url(#clip4400)\">\n",
       "<text style=\"fill:#000000; fill-opacity:1; font-family:Arial,Helvetica Neue,Helvetica,sans-serif; font-size:12; text-anchor:end;\" transform=\"rotate(0, 32.1866, 122.437)\" x=\"32.1866\" y=\"122.437\">6</text>\n",
       "</g>\n",
       "<g clip-path=\"url(#clip4400)\">\n",
       "<text style=\"fill:#000000; fill-opacity:1; font-family:Arial,Helvetica Neue,Helvetica,sans-serif; font-size:12; text-anchor:end;\" transform=\"rotate(0, 32.1866, 47.919)\" x=\"32.1866\" y=\"47.919\">8</text>\n",
       "</g>\n",
       "<g clip-path=\"url(#clip4400)\">\n",
       "<text style=\"fill:#000000; fill-opacity:1; font-family:Arial,Helvetica Neue,Helvetica,sans-serif; font-size:21; text-anchor:middle;\" transform=\"rotate(0, 309.251, 18)\" x=\"309.251\" y=\"18\">the fn1.(x,0.5) function</text>\n",
       "</g>\n",
       "<g clip-path=\"url(#clip4400)\">\n",
       "<text style=\"fill:#000000; fill-opacity:1; font-family:Arial,Helvetica Neue,Helvetica,sans-serif; font-size:16; text-anchor:middle;\" transform=\"rotate(0, 309.251, 397.6)\" x=\"309.251\" y=\"397.6\">x</text>\n",
       "</g>\n",
       "<g clip-path=\"url(#clip4400)\">\n",
       "<text style=\"fill:#000000; fill-opacity:1; font-family:Arial,Helvetica Neue,Helvetica,sans-serif; font-size:16; text-anchor:middle;\" transform=\"rotate(-90, 14.4, 195.808)\" x=\"14.4\" y=\"195.808\">y</text>\n",
       "</g>\n",
       "<polyline clip-path=\"url(#clip4402)\" style=\"stroke:#ff0000; stroke-width:2; stroke-opacity:1; fill:none\" points=\"\n",
       "  38.1866,31.4961 51.7399,62.0485 65.2931,91.1105 78.8463,118.682 92.3995,144.763 105.953,169.354 119.506,192.455 133.059,214.065 146.612,234.185 160.166,252.815 \n",
       "  173.719,269.954 187.272,285.603 200.825,299.761 214.378,312.429 227.932,323.607 241.485,333.294 255.038,341.491 268.591,348.198 282.144,353.414 295.698,357.14 \n",
       "  309.251,359.375 322.804,360.121 336.357,359.375 349.91,357.14 363.464,353.414 377.017,348.198 390.57,341.491 404.123,333.294 417.676,323.607 431.23,312.429 \n",
       "  444.783,299.761 458.336,285.603 471.889,269.954 485.443,252.815 498.996,234.185 512.549,214.065 526.102,192.455 539.655,169.354 553.209,144.763 566.762,118.682 \n",
       "  580.315,91.1105 \n",
       "  \"/>\n",
       "</svg>\n"
      ]
     },
     "execution_count": 5,
     "metadata": {},
     "output_type": "execute_result"
    }
   ],
   "source": [
    "x = -1:0.1:3\n",
    "\n",
    "plot1 = plot(x,fn1.(x,0.5),color=:red,linewidth=2,legend=nothing)\n",
    "title!(\"the fn1.(x,0.5) function\")\n",
    "xlabel!(\"x\")\n",
    "ylabel!(\"y\")"
   ]
  },
  {
   "cell_type": "markdown",
   "metadata": {},
   "source": [
    "The minimum appears to be around 1.1 and the two roots around 0.6 and 1.6."
   ]
  },
  {
   "cell_type": "markdown",
   "metadata": {},
   "source": [
    "# Solving a Non-Linear Equation\n",
    "\n",
    "The Roots package wants a function with only one input. An easy way to turn ```fn1(a,0.5)``` into that form is by defining an anonymous function:\n",
    "```\n",
    "x->fn1(x,0.5)\n",
    "```\n",
    "\n",
    "Running \n",
    "```\n",
    "find_zero(x->fn1(x,0.5),(x₀,x₁))\n",
    "```\n",
    "searches for a root in the [x₀,x₁] interval. Alternatively, you can also do \n",
    "```\n",
    "find_zero(x->fn1(x,0.5),x₂)\n",
    "``` \n",
    "where `x₂` is a single starting guess.\n",
    "\n",
    "Instead, running\n",
    "```\n",
    "find_zeros(x->fn1(x,0.5),x₀,x₁)\n",
    "```\n",
    "searches for all roots between x₀ and x₁. (Notice the *s* in `find_zeros`.)\n",
    "\n",
    "If you want to solve a *system* of non-linear equations, try the NLsolve.jl package."
   ]
  },
  {
   "cell_type": "code",
   "execution_count": 6,
   "metadata": {},
   "outputs": [
    {
     "name": "stdout",
     "output_type": "stream",
     "text": [
      "at which x is fn1(x,0.5) = 0?      0.600\n",
      "at which x is fn1(x,0.5) = 0?      1.600\n",
      "\n",
      "yes, there are several roots. Just look at it (in the plot)\n"
     ]
    }
   ],
   "source": [
    "x1 = find_zero(x->fn1(x,0.5),(-1,1))            #searches for roots in [-1,1]\n",
    "printlnPs(\"at which x is fn1(x,0.5) = 0? \",x1)\n",
    "\n",
    "x2 = find_zero(x->fn1(x,0.5),2)              #searches for roots around 2\n",
    "printlnPs(\"at which x is fn1(x,0.5) = 0? \",x2)\n",
    "\n",
    "println(\"\\nyes, there are several roots. Just look at it (in the plot)\")"
   ]
  },
  {
   "cell_type": "code",
   "execution_count": 7,
   "metadata": {},
   "outputs": [
    {
     "name": "stdout",
     "output_type": "stream",
     "text": [
      "at which x is fn1(x,0.5) = 0?      0.600     1.600\n"
     ]
    }
   ],
   "source": [
    "x1 = find_zeros(x->fn1(x,0.5),-1,3)            #find_zeros (notice the \"s\")\n",
    "                                                    \n",
    "printlnPs(\"at which x is fn1(x,0.5) = 0? \",x1)       "
   ]
  },
  {
   "cell_type": "markdown",
   "metadata": {},
   "source": [
    "# Optimization with One Choice Variable\n",
    "\n",
    "Running \n",
    "```\n",
    "Sol = optimize(x->fn1(x,0.5),x₀,x₁)\n",
    "```\n",
    "finds the `x` value (in the interval `[x₀,x₁]`) that *minimizes* `fn1(x,0.5)`.\n",
    "\n",
    "The output (`Sol`) contains a lot of information. Print it to see, and extract the optimal `x` value as in the cell below."
   ]
  },
  {
   "cell_type": "code",
   "execution_count": 8,
   "metadata": {},
   "outputs": [
    {
     "name": "stdout",
     "output_type": "stream",
     "text": [
      "The minimum is at:      1.100\n",
      "Compare with the plot above\n"
     ]
    }
   ],
   "source": [
    "Sol = optimize(x->fn1(x,0.5),-2.0,3.0)            \n",
    "\n",
    "printlnPs(\"The minimum is at: \", Optim.minimizer(Sol))\n",
    "println(\"Compare with the plot above\")   "
   ]
  },
  {
   "cell_type": "code",
   "execution_count": 9,
   "metadata": {},
   "outputs": [
    {
     "name": "stdout",
     "output_type": "stream",
     "text": [
      "Results of Optimization Algorithm\n",
      " * Algorithm: Brent's Method\n",
      " * Search Interval: [-2.000000, 3.000000]\n",
      " * Minimizer: 1.100000e+00\n",
      " * Minimum: -5.000000e-01\n",
      " * Iterations: 5\n",
      " * Convergence: max(|x - x_upper|, |x - x_lower|) <= 2*(1.5e-08*|x|+2.2e-16): true\n",
      " * Objective Function Calls: 6\n"
     ]
    }
   ],
   "source": [
    "println(Sol)"
   ]
  },
  {
   "cell_type": "markdown",
   "metadata": {
    "collapsed": true
   },
   "source": [
    "# Optimization with Several Choice Variables\n",
    "\n",
    "The function `fn2(x,0.05)` (defined below) takes a vector `x` as input. Therefore, running \n",
    "```\n",
    "Sol = optimize(x->fn2(x,0.5),x₀)\n",
    "```\n",
    "finds the `x` vector that *minimizes* `fn2(x,0.5)`. Notice that `x₀` should be a vector of floating point numbers  with the correct number of elements (for instance, `[1.0,-0.5]`)."
   ]
  },
  {
   "cell_type": "code",
   "execution_count": 10,
   "metadata": {},
   "outputs": [
    {
     "data": {
      "text/plain": [
       "fn2 (generic function with 1 method)"
      ]
     },
     "execution_count": 10,
     "metadata": {},
     "output_type": "execute_result"
    }
   ],
   "source": [
    "function fn2(x,c)                    #notice: x is a vector\n",
    "   L = (x[1]-2)^2 + (4*x[2]+3)^2 - c\n",
    "  return L\n",
    "end  "
   ]
  },
  {
   "cell_type": "code",
   "execution_count": 11,
   "metadata": {},
   "outputs": [],
   "source": [
    "x1 = 0:0.1:4                      #a grid of values\n",
    "x2 = -2:0.05:0\n",
    "(m,n) = (length(x1),length(x2)) \n",
    "\n",
    "L = fill(NaN,m,n)                 #the fn2(x,0.5) value at a grid (to the plot)\n",
    "for i = 1:m, j = 1:n\n",
    "    L[i,j] = fn2([x1[i],x2[j]],0.5)\n",
    "end"
   ]
  },
  {
   "cell_type": "code",
   "execution_count": 12,
   "metadata": {},
   "outputs": [
    {
     "data": {
      "image/svg+xml": [
       "<?xml version=\"1.0\" encoding=\"utf-8\"?>\n",
       "<svg xmlns=\"http://www.w3.org/2000/svg\" xmlns:xlink=\"http://www.w3.org/1999/xlink\" width=\"600\" height=\"400\" viewBox=\"0 0 600 400\">\n",
       "<defs>\n",
       "  <clipPath id=\"clip4600\">\n",
       "    <rect x=\"0\" y=\"0\" width=\"600\" height=\"400\"/>\n",
       "  </clipPath>\n",
       "</defs>\n",
       "<polygon clip-path=\"url(#clip4600)\" points=\"\n",
       "0,400 600,400 600,0 0,0 \n",
       "  \" fill=\"#ffffff\" fill-opacity=\"1\"/>\n",
       "<defs>\n",
       "  <clipPath id=\"clip4601\">\n",
       "    <rect x=\"120\" y=\"0\" width=\"421\" height=\"400\"/>\n",
       "  </clipPath>\n",
       "</defs>\n",
       "<polygon clip-path=\"url(#clip4600)\" points=\"\n",
       "55.25,360.121 580.315,360.121 580.315,31.4961 55.25,31.4961 \n",
       "  \" fill=\"#ffffff\" fill-opacity=\"1\"/>\n",
       "<defs>\n",
       "  <clipPath id=\"clip4602\">\n",
       "    <rect x=\"55\" y=\"31\" width=\"526\" height=\"330\"/>\n",
       "  </clipPath>\n",
       "</defs>\n",
       "<polyline clip-path=\"url(#clip4602)\" style=\"stroke:#000000; stroke-width:0.5; stroke-opacity:0.1; fill:none\" points=\"\n",
       "  55.25,360.121 55.25,31.4961 \n",
       "  \"/>\n",
       "<polyline clip-path=\"url(#clip4602)\" style=\"stroke:#000000; stroke-width:0.5; stroke-opacity:0.1; fill:none\" points=\"\n",
       "  186.516,360.121 186.516,31.4961 \n",
       "  \"/>\n",
       "<polyline clip-path=\"url(#clip4602)\" style=\"stroke:#000000; stroke-width:0.5; stroke-opacity:0.1; fill:none\" points=\"\n",
       "  317.783,360.121 317.783,31.4961 \n",
       "  \"/>\n",
       "<polyline clip-path=\"url(#clip4602)\" style=\"stroke:#000000; stroke-width:0.5; stroke-opacity:0.1; fill:none\" points=\"\n",
       "  449.049,360.121 449.049,31.4961 \n",
       "  \"/>\n",
       "<polyline clip-path=\"url(#clip4602)\" style=\"stroke:#000000; stroke-width:0.5; stroke-opacity:0.1; fill:none\" points=\"\n",
       "  580.315,360.121 580.315,31.4961 \n",
       "  \"/>\n",
       "<polyline clip-path=\"url(#clip4602)\" style=\"stroke:#000000; stroke-width:0.5; stroke-opacity:0.1; fill:none\" points=\"\n",
       "  55.25,360.121 580.315,360.121 \n",
       "  \"/>\n",
       "<polyline clip-path=\"url(#clip4602)\" style=\"stroke:#000000; stroke-width:0.5; stroke-opacity:0.1; fill:none\" points=\"\n",
       "  55.25,277.965 580.315,277.965 \n",
       "  \"/>\n",
       "<polyline clip-path=\"url(#clip4602)\" style=\"stroke:#000000; stroke-width:0.5; stroke-opacity:0.1; fill:none\" points=\"\n",
       "  55.25,195.808 580.315,195.808 \n",
       "  \"/>\n",
       "<polyline clip-path=\"url(#clip4602)\" style=\"stroke:#000000; stroke-width:0.5; stroke-opacity:0.1; fill:none\" points=\"\n",
       "  55.25,113.652 580.315,113.652 \n",
       "  \"/>\n",
       "<polyline clip-path=\"url(#clip4602)\" style=\"stroke:#000000; stroke-width:0.5; stroke-opacity:0.1; fill:none\" points=\"\n",
       "  55.25,31.4961 580.315,31.4961 \n",
       "  \"/>\n",
       "<polyline clip-path=\"url(#clip4600)\" style=\"stroke:#000000; stroke-width:1; stroke-opacity:1; fill:none\" points=\"\n",
       "  55.25,360.121 580.315,360.121 \n",
       "  \"/>\n",
       "<polyline clip-path=\"url(#clip4600)\" style=\"stroke:#000000; stroke-width:1; stroke-opacity:1; fill:none\" points=\"\n",
       "  55.25,360.121 55.25,31.4961 \n",
       "  \"/>\n",
       "<polyline clip-path=\"url(#clip4600)\" style=\"stroke:#000000; stroke-width:1; stroke-opacity:1; fill:none\" points=\"\n",
       "  55.25,360.121 55.25,355.191 \n",
       "  \"/>\n",
       "<polyline clip-path=\"url(#clip4600)\" style=\"stroke:#000000; stroke-width:1; stroke-opacity:1; fill:none\" points=\"\n",
       "  186.516,360.121 186.516,355.191 \n",
       "  \"/>\n",
       "<polyline clip-path=\"url(#clip4600)\" style=\"stroke:#000000; stroke-width:1; stroke-opacity:1; fill:none\" points=\"\n",
       "  317.783,360.121 317.783,355.191 \n",
       "  \"/>\n",
       "<polyline clip-path=\"url(#clip4600)\" style=\"stroke:#000000; stroke-width:1; stroke-opacity:1; fill:none\" points=\"\n",
       "  449.049,360.121 449.049,355.191 \n",
       "  \"/>\n",
       "<polyline clip-path=\"url(#clip4600)\" style=\"stroke:#000000; stroke-width:1; stroke-opacity:1; fill:none\" points=\"\n",
       "  580.315,360.121 580.315,355.191 \n",
       "  \"/>\n",
       "<polyline clip-path=\"url(#clip4600)\" style=\"stroke:#000000; stroke-width:1; stroke-opacity:1; fill:none\" points=\"\n",
       "  55.25,360.121 63.126,360.121 \n",
       "  \"/>\n",
       "<polyline clip-path=\"url(#clip4600)\" style=\"stroke:#000000; stroke-width:1; stroke-opacity:1; fill:none\" points=\"\n",
       "  55.25,277.965 63.126,277.965 \n",
       "  \"/>\n",
       "<polyline clip-path=\"url(#clip4600)\" style=\"stroke:#000000; stroke-width:1; stroke-opacity:1; fill:none\" points=\"\n",
       "  55.25,195.808 63.126,195.808 \n",
       "  \"/>\n",
       "<polyline clip-path=\"url(#clip4600)\" style=\"stroke:#000000; stroke-width:1; stroke-opacity:1; fill:none\" points=\"\n",
       "  55.25,113.652 63.126,113.652 \n",
       "  \"/>\n",
       "<polyline clip-path=\"url(#clip4600)\" style=\"stroke:#000000; stroke-width:1; stroke-opacity:1; fill:none\" points=\"\n",
       "  55.25,31.4961 63.126,31.4961 \n",
       "  \"/>\n",
       "<g clip-path=\"url(#clip4600)\">\n",
       "<text style=\"fill:#000000; fill-opacity:1; font-family:Arial,Helvetica Neue,Helvetica,sans-serif; font-size:12; text-anchor:middle;\" transform=\"rotate(0, 55.25, 373.921)\" x=\"55.25\" y=\"373.921\">0</text>\n",
       "</g>\n",
       "<g clip-path=\"url(#clip4600)\">\n",
       "<text style=\"fill:#000000; fill-opacity:1; font-family:Arial,Helvetica Neue,Helvetica,sans-serif; font-size:12; text-anchor:middle;\" transform=\"rotate(0, 186.516, 373.921)\" x=\"186.516\" y=\"373.921\">1</text>\n",
       "</g>\n",
       "<g clip-path=\"url(#clip4600)\">\n",
       "<text style=\"fill:#000000; fill-opacity:1; font-family:Arial,Helvetica Neue,Helvetica,sans-serif; font-size:12; text-anchor:middle;\" transform=\"rotate(0, 317.783, 373.921)\" x=\"317.783\" y=\"373.921\">2</text>\n",
       "</g>\n",
       "<g clip-path=\"url(#clip4600)\">\n",
       "<text style=\"fill:#000000; fill-opacity:1; font-family:Arial,Helvetica Neue,Helvetica,sans-serif; font-size:12; text-anchor:middle;\" transform=\"rotate(0, 449.049, 373.921)\" x=\"449.049\" y=\"373.921\">3</text>\n",
       "</g>\n",
       "<g clip-path=\"url(#clip4600)\">\n",
       "<text style=\"fill:#000000; fill-opacity:1; font-family:Arial,Helvetica Neue,Helvetica,sans-serif; font-size:12; text-anchor:middle;\" transform=\"rotate(0, 580.315, 373.921)\" x=\"580.315\" y=\"373.921\">4</text>\n",
       "</g>\n",
       "<g clip-path=\"url(#clip4600)\">\n",
       "<text style=\"fill:#000000; fill-opacity:1; font-family:Arial,Helvetica Neue,Helvetica,sans-serif; font-size:12; text-anchor:end;\" transform=\"rotate(0, 49.25, 364.621)\" x=\"49.25\" y=\"364.621\">-2.0</text>\n",
       "</g>\n",
       "<g clip-path=\"url(#clip4600)\">\n",
       "<text style=\"fill:#000000; fill-opacity:1; font-family:Arial,Helvetica Neue,Helvetica,sans-serif; font-size:12; text-anchor:end;\" transform=\"rotate(0, 49.25, 282.465)\" x=\"49.25\" y=\"282.465\">-1.5</text>\n",
       "</g>\n",
       "<g clip-path=\"url(#clip4600)\">\n",
       "<text style=\"fill:#000000; fill-opacity:1; font-family:Arial,Helvetica Neue,Helvetica,sans-serif; font-size:12; text-anchor:end;\" transform=\"rotate(0, 49.25, 200.308)\" x=\"49.25\" y=\"200.308\">-1.0</text>\n",
       "</g>\n",
       "<g clip-path=\"url(#clip4600)\">\n",
       "<text style=\"fill:#000000; fill-opacity:1; font-family:Arial,Helvetica Neue,Helvetica,sans-serif; font-size:12; text-anchor:end;\" transform=\"rotate(0, 49.25, 118.152)\" x=\"49.25\" y=\"118.152\">-0.5</text>\n",
       "</g>\n",
       "<g clip-path=\"url(#clip4600)\">\n",
       "<text style=\"fill:#000000; fill-opacity:1; font-family:Arial,Helvetica Neue,Helvetica,sans-serif; font-size:12; text-anchor:end;\" transform=\"rotate(0, 49.25, 35.9961)\" x=\"49.25\" y=\"35.9961\">0.0</text>\n",
       "</g>\n",
       "<g clip-path=\"url(#clip4600)\">\n",
       "<text style=\"fill:#000000; fill-opacity:1; font-family:Arial,Helvetica Neue,Helvetica,sans-serif; font-size:21; text-anchor:middle;\" transform=\"rotate(0, 317.783, 18)\" x=\"317.783\" y=\"18\">Contour plot of loss function</text>\n",
       "</g>\n",
       "<g clip-path=\"url(#clip4600)\">\n",
       "<text style=\"fill:#000000; fill-opacity:1; font-family:Arial,Helvetica Neue,Helvetica,sans-serif; font-size:16; text-anchor:middle;\" transform=\"rotate(0, 317.783, 397.6)\" x=\"317.783\" y=\"397.6\">x1</text>\n",
       "</g>\n",
       "<g clip-path=\"url(#clip4600)\">\n",
       "<text style=\"fill:#000000; fill-opacity:1; font-family:Arial,Helvetica Neue,Helvetica,sans-serif; font-size:16; text-anchor:middle;\" transform=\"rotate(-90, 14.4, 195.808)\" x=\"14.4\" y=\"195.808\">x2</text>\n",
       "</g>\n",
       "<polyline clip-path=\"url(#clip4602)\" style=\"stroke:#f3e258; stroke-width:1; stroke-opacity:1; fill:none\" points=\"\n",
       "  55.25,351.418 59.0005,351.905 68.3767,353.073 81.5033,354.624 94.6299,356.091 107.757,357.474 120.883,358.773 134.01,359.989 135.538,360.121 \n",
       "  \"/>\n",
       "<polyline clip-path=\"url(#clip4602)\" style=\"stroke:#e65e2d; stroke-width:1; stroke-opacity:1; fill:none\" points=\"\n",
       "  55.25,311.895 68.3767,313.949 81.5033,315.898 94.6299,317.741 104.461,319.043 107.757,319.458 120.883,321.011 134.01,322.463 147.136,323.816 160.263,325.068 \n",
       "  173.39,326.221 186.338,327.258 186.516,327.272 199.643,328.179 212.77,328.991 225.896,329.708 239.023,330.329 252.149,330.854 265.276,331.284 278.403,331.618 \n",
       "  291.529,331.857 304.656,332.001 317.783,332.048 330.909,332.001 344.036,331.857 357.162,331.618 370.289,331.284 383.416,330.854 396.542,330.329 409.669,329.708 \n",
       "  422.795,328.991 435.922,328.179 449.049,327.272 449.227,327.258 462.175,326.221 475.302,325.068 488.429,323.816 501.555,322.463 514.682,321.011 527.808,319.458 \n",
       "  531.104,319.043 540.935,317.741 554.062,315.898 567.188,313.949 580.315,311.895 \n",
       "  \"/>\n",
       "<polyline clip-path=\"url(#clip4602)\" style=\"stroke:#f57d15; stroke-width:1; stroke-opacity:1; fill:none\" points=\"\n",
       "  580.315,322.621 567.188,324.575 554.062,326.428 547.847,327.258 540.935,328.138 527.808,329.715 514.682,331.195 501.555,332.581 488.429,333.87 475.302,335.064 \n",
       "  470.41,335.474 462.175,336.132 449.049,337.091 435.922,337.958 422.795,338.734 409.669,339.419 396.542,340.012 383.416,340.514 370.289,340.925 357.162,341.244 \n",
       "  344.036,341.473 330.909,341.609 317.783,341.655 304.656,341.609 291.529,341.473 278.403,341.244 265.276,340.925 252.149,340.514 239.023,340.012 225.896,339.419 \n",
       "  212.77,338.734 199.643,337.958 186.516,337.091 173.39,336.132 165.155,335.474 160.263,335.064 147.136,333.87 134.01,332.581 120.883,331.195 107.757,329.715 \n",
       "  94.6299,328.138 87.7183,327.258 81.5033,326.428 68.3767,324.575 55.25,322.621 \n",
       "  \"/>\n",
       "<polyline clip-path=\"url(#clip4602)\" style=\"stroke:#fb9c07; stroke-width:1; stroke-opacity:1; fill:none\" points=\"\n",
       "  55.25,332.731 68.3767,334.594 74.9146,335.474 81.5033,336.321 94.6299,337.919 107.757,339.425 120.883,340.84 134.01,342.164 147.136,343.396 150.512,343.689 \n",
       "  160.263,344.501 173.39,345.506 186.516,346.424 199.643,347.254 212.77,347.997 225.896,348.653 239.023,349.221 252.149,349.701 265.276,350.095 278.403,350.401 \n",
       "  291.529,350.619 304.656,350.75 317.783,350.794 330.909,350.75 344.036,350.619 357.162,350.401 370.289,350.095 383.416,349.701 396.542,349.221 409.669,348.653 \n",
       "  422.795,347.997 435.922,347.254 449.049,346.424 462.175,345.506 475.302,344.501 485.053,343.689 488.429,343.396 501.555,342.164 514.682,340.84 527.808,339.425 \n",
       "  540.935,337.919 554.062,336.321 560.65,335.474 567.188,334.594 580.315,332.731 \n",
       "  \"/>\n",
       "<polyline clip-path=\"url(#clip4602)\" style=\"stroke:#fabf26; stroke-width:1; stroke-opacity:1; fill:none\" points=\"\n",
       "  580.315,342.307 570.121,343.689 567.188,344.07 554.062,345.687 540.935,347.217 527.808,348.659 514.682,350.013 501.555,351.281 494.61,351.905 488.429,352.438 \n",
       "  475.302,353.486 462.175,354.45 449.049,355.33 435.922,356.127 422.795,356.839 409.669,357.468 396.542,358.013 383.416,358.474 370.289,358.851 357.162,359.145 \n",
       "  344.036,359.354 330.909,359.48 317.783,359.522 304.656,359.48 291.529,359.354 278.403,359.145 265.276,358.851 252.149,358.474 239.023,358.013 225.896,357.468 \n",
       "  212.77,356.839 199.643,356.127 186.516,355.33 173.39,354.45 160.263,353.486 147.136,352.438 140.955,351.905 134.01,351.281 120.883,350.013 107.757,348.659 \n",
       "  94.6299,347.217 81.5033,345.687 68.3767,344.07 65.4436,343.689 55.25,342.307 \n",
       "  \"/>\n",
       "<polyline clip-path=\"url(#clip4602)\" style=\"stroke:#d24742; stroke-width:1; stroke-opacity:1; fill:none\" points=\"\n",
       "  55.25,300.331 68.3286,302.611 68.3767,302.619 81.5033,304.673 94.6299,306.616 107.757,308.448 120.883,310.169 126.25,310.827 134.01,311.73 147.136,313.152 \n",
       "  160.263,314.468 173.39,315.68 186.516,316.786 199.643,317.786 212.77,318.681 218.77,319.043 225.896,319.45 239.023,320.102 252.149,320.653 265.276,321.104 \n",
       "  278.403,321.454 291.529,321.705 304.656,321.855 317.783,321.905 330.909,321.855 344.036,321.705 357.162,321.454 370.289,321.104 383.416,320.653 396.542,320.102 \n",
       "  409.669,319.45 416.795,319.043 422.795,318.681 435.922,317.786 449.049,316.786 462.175,315.68 475.302,314.468 488.429,313.152 501.555,311.73 509.315,310.827 \n",
       "  514.682,310.169 527.808,308.448 540.935,306.616 554.062,304.673 567.188,302.619 567.236,302.611 580.315,300.331 \n",
       "  \"/>\n",
       "<polyline clip-path=\"url(#clip4602)\" style=\"stroke:#ba3655; stroke-width:1; stroke-opacity:1; fill:none\" points=\"\n",
       "  580.315,287.798 567.188,290.226 554.062,292.529 542.81,294.396 540.935,294.689 527.808,296.626 514.682,298.445 501.555,300.147 488.429,301.731 480.553,302.611 \n",
       "  475.302,303.166 462.175,304.443 449.049,305.609 435.922,306.664 422.795,307.607 409.669,308.44 396.542,309.162 383.416,309.772 370.289,310.272 357.162,310.66 \n",
       "  349.286,310.827 344.036,310.932 330.909,311.09 317.783,311.143 304.656,311.09 291.529,310.932 286.279,310.827 278.403,310.66 265.276,310.272 252.149,309.772 \n",
       "  239.023,309.162 225.896,308.44 212.77,307.607 199.643,306.664 186.516,305.609 173.39,304.443 160.263,303.166 155.012,302.611 147.136,301.731 134.01,300.147 \n",
       "  120.883,298.445 107.757,296.626 94.6299,294.689 92.7547,294.396 81.5033,292.529 68.3767,290.226 55.25,287.798 \n",
       "  \"/>\n",
       "<polyline clip-path=\"url(#clip4602)\" style=\"stroke:#9e2a62; stroke-width:1; stroke-opacity:1; fill:none\" points=\"\n",
       "  55.25,273.917 68.3767,276.68 74.8133,277.965 81.5033,279.214 94.6299,281.533 107.757,283.719 120.883,285.773 123.664,286.18 134.01,287.603 147.136,289.283 \n",
       "  160.263,290.839 173.39,292.271 186.516,293.578 195.596,294.396 199.643,294.739 212.77,295.737 225.896,296.617 239.023,297.38 252.149,298.026 265.276,298.554 \n",
       "  278.403,298.965 291.529,299.258 304.656,299.434 317.783,299.493 330.909,299.434 344.036,299.258 357.162,298.965 370.289,298.554 383.416,298.026 396.542,297.38 \n",
       "  409.669,296.617 422.795,295.737 435.922,294.739 439.969,294.396 449.049,293.578 462.175,292.271 475.302,290.839 488.429,289.283 501.555,287.603 511.901,286.18 \n",
       "  514.682,285.773 527.808,283.719 540.935,281.533 554.062,279.214 560.752,277.965 567.188,276.68 580.315,273.917 \n",
       "  \"/>\n",
       "<polyline clip-path=\"url(#clip4602)\" style=\"stroke:#821f6b; stroke-width:1; stroke-opacity:1; fill:none\" points=\"\n",
       "  580.315,258.224 567.188,261.428 566.732,261.533 554.062,264.25 540.935,266.913 527.808,269.423 525.994,269.749 514.682,271.641 501.555,273.695 488.429,275.607 \n",
       "  475.302,277.378 470.573,277.965 462.175,278.939 449.049,280.331 435.922,281.59 422.795,282.716 409.669,283.71 396.542,284.571 383.416,285.3 370.289,285.896 \n",
       "  362.252,286.18 357.162,286.349 344.036,286.66 330.909,286.847 317.783,286.909 304.656,286.847 291.529,286.66 278.403,286.349 273.313,286.18 265.276,285.896 \n",
       "  252.149,285.3 239.023,284.571 225.896,283.71 212.77,282.716 199.643,281.59 186.516,280.331 173.39,278.939 164.992,277.965 160.263,277.378 147.136,275.607 \n",
       "  134.01,273.695 120.883,271.641 109.571,269.749 107.757,269.423 94.6299,266.913 81.5033,264.25 68.8328,261.533 68.3767,261.428 55.25,258.224 \n",
       "  \"/>\n",
       "<polyline clip-path=\"url(#clip4602)\" style=\"stroke:#63146e; stroke-width:1; stroke-opacity:1; fill:none\" points=\"\n",
       "  55.25,239.681 68.3767,243.495 74.2051,245.102 81.5033,246.939 94.6299,250.065 107.757,253.011 109.208,253.318 120.883,255.583 134.01,257.965 147.136,260.184 \n",
       "  155.762,261.533 160.263,262.185 173.39,263.935 186.516,265.532 199.643,266.978 212.77,268.271 225.896,269.412 230.368,269.749 239.023,270.356 252.149,271.135 \n",
       "  265.276,271.772 278.403,272.268 291.529,272.622 304.656,272.835 317.783,272.906 330.909,272.835 344.036,272.622 357.162,272.268 370.289,271.772 383.416,271.135 \n",
       "  396.542,270.356 405.197,269.749 409.669,269.412 422.795,268.271 435.922,266.978 449.049,265.532 462.175,263.935 475.302,262.185 479.803,261.533 488.429,260.184 \n",
       "  501.555,257.965 514.682,255.583 526.357,253.318 527.808,253.011 540.935,250.065 554.062,246.939 561.36,245.102 567.188,243.495 580.315,239.681 \n",
       "  \"/>\n",
       "<polyline clip-path=\"url(#clip4602)\" style=\"stroke:#470b69; stroke-width:1; stroke-opacity:1; fill:none\" points=\"\n",
       "  580.315,215.721 568.679,220.455 567.188,220.99 554.062,225.461 544.096,228.671 540.935,229.582 527.808,233.149 514.682,236.5 513.065,236.886 501.555,239.373 \n",
       "  488.429,242.014 475.302,244.459 471.552,245.102 462.175,246.569 449.049,248.444 435.922,250.141 422.795,251.659 409.669,252.999 406.063,253.318 396.542,254.092 \n",
       "  383.416,254.996 370.289,255.735 357.162,256.31 344.036,256.721 330.909,256.968 317.783,257.05 304.656,256.968 291.529,256.721 278.403,256.31 265.276,255.735 \n",
       "  252.149,254.996 239.023,254.092 229.502,253.318 225.896,252.999 212.77,251.659 199.643,250.141 186.516,248.444 173.39,246.569 164.013,245.102 160.263,244.459 \n",
       "  147.136,242.014 134.01,239.373 122.5,236.886 120.883,236.5 107.757,233.149 94.6299,229.582 91.4688,228.671 81.5033,225.461 68.3767,220.99 66.8861,220.455 \n",
       "  55.25,215.721 \n",
       "  \"/>\n",
       "<polyline clip-path=\"url(#clip4602)\" style=\"stroke:#270b52; stroke-width:1; stroke-opacity:1; fill:none\" points=\"\n",
       "  55.25,169.988 55.827,171.162 62.5586,179.377 68.3767,184.449 72.1778,187.593 81.5033,193.591 85.1466,195.808 94.6299,200.53 102.074,204.024 107.757,206.281 \n",
       "  120.883,211.179 123.922,212.24 134.01,215.291 147.136,218.988 152.762,220.455 160.263,222.181 173.39,224.96 186.516,227.497 193.228,228.671 199.643,229.675 \n",
       "  212.77,231.512 225.896,233.134 239.023,234.539 252.149,235.728 265.276,236.701 268.491,236.886 278.403,237.403 291.529,237.892 304.656,238.186 317.783,238.284 \n",
       "  330.909,238.186 344.036,237.892 357.162,237.403 367.074,236.886 370.289,236.701 383.416,235.728 396.542,234.539 409.669,233.134 422.795,231.512 435.922,229.675 \n",
       "  442.337,228.671 449.049,227.497 462.175,224.96 475.302,222.181 482.803,220.455 488.429,218.988 501.555,215.291 511.643,212.24 514.682,211.179 527.808,206.281 \n",
       "  533.491,204.024 540.935,200.53 550.418,195.808 554.062,193.591 563.387,187.593 567.188,184.449 573.006,179.377 579.738,171.162 580.315,169.988 \n",
       "  \"/>\n",
       "<polyline clip-path=\"url(#clip4602)\" style=\"stroke:#270b52; stroke-width:1; stroke-opacity:1; fill:none\" points=\"\n",
       "  580.315,139.473 579.738,138.299 573.006,130.083 567.188,125.012 563.387,121.868 554.062,115.869 550.418,113.652 540.935,108.931 533.491,105.437 527.808,103.18 \n",
       "  514.682,98.2818 511.643,97.221 501.555,94.1695 488.429,90.4724 482.803,89.0054 475.302,87.2794 462.175,84.5006 449.049,81.9634 442.337,80.7898 435.922,79.786 \n",
       "  422.795,77.9483 409.669,76.3268 396.542,74.9215 383.416,73.7324 370.289,72.7595 367.074,72.5741 357.162,72.0572 344.036,71.5681 330.909,71.2747 317.783,71.1769 \n",
       "  304.656,71.2747 291.529,71.5681 278.403,72.0572 268.491,72.5741 265.276,72.7595 252.149,73.7324 239.023,74.9215 225.896,76.3268 212.77,77.9483 199.643,79.786 \n",
       "  193.228,80.7898 186.516,81.9634 173.39,84.5006 160.263,87.2794 152.762,89.0054 147.136,90.4724 134.01,94.1695 123.922,97.221 120.883,98.2818 107.757,103.18 \n",
       "  102.074,105.437 94.6299,108.931 85.1466,113.652 81.5033,115.869 72.1778,121.868 68.3767,125.012 62.5586,130.083 55.827,138.299 55.25,139.473 \n",
       "  \"/>\n",
       "<polyline clip-path=\"url(#clip4602)\" style=\"stroke:#470b69; stroke-width:1; stroke-opacity:1; fill:none\" points=\"\n",
       "  55.25,93.7391 66.8861,89.0054 68.3767,88.4703 81.5033,84.0001 91.4688,80.7898 94.6299,79.8786 107.757,76.3113 120.883,72.9602 122.5,72.5741 134.01,70.0871 \n",
       "  147.136,67.4464 160.263,65.0012 164.013,64.3585 173.39,62.8914 186.516,61.0161 199.643,59.3194 212.77,57.8013 225.896,56.4618 229.502,56.1429 239.023,55.3683 \n",
       "  252.149,54.4646 265.276,53.7252 278.403,53.1501 291.529,52.7393 304.656,52.4928 317.783,52.4107 330.909,52.4928 344.036,52.7393 357.162,53.1501 370.289,53.7252 \n",
       "  383.416,54.4646 396.542,55.3683 406.063,56.1429 409.669,56.4618 422.795,57.8013 435.922,59.3194 449.049,61.0161 462.175,62.8914 471.552,64.3585 475.302,65.0012 \n",
       "  488.429,67.4464 501.555,70.0871 513.065,72.5741 514.682,72.9602 527.808,76.3113 540.935,79.8786 544.096,80.7898 554.062,84.0001 567.188,88.4703 568.679,89.0054 \n",
       "  580.315,93.7391 \n",
       "  \"/>\n",
       "<polyline clip-path=\"url(#clip4602)\" style=\"stroke:#63146e; stroke-width:1; stroke-opacity:1; fill:none\" points=\"\n",
       "  580.315,69.7797 567.188,65.9653 561.36,64.3585 554.062,62.5215 540.935,59.396 527.808,56.4491 526.357,56.1429 514.682,53.8777 501.555,51.4952 488.429,49.277 \n",
       "  479.803,47.9273 475.302,47.2753 462.175,45.5256 449.049,43.9282 435.922,42.4828 422.795,41.1896 409.669,40.0486 405.197,39.7117 396.542,39.1046 383.416,38.3255 \n",
       "  370.289,37.6881 357.162,37.1924 344.036,36.8382 330.909,36.6258 317.783,36.5549 304.656,36.6258 291.529,36.8382 278.403,37.1924 265.276,37.6881 252.149,38.3255 \n",
       "  239.023,39.1046 230.368,39.7117 225.896,40.0486 212.77,41.1896 199.643,42.4828 186.516,43.9282 173.39,45.5256 160.263,47.2753 155.762,47.9273 147.136,49.277 \n",
       "  134.01,51.4952 120.883,53.8777 109.208,56.1429 107.757,56.4491 94.6299,59.396 81.5033,62.5215 74.2051,64.3585 68.3767,65.9653 55.25,69.7797 \n",
       "  \"/>\n",
       "<polyline clip-path=\"url(#clip4602)\" style=\"stroke:#821f6b; stroke-width:1; stroke-opacity:1; fill:none\" points=\"\n",
       "  55.25,51.237 68.3767,48.0329 68.8328,47.9273 81.5033,45.2105 94.6299,42.548 107.757,40.0377 109.571,39.7117 120.883,37.8197 134.01,35.7658 147.136,33.8535 \n",
       "  160.263,32.0829 164.992,31.4961 \n",
       "  \"/>\n",
       "<polyline clip-path=\"url(#clip4602)\" style=\"stroke:#9e2a62; stroke-width:1; stroke-opacity:1; fill:none\" points=\"\n",
       "  74.8133,31.4961 68.3767,32.781 55.25,35.5432 \n",
       "  \"/>\n",
       "<polyline clip-path=\"url(#clip4602)\" style=\"stroke:#821f6b; stroke-width:1; stroke-opacity:1; fill:none\" points=\"\n",
       "  470.573,31.4961 475.302,32.0829 488.429,33.8535 501.555,35.7658 514.682,37.8197 525.994,39.7117 527.808,40.0377 540.935,42.548 554.062,45.2105 566.732,47.9273 \n",
       "  567.188,48.0329 580.315,51.237 \n",
       "  \"/>\n",
       "<polyline clip-path=\"url(#clip4602)\" style=\"stroke:#9e2a62; stroke-width:1; stroke-opacity:1; fill:none\" points=\"\n",
       "  580.315,35.5432 567.188,32.781 560.752,31.4961 \n",
       "  \"/>\n",
       "<polyline clip-path=\"url(#clip4602)\" style=\"stroke:#f3e258; stroke-width:1; stroke-opacity:1; fill:none\" points=\"\n",
       "  576.564,351.905 580.315,351.418 \n",
       "  \"/>\n",
       "<polyline clip-path=\"url(#clip4602)\" style=\"stroke:#f3e258; stroke-width:1; stroke-opacity:1; fill:none\" points=\"\n",
       "  500.027,360.121 501.555,359.989 514.682,358.773 527.808,357.474 540.935,356.091 554.062,354.624 567.188,353.073 576.564,351.905 \n",
       "  \"/>\n",
       "<polyline clip-path=\"url(#clip4602)\" style=\"stroke:#0d0829; stroke-width:1; stroke-opacity:1; fill:none\" points=\"\n",
       "  357.162,212.533 344.036,213.218 330.909,213.628 317.783,213.765 304.656,213.628 291.529,213.218 278.403,212.533 274.384,212.24 265.276,211.472 252.149,210.05 \n",
       "  239.023,208.312 225.896,206.258 213.52,204.024 212.77,203.864 199.643,200.69 186.516,197.142 182.051,195.808 173.39,192.646 160.752,187.593 160.263,187.341 \n",
       "  147.136,180.006 146.095,179.377 136.371,171.162 134.01,167.836 130.777,162.946 128.966,154.73 130.777,146.515 134.01,141.624 136.371,138.299 146.095,130.083 \n",
       "  147.136,129.455 160.263,122.119 160.752,121.868 173.39,116.815 182.051,113.652 186.516,112.319 199.643,108.771 212.77,105.597 213.52,105.437 225.896,103.202 \n",
       "  239.023,101.148 252.149,99.4103 265.276,97.9884 274.384,97.221 278.403,96.9276 291.529,96.2429 304.656,95.8322 317.783,95.6952 330.909,95.8322 344.036,96.2429 \n",
       "  357.162,96.9276 361.181,97.221 370.289,97.9884 383.416,99.4103 396.542,101.148 409.669,103.202 422.045,105.437 422.795,105.597 435.922,108.771 449.049,112.319 \n",
       "  453.514,113.652 462.175,116.815 474.813,121.868 475.302,122.119 488.429,129.455 489.47,130.083 499.194,138.299 501.555,141.624 504.788,146.515 506.599,154.73 \n",
       "  504.788,162.946 501.555,167.836 499.194,171.162 489.47,179.377 488.429,180.006 475.302,187.341 474.813,187.593 462.175,192.646 453.514,195.808 449.049,197.142 \n",
       "  435.922,200.69 422.795,203.864 422.045,204.024 409.669,206.258 396.542,208.312 383.416,210.05 370.289,211.472 361.181,212.24 357.162,212.533 \n",
       "  \"/>\n",
       "</svg>\n"
      ]
     },
     "execution_count": 12,
     "metadata": {},
     "output_type": "execute_result"
    }
   ],
   "source": [
    "contour(x1,x2,copy(L'),legend=false)         #notice the transpose: L'\n",
    "title!(\"Contour plot of loss function\")\n",
    "xlabel!(\"x1\")\n",
    "ylabel!(\"x2\")"
   ]
  },
  {
   "cell_type": "code",
   "execution_count": 13,
   "metadata": {},
   "outputs": [
    {
     "name": "stdout",
     "output_type": "stream",
     "text": [
      "The minimum is at :      2.000    -0.750\n",
      "Compare with the contour plot above\n"
     ]
    }
   ],
   "source": [
    "Sol2 = optimize(x->fn2(x,0.5),[1.0,-0.5])    \n",
    "\n",
    "printlnPs(\"The minimum is at : \", Optim.minimizer(Sol2))\n",
    "println(\"Compare with the contour plot above\")   "
   ]
  },
  {
   "cell_type": "code",
   "execution_count": null,
   "metadata": {},
   "outputs": [],
   "source": []
  }
 ],
 "metadata": {
  "anaconda-cloud": {},
  "kernelspec": {
   "display_name": "Julia 0.6.4",
   "language": "julia",
   "name": "julia-0.6"
  },
  "language_info": {
   "file_extension": ".jl",
   "mimetype": "application/julia",
   "name": "julia",
   "version": "0.6.4"
  }
 },
 "nbformat": 4,
 "nbformat_minor": 1
}
