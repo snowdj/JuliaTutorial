{
 "cells": [
  {
   "cell_type": "markdown",
   "metadata": {
    "collapsed": true
   },
   "source": [
    "# Solving Non-linear Equations and Optimisation\n",
    "\n",
    "The package Roots (https://github.com/JuliaMath/Roots.jl) provides methods for solving a non-linear equation (one variable, one function). If you have a system of non-linear equations, try NLsolve.jl (https://github.com/JuliaNLSolvers/NLsolve.jl).\n",
    "\n",
    "The package Optim (https://github.com/JuliaNLSolvers/Optim.jl) provides powerful methods for optimisation. It can easily handle objective functions with several choice variables. As an alternative, consider the NLopt.jl package (https://github.com/JuliaOpt/NLopt.jl)."
   ]
  },
  {
   "cell_type": "markdown",
   "metadata": {},
   "source": [
    "# Load Packages"
   ]
  },
  {
   "cell_type": "code",
   "execution_count": 1,
   "metadata": {},
   "outputs": [
    {
     "data": {
      "text/plain": [
       "printlnPs (generic function with 2 methods)"
      ]
     },
     "execution_count": 1,
     "metadata": {},
     "output_type": "execute_result"
    }
   ],
   "source": [
    "using Dates, Roots, Optim\n",
    "           \n",
    "include(\"printmat.jl\")   "
   ]
  },
  {
   "cell_type": "code",
   "execution_count": 2,
   "metadata": {},
   "outputs": [],
   "source": [
    "using Plots\n",
    "\n",
    "backend = \"gr\"              #\"gr\" (default), \"pyplot\" \n",
    "\n",
    "if backend == \"pyplot\"\n",
    "    pyplot(size=(600,400))\n",
    "else    \n",
    "    gr(size=(480,320))\n",
    "    default(fmt = :svg)\n",
    "end"
   ]
  },
  {
   "cell_type": "markdown",
   "metadata": {},
   "source": [
    "# Defining and Plotting the Function\n",
    "\n",
    "The next few cells define a fairly simple function and then plots it."
   ]
  },
  {
   "cell_type": "code",
   "execution_count": 3,
   "metadata": {},
   "outputs": [
    {
     "data": {
      "text/plain": [
       "fn1 (generic function with 1 method)"
      ]
     },
     "execution_count": 3,
     "metadata": {},
     "output_type": "execute_result"
    }
   ],
   "source": [
    "function fn1(x,c)                    #notice: the function has two arguments\n",
    "  value = 2*(x - 1.1)^2 - c\n",
    "  return value\n",
    "end  "
   ]
  },
  {
   "cell_type": "code",
   "execution_count": 4,
   "metadata": {},
   "outputs": [
    {
     "name": "stdout",
     "output_type": "stream",
     "text": [
      "x and the result from the function fn1.(x,0.5): \n",
      "     1.000    -0.480\n",
      "     1.500    -0.180\n",
      "\n"
     ]
    }
   ],
   "source": [
    "x = [1,1.5] \n",
    "y = fn1.(x,0.5)                   #calling on the function\n",
    "println(\"x and the result from the function fn1.(x,0.5): \")\n",
    "printmat([x y])"
   ]
  },
  {
   "cell_type": "markdown",
   "metadata": {},
   "source": [
    "## Plotting the Function\n",
    "\n",
    "If possible, plot your function. Maybe you see something strange (local minima?). It also helps you set the initial guesses (or brackets) for root solving and optimization."
   ]
  },
  {
   "cell_type": "code",
   "execution_count": 5,
   "metadata": {},
   "outputs": [
    {
     "data": {
      "image/svg+xml": [
       "<?xml version=\"1.0\" encoding=\"utf-8\"?>\n",
       "<svg xmlns=\"http://www.w3.org/2000/svg\" xmlns:xlink=\"http://www.w3.org/1999/xlink\" width=\"480\" height=\"320\" viewBox=\"0 0 1920 1280\">\n",
       "<defs>\n",
       "  <clipPath id=\"clip6300\">\n",
       "    <rect x=\"0\" y=\"0\" width=\"2000\" height=\"2000\"/>\n",
       "  </clipPath>\n",
       "</defs>\n",
       "<defs>\n",
       "  <clipPath id=\"clip6301\">\n",
       "    <rect x=\"0\" y=\"0\" width=\"1920\" height=\"1280\"/>\n",
       "  </clipPath>\n",
       "</defs>\n",
       "<polygon clip-path=\"url(#clip6301)\" points=\"\n",
       "0,1280 1920,1280 1920,0 0,0 \n",
       "  \" fill=\"#ffffff\" fill-rule=\"evenodd\" fill-opacity=\"1\"/>\n",
       "<defs>\n",
       "  <clipPath id=\"clip6302\">\n",
       "    <rect x=\"384\" y=\"0\" width=\"1345\" height=\"1280\"/>\n",
       "  </clipPath>\n",
       "</defs>\n",
       "<polygon clip-path=\"url(#clip6301)\" points=\"\n",
       "184.243,1120.48 1841.26,1120.48 1841.26,125.984 184.243,125.984 \n",
       "  \" fill=\"#ffffff\" fill-rule=\"evenodd\" fill-opacity=\"1\"/>\n",
       "<defs>\n",
       "  <clipPath id=\"clip6303\">\n",
       "    <rect x=\"184\" y=\"125\" width=\"1658\" height=\"995\"/>\n",
       "  </clipPath>\n",
       "</defs>\n",
       "<polyline clip-path=\"url(#clip6303)\" style=\"stroke:#000000; stroke-width:2; stroke-opacity:0.1; fill:none\" points=\"\n",
       "  231.139,1120.48 231.139,125.984 \n",
       "  \"/>\n",
       "<polyline clip-path=\"url(#clip6303)\" style=\"stroke:#000000; stroke-width:2; stroke-opacity:0.1; fill:none\" points=\"\n",
       "  621.945,1120.48 621.945,125.984 \n",
       "  \"/>\n",
       "<polyline clip-path=\"url(#clip6303)\" style=\"stroke:#000000; stroke-width:2; stroke-opacity:0.1; fill:none\" points=\"\n",
       "  1012.75,1120.48 1012.75,125.984 \n",
       "  \"/>\n",
       "<polyline clip-path=\"url(#clip6303)\" style=\"stroke:#000000; stroke-width:2; stroke-opacity:0.1; fill:none\" points=\"\n",
       "  1403.56,1120.48 1403.56,125.984 \n",
       "  \"/>\n",
       "<polyline clip-path=\"url(#clip6303)\" style=\"stroke:#000000; stroke-width:2; stroke-opacity:0.1; fill:none\" points=\"\n",
       "  1794.36,1120.48 1794.36,125.984 \n",
       "  \"/>\n",
       "<polyline clip-path=\"url(#clip6303)\" style=\"stroke:#000000; stroke-width:2; stroke-opacity:0.1; fill:none\" points=\"\n",
       "  184.243,1039.15 1841.26,1039.15 \n",
       "  \"/>\n",
       "<polyline clip-path=\"url(#clip6303)\" style=\"stroke:#000000; stroke-width:2; stroke-opacity:0.1; fill:none\" points=\"\n",
       "  184.243,826.405 1841.26,826.405 \n",
       "  \"/>\n",
       "<polyline clip-path=\"url(#clip6303)\" style=\"stroke:#000000; stroke-width:2; stroke-opacity:0.1; fill:none\" points=\"\n",
       "  184.243,613.66 1841.26,613.66 \n",
       "  \"/>\n",
       "<polyline clip-path=\"url(#clip6303)\" style=\"stroke:#000000; stroke-width:2; stroke-opacity:0.1; fill:none\" points=\"\n",
       "  184.243,400.915 1841.26,400.915 \n",
       "  \"/>\n",
       "<polyline clip-path=\"url(#clip6303)\" style=\"stroke:#000000; stroke-width:2; stroke-opacity:0.1; fill:none\" points=\"\n",
       "  184.243,188.17 1841.26,188.17 \n",
       "  \"/>\n",
       "<polyline clip-path=\"url(#clip6301)\" style=\"stroke:#000000; stroke-width:4; stroke-opacity:1; fill:none\" points=\"\n",
       "  184.243,1120.48 1841.26,1120.48 \n",
       "  \"/>\n",
       "<polyline clip-path=\"url(#clip6301)\" style=\"stroke:#000000; stroke-width:4; stroke-opacity:1; fill:none\" points=\"\n",
       "  184.243,1120.48 184.243,125.984 \n",
       "  \"/>\n",
       "<polyline clip-path=\"url(#clip6301)\" style=\"stroke:#000000; stroke-width:4; stroke-opacity:1; fill:none\" points=\"\n",
       "  231.139,1120.48 231.139,1105.57 \n",
       "  \"/>\n",
       "<polyline clip-path=\"url(#clip6301)\" style=\"stroke:#000000; stroke-width:4; stroke-opacity:1; fill:none\" points=\"\n",
       "  621.945,1120.48 621.945,1105.57 \n",
       "  \"/>\n",
       "<polyline clip-path=\"url(#clip6301)\" style=\"stroke:#000000; stroke-width:4; stroke-opacity:1; fill:none\" points=\"\n",
       "  1012.75,1120.48 1012.75,1105.57 \n",
       "  \"/>\n",
       "<polyline clip-path=\"url(#clip6301)\" style=\"stroke:#000000; stroke-width:4; stroke-opacity:1; fill:none\" points=\"\n",
       "  1403.56,1120.48 1403.56,1105.57 \n",
       "  \"/>\n",
       "<polyline clip-path=\"url(#clip6301)\" style=\"stroke:#000000; stroke-width:4; stroke-opacity:1; fill:none\" points=\"\n",
       "  1794.36,1120.48 1794.36,1105.57 \n",
       "  \"/>\n",
       "<polyline clip-path=\"url(#clip6301)\" style=\"stroke:#000000; stroke-width:4; stroke-opacity:1; fill:none\" points=\"\n",
       "  184.243,1039.15 209.098,1039.15 \n",
       "  \"/>\n",
       "<polyline clip-path=\"url(#clip6301)\" style=\"stroke:#000000; stroke-width:4; stroke-opacity:1; fill:none\" points=\"\n",
       "  184.243,826.405 209.098,826.405 \n",
       "  \"/>\n",
       "<polyline clip-path=\"url(#clip6301)\" style=\"stroke:#000000; stroke-width:4; stroke-opacity:1; fill:none\" points=\"\n",
       "  184.243,613.66 209.098,613.66 \n",
       "  \"/>\n",
       "<polyline clip-path=\"url(#clip6301)\" style=\"stroke:#000000; stroke-width:4; stroke-opacity:1; fill:none\" points=\"\n",
       "  184.243,400.915 209.098,400.915 \n",
       "  \"/>\n",
       "<polyline clip-path=\"url(#clip6301)\" style=\"stroke:#000000; stroke-width:4; stroke-opacity:1; fill:none\" points=\"\n",
       "  184.243,188.17 209.098,188.17 \n",
       "  \"/>\n",
       "<g clip-path=\"url(#clip6301)\">\n",
       "<text style=\"fill:#000000; fill-opacity:1; font-family:Arial,Helvetica Neue,Helvetica,sans-serif; font-size:48px; text-anchor:middle;\" transform=\"rotate(0, 231.139, 1172.08)\" x=\"231.139\" y=\"1172.08\">-1</text>\n",
       "</g>\n",
       "<g clip-path=\"url(#clip6301)\">\n",
       "<text style=\"fill:#000000; fill-opacity:1; font-family:Arial,Helvetica Neue,Helvetica,sans-serif; font-size:48px; text-anchor:middle;\" transform=\"rotate(0, 621.945, 1172.08)\" x=\"621.945\" y=\"1172.08\">0</text>\n",
       "</g>\n",
       "<g clip-path=\"url(#clip6301)\">\n",
       "<text style=\"fill:#000000; fill-opacity:1; font-family:Arial,Helvetica Neue,Helvetica,sans-serif; font-size:48px; text-anchor:middle;\" transform=\"rotate(0, 1012.75, 1172.08)\" x=\"1012.75\" y=\"1172.08\">1</text>\n",
       "</g>\n",
       "<g clip-path=\"url(#clip6301)\">\n",
       "<text style=\"fill:#000000; fill-opacity:1; font-family:Arial,Helvetica Neue,Helvetica,sans-serif; font-size:48px; text-anchor:middle;\" transform=\"rotate(0, 1403.56, 1172.08)\" x=\"1403.56\" y=\"1172.08\">2</text>\n",
       "</g>\n",
       "<g clip-path=\"url(#clip6301)\">\n",
       "<text style=\"fill:#000000; fill-opacity:1; font-family:Arial,Helvetica Neue,Helvetica,sans-serif; font-size:48px; text-anchor:middle;\" transform=\"rotate(0, 1794.36, 1172.08)\" x=\"1794.36\" y=\"1172.08\">3</text>\n",
       "</g>\n",
       "<g clip-path=\"url(#clip6301)\">\n",
       "<text style=\"fill:#000000; fill-opacity:1; font-family:Arial,Helvetica Neue,Helvetica,sans-serif; font-size:48px; text-anchor:end;\" transform=\"rotate(0, 165.043, 1056.65)\" x=\"165.043\" y=\"1056.65\">0</text>\n",
       "</g>\n",
       "<g clip-path=\"url(#clip6301)\">\n",
       "<text style=\"fill:#000000; fill-opacity:1; font-family:Arial,Helvetica Neue,Helvetica,sans-serif; font-size:48px; text-anchor:end;\" transform=\"rotate(0, 165.043, 843.905)\" x=\"165.043\" y=\"843.905\">2</text>\n",
       "</g>\n",
       "<g clip-path=\"url(#clip6301)\">\n",
       "<text style=\"fill:#000000; fill-opacity:1; font-family:Arial,Helvetica Neue,Helvetica,sans-serif; font-size:48px; text-anchor:end;\" transform=\"rotate(0, 165.043, 631.16)\" x=\"165.043\" y=\"631.16\">4</text>\n",
       "</g>\n",
       "<g clip-path=\"url(#clip6301)\">\n",
       "<text style=\"fill:#000000; fill-opacity:1; font-family:Arial,Helvetica Neue,Helvetica,sans-serif; font-size:48px; text-anchor:end;\" transform=\"rotate(0, 165.043, 418.415)\" x=\"165.043\" y=\"418.415\">6</text>\n",
       "</g>\n",
       "<g clip-path=\"url(#clip6301)\">\n",
       "<text style=\"fill:#000000; fill-opacity:1; font-family:Arial,Helvetica Neue,Helvetica,sans-serif; font-size:48px; text-anchor:end;\" transform=\"rotate(0, 165.043, 205.67)\" x=\"165.043\" y=\"205.67\">8</text>\n",
       "</g>\n",
       "<g clip-path=\"url(#clip6301)\">\n",
       "<text style=\"fill:#000000; fill-opacity:1; font-family:Arial,Helvetica Neue,Helvetica,sans-serif; font-size:84px; text-anchor:middle;\" transform=\"rotate(0, 1012.75, 73.2)\" x=\"1012.75\" y=\"73.2\">the fn1(x,0.5) function</text>\n",
       "</g>\n",
       "<g clip-path=\"url(#clip6301)\">\n",
       "<text style=\"fill:#000000; fill-opacity:1; font-family:Arial,Helvetica Neue,Helvetica,sans-serif; font-size:66px; text-anchor:middle;\" transform=\"rotate(0, 1012.75, 1270.4)\" x=\"1012.75\" y=\"1270.4\">x</text>\n",
       "</g>\n",
       "<g clip-path=\"url(#clip6301)\">\n",
       "<text style=\"fill:#000000; fill-opacity:1; font-family:Arial,Helvetica Neue,Helvetica,sans-serif; font-size:66px; text-anchor:middle;\" transform=\"rotate(-90, 57.6, 623.233)\" x=\"57.6\" y=\"623.233\">y</text>\n",
       "</g>\n",
       "<polyline clip-path=\"url(#clip6303)\" style=\"stroke:#ff0000; stroke-width:8; stroke-opacity:1; fill:none\" points=\"\n",
       "  231.139,154.13 270.22,241.356 309.301,324.327 348.381,403.042 387.462,477.503 426.542,547.709 465.623,613.66 504.704,675.356 543.784,732.797 582.865,785.983 \n",
       "  621.945,834.915 661.026,879.591 700.106,920.013 739.187,956.18 778.268,988.091 817.348,1015.75 856.429,1039.15 895.509,1058.3 934.59,1073.19 973.671,1083.83 \n",
       "  1012.75,1090.21 1051.83,1092.34 1090.91,1090.21 1129.99,1083.83 1169.07,1073.19 1208.15,1058.3 1247.23,1039.15 1286.32,1015.75 1325.4,988.091 1364.48,956.18 \n",
       "  1403.56,920.013 1442.64,879.591 1481.72,834.915 1520.8,785.983 1559.88,732.797 1598.96,675.356 1638.04,613.66 1677.12,547.709 1716.2,477.503 1755.28,403.042 \n",
       "  1794.36,324.327 \n",
       "  \"/>\n",
       "</svg>\n"
      ]
     },
     "execution_count": 5,
     "metadata": {},
     "output_type": "execute_result"
    }
   ],
   "source": [
    "x = -1:0.1:3\n",
    "\n",
    "p1 = plot(x,fn1.(x,0.5),color=:red,linewidth=2,legend=nothing)\n",
    "title!(\"the fn1(x,0.5) function\")\n",
    "xlabel!(\"x\")\n",
    "ylabel!(\"y\")"
   ]
  },
  {
   "cell_type": "markdown",
   "metadata": {},
   "source": [
    "The minimum appears to be around 1.1 and the two roots around 0.6 and 1.6."
   ]
  },
  {
   "cell_type": "markdown",
   "metadata": {},
   "source": [
    "# Solving a Non-Linear Equation\n",
    "\n",
    "The Roots package wants a function with only one input. An easy way to turn ```fn1(a,0.5)``` into that form is by defining an anonymous function:\n",
    "```\n",
    "x->fn1(x,0.5)\n",
    "```\n",
    "\n",
    "Running \n",
    "```\n",
    "find_zero(x->fn1(x,0.5),(x₀,x₁))\n",
    "```\n",
    "searches for a root in the [x₀,x₁] interval. Alternatively, you can also do \n",
    "```\n",
    "find_zero(x->fn1(x,0.5),x₂)\n",
    "``` \n",
    "where `x₂` is a single starting guess.\n",
    "\n",
    "Instead, running\n",
    "```\n",
    "find_zeros(x->fn1(x,0.5),x₀,x₁)\n",
    "```\n",
    "searches for all roots between x₀ and x₁. (Notice the *s* in `find_zeros`.)\n",
    "\n",
    "If you want to solve a *system* of non-linear equations, try the NLsolve.jl package."
   ]
  },
  {
   "cell_type": "code",
   "execution_count": 6,
   "metadata": {},
   "outputs": [
    {
     "name": "stdout",
     "output_type": "stream",
     "text": [
      "at which x is fn1(x,0.5) = 0?      0.600\n",
      "at which x is fn1(x,0.5) = 0?      1.600\n",
      "\n",
      "yes, there are several roots. Just look at it (in the plot)\n"
     ]
    }
   ],
   "source": [
    "x1 = find_zero(x->fn1(x,0.5),(-1,1))            #searches for roots in [-1,1]\n",
    "printlnPs(\"at which x is fn1(x,0.5) = 0? \",x1)\n",
    "\n",
    "x2 = find_zero(x->fn1(x,0.5),2)              #searches for roots around 2\n",
    "printlnPs(\"at which x is fn1(x,0.5) = 0? \",x2)\n",
    "\n",
    "println(\"\\nyes, there are several roots. Just look at it (in the plot)\")"
   ]
  },
  {
   "cell_type": "code",
   "execution_count": 7,
   "metadata": {},
   "outputs": [
    {
     "name": "stdout",
     "output_type": "stream",
     "text": [
      "at which x is fn1(x,0.5) = 0?      0.600     1.600\n"
     ]
    }
   ],
   "source": [
    "x1 = find_zeros(x->fn1(x,0.5),-1,3)            #find_zeros (notice the \"s\")\n",
    "                                                    \n",
    "printlnPs(\"at which x is fn1(x,0.5) = 0? \",x1)       "
   ]
  },
  {
   "cell_type": "markdown",
   "metadata": {},
   "source": [
    "# Optimization with One Choice Variable\n",
    "\n",
    "Running \n",
    "```\n",
    "Sol = optimize(x->fn1(x,0.5),x₀,x₁)\n",
    "```\n",
    "finds the `x` value (in the interval `[x₀,x₁]`) that *minimizes* `fn1(x,0.5)`.\n",
    "\n",
    "The output (`Sol`) contains a lot of information. Print it to see, and extract the optimal `x` value as in the cell below."
   ]
  },
  {
   "cell_type": "code",
   "execution_count": 8,
   "metadata": {},
   "outputs": [
    {
     "name": "stdout",
     "output_type": "stream",
     "text": [
      "The minimum is at:      1.100\n",
      "Compare with the plot above\n",
      "\n",
      "Results of Optimization Algorithm\n",
      " * Algorithm: Brent's Method\n",
      " * Search Interval: [-2.000000, 3.000000]\n",
      " * Minimizer: 1.100000e+00\n",
      " * Minimum: -5.000000e-01\n",
      " * Iterations: 5\n",
      " * Convergence: max(|x - x_upper|, |x - x_lower|) <= 2*(1.5e-08*|x|+2.2e-16): true\n",
      " * Objective Function Calls: 6\n"
     ]
    }
   ],
   "source": [
    "Sol = optimize(x->fn1(x,0.5),-2.0,3.0)            \n",
    "\n",
    "printlnPs(\"The minimum is at: \", Optim.minimizer(Sol))\n",
    "println(\"Compare with the plot above\\n\")   \n",
    "\n",
    "println(Sol)"
   ]
  },
  {
   "cell_type": "markdown",
   "metadata": {},
   "source": [
    "## (extra) One Choice Variable: Supplying a Starting Guess Instead\n",
    "\n",
    "If you prefer to give a starting guess `x₀` instead of an interval, then supply it as as vector `[x₀]`:\n",
    "```\n",
    "Sol = optimize(x->fn1(first(x),0.5),[x₀],LBFGS())  \n",
    "```\n",
    "Notice: *(a)* `first(x)` to make it a function of the first element in the vector; *(b)* choose the `LBFGS()` method since the default method does not work in the case of only one choice variable."
   ]
  },
  {
   "cell_type": "code",
   "execution_count": 9,
   "metadata": {},
   "outputs": [
    {
     "name": "stdout",
     "output_type": "stream",
     "text": [
      "The minimum is at:      1.100\n"
     ]
    }
   ],
   "source": [
    "Solb = optimize(x->fn1(first(x),0.5),[0.1],LBFGS())          \n",
    "\n",
    "printlnPs(\"The minimum is at: \", Optim.minimizer(Solb))"
   ]
  },
  {
   "cell_type": "markdown",
   "metadata": {
    "collapsed": true
   },
   "source": [
    "# Optimization with Several Choice Variables\n",
    "\n",
    "The function `fn2(x,0.05)` (defined below) takes a vector `x` as input. Therefore, running \n",
    "```\n",
    "Sol = optimize(x->fn2(x,0.5),x₀)\n",
    "```\n",
    "finds the `x` vector that *minimizes* `fn2(x,0.5)`. Notice that `x₀` should be a vector of *floating point* numbers  with the correct number of elements (for instance, `[1.0,-0.5]`)."
   ]
  },
  {
   "cell_type": "code",
   "execution_count": 10,
   "metadata": {},
   "outputs": [
    {
     "data": {
      "text/plain": [
       "fn2 (generic function with 1 method)"
      ]
     },
     "execution_count": 10,
     "metadata": {},
     "output_type": "execute_result"
    }
   ],
   "source": [
    "function fn2(x,c)                    #notice: x is a vector\n",
    "   L = (x[1]-2)^2 + (4*x[2]+3)^2 - c\n",
    "  return L\n",
    "end  "
   ]
  },
  {
   "cell_type": "code",
   "execution_count": 11,
   "metadata": {},
   "outputs": [],
   "source": [
    "x1 = 0:0.1:4                      #a grid of values\n",
    "x2 = -2:0.05:0\n",
    "(m,n) = (length(x1),length(x2)) \n",
    "\n",
    "L = fill(NaN,m,n)                 #the fn2(x,0.5) value at a grid (to the plot)\n",
    "for i = 1:m, j = 1:n\n",
    "    L[i,j] = fn2([x1[i],x2[j]],0.5)\n",
    "end"
   ]
  },
  {
   "cell_type": "code",
   "execution_count": 12,
   "metadata": {},
   "outputs": [
    {
     "data": {
      "image/svg+xml": [
       "<?xml version=\"1.0\" encoding=\"utf-8\"?>\n",
       "<svg xmlns=\"http://www.w3.org/2000/svg\" xmlns:xlink=\"http://www.w3.org/1999/xlink\" width=\"480\" height=\"320\" viewBox=\"0 0 1920 1280\">\n",
       "<defs>\n",
       "  <clipPath id=\"clip6500\">\n",
       "    <rect x=\"0\" y=\"0\" width=\"2000\" height=\"2000\"/>\n",
       "  </clipPath>\n",
       "</defs>\n",
       "<defs>\n",
       "  <clipPath id=\"clip6501\">\n",
       "    <rect x=\"0\" y=\"0\" width=\"1920\" height=\"1280\"/>\n",
       "  </clipPath>\n",
       "</defs>\n",
       "<polygon clip-path=\"url(#clip6501)\" points=\"\n",
       "0,1280 1920,1280 1920,0 0,0 \n",
       "  \" fill=\"#ffffff\" fill-rule=\"evenodd\" fill-opacity=\"1\"/>\n",
       "<defs>\n",
       "  <clipPath id=\"clip6502\">\n",
       "    <rect x=\"384\" y=\"0\" width=\"1345\" height=\"1280\"/>\n",
       "  </clipPath>\n",
       "</defs>\n",
       "<polygon clip-path=\"url(#clip6501)\" points=\"\n",
       "252.496,1120.48 1841.26,1120.48 1841.26,125.984 252.496,125.984 \n",
       "  \" fill=\"#ffffff\" fill-rule=\"evenodd\" fill-opacity=\"1\"/>\n",
       "<defs>\n",
       "  <clipPath id=\"clip6503\">\n",
       "    <rect x=\"252\" y=\"125\" width=\"1590\" height=\"995\"/>\n",
       "  </clipPath>\n",
       "</defs>\n",
       "<polyline clip-path=\"url(#clip6503)\" style=\"stroke:#000000; stroke-width:2; stroke-opacity:0.1; fill:none\" points=\"\n",
       "  252.496,1120.48 252.496,125.984 \n",
       "  \"/>\n",
       "<polyline clip-path=\"url(#clip6503)\" style=\"stroke:#000000; stroke-width:2; stroke-opacity:0.1; fill:none\" points=\"\n",
       "  649.687,1120.48 649.687,125.984 \n",
       "  \"/>\n",
       "<polyline clip-path=\"url(#clip6503)\" style=\"stroke:#000000; stroke-width:2; stroke-opacity:0.1; fill:none\" points=\"\n",
       "  1046.88,1120.48 1046.88,125.984 \n",
       "  \"/>\n",
       "<polyline clip-path=\"url(#clip6503)\" style=\"stroke:#000000; stroke-width:2; stroke-opacity:0.1; fill:none\" points=\"\n",
       "  1444.07,1120.48 1444.07,125.984 \n",
       "  \"/>\n",
       "<polyline clip-path=\"url(#clip6503)\" style=\"stroke:#000000; stroke-width:2; stroke-opacity:0.1; fill:none\" points=\"\n",
       "  1841.26,1120.48 1841.26,125.984 \n",
       "  \"/>\n",
       "<polyline clip-path=\"url(#clip6503)\" style=\"stroke:#000000; stroke-width:2; stroke-opacity:0.1; fill:none\" points=\"\n",
       "  252.496,1120.48 1841.26,1120.48 \n",
       "  \"/>\n",
       "<polyline clip-path=\"url(#clip6503)\" style=\"stroke:#000000; stroke-width:2; stroke-opacity:0.1; fill:none\" points=\"\n",
       "  252.496,871.858 1841.26,871.858 \n",
       "  \"/>\n",
       "<polyline clip-path=\"url(#clip6503)\" style=\"stroke:#000000; stroke-width:2; stroke-opacity:0.1; fill:none\" points=\"\n",
       "  252.496,623.233 1841.26,623.233 \n",
       "  \"/>\n",
       "<polyline clip-path=\"url(#clip6503)\" style=\"stroke:#000000; stroke-width:2; stroke-opacity:0.1; fill:none\" points=\"\n",
       "  252.496,374.609 1841.26,374.609 \n",
       "  \"/>\n",
       "<polyline clip-path=\"url(#clip6503)\" style=\"stroke:#000000; stroke-width:2; stroke-opacity:0.1; fill:none\" points=\"\n",
       "  252.496,125.984 1841.26,125.984 \n",
       "  \"/>\n",
       "<polyline clip-path=\"url(#clip6501)\" style=\"stroke:#000000; stroke-width:4; stroke-opacity:1; fill:none\" points=\"\n",
       "  252.496,1120.48 1841.26,1120.48 \n",
       "  \"/>\n",
       "<polyline clip-path=\"url(#clip6501)\" style=\"stroke:#000000; stroke-width:4; stroke-opacity:1; fill:none\" points=\"\n",
       "  252.496,1120.48 252.496,125.984 \n",
       "  \"/>\n",
       "<polyline clip-path=\"url(#clip6501)\" style=\"stroke:#000000; stroke-width:4; stroke-opacity:1; fill:none\" points=\"\n",
       "  252.496,1120.48 252.496,1105.57 \n",
       "  \"/>\n",
       "<polyline clip-path=\"url(#clip6501)\" style=\"stroke:#000000; stroke-width:4; stroke-opacity:1; fill:none\" points=\"\n",
       "  649.687,1120.48 649.687,1105.57 \n",
       "  \"/>\n",
       "<polyline clip-path=\"url(#clip6501)\" style=\"stroke:#000000; stroke-width:4; stroke-opacity:1; fill:none\" points=\"\n",
       "  1046.88,1120.48 1046.88,1105.57 \n",
       "  \"/>\n",
       "<polyline clip-path=\"url(#clip6501)\" style=\"stroke:#000000; stroke-width:4; stroke-opacity:1; fill:none\" points=\"\n",
       "  1444.07,1120.48 1444.07,1105.57 \n",
       "  \"/>\n",
       "<polyline clip-path=\"url(#clip6501)\" style=\"stroke:#000000; stroke-width:4; stroke-opacity:1; fill:none\" points=\"\n",
       "  1841.26,1120.48 1841.26,1105.57 \n",
       "  \"/>\n",
       "<polyline clip-path=\"url(#clip6501)\" style=\"stroke:#000000; stroke-width:4; stroke-opacity:1; fill:none\" points=\"\n",
       "  252.496,1120.48 276.328,1120.48 \n",
       "  \"/>\n",
       "<polyline clip-path=\"url(#clip6501)\" style=\"stroke:#000000; stroke-width:4; stroke-opacity:1; fill:none\" points=\"\n",
       "  252.496,871.858 276.328,871.858 \n",
       "  \"/>\n",
       "<polyline clip-path=\"url(#clip6501)\" style=\"stroke:#000000; stroke-width:4; stroke-opacity:1; fill:none\" points=\"\n",
       "  252.496,623.233 276.328,623.233 \n",
       "  \"/>\n",
       "<polyline clip-path=\"url(#clip6501)\" style=\"stroke:#000000; stroke-width:4; stroke-opacity:1; fill:none\" points=\"\n",
       "  252.496,374.609 276.328,374.609 \n",
       "  \"/>\n",
       "<polyline clip-path=\"url(#clip6501)\" style=\"stroke:#000000; stroke-width:4; stroke-opacity:1; fill:none\" points=\"\n",
       "  252.496,125.984 276.328,125.984 \n",
       "  \"/>\n",
       "<g clip-path=\"url(#clip6501)\">\n",
       "<text style=\"fill:#000000; fill-opacity:1; font-family:Arial,Helvetica Neue,Helvetica,sans-serif; font-size:48px; text-anchor:middle;\" transform=\"rotate(0, 252.496, 1172.08)\" x=\"252.496\" y=\"1172.08\">0</text>\n",
       "</g>\n",
       "<g clip-path=\"url(#clip6501)\">\n",
       "<text style=\"fill:#000000; fill-opacity:1; font-family:Arial,Helvetica Neue,Helvetica,sans-serif; font-size:48px; text-anchor:middle;\" transform=\"rotate(0, 649.687, 1172.08)\" x=\"649.687\" y=\"1172.08\">1</text>\n",
       "</g>\n",
       "<g clip-path=\"url(#clip6501)\">\n",
       "<text style=\"fill:#000000; fill-opacity:1; font-family:Arial,Helvetica Neue,Helvetica,sans-serif; font-size:48px; text-anchor:middle;\" transform=\"rotate(0, 1046.88, 1172.08)\" x=\"1046.88\" y=\"1172.08\">2</text>\n",
       "</g>\n",
       "<g clip-path=\"url(#clip6501)\">\n",
       "<text style=\"fill:#000000; fill-opacity:1; font-family:Arial,Helvetica Neue,Helvetica,sans-serif; font-size:48px; text-anchor:middle;\" transform=\"rotate(0, 1444.07, 1172.08)\" x=\"1444.07\" y=\"1172.08\">3</text>\n",
       "</g>\n",
       "<g clip-path=\"url(#clip6501)\">\n",
       "<text style=\"fill:#000000; fill-opacity:1; font-family:Arial,Helvetica Neue,Helvetica,sans-serif; font-size:48px; text-anchor:middle;\" transform=\"rotate(0, 1841.26, 1172.08)\" x=\"1841.26\" y=\"1172.08\">4</text>\n",
       "</g>\n",
       "<g clip-path=\"url(#clip6501)\">\n",
       "<text style=\"fill:#000000; fill-opacity:1; font-family:Arial,Helvetica Neue,Helvetica,sans-serif; font-size:48px; text-anchor:end;\" transform=\"rotate(0, 233.296, 1137.98)\" x=\"233.296\" y=\"1137.98\">-2.0</text>\n",
       "</g>\n",
       "<g clip-path=\"url(#clip6501)\">\n",
       "<text style=\"fill:#000000; fill-opacity:1; font-family:Arial,Helvetica Neue,Helvetica,sans-serif; font-size:48px; text-anchor:end;\" transform=\"rotate(0, 233.296, 889.358)\" x=\"233.296\" y=\"889.358\">-1.5</text>\n",
       "</g>\n",
       "<g clip-path=\"url(#clip6501)\">\n",
       "<text style=\"fill:#000000; fill-opacity:1; font-family:Arial,Helvetica Neue,Helvetica,sans-serif; font-size:48px; text-anchor:end;\" transform=\"rotate(0, 233.296, 640.733)\" x=\"233.296\" y=\"640.733\">-1.0</text>\n",
       "</g>\n",
       "<g clip-path=\"url(#clip6501)\">\n",
       "<text style=\"fill:#000000; fill-opacity:1; font-family:Arial,Helvetica Neue,Helvetica,sans-serif; font-size:48px; text-anchor:end;\" transform=\"rotate(0, 233.296, 392.109)\" x=\"233.296\" y=\"392.109\">-0.5</text>\n",
       "</g>\n",
       "<g clip-path=\"url(#clip6501)\">\n",
       "<text style=\"fill:#000000; fill-opacity:1; font-family:Arial,Helvetica Neue,Helvetica,sans-serif; font-size:48px; text-anchor:end;\" transform=\"rotate(0, 233.296, 143.484)\" x=\"233.296\" y=\"143.484\">0.0</text>\n",
       "</g>\n",
       "<g clip-path=\"url(#clip6501)\">\n",
       "<text style=\"fill:#000000; fill-opacity:1; font-family:Arial,Helvetica Neue,Helvetica,sans-serif; font-size:84px; text-anchor:middle;\" transform=\"rotate(0, 1046.88, 73.2)\" x=\"1046.88\" y=\"73.2\">Contour plot of loss function</text>\n",
       "</g>\n",
       "<g clip-path=\"url(#clip6501)\">\n",
       "<text style=\"fill:#000000; fill-opacity:1; font-family:Arial,Helvetica Neue,Helvetica,sans-serif; font-size:66px; text-anchor:middle;\" transform=\"rotate(0, 1046.88, 1270.4)\" x=\"1046.88\" y=\"1270.4\">x1</text>\n",
       "</g>\n",
       "<g clip-path=\"url(#clip6501)\">\n",
       "<text style=\"fill:#000000; fill-opacity:1; font-family:Arial,Helvetica Neue,Helvetica,sans-serif; font-size:66px; text-anchor:middle;\" transform=\"rotate(-90, 57.6, 623.233)\" x=\"57.6\" y=\"623.233\">x2</text>\n",
       "</g>\n",
       "<polyline clip-path=\"url(#clip6503)\" style=\"stroke:#f3e258; stroke-width:4; stroke-opacity:1; fill:none\" points=\"\n",
       "  252.496,1094.15 263.845,1095.62 292.215,1099.15 331.934,1103.85 371.654,1108.29 411.373,1112.47 451.092,1116.41 490.811,1120.08 495.434,1120.48 \n",
       "  \"/>\n",
       "<polyline clip-path=\"url(#clip6503)\" style=\"stroke:#e65e2d; stroke-width:4; stroke-opacity:1; fill:none\" points=\"\n",
       "  252.496,974.541 292.215,980.756 331.934,986.653 371.654,992.231 401.4,996.17 411.373,997.426 451.092,1002.13 490.811,1006.52 530.53,1010.62 570.249,1014.41 \n",
       "  609.968,1017.89 649.147,1021.03 649.687,1021.07 689.406,1023.82 729.125,1026.28 768.844,1028.45 808.564,1030.33 848.283,1031.92 888.002,1033.22 927.721,1034.23 \n",
       "  967.44,1034.95 1007.16,1035.38 1046.88,1035.53 1086.6,1035.38 1126.32,1034.95 1166.04,1034.23 1205.75,1033.22 1245.47,1031.92 1285.19,1030.33 1324.91,1028.45 \n",
       "  1364.63,1026.28 1404.35,1023.82 1444.07,1021.07 1444.61,1021.03 1483.79,1017.89 1523.51,1014.41 1563.23,1010.62 1602.95,1006.52 1642.66,1002.13 1682.38,997.426 \n",
       "  1692.36,996.17 1722.1,992.231 1761.82,986.653 1801.54,980.756 1841.26,974.541 \n",
       "  \"/>\n",
       "<polyline clip-path=\"url(#clip6503)\" style=\"stroke:#f57d15; stroke-width:4; stroke-opacity:1; fill:none\" points=\"\n",
       "  1841.26,1007 1801.54,1012.91 1761.82,1018.52 1743.02,1021.03 1722.1,1023.7 1682.38,1028.47 1642.66,1032.95 1602.95,1037.14 1563.23,1041.04 1523.51,1044.66 \n",
       "  1508.7,1045.9 1483.79,1047.89 1444.07,1050.79 1404.35,1053.41 1364.63,1055.76 1324.91,1057.83 1285.19,1059.63 1245.47,1061.15 1205.75,1062.39 1166.04,1063.36 \n",
       "  1126.32,1064.05 1086.6,1064.46 1046.88,1064.6 1007.16,1064.46 967.44,1064.05 927.721,1063.36 888.002,1062.39 848.283,1061.15 808.564,1059.63 768.844,1057.83 \n",
       "  729.125,1055.76 689.406,1053.41 649.687,1050.79 609.968,1047.89 585.051,1045.9 570.249,1044.66 530.53,1041.04 490.811,1037.14 451.092,1032.95 411.373,1028.47 \n",
       "  371.654,1023.7 350.74,1021.03 331.934,1018.52 292.215,1012.91 252.496,1007 \n",
       "  \"/>\n",
       "<polyline clip-path=\"url(#clip6503)\" style=\"stroke:#fb9c07; stroke-width:4; stroke-opacity:1; fill:none\" points=\"\n",
       "  252.496,1037.59 292.215,1043.23 311.998,1045.9 331.934,1048.46 371.654,1053.29 411.373,1057.85 451.092,1062.13 490.811,1066.14 530.53,1069.87 540.743,1070.76 \n",
       "  570.249,1073.21 609.968,1076.26 649.687,1079.03 689.406,1081.55 729.125,1083.79 768.844,1085.78 808.564,1087.5 848.283,1088.95 888.002,1090.14 927.721,1091.07 \n",
       "  967.44,1091.73 1007.16,1092.13 1046.88,1092.26 1086.6,1092.13 1126.32,1091.73 1166.04,1091.07 1205.75,1090.14 1245.47,1088.95 1285.19,1087.5 1324.91,1085.78 \n",
       "  1364.63,1083.79 1404.35,1081.55 1444.07,1079.03 1483.79,1076.26 1523.51,1073.21 1553.01,1070.76 1563.23,1069.87 1602.95,1066.14 1642.66,1062.13 1682.38,1057.85 \n",
       "  1722.1,1053.29 1761.82,1048.46 1781.76,1045.9 1801.54,1043.23 1841.26,1037.59 \n",
       "  \"/>\n",
       "<polyline clip-path=\"url(#clip6503)\" style=\"stroke:#fabf26; stroke-width:4; stroke-opacity:1; fill:none\" points=\"\n",
       "  1841.26,1066.57 1810.42,1070.76 1801.54,1071.91 1761.82,1076.8 1722.1,1081.43 1682.38,1085.8 1642.66,1089.9 1602.95,1093.73 1581.93,1095.62 1563.23,1097.23 \n",
       "  1523.51,1100.4 1483.79,1103.32 1444.07,1105.99 1404.35,1108.4 1364.63,1110.55 1324.91,1112.45 1285.19,1114.1 1245.47,1115.5 1205.75,1116.64 1166.04,1117.53 \n",
       "  1126.32,1118.16 1086.6,1118.54 1046.88,1118.67 1007.16,1118.54 967.44,1118.16 927.721,1117.53 888.002,1116.64 848.283,1115.5 808.564,1114.1 768.844,1112.45 \n",
       "  729.125,1110.55 689.406,1108.4 649.687,1105.99 609.968,1103.32 570.249,1100.4 530.53,1097.23 511.826,1095.62 490.811,1093.73 451.092,1089.9 411.373,1085.8 \n",
       "  371.654,1081.43 331.934,1076.8 292.215,1071.91 283.34,1070.76 252.496,1066.57 \n",
       "  \"/>\n",
       "<polyline clip-path=\"url(#clip6503)\" style=\"stroke:#d24742; stroke-width:4; stroke-opacity:1; fill:none\" points=\"\n",
       "  252.496,939.545 292.07,946.445 292.215,946.469 331.934,952.685 371.654,958.565 411.373,964.108 451.092,969.316 467.332,971.308 490.811,974.04 530.53,978.343 \n",
       "  570.249,982.327 609.968,985.993 649.687,989.34 689.406,992.368 729.125,995.077 747.283,996.17 768.844,997.405 808.564,999.376 848.283,1001.04 888.002,1002.41 \n",
       "  927.721,1003.47 967.44,1004.23 1007.16,1004.68 1046.88,1004.83 1086.6,1004.68 1126.32,1004.23 1166.04,1003.47 1205.75,1002.41 1245.47,1001.04 1285.19,999.376 \n",
       "  1324.91,997.405 1346.47,996.17 1364.63,995.077 1404.35,992.368 1444.07,989.34 1483.79,985.993 1523.51,982.327 1563.23,978.343 1602.95,974.04 1626.42,971.308 \n",
       "  1642.66,969.316 1682.38,964.108 1722.1,958.565 1761.82,952.685 1801.54,946.469 1801.69,946.445 1841.26,939.545 \n",
       "  \"/>\n",
       "<polyline clip-path=\"url(#clip6503)\" style=\"stroke:#ba3655; stroke-width:4; stroke-opacity:1; fill:none\" points=\"\n",
       "  1841.26,901.618 1801.54,908.963 1761.82,915.932 1727.78,921.583 1722.1,922.471 1682.38,928.331 1642.66,933.837 1602.95,938.987 1563.23,943.782 1539.39,946.445 \n",
       "  1523.51,948.125 1483.79,951.989 1444.07,955.517 1404.35,958.709 1364.63,961.564 1324.91,964.084 1285.19,966.268 1245.47,968.116 1205.75,969.628 1166.04,970.804 \n",
       "  1142.2,971.308 1126.32,971.627 1086.6,972.105 1046.88,972.264 1007.16,972.105 967.44,971.627 951.552,971.308 927.721,970.804 888.002,969.628 848.283,968.116 \n",
       "  808.564,966.268 768.844,964.084 729.125,961.564 689.406,958.709 649.687,955.517 609.968,951.989 570.249,948.125 554.361,946.445 530.53,943.782 490.811,938.987 \n",
       "  451.092,933.837 411.373,928.331 371.654,922.471 365.979,921.583 331.934,915.932 292.215,908.963 252.496,901.618 \n",
       "  \"/>\n",
       "<polyline clip-path=\"url(#clip6503)\" style=\"stroke:#9e2a62; stroke-width:4; stroke-opacity:1; fill:none\" points=\"\n",
       "  252.496,859.61 292.215,867.969 311.691,871.858 331.934,875.639 371.654,882.657 411.373,889.273 451.092,895.489 459.505,896.72 490.811,901.026 530.53,906.111 \n",
       "  570.249,910.82 609.968,915.152 649.687,919.107 677.162,921.583 689.406,922.623 729.125,925.642 768.844,928.306 808.564,930.615 848.283,932.568 888.002,934.166 \n",
       "  927.721,935.41 967.44,936.297 1007.16,936.83 1046.88,937.008 1086.6,936.83 1126.32,936.297 1166.04,935.41 1205.75,934.166 1245.47,932.568 1285.19,930.615 \n",
       "  1324.91,928.306 1364.63,925.642 1404.35,922.623 1416.59,921.583 1444.07,919.107 1483.79,915.152 1523.51,910.82 1563.23,906.111 1602.95,901.026 1634.25,896.72 \n",
       "  1642.66,895.489 1682.38,889.273 1722.1,882.657 1761.82,875.639 1782.06,871.858 1801.54,867.969 1841.26,859.61 \n",
       "  \"/>\n",
       "<polyline clip-path=\"url(#clip6503)\" style=\"stroke:#821f6b; stroke-width:4; stroke-opacity:1; fill:none\" points=\"\n",
       "  1841.26,812.117 1801.54,821.813 1800.16,822.133 1761.82,830.355 1722.1,838.412 1682.38,846.009 1676.89,846.996 1642.66,852.721 1602.95,858.937 1563.23,864.724 \n",
       "  1523.51,870.082 1509.2,871.858 1483.79,874.808 1444.07,879.019 1404.35,882.828 1364.63,886.237 1324.91,889.245 1285.19,891.851 1245.47,894.057 1205.75,895.861 \n",
       "  1181.44,896.72 1166.04,897.232 1126.32,898.173 1086.6,898.739 1046.88,898.927 1007.16,898.739 967.44,898.173 927.721,897.232 912.319,896.72 888.002,895.861 \n",
       "  848.283,894.057 808.564,891.851 768.844,889.245 729.125,886.237 689.406,882.828 649.687,879.019 609.968,874.808 584.558,871.858 570.249,870.082 530.53,864.724 \n",
       "  490.811,858.937 451.092,852.721 416.864,846.996 411.373,846.009 371.654,838.412 331.934,830.355 293.596,822.133 292.215,821.813 252.496,812.117 \n",
       "  \"/>\n",
       "<polyline clip-path=\"url(#clip6503)\" style=\"stroke:#63146e; stroke-width:4; stroke-opacity:1; fill:none\" points=\"\n",
       "  252.496,756.002 292.215,767.546 309.851,772.408 331.934,777.967 371.654,787.426 411.373,796.344 415.766,797.271 451.092,804.126 490.811,811.336 530.53,818.049 \n",
       "  556.631,822.133 570.249,824.106 609.968,829.401 649.687,834.235 689.406,838.609 729.125,842.523 768.844,845.976 782.375,846.996 808.564,848.833 848.283,851.19 \n",
       "  888.002,853.119 927.721,854.62 967.44,855.691 1007.16,856.334 1046.88,856.549 1086.6,856.334 1126.32,855.691 1166.04,854.62 1205.75,853.119 1245.47,851.19 \n",
       "  1285.19,848.833 1311.38,846.996 1324.91,845.976 1364.63,842.523 1404.35,838.609 1444.07,834.235 1483.79,829.401 1523.51,824.106 1537.13,822.133 1563.23,818.049 \n",
       "  1602.95,811.336 1642.66,804.126 1677.99,797.271 1682.38,796.344 1722.1,787.426 1761.82,777.967 1783.9,772.408 1801.54,767.546 1841.26,756.002 \n",
       "  \"/>\n",
       "<polyline clip-path=\"url(#clip6503)\" style=\"stroke:#470b69; stroke-width:4; stroke-opacity:1; fill:none\" points=\"\n",
       "  1841.26,683.495 1806.05,697.821 1801.54,699.44 1761.82,712.968 1731.67,722.683 1722.1,725.441 1682.38,736.236 1642.66,746.377 1637.77,747.546 1602.95,755.072 \n",
       "  1563.23,763.064 1523.51,770.463 1512.16,772.408 1483.79,776.848 1444.07,782.523 1404.35,787.658 1364.63,792.252 1324.91,796.305 1314,797.271 1285.19,799.615 \n",
       "  1245.47,802.35 1205.75,804.587 1166.04,806.328 1126.32,807.571 1086.6,808.317 1046.88,808.565 1007.16,808.317 967.44,807.571 927.721,806.328 888.002,804.587 \n",
       "  848.283,802.35 808.564,799.615 779.756,797.271 768.844,796.305 729.125,792.252 689.406,787.658 649.687,782.523 609.968,776.848 581.597,772.408 570.249,770.463 \n",
       "  530.53,763.064 490.811,755.072 455.983,747.546 451.092,746.377 411.373,736.236 371.654,725.441 362.089,722.683 331.934,712.968 292.215,699.44 287.705,697.821 \n",
       "  252.496,683.495 \n",
       "  \"/>\n",
       "<polyline clip-path=\"url(#clip6503)\" style=\"stroke:#270b52; stroke-width:4; stroke-opacity:1; fill:none\" points=\"\n",
       "  252.496,545.094 254.242,548.646 274.611,573.509 292.215,588.857 303.717,598.371 331.934,616.525 342.959,623.233 371.654,637.521 394.178,648.096 411.373,654.926 \n",
       "  451.092,669.748 460.288,672.958 490.811,682.193 530.53,693.381 547.552,697.821 570.249,703.044 609.968,711.453 649.687,719.131 669.995,722.683 689.406,725.721 \n",
       "  729.125,731.282 768.844,736.189 808.564,740.442 848.283,744.041 888.002,746.985 897.729,747.546 927.721,749.11 967.44,750.59 1007.16,751.478 1046.88,751.774 \n",
       "  1086.6,751.478 1126.32,750.59 1166.04,749.11 1196.03,747.546 1205.75,746.985 1245.47,744.041 1285.19,740.442 1324.91,736.189 1364.63,731.282 1404.35,725.721 \n",
       "  1423.76,722.683 1444.07,719.131 1483.79,711.453 1523.51,703.044 1546.2,697.821 1563.23,693.381 1602.95,682.193 1633.47,672.958 1642.66,669.748 1682.38,654.926 \n",
       "  1699.58,648.096 1722.1,637.521 1750.8,623.233 1761.82,616.525 1790.04,598.371 1801.54,588.857 1819.15,573.509 1839.51,548.646 1841.26,545.094 \n",
       "  \"/>\n",
       "<polyline clip-path=\"url(#clip6503)\" style=\"stroke:#270b52; stroke-width:4; stroke-opacity:1; fill:none\" points=\"\n",
       "  1841.26,452.748 1839.51,449.196 1819.15,424.334 1801.54,408.985 1790.04,399.471 1761.82,381.318 1750.8,374.609 1722.1,360.321 1699.58,349.746 1682.38,342.916 \n",
       "  1642.66,328.094 1633.47,324.884 1602.95,315.649 1563.23,304.461 1546.2,300.021 1523.51,294.798 1483.79,286.389 1444.07,278.711 1423.76,275.159 1404.35,272.121 \n",
       "  1364.63,266.56 1324.91,261.653 1285.19,257.4 1245.47,253.802 1205.75,250.857 1196.03,250.297 1166.04,248.732 1126.32,247.252 1086.6,246.364 1046.88,246.068 \n",
       "  1007.16,246.364 967.44,247.252 927.721,248.732 897.729,250.297 888.002,250.857 848.283,253.802 808.564,257.4 768.844,261.653 729.125,266.56 689.406,272.121 \n",
       "  669.995,275.159 649.687,278.711 609.968,286.389 570.249,294.798 547.552,300.021 530.53,304.461 490.811,315.649 460.288,324.884 451.092,328.094 411.373,342.916 \n",
       "  394.178,349.746 371.654,360.321 342.959,374.609 331.934,381.318 303.717,399.471 292.215,408.985 274.611,424.334 254.242,449.196 252.496,452.748 \n",
       "  \"/>\n",
       "<polyline clip-path=\"url(#clip6503)\" style=\"stroke:#470b69; stroke-width:4; stroke-opacity:1; fill:none\" points=\"\n",
       "  252.496,314.347 287.705,300.021 292.215,298.402 331.934,284.874 362.089,275.159 371.654,272.402 411.373,261.606 451.092,251.465 455.983,250.297 490.811,242.77 \n",
       "  530.53,234.779 570.249,227.379 581.597,225.434 609.968,220.994 649.687,215.319 689.406,210.185 729.125,205.59 768.844,201.537 779.756,200.572 808.564,198.227 \n",
       "  848.283,195.493 888.002,193.255 927.721,191.515 967.44,190.271 1007.16,189.526 1046.88,189.277 1086.6,189.526 1126.32,190.271 1166.04,191.515 1205.75,193.255 \n",
       "  1245.47,195.493 1285.19,198.227 1314,200.572 1324.91,201.537 1364.63,205.59 1404.35,210.185 1444.07,215.319 1483.79,220.994 1512.16,225.434 1523.51,227.379 \n",
       "  1563.23,234.779 1602.95,242.77 1637.77,250.297 1642.66,251.465 1682.38,261.606 1722.1,272.402 1731.67,275.159 1761.82,284.874 1801.54,298.402 1806.05,300.021 \n",
       "  1841.26,314.347 \n",
       "  \"/>\n",
       "<polyline clip-path=\"url(#clip6503)\" style=\"stroke:#63146e; stroke-width:4; stroke-opacity:1; fill:none\" points=\"\n",
       "  1841.26,241.84 1801.54,230.297 1783.9,225.434 1761.82,219.875 1722.1,210.416 1682.38,201.498 1677.99,200.572 1642.66,193.717 1602.95,186.507 1563.23,179.794 \n",
       "  1537.13,175.709 1523.51,173.736 1483.79,168.441 1444.07,163.607 1404.35,159.233 1364.63,155.319 1324.91,151.866 1311.38,150.847 1285.19,149.01 1245.47,146.652 \n",
       "  1205.75,144.723 1166.04,143.223 1126.32,142.151 1086.6,141.508 1046.88,141.294 1007.16,141.508 967.44,142.151 927.721,143.223 888.002,144.723 848.283,146.652 \n",
       "  808.564,149.01 782.375,150.847 768.844,151.866 729.125,155.319 689.406,159.233 649.687,163.607 609.968,168.441 570.249,173.736 556.631,175.709 530.53,179.794 \n",
       "  490.811,186.507 451.092,193.717 415.766,200.572 411.373,201.498 371.654,210.416 331.934,219.875 309.851,225.434 292.215,230.297 252.496,241.84 \n",
       "  \"/>\n",
       "<polyline clip-path=\"url(#clip6503)\" style=\"stroke:#821f6b; stroke-width:4; stroke-opacity:1; fill:none\" points=\"\n",
       "  252.496,185.725 292.215,176.029 293.596,175.709 331.934,167.487 371.654,159.43 411.373,151.833 416.864,150.847 451.092,145.121 490.811,138.905 530.53,133.118 \n",
       "  570.249,127.76 584.558,125.984 \n",
       "  \"/>\n",
       "<polyline clip-path=\"url(#clip6503)\" style=\"stroke:#9e2a62; stroke-width:4; stroke-opacity:1; fill:none\" points=\"\n",
       "  311.691,125.984 292.215,129.873 252.496,138.232 \n",
       "  \"/>\n",
       "<polyline clip-path=\"url(#clip6503)\" style=\"stroke:#821f6b; stroke-width:4; stroke-opacity:1; fill:none\" points=\"\n",
       "  1509.2,125.984 1523.51,127.76 1563.23,133.118 1602.95,138.905 1642.66,145.121 1676.89,150.847 1682.38,151.833 1722.1,159.43 1761.82,167.487 1800.16,175.709 \n",
       "  1801.54,176.029 1841.26,185.725 \n",
       "  \"/>\n",
       "<polyline clip-path=\"url(#clip6503)\" style=\"stroke:#9e2a62; stroke-width:4; stroke-opacity:1; fill:none\" points=\"\n",
       "  1841.26,138.232 1801.54,129.873 1782.06,125.984 \n",
       "  \"/>\n",
       "<polyline clip-path=\"url(#clip6503)\" style=\"stroke:#f3e258; stroke-width:4; stroke-opacity:1; fill:none\" points=\"\n",
       "  1829.91,1095.62 1841.26,1094.15 \n",
       "  \"/>\n",
       "<polyline clip-path=\"url(#clip6503)\" style=\"stroke:#f3e258; stroke-width:4; stroke-opacity:1; fill:none\" points=\"\n",
       "  1598.32,1120.48 1602.95,1120.08 1642.66,1116.41 1682.38,1112.47 1722.1,1108.29 1761.82,1103.85 1801.54,1099.15 1829.91,1095.62 \n",
       "  \"/>\n",
       "<polyline clip-path=\"url(#clip6503)\" style=\"stroke:#0d0829; stroke-width:4; stroke-opacity:1; fill:none\" points=\"\n",
       "  1166.04,673.846 1126.32,675.918 1086.6,677.161 1046.88,677.576 1007.16,677.161 967.44,675.918 927.721,673.846 915.562,672.958 888.002,670.636 848.283,666.333 \n",
       "  808.564,661.074 768.844,654.858 731.395,648.096 729.125,647.612 689.406,638.006 649.687,627.27 636.177,623.233 609.968,613.663 571.729,598.371 570.249,597.61 \n",
       "  530.53,575.411 527.378,573.509 497.956,548.646 490.811,538.583 481.028,523.784 475.549,498.921 481.028,474.059 490.811,459.26 497.956,449.196 527.378,424.334 \n",
       "  530.53,422.431 570.249,400.232 571.729,399.471 609.968,384.179 636.177,374.609 649.687,370.573 689.406,359.837 729.125,350.231 731.395,349.746 768.844,342.984 \n",
       "  808.564,336.769 848.283,331.509 888.002,327.206 915.562,324.884 927.721,323.996 967.44,321.924 1007.16,320.681 1046.88,320.267 1086.6,320.681 1126.32,321.924 \n",
       "  1166.04,323.996 1178.19,324.884 1205.75,327.206 1245.47,331.509 1285.19,336.769 1324.91,342.984 1362.36,349.746 1364.63,350.231 1404.35,359.837 1444.07,370.573 \n",
       "  1457.58,374.609 1483.79,384.179 1522.03,399.471 1523.51,400.232 1563.23,422.431 1566.38,424.334 1595.8,449.196 1602.95,459.26 1612.73,474.059 1618.21,498.921 \n",
       "  1612.73,523.784 1602.95,538.583 1595.8,548.646 1566.38,573.509 1563.23,575.411 1523.51,597.61 1522.03,598.371 1483.79,613.663 1457.58,623.233 1444.07,627.27 \n",
       "  1404.35,638.006 1364.63,647.612 1362.36,648.096 1324.91,654.858 1285.19,661.074 1245.47,666.333 1205.75,670.636 1178.19,672.958 1166.04,673.846 \n",
       "  \"/>\n",
       "</svg>\n"
      ]
     },
     "execution_count": 12,
     "metadata": {},
     "output_type": "execute_result"
    }
   ],
   "source": [
    "p1 = contour(x1,x2,copy(L'),legend=false)         #notice the transpose: L'\n",
    "title!(\"Contour plot of loss function\")\n",
    "xlabel!(\"x1\")\n",
    "ylabel!(\"x2\")"
   ]
  },
  {
   "cell_type": "code",
   "execution_count": 13,
   "metadata": {},
   "outputs": [
    {
     "name": "stdout",
     "output_type": "stream",
     "text": [
      "The minimum is at :      2.000    -0.750\n",
      "Compare with the contour plot above\n",
      "\n",
      "Results of Optimization Algorithm\n",
      " * Algorithm: Nelder-Mead\n",
      " * Starting Point: [1.0,-0.5]\n",
      " * Minimizer: [1.9999665638864563,-0.7499890634452829]\n",
      " * Minimum: -5.000000e-01\n",
      " * Iterations: 29\n",
      " * Convergence: true\n",
      "   *  √(Σ(yᵢ-ȳ)²)/n < 1.0e-08: true\n",
      "   * Reached Maximum Number of Iterations: false\n",
      " * Objective Calls: 63\n"
     ]
    }
   ],
   "source": [
    "Sol2 = optimize(x->fn2(x,0.5),[1.0,-0.5])    \n",
    "\n",
    "printlnPs(\"The minimum is at : \", Optim.minimizer(Sol2))\n",
    "println(\"Compare with the contour plot above\\n\")   \n",
    "\n",
    "println(Sol2)"
   ]
  },
  {
   "cell_type": "markdown",
   "metadata": {},
   "source": [
    "## (extra) Supplying a Function for the Gradient\n",
    "\n",
    "Supplying a function for calculating the derivatives improves speed and accuracy. See below for an example. (The `inplace = false` means that the function for the derivatives creates a new matrix at each call.)"
   ]
  },
  {
   "cell_type": "code",
   "execution_count": 14,
   "metadata": {},
   "outputs": [
    {
     "name": "stdout",
     "output_type": "stream",
     "text": [
      "Results of Optimization Algorithm\n",
      " * Algorithm: L-BFGS\n",
      " * Starting Point: [1.0,-0.5]\n",
      " * Minimizer: [2.0000000000000004,-0.7500000000000007]\n",
      " * Minimum: -5.000000e-01\n",
      " * Iterations: 2\n",
      " * Convergence: true\n",
      "   * |x - x'| ≤ 0.0e+00: false \n",
      "     |x - x'| = 9.34e-01 \n",
      "   * |f(x) - f(x')| ≤ 0.0e+00 |f(x)|: false\n",
      "     |f(x) - f(x')| = -1.75e+00 |f(x)|\n",
      "   * |g(x)| ≤ 1.0e-08: true \n",
      "     |g(x)| = 2.13e-14 \n",
      "   * Stopped by an increasing objective: false\n",
      "   * Reached Maximum Number of Iterations: false\n",
      " * Objective Calls: 7\n",
      " * Gradient Calls: 7\n"
     ]
    }
   ],
   "source": [
    "function g2(x,c)                      #derivates of fn2 wrt. x[1] and x[2], (does not depend on c)\n",
    "    G = [2*(x[1]-2), 2*4(4*x[2]+3)] \n",
    "    return G\n",
    "end\n",
    "    \n",
    "Sol = optimize(x->fn2(x,0.5),x->g2(x,0.5),[1.0,-0.5],inplace = false)\n",
    "println(Sol)"
   ]
  },
  {
   "cell_type": "code",
   "execution_count": null,
   "metadata": {},
   "outputs": [],
   "source": []
  }
 ],
 "metadata": {
  "anaconda-cloud": {},
  "kernelspec": {
   "display_name": "Julia 1.1.0",
   "language": "julia",
   "name": "julia-1.1"
  },
  "language_info": {
   "file_extension": ".jl",
   "mimetype": "application/julia",
   "name": "julia",
   "version": "1.1.0"
  }
 },
 "nbformat": 4,
 "nbformat_minor": 1
}
