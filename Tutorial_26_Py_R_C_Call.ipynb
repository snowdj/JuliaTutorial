{
 "cells": [
  {
   "cell_type": "markdown",
   "metadata": {},
   "source": [
    "# Running Python, R or C Code from Julia\n",
    "\n",
    "This notebook provides a basic introduction to how to run Python, R and C code from Julia."
   ]
  },
  {
   "cell_type": "code",
   "execution_count": 1,
   "metadata": {},
   "outputs": [
    {
     "data": {
      "text/plain": [
       "printwhere (generic function with 1 method)"
      ]
     },
     "execution_count": 1,
     "metadata": {},
     "output_type": "execute_result"
    }
   ],
   "source": [
    "using Dates, DelimitedFiles\n",
    "include(\"printmat.jl\")"
   ]
  },
  {
   "cell_type": "markdown",
   "metadata": {},
   "source": [
    "# Load Data"
   ]
  },
  {
   "cell_type": "code",
   "execution_count": 2,
   "metadata": {},
   "outputs": [
    {
     "data": {
      "text/plain": [
       "2-element Array{Float64,1}:\n",
       " -0.5041626034967043\n",
       "  1.3410486453848385"
      ]
     },
     "execution_count": 2,
     "metadata": {},
     "output_type": "execute_result"
    }
   ],
   "source": [
    "x = readdlm(\"Data/MyData.csv\",',',skipstart=1)  #reading the csv file\n",
    "\n",
    "(Rme,Rf,R) = (x[:,2],x[:,3],x[:,4])  #creating variables from columns of x\n",
    "y  = R - Rf                          #do R .- Rf if R has several columns\n",
    "\n",
    "c = ones(length(Rme))\n",
    "x = [c Rme]\n",
    "\n",
    "b = x\\y                              #OLS coeffs according to Julia"
   ]
  },
  {
   "cell_type": "markdown",
   "metadata": {},
   "source": [
    "# Python"
   ]
  },
  {
   "cell_type": "code",
   "execution_count": 3,
   "metadata": {},
   "outputs": [
    {
     "data": {
      "text/plain": [
       "PyObject <module 'statsmodels.api' from 'C:\\\\Miniconda3\\\\lib\\\\site-packages\\\\statsmodels\\\\api.py'>"
      ]
     },
     "execution_count": 3,
     "metadata": {},
     "output_type": "execute_result"
    }
   ],
   "source": [
    "using PyCall\n",
    "sm = pyimport(\"statsmodels.api\")     #activate this package"
   ]
  },
  {
   "cell_type": "code",
   "execution_count": 4,
   "metadata": {},
   "outputs": [
    {
     "name": "stdout",
     "output_type": "stream",
     "text": [
      "PyObject <class 'statsmodels.iolib.summary.Summary'>\n",
      "\"\"\"\n",
      "                            OLS Regression Results                            \n",
      "==============================================================================\n",
      "Dep. Variable:                      y   R-squared:                       0.519\n",
      "Model:                            OLS   Adj. R-squared:                  0.518\n",
      "Method:                 Least Squares   F-statistic:                     416.2\n",
      "Date:                Fri, 21 Aug 2020   Prob (F-statistic):           2.72e-63\n",
      "Time:                        10:46:40   Log-Likelihood:                -1241.7\n",
      "No. Observations:                 388   AIC:                             2487.\n",
      "Df Residuals:                     386   BIC:                             2495.\n",
      "Df Model:                           1                                         \n",
      "Covariance Type:            nonrobust                                         \n",
      "==============================================================================\n",
      "                 coef    std err          t      P>|t|      [0.025      0.975]\n",
      "------------------------------------------------------------------------------\n",
      "const         -0.5042      0.305     -1.654      0.099      -1.103       0.095\n",
      "x1             1.3410      0.066     20.401      0.000       1.212       1.470\n",
      "==============================================================================\n",
      "Omnibus:                      259.682   Durbin-Watson:                   1.870\n",
      "Prob(Omnibus):                  0.000   Jarque-Bera (JB):             5249.944\n",
      "Skew:                           2.482   Prob(JB):                         0.00\n",
      "Kurtosis:                      20.323   Cond. No.                         4.68\n",
      "==============================================================================\n",
      "\n",
      "Warnings:\n",
      "[1] Standard Errors assume that the covariance matrix of the errors is correctly specified.\n",
      "\"\"\"\n"
     ]
    }
   ],
   "source": [
    "resultsP = sm.OLS(y, x).fit()        #can use Python functions directly\n",
    "\n",
    "println(resultsP.summary())"
   ]
  },
  {
   "cell_type": "code",
   "execution_count": 5,
   "metadata": {},
   "outputs": [
    {
     "name": "stdout",
     "output_type": "stream",
     "text": [
      "[:HC0_se, :HC1_se, :HC2_se, :HC3_se, :_HCCM, :__class__, :__delattr__, :__dict__, :__dir__, :__doc__, :__eq__, :__format__, :__ge__, :__getattribute__, :__gt__, :__hash__, :__init__, :__init_subclass__, :__le__, :__lt__, :__module__, :__ne__, :__new__, :__reduce__, :__reduce_ex__, :__repr__, :__setattr__, :__sizeof__, :__str__, :__subclasshook__, :__weakref__, :_cache, :_data_attr, :_get_robustcov_results, :_is_nested, :_use_t, :_wexog_singular_values, :aic, :bic, :bse, :centered_tss, :compare_f_test, :compare_lm_test, :compare_lr_test, :condition_number, :conf_int, :conf_int_el, :cov_HC0, :cov_HC1, :cov_HC2, :cov_HC3, :cov_kwds, :cov_params, :cov_type, :df_model, :df_resid, :diagn, :eigenvals, :el_test, :ess, :f_pvalue, :f_test, :fittedvalues, :fvalue, :get_influence, :get_prediction, :get_robustcov_results, :initialize, :k_constant, :llf, :load, :model, :mse_model, :mse_resid, :mse_total, :nobs, :normalized_cov_params, :outlier_test, :params, :predict, :pvalues, :remove_data, :resid, :resid_pearson, :rsquared, :rsquared_adj, :save, :scale, :ssr, :summary, :summary2, :t_test, :t_test_pairwise, :tvalues, :uncentered_tss, :use_t, :wald_test, :wald_test_terms, :wresid]\n"
     ]
    }
   ],
   "source": [
    "println(keys(resultsP))              #print all keys (field names)"
   ]
  },
  {
   "cell_type": "code",
   "execution_count": 6,
   "metadata": {},
   "outputs": [
    {
     "name": "stdout",
     "output_type": "stream",
     "text": [
      "Comparing the estimates in Julia and Python\n",
      "    -0.504    -0.504\n",
      "     1.341     1.341\n",
      "\n"
     ]
    }
   ],
   "source": [
    "b_P = resultsP.params                #the numerical results are now a Julia vector\n",
    "\n",
    "println(\"Comparing the estimates in Julia and Python\")\n",
    "printmat([b b_P])"
   ]
  },
  {
   "cell_type": "code",
   "execution_count": 7,
   "metadata": {},
   "outputs": [
    {
     "name": "stdout",
     "output_type": "stream",
     "text": [
      "[-0.5041626   1.34104865]\r\n"
     ]
    }
   ],
   "source": [
    "#we can run blocks of code like this, notice: $x and $y\n",
    "py\"\"\"\n",
    "  import numpy as np\n",
    "  xx = np.matmul(np.matrix.transpose($x),$x)\n",
    "  xy = np.matmul(np.matrix.transpose($x),$y)\n",
    "  b_p = np.linalg.solve(xx,xy)\n",
    "  #b_p = np.linalg.lstsq($x,$y,rcond=None)\n",
    "  print(b_p)\n",
    "  \"\"\""
   ]
  },
  {
   "cell_type": "markdown",
   "metadata": {},
   "source": [
    "# R"
   ]
  },
  {
   "cell_type": "code",
   "execution_count": 8,
   "metadata": {},
   "outputs": [],
   "source": [
    "ENV[\"R_HOME\"]=\"C:/PROGRA~1/R/R-40~1.2\"    #path to R, do R.home() in R to see\n",
    "using RCall"
   ]
  },
  {
   "cell_type": "code",
   "execution_count": 9,
   "metadata": {},
   "outputs": [
    {
     "name": "stdout",
     "output_type": "stream",
     "text": [
      "RObject{VecSxp}\n",
      "\n",
      "Call:\n",
      "lm(formula = y ~ x - 1)\n",
      "\n",
      "Residuals:\n",
      "    Min      1Q  Median      3Q     Max \n",
      "-17.981  -3.131  -0.359   2.281  52.361 \n",
      "\n",
      "Coefficients:\n",
      "   Estimate Std. Error t value Pr(>|t|)    \n",
      "x1 -0.50416    0.30483  -1.654    0.099 .  \n",
      "x2  1.34105    0.06573  20.401   <2e-16 ***\n",
      "---\n",
      "Signif. codes:  0 '***' 0.001 '**' 0.01 '*' 0.05 '.' 0.1 ' ' 1\n",
      "\n",
      "Residual standard error: 5.954 on 386 degrees of freedom\n",
      "Multiple R-squared:  0.5194,\tAdjusted R-squared:  0.5169 \n",
      "F-statistic: 208.6 on 2 and 386 DF,  p-value: < 2.2e-16\n",
      "\n",
      "\n",
      "[:coefficients, :residuals, :effects, :rank, Symbol(\"fitted.values\"), :assign, :qr, Symbol(\"df.residual\"), :xlevels, :call, :terms, :model]\n"
     ]
    }
   ],
   "source": [
    "@rput x y                          #send x and y to R\n",
    "\n",
    "resultsR = reval(\"summary(mod <- lm(y ~ x-1))\")  #run R code and print output\n",
    "println(resultsR)\n",
    "\n",
    "resultsR = reval(\"mod <- lm(y ~ x-1)\")  #run R code\n",
    "\n",
    "println(names(resultsR))           #print all keys (field names)"
   ]
  },
  {
   "cell_type": "code",
   "execution_count": 10,
   "metadata": {},
   "outputs": [
    {
     "name": "stdout",
     "output_type": "stream",
     "text": [
      "Comparing the estimates in Julia and R\n",
      "    -0.504    -0.504\n",
      "     1.341     1.341\n",
      "\n"
     ]
    }
   ],
   "source": [
    "b_R = rcopy(resultsR[:coefficients])  #the numerical results are now a Julia array\n",
    "\n",
    "println(\"Comparing the estimates in Julia and R\")\n",
    "printmat([b b_R[:,1]])"
   ]
  },
  {
   "cell_type": "code",
   "execution_count": 11,
   "metadata": {},
   "outputs": [
    {
     "data": {
      "text/plain": [
       "RObject{RealSxp}\n",
       "           [,1]\n",
       "[1,] -0.5041626\n",
       "[2,]  1.3410486\n"
      ]
     },
     "execution_count": 11,
     "metadata": {},
     "output_type": "execute_result"
    }
   ],
   "source": [
    "#we can run blocks of code like this\n",
    "#do @rput x y or use $x and $y in the code below\n",
    "\n",
    "#solve x'x*b = x'y\n",
    "R\"\"\"\n",
    "xx <- t(x)%*%x\n",
    "xy <- t(x)%*%y\n",
    "b_R <- solve(xx,xy)\n",
    "\"\"\""
   ]
  },
  {
   "cell_type": "markdown",
   "metadata": {},
   "source": [
    "# C\n",
    "\n",
    "This section is a very simple example of how to call a C function. The function is in the file `MySum.c` and contains the classical example of summing the elements of an array:\n",
    "```\n",
    "#include <stddef.h>\n",
    "double c_sum(size_t n, double *X) {\n",
    "    double s = 0.0;\n",
    "    for (size_t i = 0; i < n; ++i) {\n",
    "        s += X[i];\n",
    "    }\n",
    "    return s;\n",
    "}\n",
    "```\n",
    "\n",
    "To compile to a dynamlic library (dll on windows), I use gcc (for x86_64) from [mingw-64](http://mingw-w64.org)\n",
    "and run the following in the mingw terminal\n",
    "```\n",
    "gcc -shared -fPIC MySum.c -o MySum.dll\n",
    "```\n",
    "\n",
    "To call the C function `c_sum`, place the dll file in the current folder and then run the follwing in Julia\n",
    "```\n",
    "const mylibc = \"MySum.dll\"           #once\n",
    "y = @ccall mylibc.c_sum(length(x)::Csize_t, x::Ptr{Float64})::Float64\n",
    "```\n",
    "In this call `mylibc.c_sum` is the library.function, `length(x)::Csize_t` is the first input and its type, `x::Ptr{Float64}` is the second input and its type, and `Float64` is the type of the output."
   ]
  },
  {
   "cell_type": "code",
   "execution_count": 7,
   "metadata": {},
   "outputs": [
    {
     "name": "stdout",
     "output_type": "stream",
     "text": [
      "55.0\n"
     ]
    }
   ],
   "source": [
    "const mylibc = \"MySum.dll\"\n",
    "\n",
    "x = collect(1:10) .+ 0.0         #to be summed, must have Float64 elements\n",
    "\n",
    "y = @ccall mylibc.c_sum(length(x)::Csize_t, x::Ptr{Float64})::Float64\n",
    "\n",
    "println(y)"
   ]
  },
  {
   "cell_type": "markdown",
   "metadata": {},
   "source": [
    "The C function requires the input to be `Array{Float64}`, which we could make transparent by defining a function to make the call. This would also make the syntax shorter."
   ]
  },
  {
   "cell_type": "code",
   "execution_count": 8,
   "metadata": {},
   "outputs": [
    {
     "data": {
      "text/plain": [
       "55.0"
      ]
     },
     "execution_count": 8,
     "metadata": {},
     "output_type": "execute_result"
    }
   ],
   "source": [
    "c_sum(x::Array{Float64}) = @ccall mylibc.c_sum(length(x)::Csize_t, x::Ptr{Float64})::Float64\n",
    "\n",
    "c_sum(x)\n",
    "#c_sum([1,2])    #uncomment to get an error message"
   ]
  },
  {
   "cell_type": "code",
   "execution_count": null,
   "metadata": {},
   "outputs": [],
   "source": []
  }
 ],
 "metadata": {
  "@webio": {
   "lastCommId": null,
   "lastKernelId": null
  },
  "kernelspec": {
   "display_name": "Julia 1.5.3",
   "language": "julia",
   "name": "julia-1.5"
  },
  "language_info": {
   "file_extension": ".jl",
   "mimetype": "application/julia",
   "name": "julia",
   "version": "1.5.3"
  }
 },
 "nbformat": 4,
 "nbformat_minor": 3
}
