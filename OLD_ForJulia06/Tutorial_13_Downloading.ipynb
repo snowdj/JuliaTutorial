{
 "cells": [
  {
   "cell_type": "markdown",
   "metadata": {
    "collapsed": true
   },
   "source": [
    "# Downloading Files from Internet\n",
    "\n",
    "is done by the `download()` command"
   ]
  },
  {
   "cell_type": "code",
   "execution_count": 1,
   "metadata": {},
   "outputs": [],
   "source": [
    "if !isdir(\"Results\")\n",
    "    error(\"create the subfolder Results before running this program\")\n",
    "end"
   ]
  },
  {
   "cell_type": "markdown",
   "metadata": {},
   "source": [
    "## Some Data from Kenneth French's Homepage"
   ]
  },
  {
   "cell_type": "code",
   "execution_count": 2,
   "metadata": {},
   "outputs": [
    {
     "name": "stdout",
     "output_type": "stream",
     "text": [
      "File to download: http://mba.tuck.dartmouth.edu/pages/faculty/ken.french/ftp/F-F_Research_Data_Factors_daily_CSV.zip\n",
      "\n",
      "check the subfolder Results\n",
      "\n"
     ]
    }
   ],
   "source": [
    "http   = \"http://mba.tuck.dartmouth.edu/pages/faculty/ken.french/ftp/\"\n",
    "File_i = \"F-F_Research_Data_Factors_daily_CSV.zip\"\n",
    "\n",
    "println(\"File to download: \",string(http,File_i))\n",
    "download(string(http,File_i),\"Results/WhatIJustDownloaded.zip\")\n",
    "\n",
    "println(\"\\ncheck the subfolder Results\\n\")"
   ]
  },
  {
   "cell_type": "markdown",
   "metadata": {},
   "source": [
    "## Some Lecture Notes by a Finance Prof"
   ]
  },
  {
   "cell_type": "code",
   "execution_count": 3,
   "metadata": {},
   "outputs": [
    {
     "name": "stdout",
     "output_type": "stream",
     "text": [
      "File to download: https://sites.google.com/site/paulsoderlindecon/home/courses/Fin1All.pdf\n",
      "\n",
      "check the subfolder Results. Read carefully...\n",
      "\n"
     ]
    }
   ],
   "source": [
    "http   = \"https://sites.google.com/site/paulsoderlindecon/home/courses/\"\n",
    "File_i = \"Fin1All.pdf\"\n",
    "\n",
    "println(\"File to download: \",string(http,File_i))\n",
    "download(string(http,File_i),\"Results/SomethingElseIJustDownloaded.pdf\")\n",
    "\n",
    "println(\"\\ncheck the subfolder Results. Read carefully...\\n\")"
   ]
  },
  {
   "cell_type": "code",
   "execution_count": null,
   "metadata": {},
   "outputs": [],
   "source": []
  }
 ],
 "metadata": {
  "anaconda-cloud": {},
  "kernelspec": {
   "display_name": "Julia 0.6.2",
   "language": "julia",
   "name": "julia-0.6"
  },
  "language_info": {
   "file_extension": ".jl",
   "mimetype": "application/julia",
   "name": "julia",
   "version": "0.6.2"
  }
 },
 "nbformat": 4,
 "nbformat_minor": 1
}
