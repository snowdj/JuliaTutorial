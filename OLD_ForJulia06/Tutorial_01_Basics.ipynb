{
 "cells": [
  {
   "cell_type": "markdown",
   "metadata": {
    "collapsed": true
   },
   "source": [
    "# Basic Julia Tutorial"
   ]
  },
  {
   "cell_type": "markdown",
   "metadata": {},
   "source": [
    "# Running/Installing Julia\n",
    "\n",
    "1. To run Julia without a local installation, use JuliaBox.com. It works well with Firefox and Chrome.\n",
    "2. To install Julia on your machine, download from https://julialang.org/downloads/. You may also want to use the Atom editor with the Juno IDE (see http://junolab.org/). To run IJulia from your local installation, see https://github.com/JuliaLang/IJulia.jl for instructions.\n",
    "3. Instead of downloading and installing Julia yourself, you may want to try JuliaPro (see https://juliacomputing.com/products/juliapro.html.)"
   ]
  },
  {
   "cell_type": "markdown",
   "metadata": {},
   "source": [
    "# Documentation and Help\n",
    "\n",
    "1.  Cheat sheet at https://cheatsheets.quantecon.org/julia-cheatsheet.html\n",
    "2.  Wiki book at https://en.wikibooks.org/wiki/Introducing_Julia\n",
    "3.  The on-line manual is found at https://docs.julialang.org/en/stable/\n",
    "4.  The manual as a pdf file is at https://readthedocs.org/projects/julia/downloads/\n",
    "5.  Discussion lists are found at\n",
    "    *  https://discourse.julialang.org/\n",
    "    *  https://stackoverflow.com/questions/tagged/julia-lang\n",
    "    *  https://www.reddit.com/r/Julia/\n",
    "    *  https://gitter.im/JuliaLang/julia\n",
    "6. In Julia, do ```? cos``` to get help with the cos function    "
   ]
  },
  {
   "cell_type": "markdown",
   "metadata": {},
   "source": [
    "# Getting This File to JuliaBox\n",
    "\n",
    "Download this entire repository (\"Clone or download\") to your machine and then upload to JuliaBox (see menu--files in JuliaBox)."
   ]
  },
  {
   "cell_type": "markdown",
   "metadata": {},
   "source": [
    "# About Notebooks\n",
    "\n",
    "This cell is a \"Markdown\" cell. This is meant for comments and documentation, not computations.\n",
    "\n",
    "You can change a cell to \"Code\" or \"Markdown\" in the menu.\n",
    "\n",
    "If you know LaTeX, then Markdown cells can handle it. An example: $\\alpha = \\beta/2$. A Markdown cell can also contain some formatting, like lists of this kind\n",
    "\n",
    "1. To insert a new cell, use the menu. \n",
    "\n",
    "2. The next cell is \"Code\". You can run it. Text after a # sign is treated as a comment.\n",
    "\n",
    "3. The subsequent cell shows how to get help on a command."
   ]
  },
  {
   "cell_type": "code",
   "execution_count": 1,
   "metadata": {},
   "outputs": [
    {
     "data": {
      "text/plain": [
       "2"
      ]
     },
     "execution_count": 1,
     "metadata": {},
     "output_type": "execute_result"
    }
   ],
   "source": [
    "a = 2                  #this is a comment\n",
    "                       #run this cell by using the menu, or by Shift+Enter  "
   ]
  },
  {
   "cell_type": "code",
   "execution_count": 2,
   "metadata": {},
   "outputs": [
    {
     "name": "stdout",
     "output_type": "stream",
     "text": [
      "search: \u001b[1mc\u001b[22m\u001b[1mo\u001b[22m\u001b[1ms\u001b[22m \u001b[1mc\u001b[22m\u001b[1mo\u001b[22m\u001b[1ms\u001b[22mh \u001b[1mc\u001b[22m\u001b[1mo\u001b[22m\u001b[1ms\u001b[22md \u001b[1mc\u001b[22m\u001b[1mo\u001b[22m\u001b[1ms\u001b[22mc \u001b[1mc\u001b[22m\u001b[1mo\u001b[22m\u001b[1ms\u001b[22mpi a\u001b[1mc\u001b[22m\u001b[1mo\u001b[22m\u001b[1ms\u001b[22m a\u001b[1mc\u001b[22m\u001b[1mo\u001b[22m\u001b[1ms\u001b[22mh a\u001b[1mc\u001b[22m\u001b[1mo\u001b[22m\u001b[1ms\u001b[22md \u001b[1mc\u001b[22m\u001b[1mo\u001b[22mn\u001b[1ms\u001b[22mt \u001b[1mc\u001b[22m\u001b[1mo\u001b[22mn\u001b[1ms\u001b[22mume \u001b[1mc\u001b[22mr\u001b[1mo\u001b[22m\u001b[1ms\u001b[22ms \u001b[1mc\u001b[22ml\u001b[1mo\u001b[22m\u001b[1ms\u001b[22me\n",
      "\n"
     ]
    },
    {
     "data": {
      "text/markdown": [
       "```\n",
       "cos(x)\n",
       "```\n",
       "\n",
       "Compute cosine of `x`, where `x` is in radians.\n"
      ],
      "text/plain": [
       "```\n",
       "cos(x)\n",
       "```\n",
       "\n",
       "Compute cosine of `x`, where `x` is in radians.\n"
      ]
     },
     "execution_count": 2,
     "metadata": {},
     "output_type": "execute_result"
    }
   ],
   "source": [
    "? cos                  #to get help on the cos() function "
   ]
  },
  {
   "cell_type": "markdown",
   "metadata": {},
   "source": [
    "# Load Packages\n",
    "\n",
    "There are many packages for Julia, for instance, for plotting or statistical methods (see http://pkg.julialang.org/ for a list). To install a package, you run\n",
    "\n",
    "```\n",
    "Pkg.add(\"PackageName\")\n",
    "```\n",
    "\n",
    "You can check which packages you already have installed by \n",
    "```\n",
    "Pkg.status()\n",
    "```\n",
    "\n",
    "Once a package is installed (the most common ones are already installed on JuliaBox), you can use it by running\n",
    "\n",
    "```\n",
    "using PackageName\n",
    "```\n",
    "\n",
    "If your packages generate errors, you may want to update them by \n",
    "\n",
    "```\n",
    "Pkg.update()\n",
    "```"
   ]
  },
  {
   "cell_type": "code",
   "execution_count": 3,
   "metadata": {},
   "outputs": [
    {
     "data": {
      "text/plain": [
       "printlnPs (generic function with 2 methods)"
      ]
     },
     "execution_count": 3,
     "metadata": {},
     "output_type": "execute_result"
    }
   ],
   "source": [
    "using Compat, Missings        #in Julia 0.6 \n",
    "#using Dates                  #in Julia 0.7\n",
    "\n",
    "include(\"printmat.jl\")      #just a function for prettier matrix printing"
   ]
  },
  {
   "cell_type": "code",
   "execution_count": 4,
   "metadata": {},
   "outputs": [
    {
     "data": {
      "text/plain": [
       "Plots.GRBackend()"
      ]
     },
     "execution_count": 4,
     "metadata": {},
     "output_type": "execute_result"
    }
   ],
   "source": [
    "using Plots                 #this loads the Plots package\n",
    "\n",
    "backend = \"gr\"              #choice of plotting backend, \"gr\" (default), \"pyplot\" \n",
    "\n",
    "if backend == \"pyplot\"      #some configurations, do not bother with the details now\n",
    "    pyplot(size=(600,400))  #default size of plots\n",
    "else    \n",
    "    gr(size=(600,400))\n",
    "end"
   ]
  },
  {
   "cell_type": "markdown",
   "metadata": {},
   "source": [
    "# Scalars and Matrices\n",
    "\n"
   ]
  },
  {
   "cell_type": "markdown",
   "metadata": {},
   "source": [
    "### Create a Scalar and a Matrix"
   ]
  },
  {
   "cell_type": "code",
   "execution_count": 5,
   "metadata": {},
   "outputs": [
    {
     "name": "stdout",
     "output_type": "stream",
     "text": [
      "q is a scalar. To print, use println() or printlnPs()\n",
      "1\n",
      "\n",
      "Q is a matrix. To print, use display() or printmat()\n",
      "         1         2         3\n",
      "         4         5         6\n",
      "\n"
     ]
    }
   ],
   "source": [
    "q = 1                             #create a scalar\n",
    "Q = [ 1 2 3;                      #create 2x3 matrix\n",
    "      4 5 6 ] \n",
    "println(\"q is a scalar. To print, use println() or printlnPs()\")    \n",
    "println(q)\n",
    "\n",
    "println(\"\\nQ is a matrix. To print, use display() or printmat()\") \n",
    "printmat(Q)                       #case sensitive (q and Q are different)\n",
    "                                  #the \\n adds a line break   "
   ]
  },
  {
   "cell_type": "markdown",
   "metadata": {},
   "source": [
    "### Picking Out Parts of a Matrix"
   ]
  },
  {
   "cell_type": "code",
   "execution_count": 6,
   "metadata": {},
   "outputs": [
    {
     "name": "stdout",
     "output_type": "stream",
     "text": [
      "\n",
      "element [1,2] of Q: 2\n",
      "\n",
      "columns 2 and 3 of Q: \n",
      "         2         3\n",
      "         5         6\n",
      "\n",
      "\n",
      "line 1 of Q (as a vector): \n",
      "         1\n",
      "         2\n",
      "         3\n",
      "\n"
     ]
    }
   ],
   "source": [
    "println(\"\\n\",\"element [1,2] of Q: \",            #commands continue on\n",
    "        Q[1,2])                                 #the next line (until fisnished)\n",
    "\n",
    "println(\"\\ncolumns 2 and 3 of Q: \")\n",
    "printmat(Q[:,2:3])\n",
    "\n",
    "println(\"\\nline 1 of Q (as a vector): \")\n",
    "printmat(Q[1,:])"
   ]
  },
  {
   "cell_type": "markdown",
   "metadata": {},
   "source": [
    "### Basic Linear Algebra\n",
    "\n",
    "The syntax for linear algebra is similar to the standard text book approach. For instance, \n",
    "* `Q'Q` multiplies the transpose ($Q'$) with the matrix ($Q$)\n",
    "* `A*B` does matrix multiplication\n",
    "* `100*Q` multiplies each element of the matrix ($Q$) by 100\n",
    "\n",
    "However, to add a scalar to each element of a matrix, use `100 .+ Q`. Notice the dot."
   ]
  },
  {
   "cell_type": "code",
   "execution_count": 7,
   "metadata": {},
   "outputs": [
    {
     "name": "stdout",
     "output_type": "stream",
     "text": [
      "transpose of Q:\n",
      "         1         4\n",
      "         2         5\n",
      "         3         6\n",
      "\n",
      "Q'Q:\n",
      "        17        22        27\n",
      "        22        29        36\n",
      "        27        36        45\n",
      "\n",
      "scalar * matrix:\n",
      "       100       200       300\n",
      "       400       500       600\n",
      "\n",
      "scalar .+ matrix:\n",
      "       101       102       103\n",
      "       104       105       106\n",
      "\n"
     ]
    }
   ],
   "source": [
    "println(\"transpose of Q:\")\n",
    "printmat(Q')\n",
    "\n",
    "println(\"Q'Q:\")\n",
    "printmat(Q'Q)\n",
    "\n",
    "println(\"scalar * matrix:\")\n",
    "printmat(100*Q)\n",
    "\n",
    "println(\"scalar .+ matrix:\")                        #notice the dot\n",
    "printmat(100 .+ Q)"
   ]
  },
  {
   "cell_type": "markdown",
   "metadata": {},
   "source": [
    "### Creating a Sequence and a Vector"
   ]
  },
  {
   "cell_type": "code",
   "execution_count": 8,
   "metadata": {},
   "outputs": [
    {
     "name": "stdout",
     "output_type": "stream",
     "text": [
      "\n",
      "θ is a sequence: 1:10:21\n",
      "\n",
      "ρ is a vector: \n",
      "         1\n",
      "        11\n",
      "        21\n",
      "\n"
     ]
    }
   ],
   "source": [
    "θ = 1:10:21                  #a sequence, type \\theta + TAB to get this symbol        \n",
    "println(\"\\n\",\"θ is a sequence: \",θ)\n",
    "\n",
    "ρ = collect(θ)               #make the sequence into a vector, \\rho+TAB\n",
    "println(\"\\n\",\"ρ is a vector: \")\n",
    "printmat(ρ)"
   ]
  },
  {
   "cell_type": "markdown",
   "metadata": {},
   "source": [
    "# Types: Integers, Floats, Bools and Others\n",
    "\n",
    "Julia has many different types of variables: signed integers (like 2 or -5), floating point numbers (2.0 and -5.1), bools (false/true), bitarrays (similar to bools, but with more efficient use of memory), strings (\"hello\"), Dates (2017-04-23) and many more types."
   ]
  },
  {
   "cell_type": "markdown",
   "metadata": {},
   "source": [
    "## Integers and Floats"
   ]
  },
  {
   "cell_type": "code",
   "execution_count": 9,
   "metadata": {},
   "outputs": [
    {
     "name": "stdout",
     "output_type": "stream",
     "text": [
      "Finding the type of a, b, A and B:\n",
      "Int64 Float64 Array{Int64,1} Array{Float64,1}\n"
     ]
    }
   ],
   "source": [
    "a = 2                   #integer, Int (Int64 on most machines)\n",
    "b = 2.0                 #floating point, (Float64 on most machines)\n",
    "A = [1,2]\n",
    "B = [1.0,2.0]\n",
    "\n",
    "println(\"Finding the type of a, b, A and B:\")\n",
    "println(typeof(a),\" \",typeof(b),\" \",typeof(A),\" \",typeof(B))"
   ]
  },
  {
   "cell_type": "markdown",
   "metadata": {},
   "source": [
    "## Bools and BitArrays\n",
    "\n",
    "Bools are \"true\" or \"false\". BitArrays are (more memory efficient) versions of this."
   ]
  },
  {
   "cell_type": "code",
   "execution_count": 10,
   "metadata": {},
   "outputs": [
    {
     "name": "stdout",
     "output_type": "stream",
     "text": [
      "Finding the type of c and C:\n",
      "Bool BitArray{1}\n"
     ]
    }
   ],
   "source": [
    "c = 2 > 1.1\n",
    "C = A .> 1.5        #A is an array, so C is too\n",
    "\n",
    "println(\"Finding the type of c and C:\")\n",
    "println(typeof(c),\" \",typeof(C))"
   ]
  },
  {
   "cell_type": "markdown",
   "metadata": {},
   "source": [
    "## Calculations with Mixed Types\n",
    "\n",
    "A calculation like \"integer\" + \"float\" works and the type of the result will be a float (the more flexible type). Similarly, \"bool\" + \"integer\" will give an integer. These promotion rules make it easy to have mixed types in calculations, and also provide a simple way of converting a variable from one type to another. (There are also an explicit convert() function that might be quicker.)"
   ]
  },
  {
   "cell_type": "code",
   "execution_count": 11,
   "metadata": {},
   "outputs": [
    {
     "name": "stdout",
     "output_type": "stream",
     "text": [
      "3.0\n",
      "3\n"
     ]
    }
   ],
   "source": [
    "println(1+2.0)                #integer + Float\n",
    "println((1>0) + 2)            #bool + integer"
   ]
  },
  {
   "cell_type": "markdown",
   "metadata": {},
   "source": [
    "## Arrays of Arrays (or other types)\n",
    "\n",
    "You can store very different things (a mixture of numbers, matrices, strings) in an array. For instance, if `x1` is a vector and `x2` is a string, then `[x1,x2]` puts them into a vector."
   ]
  },
  {
   "cell_type": "code",
   "execution_count": 12,
   "metadata": {},
   "outputs": [
    {
     "name": "stdout",
     "output_type": "stream",
     "text": [
      "x[2] is: And Ezra Pound and T.S. Eliot fighting in the captain's tower...\n"
     ]
    }
   ],
   "source": [
    "x1 = 1:10\n",
    "x2 = \"And Ezra Pound and T.S. Eliot fighting in the captain's tower...\"\n",
    "x3 = rand(4,3)\n",
    "x  = [x1,x2,x3]\n",
    "\n",
    "println(\"x[2] is: \",x[2])"
   ]
  },
  {
   "cell_type": "markdown",
   "metadata": {},
   "source": [
    "# Comparing Things\n",
    "\n",
    "To see if the scalar z <= 0, do \n",
    "```\n",
    "vv = z <= 0\n",
    "```\n",
    "to get a single output (true or false)\n",
    "\n",
    "Instead, if x is an array, do \n",
    "```\n",
    "vv = x .<= 0                      #notice the dot.\n",
    "```\n",
    "to get an array of outputs (same dimension as x)"
   ]
  },
  {
   "cell_type": "code",
   "execution_count": 13,
   "metadata": {},
   "outputs": [
    {
     "name": "stdout",
     "output_type": "stream",
     "text": [
      "x values: \n",
      "    -1.500\n",
      "    -1.000\n",
      "    -0.500\n",
      "     0.000\n",
      "     0.500\n",
      "\n",
      "true if x is in (-1,0]: \n",
      "     false\n",
      "     false\n",
      "      true\n",
      "      true\n",
      "     false\n",
      "\n",
      "x values that are in (-1,0]: \n",
      "    -0.500\n",
      "     0.000\n",
      "\n"
     ]
    }
   ],
   "source": [
    "x =  [-1.5,-1.0,-0.5,0,0.5]             #this is a vector\n",
    "\n",
    "println(\"x values: \")\n",
    "printmat(x)\n",
    "\n",
    "vv = -1 .< x .<= 0                      #true for x values (-1,0], vv is a vector\n",
    "println(\"true if x is in (-1,0]: \")\n",
    "printmat(vv)\n",
    "\n",
    "x2 = x[vv]                              #x values for which vv==true\n",
    "println(\"x values that are in (-1,0]: \")\n",
    "printmat(x2)"
   ]
  },
  {
   "cell_type": "markdown",
   "metadata": {},
   "source": [
    "# If-then-else\n",
    "\n",
    "allows you to run different commands depending on a condition which you specify."
   ]
  },
  {
   "cell_type": "code",
   "execution_count": 14,
   "metadata": {},
   "outputs": [
    {
     "name": "stdout",
     "output_type": "stream",
     "text": [
      "1.05\n"
     ]
    }
   ],
   "source": [
    "z = 1.05\n",
    "\n",
    "if 1 <= z <= 2          #(a) if true, run the next command (y=z) and then jump to end\n",
    "    y = z\n",
    "elseif z < 1            #(b) if (a) is false, try this instead  \n",
    "    y = 1\n",
    "else                    #(c) if also (b) is false, do this\n",
    "    y = 2\n",
    "end    \n",
    "\n",
    "println(y)"
   ]
  },
  {
   "cell_type": "markdown",
   "metadata": {},
   "source": [
    "# Loops\n",
    "\n",
    "The are two types of loops: \"for loops\" and \"while loops\". \n",
    "\n",
    "The *for loop* is best when you know how many times you want to loop (for instance, over all $m$ rows in a matrix). \n",
    "\n",
    "The *while loop* is best when you want to keep looping until something happens, for instance, that $x_0$ and $x_1$ get really close.\n",
    "\n",
    "If you want the loop to assign values to a variable `x` defined before the loop, add `global x` somewhere inside the loop. (This is not needed if you only assign values to some elements of an existing array.) In contrast, to make sure that the `x` calculated inside the loop does not affect `x` outside the loop, add `local x`."
   ]
  },
  {
   "cell_type": "markdown",
   "metadata": {},
   "source": [
    "### A Simple \"for loop\"\n",
    "\n",
    "The \"for loop\" in the next cell makes 3 iterations and changes a global $x$ variable."
   ]
  },
  {
   "cell_type": "code",
   "execution_count": 15,
   "metadata": {},
   "outputs": [
    {
     "name": "stdout",
     "output_type": "stream",
     "text": [
      "i=3 and x=3\n",
      "i=6 and x=9\n",
      "i=9 and x=18\n"
     ]
    }
   ],
   "source": [
    "x = 0\n",
    "for i = 3:3:9                         #first i=3, then i=6, and last i=9\n",
    "    global x                          #to change the x outside loop\n",
    "    x = x + i                         #adding i to the \"old\" x\n",
    "    println(\"i=$i and x=$x\")          #$x prints the value of x\n",
    "end"
   ]
  },
  {
   "cell_type": "markdown",
   "metadata": {},
   "source": [
    "### A Double \"for loop\"\n",
    "\n",
    "An example of a nested for for loop\n",
    "\n",
    "```\n",
    "for j = 1:n, i = 1:m         \n",
    "    #do something\n",
    "end\n",
    "```\n",
    "\n",
    "If you prefer, could also write a longer version to do the same thing\n",
    "```\n",
    "for j = 1:n \n",
    "    for i = 1:m         \n",
    "        #do something\n",
    "    end    \n",
    "end\n",
    "```\n",
    "\n",
    "The next cell uses a double loop to fill a matrix. "
   ]
  },
  {
   "cell_type": "code",
   "execution_count": 16,
   "metadata": {},
   "outputs": [
    {
     "name": "stdout",
     "output_type": "stream",
     "text": [
      "new x matrix: \n",
      "\n",
      "        11        12        13\n",
      "        21        22        23\n",
      "        31        32        33\n",
      "        41        42        43\n",
      "\n"
     ]
    }
   ],
   "source": [
    "(m,n) = (4,3)                     #same as m=4;n=3\n",
    "x = fill(-999,(m,n))              #to put results in, initialized as -999\n",
    "for i = 1:m, j = 1:n\n",
    "    x[i,j] = 10*i + j\n",
    "end\n",
    "\n",
    "println(\"new x matrix: \\n\") \n",
    "printmat(x)"
   ]
  },
  {
   "cell_type": "markdown",
   "metadata": {},
   "source": [
    "## A Simple \"while loop\"\n",
    "\n",
    "The \"while loop\" in the next cell iterates until two variables ($x_0$ and $x_1$) get close.\n",
    "\n",
    "(The background to the example is that we want to solve a function $f(x)=x^2$ for the $x$ value that makes $f(x)=2$. The Newton-Raphson algorithm is to start with a value $x_0$ and update it to\n",
    "$\n",
    "x_1 = x_0 + (2-f(x_0))/f'(x_0)\n",
    "$\n",
    "where $f'(x_0)$ is the derivative of $f()$ evaluated at $x_0$. The algorithm iterates until $x_0$ and $x_1$ are close. Clearly, we are trying to find the square root of 2.)"
   ]
  },
  {
   "cell_type": "code",
   "execution_count": 17,
   "metadata": {},
   "outputs": [
    {
     "name": "stdout",
     "output_type": "stream",
     "text": [
      "\n",
      "Solving x^2 = 2 with Newton-Raphson:\n",
      "\n",
      "        10 is changed to      5.100\n",
      "     5.100 is changed to      2.746\n",
      "     2.746 is changed to      1.737\n",
      "     1.737 is changed to      1.444\n",
      "     1.444 is changed to      1.415\n",
      "     1.415 is changed to      1.414\n",
      "\n",
      "The result should be close to      1.414\n"
     ]
    }
   ],
   "source": [
    "println(\"\\nSolving x^2 = 2 with Newton-Raphson:\\n\")\n",
    "\n",
    "x₀ = Inf         #x\\_0 + TAB    \n",
    "x₁ = 10                           \n",
    "\n",
    "while abs(x₁-x₀) > 0.001            #keep going until they get similar\n",
    "    global x₀, x₁\n",
    "    local y, dy                    #to make sure we don't overwrite any y,dy outside loop\n",
    "    x₀ = x₁                         #initial guess is taken from old guess\n",
    "    y  = x₀^2                       #value of function\n",
    "    dy = 2*x₀                       #derivative of function\n",
    "    x₁ = x₀ + (2 - y)/dy            #updating the guess, Newton-Raphson\n",
    "    printlnPs(x₀,\" is changed to \",x₁)\n",
    "end\n",
    "\n",
    "printlnPs(\"\\nThe result should be close to \",sqrt(2))"
   ]
  },
  {
   "cell_type": "markdown",
   "metadata": {},
   "source": [
    "# A Simple Function\n",
    "\n",
    "The next cell defines a new function, `fn1()`. It is meant to take a scalar input (`x`) and return a scalar output (`y`).\n",
    "\n",
    "If you instead use a vector as the input, then the computation fails. (The reason is that you cannot do x^2 on a vector. You could on a square matrix, though.)\n",
    "\n",
    "However, using the \"dot\" syntax\n",
    "```\n",
    "y = fn1.(x)\n",
    "```\n",
    "gives an array as output where element `y[i,j] = fn1(x[i,j])`."
   ]
  },
  {
   "cell_type": "code",
   "execution_count": 18,
   "metadata": {},
   "outputs": [
    {
     "data": {
      "text/plain": [
       "fn1 (generic function with 1 method)"
      ]
     },
     "execution_count": 18,
     "metadata": {},
     "output_type": "execute_result"
    }
   ],
   "source": [
    "function fn1(x)               #define a new function \n",
    "  y = (x-1.1)^2 - 0.5                \n",
    "  return y\n",
    "end  "
   ]
  },
  {
   "cell_type": "code",
   "execution_count": 19,
   "metadata": {},
   "outputs": [
    {
     "name": "stdout",
     "output_type": "stream",
     "text": [
      "result from fn1(1.5):     -0.340\n",
      "\n",
      "result from fn1.(x): \n",
      "    -0.490\n",
      "    -0.340\n",
      "\n"
     ]
    }
   ],
   "source": [
    "y = fn1(1.5)\n",
    "printlnPs(\"result from fn1(1.5): \",y)\n",
    "\n",
    "x = [1;1.5] \n",
    "#y = fn1(x)                   #would give an error \n",
    "y = fn1.(x)                   #calling on the function, dot. to do for each element in x\n",
    "printlnPs(\"\\nresult from fn1.(x): \")\n",
    "printmat(y)"
   ]
  },
  {
   "cell_type": "markdown",
   "metadata": {},
   "source": [
    "# A First Plot\n",
    "\n",
    "With the Plots package you create a a simple plot like this:\n",
    "\n",
    "1. Plot one curve by using the `plot()` command \n",
    "2. Add another curve to the figure by using the `plot!()` command. Notice the !\n",
    "3. Add more things by using the `title!()`, `xlabel!()` etc commands."
   ]
  },
  {
   "cell_type": "code",
   "execution_count": 20,
   "metadata": {},
   "outputs": [
    {
     "data": {
      "image/svg+xml": [
       "<?xml version=\"1.0\" encoding=\"utf-8\"?>\n",
       "<svg xmlns=\"http://www.w3.org/2000/svg\" xmlns:xlink=\"http://www.w3.org/1999/xlink\" width=\"600\" height=\"400\" viewBox=\"0 0 600 400\">\n",
       "<defs>\n",
       "  <clipPath id=\"clip8700\">\n",
       "    <rect x=\"0\" y=\"0\" width=\"600\" height=\"400\"/>\n",
       "  </clipPath>\n",
       "</defs>\n",
       "<polygon clip-path=\"url(#clip8700)\" points=\"\n",
       "0,400 600,400 600,0 0,0 \n",
       "  \" fill=\"#ffffff\" fill-opacity=\"1\"/>\n",
       "<defs>\n",
       "  <clipPath id=\"clip8701\">\n",
       "    <rect x=\"120\" y=\"0\" width=\"421\" height=\"400\"/>\n",
       "  </clipPath>\n",
       "</defs>\n",
       "<polygon clip-path=\"url(#clip8700)\" points=\"\n",
       "44.8772,360.121 580.315,360.121 580.315,31.4961 44.8772,31.4961 \n",
       "  \" fill=\"#ffffff\" fill-opacity=\"1\"/>\n",
       "<defs>\n",
       "  <clipPath id=\"clip8702\">\n",
       "    <rect x=\"44\" y=\"31\" width=\"536\" height=\"330\"/>\n",
       "  </clipPath>\n",
       "</defs>\n",
       "<polyline clip-path=\"url(#clip8702)\" style=\"stroke:#000000; stroke-width:0.5; stroke-opacity:0.1; fill:none\" points=\"\n",
       "  104.571,360.121 104.571,31.4961 \n",
       "  \"/>\n",
       "<polyline clip-path=\"url(#clip8702)\" style=\"stroke:#000000; stroke-width:0.5; stroke-opacity:0.1; fill:none\" points=\"\n",
       "  223.959,360.121 223.959,31.4961 \n",
       "  \"/>\n",
       "<polyline clip-path=\"url(#clip8702)\" style=\"stroke:#000000; stroke-width:0.5; stroke-opacity:0.1; fill:none\" points=\"\n",
       "  343.348,360.121 343.348,31.4961 \n",
       "  \"/>\n",
       "<polyline clip-path=\"url(#clip8702)\" style=\"stroke:#000000; stroke-width:0.5; stroke-opacity:0.1; fill:none\" points=\"\n",
       "  462.736,360.121 462.736,31.4961 \n",
       "  \"/>\n",
       "<polyline clip-path=\"url(#clip8702)\" style=\"stroke:#000000; stroke-width:0.5; stroke-opacity:0.1; fill:none\" points=\"\n",
       "  44.8772,346.552 580.315,346.552 \n",
       "  \"/>\n",
       "<polyline clip-path=\"url(#clip8702)\" style=\"stroke:#000000; stroke-width:0.5; stroke-opacity:0.1; fill:none\" points=\"\n",
       "  44.8772,278.693 580.315,278.693 \n",
       "  \"/>\n",
       "<polyline clip-path=\"url(#clip8702)\" style=\"stroke:#000000; stroke-width:0.5; stroke-opacity:0.1; fill:none\" points=\"\n",
       "  44.8772,210.833 580.315,210.833 \n",
       "  \"/>\n",
       "<polyline clip-path=\"url(#clip8702)\" style=\"stroke:#000000; stroke-width:0.5; stroke-opacity:0.1; fill:none\" points=\"\n",
       "  44.8772,142.974 580.315,142.974 \n",
       "  \"/>\n",
       "<polyline clip-path=\"url(#clip8702)\" style=\"stroke:#000000; stroke-width:0.5; stroke-opacity:0.1; fill:none\" points=\"\n",
       "  44.8772,75.1152 580.315,75.1152 \n",
       "  \"/>\n",
       "<polyline clip-path=\"url(#clip8700)\" style=\"stroke:#000000; stroke-width:1; stroke-opacity:1; fill:none\" points=\"\n",
       "  44.8772,360.121 580.315,360.121 \n",
       "  \"/>\n",
       "<polyline clip-path=\"url(#clip8700)\" style=\"stroke:#000000; stroke-width:1; stroke-opacity:1; fill:none\" points=\"\n",
       "  44.8772,360.121 44.8772,31.4961 \n",
       "  \"/>\n",
       "<polyline clip-path=\"url(#clip8700)\" style=\"stroke:#000000; stroke-width:1; stroke-opacity:1; fill:none\" points=\"\n",
       "  104.571,360.121 104.571,355.191 \n",
       "  \"/>\n",
       "<polyline clip-path=\"url(#clip8700)\" style=\"stroke:#000000; stroke-width:1; stroke-opacity:1; fill:none\" points=\"\n",
       "  223.959,360.121 223.959,355.191 \n",
       "  \"/>\n",
       "<polyline clip-path=\"url(#clip8700)\" style=\"stroke:#000000; stroke-width:1; stroke-opacity:1; fill:none\" points=\"\n",
       "  343.348,360.121 343.348,355.191 \n",
       "  \"/>\n",
       "<polyline clip-path=\"url(#clip8700)\" style=\"stroke:#000000; stroke-width:1; stroke-opacity:1; fill:none\" points=\"\n",
       "  462.736,360.121 462.736,355.191 \n",
       "  \"/>\n",
       "<polyline clip-path=\"url(#clip8700)\" style=\"stroke:#000000; stroke-width:1; stroke-opacity:1; fill:none\" points=\"\n",
       "  44.8772,346.552 52.9088,346.552 \n",
       "  \"/>\n",
       "<polyline clip-path=\"url(#clip8700)\" style=\"stroke:#000000; stroke-width:1; stroke-opacity:1; fill:none\" points=\"\n",
       "  44.8772,278.693 52.9088,278.693 \n",
       "  \"/>\n",
       "<polyline clip-path=\"url(#clip8700)\" style=\"stroke:#000000; stroke-width:1; stroke-opacity:1; fill:none\" points=\"\n",
       "  44.8772,210.833 52.9088,210.833 \n",
       "  \"/>\n",
       "<polyline clip-path=\"url(#clip8700)\" style=\"stroke:#000000; stroke-width:1; stroke-opacity:1; fill:none\" points=\"\n",
       "  44.8772,142.974 52.9088,142.974 \n",
       "  \"/>\n",
       "<polyline clip-path=\"url(#clip8700)\" style=\"stroke:#000000; stroke-width:1; stroke-opacity:1; fill:none\" points=\"\n",
       "  44.8772,75.1152 52.9088,75.1152 \n",
       "  \"/>\n",
       "<g clip-path=\"url(#clip8700)\">\n",
       "<text style=\"fill:#000000; fill-opacity:1; font-family:Arial,Helvetica Neue,Helvetica,sans-serif; font-size:12; text-anchor:middle;\" transform=\"rotate(0, 104.571, 373.921)\" x=\"104.571\" y=\"373.921\">-2</text>\n",
       "</g>\n",
       "<g clip-path=\"url(#clip8700)\">\n",
       "<text style=\"fill:#000000; fill-opacity:1; font-family:Arial,Helvetica Neue,Helvetica,sans-serif; font-size:12; text-anchor:middle;\" transform=\"rotate(0, 223.959, 373.921)\" x=\"223.959\" y=\"373.921\">0</text>\n",
       "</g>\n",
       "<g clip-path=\"url(#clip8700)\">\n",
       "<text style=\"fill:#000000; fill-opacity:1; font-family:Arial,Helvetica Neue,Helvetica,sans-serif; font-size:12; text-anchor:middle;\" transform=\"rotate(0, 343.348, 373.921)\" x=\"343.348\" y=\"373.921\">2</text>\n",
       "</g>\n",
       "<g clip-path=\"url(#clip8700)\">\n",
       "<text style=\"fill:#000000; fill-opacity:1; font-family:Arial,Helvetica Neue,Helvetica,sans-serif; font-size:12; text-anchor:middle;\" transform=\"rotate(0, 462.736, 373.921)\" x=\"462.736\" y=\"373.921\">4</text>\n",
       "</g>\n",
       "<g clip-path=\"url(#clip8700)\">\n",
       "<text style=\"fill:#000000; fill-opacity:1; font-family:Arial,Helvetica Neue,Helvetica,sans-serif; font-size:12; text-anchor:end;\" transform=\"rotate(0, 38.8772, 351.052)\" x=\"38.8772\" y=\"351.052\">0</text>\n",
       "</g>\n",
       "<g clip-path=\"url(#clip8700)\">\n",
       "<text style=\"fill:#000000; fill-opacity:1; font-family:Arial,Helvetica Neue,Helvetica,sans-serif; font-size:12; text-anchor:end;\" transform=\"rotate(0, 38.8772, 283.193)\" x=\"38.8772\" y=\"283.193\">5</text>\n",
       "</g>\n",
       "<g clip-path=\"url(#clip8700)\">\n",
       "<text style=\"fill:#000000; fill-opacity:1; font-family:Arial,Helvetica Neue,Helvetica,sans-serif; font-size:12; text-anchor:end;\" transform=\"rotate(0, 38.8772, 215.333)\" x=\"38.8772\" y=\"215.333\">10</text>\n",
       "</g>\n",
       "<g clip-path=\"url(#clip8700)\">\n",
       "<text style=\"fill:#000000; fill-opacity:1; font-family:Arial,Helvetica Neue,Helvetica,sans-serif; font-size:12; text-anchor:end;\" transform=\"rotate(0, 38.8772, 147.474)\" x=\"38.8772\" y=\"147.474\">15</text>\n",
       "</g>\n",
       "<g clip-path=\"url(#clip8700)\">\n",
       "<text style=\"fill:#000000; fill-opacity:1; font-family:Arial,Helvetica Neue,Helvetica,sans-serif; font-size:12; text-anchor:end;\" transform=\"rotate(0, 38.8772, 79.6152)\" x=\"38.8772\" y=\"79.6152\">20</text>\n",
       "</g>\n",
       "<g clip-path=\"url(#clip8700)\">\n",
       "<text style=\"fill:#000000; fill-opacity:1; font-family:Arial,Helvetica Neue,Helvetica,sans-serif; font-size:21; text-anchor:middle;\" transform=\"rotate(0, 312.596, 18)\" x=\"312.596\" y=\"18\">My Results</text>\n",
       "</g>\n",
       "<g clip-path=\"url(#clip8700)\">\n",
       "<text style=\"fill:#000000; fill-opacity:1; font-family:Arial,Helvetica Neue,Helvetica,sans-serif; font-size:16; text-anchor:middle;\" transform=\"rotate(0, 312.596, 397.6)\" x=\"312.596\" y=\"397.6\">x</text>\n",
       "</g>\n",
       "<g clip-path=\"url(#clip8700)\">\n",
       "<text style=\"fill:#000000; fill-opacity:1; font-family:Arial,Helvetica Neue,Helvetica,sans-serif; font-size:16; text-anchor:middle;\" transform=\"rotate(-90, 14.4, 195.808)\" x=\"14.4\" y=\"195.808\">my output value</text>\n",
       "</g>\n",
       "<polyline clip-path=\"url(#clip8702)\" style=\"stroke:#ff0000; stroke-width:2; stroke-opacity:1; fill:none\" points=\"\n",
       "  44.8772,125.195 48.4951,131.89 52.1129,138.485 55.7307,144.981 59.3485,151.377 62.9663,157.673 66.5842,163.869 70.202,169.966 73.8198,175.963 77.4376,181.86 \n",
       "  81.0555,187.658 84.6733,193.356 88.2911,198.954 91.9089,204.453 95.5267,209.851 99.1446,215.151 102.762,220.35 106.38,225.45 109.998,230.45 113.616,235.35 \n",
       "  117.234,240.151 120.852,244.852 124.469,249.453 128.087,253.954 131.705,258.356 135.323,262.658 138.941,266.861 142.558,270.963 146.176,274.966 149.794,278.87 \n",
       "  153.412,282.673 157.03,286.377 160.648,289.981 164.265,293.486 167.883,296.891 171.501,300.196 175.119,303.401 178.737,306.507 182.354,309.513 185.972,312.419 \n",
       "  189.59,315.226 193.208,317.933 196.826,320.54 200.444,323.047 204.061,325.455 207.679,327.763 211.297,329.971 214.915,332.08 218.533,334.089 222.151,335.998 \n",
       "  225.768,337.808 229.386,339.518 233.004,341.128 236.622,342.638 240.24,344.049 243.857,345.36 247.475,346.572 251.093,347.683 254.711,348.695 258.329,349.608 \n",
       "  261.947,350.42 265.564,351.133 269.182,351.746 272.8,352.26 276.418,352.673 280.036,352.987 283.654,353.202 287.271,353.316 290.889,353.331 294.507,353.247 \n",
       "  298.125,353.062 301.743,352.778 305.36,352.394 308.978,351.911 312.596,351.327 316.214,350.645 319.832,349.862 323.45,348.979 327.067,347.997 330.685,346.916 \n",
       "  334.303,345.734 337.921,344.453 341.539,343.072 345.156,341.592 348.774,340.011 352.392,338.331 356.01,336.552 359.628,334.672 363.246,332.693 366.863,330.615 \n",
       "  370.481,328.436 374.099,326.158 377.717,323.78 381.335,321.302 384.953,318.725 388.57,316.048 392.188,313.272 395.806,310.395 399.424,307.419 403.042,304.343 \n",
       "  406.659,301.168 410.277,297.893 413.895,294.518 417.513,291.043 421.131,287.469 424.749,283.795 428.366,280.021 431.984,276.148 435.602,272.175 439.22,268.102 \n",
       "  442.838,263.929 446.456,259.657 450.073,255.285 453.691,250.814 457.309,246.242 460.927,241.571 464.545,236.801 468.162,231.93 471.78,226.96 475.398,221.89 \n",
       "  479.016,216.721 482.634,211.452 486.252,206.083 489.869,200.614 493.487,195.046 497.105,189.378 500.723,183.61 504.341,177.743 507.959,171.776 511.576,165.709 \n",
       "  515.194,159.542 518.812,153.276 522.43,146.91 526.048,140.445 529.665,133.879 533.283,127.214 536.901,120.449 540.519,113.585 544.137,106.621 547.755,99.5571 \n",
       "  551.372,92.3935 554.99,85.1303 558.608,77.7674 562.226,70.3047 565.844,62.7424 569.461,55.0804 573.079,47.3186 576.697,39.4572 580.315,31.4961 \n",
       "  \"/>\n",
       "<polyline clip-path=\"url(#clip8702)\" style=\"stroke:#0000ff; stroke-width:1; stroke-opacity:1; fill:none\" stroke-dasharray=\"8, 5\" points=\"\n",
       "  44.8772,359.988 48.4951,359.847 52.1129,359.657 55.7307,359.42 59.3485,359.135 62.9663,358.804 66.5842,358.428 70.202,358.008 73.8198,357.546 77.4376,357.044 \n",
       "  81.0555,356.504 84.6733,355.926 88.2911,355.315 91.9089,354.671 95.5267,353.997 99.1446,353.297 102.762,352.571 106.38,351.823 109.998,351.056 113.616,350.272 \n",
       "  117.234,349.475 120.852,348.667 124.469,347.851 128.087,347.03 131.705,346.208 135.323,345.387 138.941,344.57 142.558,343.76 146.176,342.961 149.794,342.175 \n",
       "  153.412,341.405 157.03,340.653 160.648,339.924 164.265,339.219 167.883,338.541 171.501,337.892 175.119,337.275 178.737,336.692 182.354,336.145 185.972,335.636 \n",
       "  189.59,335.168 193.208,334.741 196.826,334.358 200.444,334.019 204.061,333.727 207.679,333.481 211.297,333.284 214.915,333.135 218.533,333.036 222.151,332.986 \n",
       "  225.768,332.986 229.386,333.036 233.004,333.135 236.622,333.284 240.24,333.481 243.857,333.727 247.475,334.019 251.093,334.358 254.711,334.741 258.329,335.168 \n",
       "  261.947,335.636 265.564,336.145 269.182,336.692 272.8,337.275 276.418,337.892 280.036,338.541 283.654,339.219 287.271,339.924 290.889,340.653 294.507,341.405 \n",
       "  298.125,342.175 301.743,342.961 305.36,343.76 308.978,344.57 312.596,345.387 316.214,346.208 319.832,347.03 323.45,347.851 327.067,348.667 330.685,349.475 \n",
       "  334.303,350.272 337.921,351.056 341.539,351.823 345.156,352.571 348.774,353.297 352.392,353.997 356.01,354.671 359.628,355.315 363.246,355.926 366.863,356.504 \n",
       "  370.481,357.044 374.099,357.546 377.717,358.008 381.335,358.428 384.953,358.804 388.57,359.135 392.188,359.42 395.806,359.657 399.424,359.847 403.042,359.988 \n",
       "  406.659,360.079 410.277,360.121 413.895,360.112 417.513,360.055 421.131,359.947 424.749,359.79 428.366,359.585 431.984,359.332 435.602,359.032 439.22,358.686 \n",
       "  442.838,358.295 446.456,357.862 450.073,357.386 453.691,356.871 457.309,356.319 460.927,355.73 464.545,355.108 468.162,354.454 471.78,353.771 475.398,353.062 \n",
       "  479.016,352.328 482.634,351.574 486.252,350.801 489.869,350.012 493.487,349.211 497.105,348.4 500.723,347.582 504.341,346.761 507.959,345.939 511.576,345.119 \n",
       "  515.194,344.304 518.812,343.497 522.43,342.702 526.048,341.921 529.665,341.156 533.283,340.412 536.901,339.69 540.519,338.994 544.137,338.325 547.755,337.686 \n",
       "  551.372,337.08 554.99,336.509 558.608,335.974 562.226,335.478 565.844,335.023 569.461,334.611 573.079,334.242 576.697,333.918 580.315,333.641 \n",
       "  \"/>\n",
       "<polygon clip-path=\"url(#clip8700)\" points=\"\n",
       "477.574,97.7361 562.315,97.7361 562.315,52.3761 477.574,52.3761 \n",
       "  \" fill=\"#ffffff\" fill-opacity=\"1\"/>\n",
       "<polyline clip-path=\"url(#clip8700)\" style=\"stroke:#000000; stroke-width:1; stroke-opacity:1; fill:none\" points=\"\n",
       "  477.574,97.7361 562.315,97.7361 562.315,52.3761 477.574,52.3761 477.574,97.7361 \n",
       "  \"/>\n",
       "<polyline clip-path=\"url(#clip8700)\" style=\"stroke:#ff0000; stroke-width:2; stroke-opacity:1; fill:none\" points=\"\n",
       "  483.574,67.4961 519.574,67.4961 \n",
       "  \"/>\n",
       "<g clip-path=\"url(#clip8700)\">\n",
       "<text style=\"fill:#000000; fill-opacity:1; font-family:Arial,Helvetica Neue,Helvetica,sans-serif; font-size:12; text-anchor:start;\" transform=\"rotate(0, 525.574, 71.9961)\" x=\"525.574\" y=\"71.9961\">fn1()</text>\n",
       "</g>\n",
       "<polyline clip-path=\"url(#clip8700)\" style=\"stroke:#0000ff; stroke-width:1; stroke-opacity:1; fill:none\" stroke-dasharray=\"8, 5\" points=\"\n",
       "  483.574,82.6161 519.574,82.6161 \n",
       "  \"/>\n",
       "<g clip-path=\"url(#clip8700)\">\n",
       "<text style=\"fill:#000000; fill-opacity:1; font-family:Arial,Helvetica Neue,Helvetica,sans-serif; font-size:12; text-anchor:start;\" transform=\"rotate(0, 525.574, 87.1161)\" x=\"525.574\" y=\"87.1161\">cos</text>\n",
       "</g>\n",
       "</svg>\n"
      ]
     },
     "execution_count": 20,
     "metadata": {},
     "output_type": "execute_result"
    }
   ],
   "source": [
    "x = collect(-3:6/99:6) \n",
    "\n",
    "plot(x,fn1.(x),color=:red,linewidth=2,label=\"fn1()\")\n",
    "plot!(x,cos.(x),color=:blue,line=(:dash),label=\"cos\")\n",
    "title!(\"My Results\")\n",
    "xlabel!(\"x\")\n",
    "ylabel!(\"my output value\")"
   ]
  },
  {
   "cell_type": "code",
   "execution_count": 21,
   "metadata": {},
   "outputs": [
    {
     "name": "stdout",
     "output_type": "stream",
     "text": [
      "end of program\n"
     ]
    }
   ],
   "source": [
    "println(\"end of program\")"
   ]
  },
  {
   "cell_type": "code",
   "execution_count": null,
   "metadata": {},
   "outputs": [],
   "source": []
  }
 ],
 "metadata": {
  "anaconda-cloud": {},
  "kernelspec": {
   "display_name": "Julia 0.6.2",
   "language": "julia",
   "name": "julia-0.6"
  },
  "language_info": {
   "file_extension": ".jl",
   "mimetype": "application/julia",
   "name": "julia",
   "version": "0.6.2"
  }
 },
 "nbformat": 4,
 "nbformat_minor": 1
}
