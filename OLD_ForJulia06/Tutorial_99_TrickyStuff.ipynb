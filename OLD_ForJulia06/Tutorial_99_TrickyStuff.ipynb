{
 "cells": [
  {
   "cell_type": "markdown",
   "metadata": {},
   "source": [
    "# Tricky Stuff\n",
    "\n",
    "This file highlights some tricky aspects of Julia (from the perspective of a matlab user)."
   ]
  },
  {
   "cell_type": "code",
   "execution_count": 1,
   "metadata": {},
   "outputs": [
    {
     "data": {
      "text/plain": [
       "printlnPs (generic function with 2 methods)"
      ]
     },
     "execution_count": 1,
     "metadata": {},
     "output_type": "execute_result"
    }
   ],
   "source": [
    "using Compat             #Julia 0.6\n",
    "#using Dates             #Julia 0.7, needed for printmat.jl\n",
    "\n",
    "include(\"printmat.jl\")   #function for prettier matrix printing"
   ]
  },
  {
   "cell_type": "markdown",
   "metadata": {},
   "source": [
    "# An Nx1 Array is not a Vector\n",
    "\n",
    "and it sometimes matters. \n",
    "\n",
    "Julia has both vectors and Nx1 arrays (the latter being a special case of NxM arrays). They can often be used interchangeably, but not always (see below for an example).\n",
    "\n",
    "In particular, you typically use a vector when you want to pull out particular rows from a larger array."
   ]
  },
  {
   "cell_type": "code",
   "execution_count": 2,
   "metadata": {},
   "outputs": [
    {
     "name": "stdout",
     "output_type": "stream",
     "text": [
      "v and v2 look similar, but they have different sizes: \n",
      "         1\n",
      "         1\n",
      "\n",
      "         1\n",
      "         1\n",
      "\n",
      "size of v and v2: (2,) (2, 1)\n",
      "\n",
      "x: \n",
      "        11        12\n",
      "        21        22\n",
      "        31        32\n",
      "\n",
      "x[v,:] is\n",
      "        11        12\n",
      "        11        12\n",
      "\n"
     ]
    }
   ],
   "source": [
    "v  = ones(Int,2)                     #a vector with two elements\n",
    "v2 = ones(Int,2,1)                   #a 2x1 'matrix (Array)\n",
    "\n",
    "println(\"v and v2 look similar, but they have different sizes: \")\n",
    "printmat(v)\n",
    "printmat(v2)\n",
    "println(\"size of v and v2: \",size(v),\" \",size(v2))\n",
    "\n",
    "x = [11 12;21 22;31 32]\n",
    "println(\"\\nx: \")\n",
    "printmat(x)\n",
    "\n",
    "println(\"x[v,:] is\") \n",
    "printmat(x[v,:])                    #instead, x[v2,:] gives an 2x1x2 array"
   ]
  },
  {
   "cell_type": "markdown",
   "metadata": {},
   "source": [
    "# Array .+ scalar Requires the dot (.)"
   ]
  },
  {
   "cell_type": "code",
   "execution_count": 3,
   "metadata": {},
   "outputs": [
    {
     "name": "stdout",
     "output_type": "stream",
     "text": [
      "         2\n",
      "         3\n",
      "\n"
     ]
    }
   ],
   "source": [
    "y = [1;2] .+ 1              #do not forget the dot\n",
    "printmat(y)"
   ]
  },
  {
   "cell_type": "markdown",
   "metadata": {},
   "source": [
    "# Creating Variables in a Loop"
   ]
  },
  {
   "cell_type": "code",
   "execution_count": 4,
   "metadata": {},
   "outputs": [
    {
     "name": "stdout",
     "output_type": "stream",
     "text": [
      "Variables CREATED in a for loop are not visible outside the loop\n",
      "\n",
      "add 'global' to make it visible outside the loop\n",
      "Oden: 0.28366218546322625\n"
     ]
    }
   ],
   "source": [
    "for i = 1:5\n",
    "  Tor = cos(i)\n",
    "end\n",
    "try\n",
    "    println(Tor)\n",
    "catch\n",
    "    println(\"Variables CREATED in a for loop are not visible outside the loop\")\n",
    "end\n",
    "\n",
    "println(\"\\nadd 'global' to make it visible outside the loop\")\n",
    "for i = 1:5\n",
    "  global Oden  \n",
    "  Oden = cos(i)\n",
    "end\n",
    "println(\"Oden: \",Oden)"
   ]
  },
  {
   "cell_type": "markdown",
   "metadata": {},
   "source": [
    "# Cell Arrays"
   ]
  },
  {
   "cell_type": "markdown",
   "metadata": {},
   "source": [
    "To creata a 'cell array' (a heterogenous Array), use `[x1,x2,...]`\n",
    "\n",
    "Alternatively, you can preallocate as in B = Array{Any}(3) and then fill by, for instance, B[3] = 27"
   ]
  },
  {
   "cell_type": "code",
   "execution_count": 5,
   "metadata": {},
   "outputs": [
    {
     "name": "stdout",
     "output_type": "stream",
     "text": [
      "\n",
      "The array A: \n",
      "        11        12\n",
      "        21        22\n",
      "\n",
      "A nice dog\n",
      "\n",
      "        27\n",
      "\n",
      "\n",
      "The array B: \n",
      "        11        12\n",
      "\n",
      "A bad cat\n",
      "\n",
      "π = 3.1415926535897...\n",
      "\n"
     ]
    }
   ],
   "source": [
    "A = [[11 12;21 22],\"A nice dog\",27]\n",
    "\n",
    "println(\"\\nThe array A: \")\n",
    "for i = 1:length(A)\n",
    "    printmat(A[i])\n",
    "end  \n",
    "\n",
    "B = Compat.Array{Any}(undef,3)         #0.7 syntax\n",
    "B[1] = [11 12]\n",
    "B[2] = \"A bad cat\"\n",
    "B[3] = pi\n",
    "\n",
    "println(\"\\nThe array B: \")\n",
    "for i = 1:length(B)\n",
    "    printmat(B[i])\n",
    "end"
   ]
  },
  {
   "cell_type": "markdown",
   "metadata": {},
   "source": [
    "# Arrays are Different...\n",
    "\n",
    "Vectors and matrices (arrays) can take lots of memory space, so **Julia is designed to avoid unnecessary copies of arrays**."
   ]
  },
  {
   "cell_type": "markdown",
   "metadata": {},
   "source": [
    "## Issue 1. B = A Creates Two Names of the Same Array\n",
    "\n",
    "If A is an array, then\n",
    "```\n",
    "B = A\n",
    "```\n",
    "creates two names of the *same* matrix. If you later change A, then B is changed automatically. (Similarly, if you change B, then A is changed automatically.)"
   ]
  },
  {
   "cell_type": "code",
   "execution_count": 6,
   "metadata": {},
   "outputs": [
    {
     "name": "stdout",
     "output_type": "stream",
     "text": [
      "\n",
      "old A,B,C: \n",
      "         1         1         1\n",
      "         2         2         2\n",
      "\n",
      "after changing element A[2] to -999\n",
      "         1         1         1\n",
      "      -999      -999         2\n",
      "\n",
      "\u001b[34m\n",
      "Notice that B changed, but C did not\n",
      "\u001b[39m"
     ]
    }
   ],
   "source": [
    "A = [1;2]\n",
    "B = A                                 #A and B are the same\n",
    "C = A .+ 0                            #A and C are not the same\n",
    "println()\n",
    "println(\"old A,B,C: \")\n",
    "printmat([A B C])\n",
    "\n",
    "A[2] = -999\n",
    "println(\"after changing element A[2] to -999\")\n",
    "printmat([A B C])\n",
    "\n",
    "Compat.printstyled(\"\\nNotice that B changed, but C did not\\n\",color=:blue)"
   ]
  },
  {
   "cell_type": "markdown",
   "metadata": {},
   "source": [
    "## Issue 2. A Reshaped Array still Refers to the Original Array\n",
    "\n",
    "If you create a reshaped array by either \n",
    "```\n",
    "B = reshape(A,n,m)\n",
    "C = vec(A)\n",
    "D = A'              #in Julia 0.7\n",
    "```\n",
    "then A, B, C and D (in 0.7) contain the same values. Changing one changes the others automatically."
   ]
  },
  {
   "cell_type": "code",
   "execution_count": 7,
   "metadata": {},
   "outputs": [
    {
     "name": "stdout",
     "output_type": "stream",
     "text": [
      "original A: \n",
      "         1         2\n",
      "\n",
      "old B and C: \n",
      "         1         1\n",
      "         2         2\n",
      "\n",
      "B and C after changing element A[2] to -999\n",
      "         1         1\n",
      "      -999      -999\n",
      "\n",
      "D after changing element A[2] to -999\n",
      "         1\n",
      "         2\n",
      "\n",
      "\u001b[34m\n",
      "Notice that B and C also changed\n",
      "\u001b[39m\u001b[34m\n",
      "In Julia 0.7, also D changes\n",
      "\u001b[39m"
     ]
    }
   ],
   "source": [
    "A = [1 2]\n",
    "println(\"original A: \")\n",
    "printmat(A)\n",
    "\n",
    "B = reshape(A,2,1)\n",
    "C = vec(A)\n",
    "D = A'\n",
    "\n",
    "println(\"old B and C: \")\n",
    "printmat([B C])\n",
    "\n",
    "A[2] = -999\n",
    "println(\"B and C after changing element A[2] to -999\")\n",
    "printmat([B C])\n",
    "println(\"D after changing element A[2] to -999\")\n",
    "printmat(D)\n",
    "\n",
    "Compat.printstyled(\"\\nNotice that B and C also changed\\n\",color=:blue)\n",
    "Compat.printstyled(\"\\nIn Julia 0.7, also D changes\\n\",color=:blue)"
   ]
  },
  {
   "cell_type": "markdown",
   "metadata": {},
   "source": [
    "## Issue 3. Changing an Array Inside a Function Can Have Effects *Outside* the Function"
   ]
  },
  {
   "cell_type": "markdown",
   "metadata": {},
   "source": [
    "When you use an array as a function argument, then that is passed as a reference to the function.\n",
    "\n",
    "This means that if you change some elements of the array (A[1] = A[1]/2, say) inside the function, then it will also affect the array outside the function (even if they have different names).\n",
    "\n",
    "In contrast, if you change the entire array (A/2, say) inside the function, then that does not affect the array outside the function.\n",
    "\n",
    "This applies to arrays, but not to scalars or strings.\n",
    "\n",
    "If you really need an independent copy of an array, create it by\n",
    "\n",
    "B = copy(A)"
   ]
  },
  {
   "cell_type": "code",
   "execution_count": 8,
   "metadata": {},
   "outputs": [
    {
     "name": "stdout",
     "output_type": "stream",
     "text": [
      "original x:      1.000     2.000\n",
      "x (outside function) after calling f1(x):      0.500     2.000\n",
      "\n",
      "original x:      1.000     2.000\n",
      "x (outside function) after calling f2(x):      1.000     2.000\n",
      "\u001b[34m\n",
      "Notice that f1() changed x also outside the function, but f2() did not\n",
      "\u001b[39m"
     ]
    }
   ],
   "source": [
    "function f1(A)\n",
    "    A[1] = A[1]/2          #changes ELEMENTS of A, affects outside value\n",
    "  return A\n",
    "end\n",
    "function f2(A)\n",
    "    A = A/2                #changes all of A, does not affect outside value\n",
    "  return A\n",
    "end\n",
    "\n",
    "x  = [1.0 2.0]\n",
    "printlnPs(\"original x: \",x)\n",
    "\n",
    "y1 = f1(x)\n",
    "printlnPs(\"x (outside function) after calling f1(x): \",x)\n",
    "\n",
    "x  = [1.0 2.0]\n",
    "printlnPs(\"\\noriginal x: \",x)\n",
    "\n",
    "y2 = f2(x)\n",
    "printlnPs(\"x (outside function) after calling f2(x): \",x)\n",
    "\n",
    "Compat.printstyled(\"\\nNotice that f1() changed x also outside the function, but f2() did not\\n\",color=:blue)"
   ]
  },
  {
   "cell_type": "code",
   "execution_count": 9,
   "metadata": {},
   "outputs": [
    {
     "name": "stdout",
     "output_type": "stream",
     "text": [
      "original x:      1.000     2.000\n",
      "x (outside function) after calling f3(x):      1.000     2.000\n",
      "\u001b[34m\n",
      "Notice that f3() did not change x outside the function\n",
      "\u001b[39m"
     ]
    }
   ],
   "source": [
    "function f3(A)\n",
    "    B    = copy(A)                #B is an independent copy\n",
    "    B[1] = B[1]/2          \n",
    "  return B\n",
    "end\n",
    "\n",
    "x  = [1.0 2.0]\n",
    "printlnPs(\"original x: \",x)\n",
    "\n",
    "y1 = f3(x)\n",
    "printlnPs(\"x (outside function) after calling f3(x): \",x)\n",
    "\n",
    "Compat.printstyled(\"\\nNotice that f3() did not change x outside the function\\n\",color=:blue)"
   ]
  },
  {
   "cell_type": "code",
   "execution_count": null,
   "metadata": {},
   "outputs": [],
   "source": []
  }
 ],
 "metadata": {
  "anaconda-cloud": {},
  "kernelspec": {
   "display_name": "Julia 0.6.4",
   "language": "julia",
   "name": "julia-0.6"
  },
  "language_info": {
   "file_extension": ".jl",
   "mimetype": "application/julia",
   "name": "julia",
   "version": "0.6.4"
  }
 },
 "nbformat": 4,
 "nbformat_minor": 1
}
