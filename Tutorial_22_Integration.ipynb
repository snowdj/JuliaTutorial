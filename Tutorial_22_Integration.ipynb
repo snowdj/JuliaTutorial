{
 "cells": [
  {
   "cell_type": "markdown",
   "metadata": {},
   "source": [
    "# Numerical Integration and Differentiation\n",
    "\n",
    "This notebook illustrates how to perform numerical integration and differentiation. \n",
    "\n",
    "There are several packages for doing this. Here, the focus is on QuadGK (https://github.com/JuliaMath/QuadGK.jl) and ForwardDiff (https://github.com/JuliaDiff/ForwardDiff.jl)."
   ]
  },
  {
   "cell_type": "markdown",
   "metadata": {},
   "source": [
    "## Load Packages"
   ]
  },
  {
   "cell_type": "code",
   "execution_count": 1,
   "metadata": {},
   "outputs": [
    {
     "data": {
      "text/plain": [
       "printlnPs (generic function with 2 methods)"
      ]
     },
     "execution_count": 1,
     "metadata": {},
     "output_type": "execute_result"
    }
   ],
   "source": [
    "using Dates, QuadGK, ForwardDiff\n",
    "\n",
    "include(\"printmat.jl\")"
   ]
  },
  {
   "cell_type": "code",
   "execution_count": 2,
   "metadata": {},
   "outputs": [],
   "source": [
    "using Plots\n",
    "\n",
    "backend = \"gr\"              #\"gr\" (default), \"pyplot\" \n",
    "\n",
    "if backend == \"pyplot\"\n",
    "    pyplot(size=(600,400))\n",
    "else    \n",
    "    gr(size=(480,320))\n",
    "    default(fmt = :svg)\n",
    "end"
   ]
  },
  {
   "cell_type": "markdown",
   "metadata": {},
   "source": [
    "# Numerical Integration\n",
    "\n",
    "As a simple illustration, the next cells plot and integrate the $N(0,1)$ pdf."
   ]
  },
  {
   "cell_type": "markdown",
   "metadata": {},
   "source": [
    "## The Pdf of the N() Distribution \n",
    "\n",
    "Notice: the function takes $\\mu$ and $\\sigma$ (not $\\sigma^2$) as inputs, similar to the Distributions package. "
   ]
  },
  {
   "cell_type": "code",
   "execution_count": 3,
   "metadata": {},
   "outputs": [
    {
     "data": {
      "text/plain": [
       "ϕNS (generic function with 3 methods)"
      ]
     },
     "execution_count": 3,
     "metadata": {},
     "output_type": "execute_result"
    }
   ],
   "source": [
    "function ϕNS(x,μ=0,σ=1)       #pdf of N(μ,σ), defaults to N(0,1)\n",
    "    z = (x - μ)/σ\n",
    "    pdf = exp(-0.5*z^2)/(sqrt(2*pi)*σ)    \n",
    "    return pdf\n",
    "end"
   ]
  },
  {
   "cell_type": "code",
   "execution_count": 4,
   "metadata": {},
   "outputs": [
    {
     "data": {
      "image/svg+xml": [
       "<?xml version=\"1.0\" encoding=\"utf-8\"?>\n",
       "<svg xmlns=\"http://www.w3.org/2000/svg\" xmlns:xlink=\"http://www.w3.org/1999/xlink\" width=\"480\" height=\"320\" viewBox=\"0 0 1920 1280\">\n",
       "<defs>\n",
       "  <clipPath id=\"clip3800\">\n",
       "    <rect x=\"0\" y=\"0\" width=\"2000\" height=\"2000\"/>\n",
       "  </clipPath>\n",
       "</defs>\n",
       "<defs>\n",
       "  <clipPath id=\"clip3801\">\n",
       "    <rect x=\"0\" y=\"0\" width=\"1920\" height=\"1280\"/>\n",
       "  </clipPath>\n",
       "</defs>\n",
       "<polygon clip-path=\"url(#clip3801)\" points=\"\n",
       "0,1280 1920,1280 1920,0 0,0 \n",
       "  \" fill=\"#ffffff\" fill-opacity=\"1\"/>\n",
       "<defs>\n",
       "  <clipPath id=\"clip3802\">\n",
       "    <rect x=\"384\" y=\"0\" width=\"1345\" height=\"1280\"/>\n",
       "  </clipPath>\n",
       "</defs>\n",
       "<polygon clip-path=\"url(#clip3801)\" points=\"\n",
       "161.394,1120.48 1841.26,1120.48 1841.26,125.984 161.394,125.984 \n",
       "  \" fill=\"#ffffff\" fill-opacity=\"1\"/>\n",
       "<defs>\n",
       "  <clipPath id=\"clip3803\">\n",
       "    <rect x=\"161\" y=\"125\" width=\"1681\" height=\"995\"/>\n",
       "  </clipPath>\n",
       "</defs>\n",
       "<polyline clip-path=\"url(#clip3803)\" style=\"stroke:#000000; stroke-width:2; stroke-opacity:0.1; fill:none\" points=\"\n",
       "  208.937,1120.48 208.937,125.984 \n",
       "  \"/>\n",
       "<polyline clip-path=\"url(#clip3803)\" style=\"stroke:#000000; stroke-width:2; stroke-opacity:0.1; fill:none\" points=\"\n",
       "  473.067,1120.48 473.067,125.984 \n",
       "  \"/>\n",
       "<polyline clip-path=\"url(#clip3803)\" style=\"stroke:#000000; stroke-width:2; stroke-opacity:0.1; fill:none\" points=\"\n",
       "  737.197,1120.48 737.197,125.984 \n",
       "  \"/>\n",
       "<polyline clip-path=\"url(#clip3803)\" style=\"stroke:#000000; stroke-width:2; stroke-opacity:0.1; fill:none\" points=\"\n",
       "  1001.33,1120.48 1001.33,125.984 \n",
       "  \"/>\n",
       "<polyline clip-path=\"url(#clip3803)\" style=\"stroke:#000000; stroke-width:2; stroke-opacity:0.1; fill:none\" points=\"\n",
       "  1265.46,1120.48 1265.46,125.984 \n",
       "  \"/>\n",
       "<polyline clip-path=\"url(#clip3803)\" style=\"stroke:#000000; stroke-width:2; stroke-opacity:0.1; fill:none\" points=\"\n",
       "  1529.59,1120.48 1529.59,125.984 \n",
       "  \"/>\n",
       "<polyline clip-path=\"url(#clip3803)\" style=\"stroke:#000000; stroke-width:2; stroke-opacity:0.1; fill:none\" points=\"\n",
       "  1793.72,1120.48 1793.72,125.984 \n",
       "  \"/>\n",
       "<polyline clip-path=\"url(#clip3803)\" style=\"stroke:#000000; stroke-width:2; stroke-opacity:0.1; fill:none\" points=\"\n",
       "  161.394,1092.34 1841.26,1092.34 \n",
       "  \"/>\n",
       "<polyline clip-path=\"url(#clip3803)\" style=\"stroke:#000000; stroke-width:2; stroke-opacity:0.1; fill:none\" points=\"\n",
       "  161.394,857.163 1841.26,857.163 \n",
       "  \"/>\n",
       "<polyline clip-path=\"url(#clip3803)\" style=\"stroke:#000000; stroke-width:2; stroke-opacity:0.1; fill:none\" points=\"\n",
       "  161.394,621.99 1841.26,621.99 \n",
       "  \"/>\n",
       "<polyline clip-path=\"url(#clip3803)\" style=\"stroke:#000000; stroke-width:2; stroke-opacity:0.1; fill:none\" points=\"\n",
       "  161.394,386.816 1841.26,386.816 \n",
       "  \"/>\n",
       "<polyline clip-path=\"url(#clip3803)\" style=\"stroke:#000000; stroke-width:2; stroke-opacity:0.1; fill:none\" points=\"\n",
       "  161.394,151.643 1841.26,151.643 \n",
       "  \"/>\n",
       "<polyline clip-path=\"url(#clip3801)\" style=\"stroke:#000000; stroke-width:4; stroke-opacity:1; fill:none\" points=\"\n",
       "  161.394,1120.48 1841.26,1120.48 \n",
       "  \"/>\n",
       "<polyline clip-path=\"url(#clip3801)\" style=\"stroke:#000000; stroke-width:4; stroke-opacity:1; fill:none\" points=\"\n",
       "  161.394,1120.48 161.394,125.984 \n",
       "  \"/>\n",
       "<polyline clip-path=\"url(#clip3801)\" style=\"stroke:#000000; stroke-width:4; stroke-opacity:1; fill:none\" points=\"\n",
       "  208.937,1120.48 208.937,1105.57 \n",
       "  \"/>\n",
       "<polyline clip-path=\"url(#clip3801)\" style=\"stroke:#000000; stroke-width:4; stroke-opacity:1; fill:none\" points=\"\n",
       "  473.067,1120.48 473.067,1105.57 \n",
       "  \"/>\n",
       "<polyline clip-path=\"url(#clip3801)\" style=\"stroke:#000000; stroke-width:4; stroke-opacity:1; fill:none\" points=\"\n",
       "  737.197,1120.48 737.197,1105.57 \n",
       "  \"/>\n",
       "<polyline clip-path=\"url(#clip3801)\" style=\"stroke:#000000; stroke-width:4; stroke-opacity:1; fill:none\" points=\"\n",
       "  1001.33,1120.48 1001.33,1105.57 \n",
       "  \"/>\n",
       "<polyline clip-path=\"url(#clip3801)\" style=\"stroke:#000000; stroke-width:4; stroke-opacity:1; fill:none\" points=\"\n",
       "  1265.46,1120.48 1265.46,1105.57 \n",
       "  \"/>\n",
       "<polyline clip-path=\"url(#clip3801)\" style=\"stroke:#000000; stroke-width:4; stroke-opacity:1; fill:none\" points=\"\n",
       "  1529.59,1120.48 1529.59,1105.57 \n",
       "  \"/>\n",
       "<polyline clip-path=\"url(#clip3801)\" style=\"stroke:#000000; stroke-width:4; stroke-opacity:1; fill:none\" points=\"\n",
       "  1793.72,1120.48 1793.72,1105.57 \n",
       "  \"/>\n",
       "<polyline clip-path=\"url(#clip3801)\" style=\"stroke:#000000; stroke-width:4; stroke-opacity:1; fill:none\" points=\"\n",
       "  161.394,1092.34 186.592,1092.34 \n",
       "  \"/>\n",
       "<polyline clip-path=\"url(#clip3801)\" style=\"stroke:#000000; stroke-width:4; stroke-opacity:1; fill:none\" points=\"\n",
       "  161.394,857.163 186.592,857.163 \n",
       "  \"/>\n",
       "<polyline clip-path=\"url(#clip3801)\" style=\"stroke:#000000; stroke-width:4; stroke-opacity:1; fill:none\" points=\"\n",
       "  161.394,621.99 186.592,621.99 \n",
       "  \"/>\n",
       "<polyline clip-path=\"url(#clip3801)\" style=\"stroke:#000000; stroke-width:4; stroke-opacity:1; fill:none\" points=\"\n",
       "  161.394,386.816 186.592,386.816 \n",
       "  \"/>\n",
       "<polyline clip-path=\"url(#clip3801)\" style=\"stroke:#000000; stroke-width:4; stroke-opacity:1; fill:none\" points=\"\n",
       "  161.394,151.643 186.592,151.643 \n",
       "  \"/>\n",
       "<g clip-path=\"url(#clip3801)\">\n",
       "<text style=\"fill:#000000; fill-opacity:1; font-family:Arial,Helvetica Neue,Helvetica,sans-serif; font-size:48px; text-anchor:middle;\" transform=\"rotate(0, 208.937, 1172.08)\" x=\"208.937\" y=\"1172.08\">-3</text>\n",
       "</g>\n",
       "<g clip-path=\"url(#clip3801)\">\n",
       "<text style=\"fill:#000000; fill-opacity:1; font-family:Arial,Helvetica Neue,Helvetica,sans-serif; font-size:48px; text-anchor:middle;\" transform=\"rotate(0, 473.067, 1172.08)\" x=\"473.067\" y=\"1172.08\">-2</text>\n",
       "</g>\n",
       "<g clip-path=\"url(#clip3801)\">\n",
       "<text style=\"fill:#000000; fill-opacity:1; font-family:Arial,Helvetica Neue,Helvetica,sans-serif; font-size:48px; text-anchor:middle;\" transform=\"rotate(0, 737.197, 1172.08)\" x=\"737.197\" y=\"1172.08\">-1</text>\n",
       "</g>\n",
       "<g clip-path=\"url(#clip3801)\">\n",
       "<text style=\"fill:#000000; fill-opacity:1; font-family:Arial,Helvetica Neue,Helvetica,sans-serif; font-size:48px; text-anchor:middle;\" transform=\"rotate(0, 1001.33, 1172.08)\" x=\"1001.33\" y=\"1172.08\">0</text>\n",
       "</g>\n",
       "<g clip-path=\"url(#clip3801)\">\n",
       "<text style=\"fill:#000000; fill-opacity:1; font-family:Arial,Helvetica Neue,Helvetica,sans-serif; font-size:48px; text-anchor:middle;\" transform=\"rotate(0, 1265.46, 1172.08)\" x=\"1265.46\" y=\"1172.08\">1</text>\n",
       "</g>\n",
       "<g clip-path=\"url(#clip3801)\">\n",
       "<text style=\"fill:#000000; fill-opacity:1; font-family:Arial,Helvetica Neue,Helvetica,sans-serif; font-size:48px; text-anchor:middle;\" transform=\"rotate(0, 1529.59, 1172.08)\" x=\"1529.59\" y=\"1172.08\">2</text>\n",
       "</g>\n",
       "<g clip-path=\"url(#clip3801)\">\n",
       "<text style=\"fill:#000000; fill-opacity:1; font-family:Arial,Helvetica Neue,Helvetica,sans-serif; font-size:48px; text-anchor:middle;\" transform=\"rotate(0, 1793.72, 1172.08)\" x=\"1793.72\" y=\"1172.08\">3</text>\n",
       "</g>\n",
       "<g clip-path=\"url(#clip3801)\">\n",
       "<text style=\"fill:#000000; fill-opacity:1; font-family:Arial,Helvetica Neue,Helvetica,sans-serif; font-size:48px; text-anchor:end;\" transform=\"rotate(0, 142.194, 1109.84)\" x=\"142.194\" y=\"1109.84\">0.0</text>\n",
       "</g>\n",
       "<g clip-path=\"url(#clip3801)\">\n",
       "<text style=\"fill:#000000; fill-opacity:1; font-family:Arial,Helvetica Neue,Helvetica,sans-serif; font-size:48px; text-anchor:end;\" transform=\"rotate(0, 142.194, 874.663)\" x=\"142.194\" y=\"874.663\">0.1</text>\n",
       "</g>\n",
       "<g clip-path=\"url(#clip3801)\">\n",
       "<text style=\"fill:#000000; fill-opacity:1; font-family:Arial,Helvetica Neue,Helvetica,sans-serif; font-size:48px; text-anchor:end;\" transform=\"rotate(0, 142.194, 639.49)\" x=\"142.194\" y=\"639.49\">0.2</text>\n",
       "</g>\n",
       "<g clip-path=\"url(#clip3801)\">\n",
       "<text style=\"fill:#000000; fill-opacity:1; font-family:Arial,Helvetica Neue,Helvetica,sans-serif; font-size:48px; text-anchor:end;\" transform=\"rotate(0, 142.194, 404.316)\" x=\"142.194\" y=\"404.316\">0.3</text>\n",
       "</g>\n",
       "<g clip-path=\"url(#clip3801)\">\n",
       "<text style=\"fill:#000000; fill-opacity:1; font-family:Arial,Helvetica Neue,Helvetica,sans-serif; font-size:48px; text-anchor:end;\" transform=\"rotate(0, 142.194, 169.143)\" x=\"142.194\" y=\"169.143\">0.4</text>\n",
       "</g>\n",
       "<g clip-path=\"url(#clip3801)\">\n",
       "<text style=\"fill:#000000; fill-opacity:1; font-family:Arial,Helvetica Neue,Helvetica,sans-serif; font-size:84px; text-anchor:middle;\" transform=\"rotate(0, 1001.33, 73.2)\" x=\"1001.33\" y=\"73.2\">pdf of N(0,1)</text>\n",
       "</g>\n",
       "<g clip-path=\"url(#clip3801)\">\n",
       "<text style=\"fill:#000000; fill-opacity:1; font-family:Arial,Helvetica Neue,Helvetica,sans-serif; font-size:66px; text-anchor:middle;\" transform=\"rotate(0, 1001.33, 1270.4)\" x=\"1001.33\" y=\"1270.4\">x</text>\n",
       "</g>\n",
       "<polyline clip-path=\"url(#clip3803)\" style=\"stroke:#ff0000; stroke-width:8; stroke-opacity:1; fill:none\" points=\"\n",
       "  208.937,1081.91 235.35,1078.34 261.763,1073.72 288.176,1067.83 314.589,1060.39 341.002,1051.11 367.415,1039.67 393.828,1025.72 420.241,1008.91 446.654,988.899 \n",
       "  473.067,965.364 499.48,938.026 525.893,906.667 552.306,871.158 578.719,831.48 605.132,787.746 631.545,740.217 657.958,689.323 684.371,635.663 710.784,580.006 \n",
       "  737.197,523.286 763.61,466.575 790.023,411.059 816.436,357.998 842.849,308.681 869.262,264.373 895.675,226.263 922.088,195.414 948.501,172.708 974.914,158.81 \n",
       "  1001.33,154.13 1027.74,158.81 1054.15,172.708 1080.57,195.414 1106.98,226.263 1133.39,264.373 1159.8,308.681 1186.22,357.998 1212.63,411.059 1239.04,466.575 \n",
       "  1265.46,523.286 1291.87,580.006 1318.28,635.663 1344.7,689.323 1371.11,740.217 1397.52,787.746 1423.93,831.48 1450.35,871.158 1476.76,906.667 1503.17,938.026 \n",
       "  1529.59,965.364 1556,988.899 1582.41,1008.91 1608.83,1025.72 1635.24,1039.67 1661.65,1051.11 1688.06,1060.39 1714.48,1067.83 1740.89,1073.72 1767.3,1078.34 \n",
       "  1793.72,1081.91 \n",
       "  \"/>\n",
       "<polygon clip-path=\"url(#clip3803)\" points=\"\n",
       "208.937,1081.91 235.35,1078.34 261.763,1073.72 288.176,1067.83 314.589,1060.39 341.002,1051.11 367.415,1039.67 393.828,1025.72 420.241,1008.91 446.654,988.899 \n",
       "  473.067,965.364 499.48,938.026 525.893,906.667 552.306,871.158 578.719,831.48 605.132,787.746 631.545,740.217 657.958,689.323 684.371,635.663 710.784,580.006 \n",
       "  737.197,523.286 763.61,466.575 790.023,411.059 816.436,357.998 842.849,308.681 869.262,264.373 895.675,226.263 922.088,195.414 948.501,172.708 974.914,158.81 \n",
       "  1001.33,154.13 1027.74,158.81 1054.15,172.708 1080.57,195.414 1106.98,226.263 1133.39,264.373 1159.8,308.681 1186.22,357.998 1212.63,411.059 1239.04,466.575 \n",
       "  1265.46,523.286 1291.87,580.006 1318.28,635.663 1344.7,689.323 1371.11,740.217 1397.52,787.746 1423.93,831.48 1423.93,1092.34 1397.52,1092.34 1371.11,1092.34 \n",
       "  1344.7,1092.34 1318.28,1092.34 1291.87,1092.34 1265.46,1092.34 1239.04,1092.34 1212.63,1092.34 1186.22,1092.34 1159.8,1092.34 1133.39,1092.34 1106.98,1092.34 \n",
       "  1080.57,1092.34 1054.15,1092.34 1027.74,1092.34 1001.33,1092.34 974.914,1092.34 948.501,1092.34 922.088,1092.34 895.675,1092.34 869.262,1092.34 842.849,1092.34 \n",
       "  816.436,1092.34 790.023,1092.34 763.61,1092.34 737.197,1092.34 710.784,1092.34 684.371,1092.34 657.958,1092.34 631.545,1092.34 605.132,1092.34 578.719,1092.34 \n",
       "  552.306,1092.34 525.893,1092.34 499.48,1092.34 473.067,1092.34 446.654,1092.34 420.241,1092.34 393.828,1092.34 367.415,1092.34 341.002,1092.34 314.589,1092.34 \n",
       "  288.176,1092.34 261.763,1092.34 235.35,1092.34 208.937,1092.34 \n",
       "  \" fill=\"#ff0000\" fill-opacity=\"1\"/>\n",
       "<polyline clip-path=\"url(#clip3803)\" style=\"stroke:#ff0000; stroke-width:8; stroke-opacity:1; fill:none\" points=\"\n",
       "  208.937,1081.91 235.35,1078.34 261.763,1073.72 288.176,1067.83 314.589,1060.39 341.002,1051.11 367.415,1039.67 393.828,1025.72 420.241,1008.91 446.654,988.899 \n",
       "  473.067,965.364 499.48,938.026 525.893,906.667 552.306,871.158 578.719,831.48 605.132,787.746 631.545,740.217 657.958,689.323 684.371,635.663 710.784,580.006 \n",
       "  737.197,523.286 763.61,466.575 790.023,411.059 816.436,357.998 842.849,308.681 869.262,264.373 895.675,226.263 922.088,195.414 948.501,172.708 974.914,158.81 \n",
       "  1001.33,154.13 1027.74,158.81 1054.15,172.708 1080.57,195.414 1106.98,226.263 1133.39,264.373 1159.8,308.681 1186.22,357.998 1212.63,411.059 1239.04,466.575 \n",
       "  1265.46,523.286 1291.87,580.006 1318.28,635.663 1344.7,689.323 1371.11,740.217 1397.52,787.746 1423.93,831.48 \n",
       "  \"/>\n",
       "<g clip-path=\"url(#clip3801)\">\n",
       "<text style=\"fill:#000000; fill-opacity:1; font-family:Arial,Helvetica Neue,Helvetica,sans-serif; font-size:48px; text-anchor:middle;\" transform=\"rotate(0, 1463.55, 495.983)\" x=\"1463.55\" y=\"495.983\">the area covers</text>\n",
       "</g>\n",
       "<g clip-path=\"url(#clip3801)\">\n",
       "<text style=\"fill:#000000; fill-opacity:1; font-family:Arial,Helvetica Neue,Helvetica,sans-serif; font-size:48px; text-anchor:middle;\" transform=\"rotate(0, 1463.55, 547.823)\" x=\"1463.55\" y=\"547.823\"> up to x=1.645</text>\n",
       "</g>\n",
       "</svg>\n"
      ]
     },
     "execution_count": 4,
     "metadata": {},
     "output_type": "execute_result"
    }
   ],
   "source": [
    "x  = -3:0.1:3\n",
    "xb = x[x.<=1.645]\n",
    "\n",
    "p1 = plot(x,ϕNS.(x),color=:red,linewidth=2,legend=nothing)\n",
    "plot!(xb,ϕNS.(xb),color=:red,linewidth=2,legend=nothing,fill=(0,:red))\n",
    "title!(\"pdf of N(0,1)\")\n",
    "xlabel!(\"x\")\n",
    "ylabel!(\"\")\n",
    "annotate!(1.75,0.25,text(\"the area covers\\n up to x=1.645\",8))"
   ]
  },
  {
   "cell_type": "markdown",
   "metadata": {},
   "source": [
    "## Calculating Prob(x<=1.645)\n",
    "\n",
    "The next cell calculates (by numeric integration)\n",
    "\n",
    "$\\int_{-\\infty}^{1.645}\\phi(x,0,\\sigma)dx$,\n",
    "\n",
    "where $\\phi(x,\\mu,\\sigma)$ is the pdf of an $N(\\mu,\\sigma)$ variable."
   ]
  },
  {
   "cell_type": "code",
   "execution_count": 5,
   "metadata": {},
   "outputs": [
    {
     "name": "stdout",
     "output_type": "stream",
     "text": [
      "\n",
      "Pr(x<=1.64) according to N(0,1):     0.950\n",
      "\n",
      "Pr(x<=1.64) according to N(0,σ=2):     0.795\n"
     ]
    }
   ],
   "source": [
    "cdf1, = quadgk(x->ϕNS(x),-Inf,1.645)       #N(0,1)\n",
    "printlnPs(\"\\nPr(x<=1.64) according to N(0,1):\", cdf1)\n",
    "\n",
    "cdf2, = quadgk(x->ϕNS(x,0,2),-Inf,1.645)   #N(0,σ=2) \n",
    "printlnPs(\"\\nPr(x<=1.64) according to N(0,σ=2):\", cdf2)"
   ]
  },
  {
   "cell_type": "markdown",
   "metadata": {
    "collapsed": true
   },
   "source": [
    "# Numerical Derivatives\n",
    "\n",
    "Numerical derivatives can be calculated by a crude finite difference (see `NumDer()` below) or by the much more sophisticated routines in the `ForwardDiff` package.\n",
    "\n",
    "The function you want to differentiate must typically have only one argument (even if it is a vector). To turn a multi-argument function fn1(x,a) into a one-argument function transform it to an anonymous function by\n",
    "```\n",
    "x->fn1(x,a),\n",
    "```\n",
    "assuming that `a` has a value already. We can now differentiate wrt. `x`.\n",
    "\n",
    "To do this calculation for many `x` values, we loop (either a `for` loop or list comprehension). Dot syntax, `ForwardDiff.derivative.()`, seems to work, but is not documented."
   ]
  },
  {
   "cell_type": "code",
   "execution_count": 6,
   "metadata": {},
   "outputs": [
    {
     "data": {
      "text/plain": [
       "NumDer (generic function with 1 method)"
      ]
     },
     "execution_count": 6,
     "metadata": {},
     "output_type": "execute_result"
    }
   ],
   "source": [
    "function NumDer(fun,b0,h)     #crude function for a centered numerical derivative\n",
    "    bminus = b0 .- h\n",
    "    bplus  = b0 .+ h\n",
    "    hh     = bplus - bminus\n",
    "    fplus  = fun(bplus)\n",
    "    fminus = fun(bminus)\n",
    "    D      = (fplus-fminus)/hh\n",
    "    return D\n",
    "end"
   ]
  },
  {
   "cell_type": "code",
   "execution_count": 7,
   "metadata": {},
   "outputs": [
    {
     "data": {
      "text/plain": [
       "fn1 (generic function with 1 method)"
      ]
     },
     "execution_count": 7,
     "metadata": {},
     "output_type": "execute_result"
    }
   ],
   "source": [
    "function fn1(x,a)                 #a simple function, to be differentiated\n",
    "   return (x - 1.1)^2 - a                \n",
    "end"
   ]
  },
  {
   "cell_type": "code",
   "execution_count": 8,
   "metadata": {},
   "outputs": [
    {
     "name": "stdout",
     "output_type": "stream",
     "text": [
      "The derivative at x=2 is (from two different methods): \n",
      "     1.800     1.800\n",
      "\n"
     ]
    }
   ],
   "source": [
    "x0 = 2\n",
    "\n",
    "dydx_A = NumDer(x->fn1(x,0.5),x0,0.01)           #differentiate fn1(x,0.5) at x = x0\n",
    "dydx_B = ForwardDiff.derivative(x->fn1(x,0.5),x0)\n",
    "\n",
    "println(\"The derivative at x=$x0 is (from two different methods): \")\n",
    "printmat([dydx_A dydx_B])"
   ]
  },
  {
   "cell_type": "code",
   "execution_count": 9,
   "metadata": {},
   "outputs": [
    {
     "name": "stdout",
     "output_type": "stream",
     "text": [
      "now lets plot this\n"
     ]
    }
   ],
   "source": [
    "x = -3:6/99:6          #calculate the derivative at many points\n",
    "                     \n",
    "dydx_A = [NumDer(x->fn1(x,0.5),x[i],0.01) for i=1:length(x)]  #list comprehension as a quick loop\n",
    "              \n",
    "dydx_B = [ForwardDiff.derivative(x->fn1(x,0.5),x[i]) for i=1:length(x)]\n",
    "\n",
    "println(\"now lets plot this\")"
   ]
  },
  {
   "cell_type": "code",
   "execution_count": 10,
   "metadata": {},
   "outputs": [
    {
     "data": {
      "image/svg+xml": [
       "<?xml version=\"1.0\" encoding=\"utf-8\"?>\n",
       "<svg xmlns=\"http://www.w3.org/2000/svg\" xmlns:xlink=\"http://www.w3.org/1999/xlink\" width=\"480\" height=\"320\" viewBox=\"0 0 1920 1280\">\n",
       "<defs>\n",
       "  <clipPath id=\"clip4000\">\n",
       "    <rect x=\"0\" y=\"0\" width=\"2000\" height=\"2000\"/>\n",
       "  </clipPath>\n",
       "</defs>\n",
       "<defs>\n",
       "  <clipPath id=\"clip4001\">\n",
       "    <rect x=\"0\" y=\"0\" width=\"1920\" height=\"1280\"/>\n",
       "  </clipPath>\n",
       "</defs>\n",
       "<polygon clip-path=\"url(#clip4001)\" points=\"\n",
       "0,1280 1920,1280 1920,0 0,0 \n",
       "  \" fill=\"#ffffff\" fill-opacity=\"1\"/>\n",
       "<defs>\n",
       "  <clipPath id=\"clip4002\">\n",
       "    <rect x=\"384\" y=\"0\" width=\"1345\" height=\"1280\"/>\n",
       "  </clipPath>\n",
       "</defs>\n",
       "<polygon clip-path=\"url(#clip4001)\" points=\"\n",
       "149.361,1120.48 1841.26,1120.48 1841.26,125.984 149.361,125.984 \n",
       "  \" fill=\"#ffffff\" fill-opacity=\"1\"/>\n",
       "<defs>\n",
       "  <clipPath id=\"clip4003\">\n",
       "    <rect x=\"149\" y=\"125\" width=\"1693\" height=\"995\"/>\n",
       "  </clipPath>\n",
       "</defs>\n",
       "<polyline clip-path=\"url(#clip4003)\" style=\"stroke:#000000; stroke-width:2; stroke-opacity:0.1; fill:none\" points=\"\n",
       "  375.192,1120.48 375.192,125.984 \n",
       "  \"/>\n",
       "<polyline clip-path=\"url(#clip4003)\" style=\"stroke:#000000; stroke-width:2; stroke-opacity:0.1; fill:none\" points=\"\n",
       "  731.086,1120.48 731.086,125.984 \n",
       "  \"/>\n",
       "<polyline clip-path=\"url(#clip4003)\" style=\"stroke:#000000; stroke-width:2; stroke-opacity:0.1; fill:none\" points=\"\n",
       "  1086.98,1120.48 1086.98,125.984 \n",
       "  \"/>\n",
       "<polyline clip-path=\"url(#clip4003)\" style=\"stroke:#000000; stroke-width:2; stroke-opacity:0.1; fill:none\" points=\"\n",
       "  1442.87,1120.48 1442.87,125.984 \n",
       "  \"/>\n",
       "<polyline clip-path=\"url(#clip4003)\" style=\"stroke:#000000; stroke-width:2; stroke-opacity:0.1; fill:none\" points=\"\n",
       "  1798.77,1120.48 1798.77,125.984 \n",
       "  \"/>\n",
       "<polyline clip-path=\"url(#clip4003)\" style=\"stroke:#000000; stroke-width:2; stroke-opacity:0.1; fill:none\" points=\"\n",
       "  149.361,996.766 1841.26,996.766 \n",
       "  \"/>\n",
       "<polyline clip-path=\"url(#clip4003)\" style=\"stroke:#000000; stroke-width:2; stroke-opacity:0.1; fill:none\" points=\"\n",
       "  149.361,847.436 1841.26,847.436 \n",
       "  \"/>\n",
       "<polyline clip-path=\"url(#clip4003)\" style=\"stroke:#000000; stroke-width:2; stroke-opacity:0.1; fill:none\" points=\"\n",
       "  149.361,698.106 1841.26,698.106 \n",
       "  \"/>\n",
       "<polyline clip-path=\"url(#clip4003)\" style=\"stroke:#000000; stroke-width:2; stroke-opacity:0.1; fill:none\" points=\"\n",
       "  149.361,548.777 1841.26,548.777 \n",
       "  \"/>\n",
       "<polyline clip-path=\"url(#clip4003)\" style=\"stroke:#000000; stroke-width:2; stroke-opacity:0.1; fill:none\" points=\"\n",
       "  149.361,399.447 1841.26,399.447 \n",
       "  \"/>\n",
       "<polyline clip-path=\"url(#clip4003)\" style=\"stroke:#000000; stroke-width:2; stroke-opacity:0.1; fill:none\" points=\"\n",
       "  149.361,250.118 1841.26,250.118 \n",
       "  \"/>\n",
       "<polyline clip-path=\"url(#clip4001)\" style=\"stroke:#000000; stroke-width:4; stroke-opacity:1; fill:none\" points=\"\n",
       "  149.361,1120.48 1841.26,1120.48 \n",
       "  \"/>\n",
       "<polyline clip-path=\"url(#clip4001)\" style=\"stroke:#000000; stroke-width:4; stroke-opacity:1; fill:none\" points=\"\n",
       "  149.361,1120.48 149.361,125.984 \n",
       "  \"/>\n",
       "<polyline clip-path=\"url(#clip4001)\" style=\"stroke:#000000; stroke-width:4; stroke-opacity:1; fill:none\" points=\"\n",
       "  375.192,1120.48 375.192,1105.57 \n",
       "  \"/>\n",
       "<polyline clip-path=\"url(#clip4001)\" style=\"stroke:#000000; stroke-width:4; stroke-opacity:1; fill:none\" points=\"\n",
       "  731.086,1120.48 731.086,1105.57 \n",
       "  \"/>\n",
       "<polyline clip-path=\"url(#clip4001)\" style=\"stroke:#000000; stroke-width:4; stroke-opacity:1; fill:none\" points=\"\n",
       "  1086.98,1120.48 1086.98,1105.57 \n",
       "  \"/>\n",
       "<polyline clip-path=\"url(#clip4001)\" style=\"stroke:#000000; stroke-width:4; stroke-opacity:1; fill:none\" points=\"\n",
       "  1442.87,1120.48 1442.87,1105.57 \n",
       "  \"/>\n",
       "<polyline clip-path=\"url(#clip4001)\" style=\"stroke:#000000; stroke-width:4; stroke-opacity:1; fill:none\" points=\"\n",
       "  1798.77,1120.48 1798.77,1105.57 \n",
       "  \"/>\n",
       "<polyline clip-path=\"url(#clip4001)\" style=\"stroke:#000000; stroke-width:4; stroke-opacity:1; fill:none\" points=\"\n",
       "  149.361,996.766 174.739,996.766 \n",
       "  \"/>\n",
       "<polyline clip-path=\"url(#clip4001)\" style=\"stroke:#000000; stroke-width:4; stroke-opacity:1; fill:none\" points=\"\n",
       "  149.361,847.436 174.739,847.436 \n",
       "  \"/>\n",
       "<polyline clip-path=\"url(#clip4001)\" style=\"stroke:#000000; stroke-width:4; stroke-opacity:1; fill:none\" points=\"\n",
       "  149.361,698.106 174.739,698.106 \n",
       "  \"/>\n",
       "<polyline clip-path=\"url(#clip4001)\" style=\"stroke:#000000; stroke-width:4; stroke-opacity:1; fill:none\" points=\"\n",
       "  149.361,548.777 174.739,548.777 \n",
       "  \"/>\n",
       "<polyline clip-path=\"url(#clip4001)\" style=\"stroke:#000000; stroke-width:4; stroke-opacity:1; fill:none\" points=\"\n",
       "  149.361,399.447 174.739,399.447 \n",
       "  \"/>\n",
       "<polyline clip-path=\"url(#clip4001)\" style=\"stroke:#000000; stroke-width:4; stroke-opacity:1; fill:none\" points=\"\n",
       "  149.361,250.118 174.739,250.118 \n",
       "  \"/>\n",
       "<g clip-path=\"url(#clip4001)\">\n",
       "<text style=\"fill:#000000; fill-opacity:1; font-family:Arial,Helvetica Neue,Helvetica,sans-serif; font-size:48px; text-anchor:middle;\" transform=\"rotate(0, 375.192, 1172.08)\" x=\"375.192\" y=\"1172.08\">-2</text>\n",
       "</g>\n",
       "<g clip-path=\"url(#clip4001)\">\n",
       "<text style=\"fill:#000000; fill-opacity:1; font-family:Arial,Helvetica Neue,Helvetica,sans-serif; font-size:48px; text-anchor:middle;\" transform=\"rotate(0, 731.086, 1172.08)\" x=\"731.086\" y=\"1172.08\">0</text>\n",
       "</g>\n",
       "<g clip-path=\"url(#clip4001)\">\n",
       "<text style=\"fill:#000000; fill-opacity:1; font-family:Arial,Helvetica Neue,Helvetica,sans-serif; font-size:48px; text-anchor:middle;\" transform=\"rotate(0, 1086.98, 1172.08)\" x=\"1086.98\" y=\"1172.08\">2</text>\n",
       "</g>\n",
       "<g clip-path=\"url(#clip4001)\">\n",
       "<text style=\"fill:#000000; fill-opacity:1; font-family:Arial,Helvetica Neue,Helvetica,sans-serif; font-size:48px; text-anchor:middle;\" transform=\"rotate(0, 1442.87, 1172.08)\" x=\"1442.87\" y=\"1172.08\">4</text>\n",
       "</g>\n",
       "<g clip-path=\"url(#clip4001)\">\n",
       "<text style=\"fill:#000000; fill-opacity:1; font-family:Arial,Helvetica Neue,Helvetica,sans-serif; font-size:48px; text-anchor:middle;\" transform=\"rotate(0, 1798.77, 1172.08)\" x=\"1798.77\" y=\"1172.08\">6</text>\n",
       "</g>\n",
       "<g clip-path=\"url(#clip4001)\">\n",
       "<text style=\"fill:#000000; fill-opacity:1; font-family:Arial,Helvetica Neue,Helvetica,sans-serif; font-size:48px; text-anchor:end;\" transform=\"rotate(0, 130.161, 1014.27)\" x=\"130.161\" y=\"1014.27\">-5</text>\n",
       "</g>\n",
       "<g clip-path=\"url(#clip4001)\">\n",
       "<text style=\"fill:#000000; fill-opacity:1; font-family:Arial,Helvetica Neue,Helvetica,sans-serif; font-size:48px; text-anchor:end;\" transform=\"rotate(0, 130.161, 864.936)\" x=\"130.161\" y=\"864.936\">0</text>\n",
       "</g>\n",
       "<g clip-path=\"url(#clip4001)\">\n",
       "<text style=\"fill:#000000; fill-opacity:1; font-family:Arial,Helvetica Neue,Helvetica,sans-serif; font-size:48px; text-anchor:end;\" transform=\"rotate(0, 130.161, 715.606)\" x=\"130.161\" y=\"715.606\">5</text>\n",
       "</g>\n",
       "<g clip-path=\"url(#clip4001)\">\n",
       "<text style=\"fill:#000000; fill-opacity:1; font-family:Arial,Helvetica Neue,Helvetica,sans-serif; font-size:48px; text-anchor:end;\" transform=\"rotate(0, 130.161, 566.277)\" x=\"130.161\" y=\"566.277\">10</text>\n",
       "</g>\n",
       "<g clip-path=\"url(#clip4001)\">\n",
       "<text style=\"fill:#000000; fill-opacity:1; font-family:Arial,Helvetica Neue,Helvetica,sans-serif; font-size:48px; text-anchor:end;\" transform=\"rotate(0, 130.161, 416.947)\" x=\"130.161\" y=\"416.947\">15</text>\n",
       "</g>\n",
       "<g clip-path=\"url(#clip4001)\">\n",
       "<text style=\"fill:#000000; fill-opacity:1; font-family:Arial,Helvetica Neue,Helvetica,sans-serif; font-size:48px; text-anchor:end;\" transform=\"rotate(0, 130.161, 267.618)\" x=\"130.161\" y=\"267.618\">20</text>\n",
       "</g>\n",
       "<g clip-path=\"url(#clip4001)\">\n",
       "<text style=\"fill:#000000; fill-opacity:1; font-family:Arial,Helvetica Neue,Helvetica,sans-serif; font-size:84px; text-anchor:middle;\" transform=\"rotate(0, 995.31, 73.2)\" x=\"995.31\" y=\"73.2\">fn1() and its derivative</text>\n",
       "</g>\n",
       "<g clip-path=\"url(#clip4001)\">\n",
       "<text style=\"fill:#000000; fill-opacity:1; font-family:Arial,Helvetica Neue,Helvetica,sans-serif; font-size:66px; text-anchor:middle;\" transform=\"rotate(0, 995.31, 1270.4)\" x=\"995.31\" y=\"1270.4\">x</text>\n",
       "</g>\n",
       "<polyline clip-path=\"url(#clip4003)\" style=\"stroke:#000000; stroke-width:4; stroke-opacity:1; fill:none\" points=\"\n",
       "  197.245,360.323 208.029,375.056 218.814,389.569 229.599,403.863 240.383,417.938 251.168,431.793 261.953,445.429 272.737,458.845 283.522,472.042 294.307,485.019 \n",
       "  305.091,497.778 315.876,510.316 326.661,522.636 337.445,534.736 348.23,546.616 359.015,558.277 369.799,569.719 380.584,580.941 391.369,591.944 402.153,602.728 \n",
       "  412.938,613.292 423.723,623.637 434.507,633.762 445.292,643.668 456.077,653.355 466.861,662.822 477.646,672.069 488.431,681.098 499.215,689.907 510,698.496 \n",
       "  520.785,706.866 531.569,715.017 542.354,722.948 553.139,730.66 563.923,738.153 574.708,745.426 585.493,752.48 596.277,759.314 607.062,765.929 617.847,772.324 \n",
       "  628.631,778.501 639.416,784.457 650.201,790.195 660.985,795.713 671.77,801.011 682.555,806.09 693.339,810.95 704.124,815.59 714.909,820.011 725.693,824.213 \n",
       "  736.478,828.195 747.263,831.958 758.047,835.501 768.832,838.825 779.617,841.929 790.401,844.814 801.186,847.48 811.971,849.926 822.755,852.153 833.54,854.161 \n",
       "  844.325,855.949 855.11,857.518 865.894,858.867 876.679,859.997 887.464,860.907 898.248,861.599 909.033,862.07 919.818,862.323 930.602,862.356 941.387,862.169 \n",
       "  952.172,861.763 962.956,861.138 973.741,860.293 984.526,859.229 995.31,857.946 1006.09,856.443 1016.88,854.72 1027.66,852.779 1038.45,850.618 1049.23,848.237 \n",
       "  1060.02,845.637 1070.8,842.818 1081.59,839.779 1092.37,836.521 1103.16,833.044 1113.94,829.347 1124.73,825.43 1135.51,821.295 1146.3,816.94 1157.08,812.365 \n",
       "  1167.86,807.571 1178.65,802.558 1189.43,797.325 1200.22,791.873 1211,786.202 1221.79,780.311 1232.57,774.2 1243.36,767.871 1254.14,761.322 1264.93,754.553 \n",
       "  1275.71,747.565 1286.5,740.358 1297.28,732.931 1308.07,725.285 1318.85,717.419 1329.64,709.335 1340.42,701.03 1351.2,692.507 1361.99,683.763 1372.77,674.801 \n",
       "  1383.56,665.619 1394.34,656.218 1405.13,646.597 1415.91,636.757 1426.7,626.697 1437.48,616.418 1448.27,605.92 1459.05,595.202 1469.84,584.265 1480.62,573.109 \n",
       "  1491.41,561.733 1502.19,550.138 1512.97,538.323 1523.76,526.289 1534.54,514.035 1545.33,501.562 1556.11,488.87 1566.9,475.958 1577.68,462.827 1588.47,449.477 \n",
       "  1599.25,435.907 1610.04,422.117 1620.82,408.109 1631.61,393.88 1642.39,379.433 1653.18,364.766 1663.96,349.88 1674.74,334.774 1685.53,319.449 1696.31,303.904 \n",
       "  1707.1,288.14 1717.88,272.157 1728.67,255.954 1739.45,239.532 1750.24,222.891 1761.02,206.03 1771.81,188.949 1782.59,171.65 1793.38,154.13 \n",
       "  \"/>\n",
       "<polyline clip-path=\"url(#clip4003)\" style=\"stroke:#ff0000; stroke-width:16; stroke-opacity:1; fill:none\" stroke-dasharray=\"8, 16\" points=\"\n",
       "  197.245,1092.34 208.029,1088.72 218.814,1085.1 229.599,1081.48 240.383,1077.86 251.168,1074.24 261.953,1070.62 272.737,1067 283.522,1063.38 294.307,1059.76 \n",
       "  305.091,1056.14 315.876,1052.52 326.661,1048.9 337.445,1045.27 348.23,1041.65 359.015,1038.03 369.799,1034.41 380.584,1030.79 391.369,1027.17 402.153,1023.55 \n",
       "  412.938,1019.93 423.723,1016.31 434.507,1012.69 445.292,1009.07 456.077,1005.45 466.861,1001.83 477.646,998.214 488.431,994.593 499.215,990.973 510,987.353 \n",
       "  520.785,983.733 531.569,980.113 542.354,976.493 553.139,972.873 563.923,969.253 574.708,965.633 585.493,962.012 596.277,958.392 607.062,954.772 617.847,951.152 \n",
       "  628.631,947.532 639.416,943.912 650.201,940.292 660.985,936.672 671.77,933.052 682.555,929.431 693.339,925.811 704.124,922.191 714.909,918.571 725.693,914.951 \n",
       "  736.478,911.331 747.263,907.711 758.047,904.091 768.832,900.471 779.617,896.851 790.401,893.23 801.186,889.61 811.971,885.99 822.755,882.37 833.54,878.75 \n",
       "  844.325,875.13 855.11,871.51 865.894,867.89 876.679,864.27 887.464,860.649 898.248,857.029 909.033,853.409 919.818,849.789 930.602,846.169 941.387,842.549 \n",
       "  952.172,838.929 962.956,835.309 973.741,831.689 984.526,828.068 995.31,824.448 1006.09,820.828 1016.88,817.208 1027.66,813.588 1038.45,809.968 1049.23,806.348 \n",
       "  1060.02,802.728 1070.8,799.108 1081.59,795.487 1092.37,791.867 1103.16,788.247 1113.94,784.627 1124.73,781.007 1135.51,777.387 1146.3,773.767 1157.08,770.147 \n",
       "  1167.86,766.527 1178.65,762.906 1189.43,759.286 1200.22,755.666 1211,752.046 1221.79,748.426 1232.57,744.806 1243.36,741.186 1254.14,737.566 1264.93,733.946 \n",
       "  1275.71,730.325 1286.5,726.705 1297.28,723.085 1308.07,719.465 1318.85,715.845 1329.64,712.225 1340.42,708.605 1351.2,704.985 1361.99,701.365 1372.77,697.744 \n",
       "  1383.56,694.124 1394.34,690.504 1405.13,686.884 1415.91,683.264 1426.7,679.644 1437.48,676.024 1448.27,672.404 1459.05,668.784 1469.84,665.163 1480.62,661.543 \n",
       "  1491.41,657.923 1502.19,654.303 1512.97,650.683 1523.76,647.063 1534.54,643.443 1545.33,639.823 1556.11,636.203 1566.9,632.582 1577.68,628.962 1588.47,625.342 \n",
       "  1599.25,621.722 1610.04,618.102 1620.82,614.482 1631.61,610.862 1642.39,607.242 1653.18,603.622 1663.96,600.002 1674.74,596.381 1685.53,592.761 1696.31,589.141 \n",
       "  1707.1,585.521 1717.88,581.901 1728.67,578.281 1739.45,574.661 1750.24,571.041 1761.02,567.421 1771.81,563.8 1782.59,560.18 1793.38,556.56 \n",
       "  \"/>\n",
       "<polyline clip-path=\"url(#clip4003)\" style=\"stroke:#0000ff; stroke-width:8; stroke-opacity:1; fill:none\" stroke-dasharray=\"32, 20\" points=\"\n",
       "  197.245,1092.34 208.029,1088.72 218.814,1085.1 229.599,1081.48 240.383,1077.86 251.168,1074.24 261.953,1070.62 272.737,1067 283.522,1063.38 294.307,1059.76 \n",
       "  305.091,1056.14 315.876,1052.52 326.661,1048.9 337.445,1045.27 348.23,1041.65 359.015,1038.03 369.799,1034.41 380.584,1030.79 391.369,1027.17 402.153,1023.55 \n",
       "  412.938,1019.93 423.723,1016.31 434.507,1012.69 445.292,1009.07 456.077,1005.45 466.861,1001.83 477.646,998.214 488.431,994.593 499.215,990.973 510,987.353 \n",
       "  520.785,983.733 531.569,980.113 542.354,976.493 553.139,972.873 563.923,969.253 574.708,965.633 585.493,962.012 596.277,958.392 607.062,954.772 617.847,951.152 \n",
       "  628.631,947.532 639.416,943.912 650.201,940.292 660.985,936.672 671.77,933.052 682.555,929.431 693.339,925.811 704.124,922.191 714.909,918.571 725.693,914.951 \n",
       "  736.478,911.331 747.263,907.711 758.047,904.091 768.832,900.471 779.617,896.851 790.401,893.23 801.186,889.61 811.971,885.99 822.755,882.37 833.54,878.75 \n",
       "  844.325,875.13 855.11,871.51 865.894,867.89 876.679,864.27 887.464,860.649 898.248,857.029 909.033,853.409 919.818,849.789 930.602,846.169 941.387,842.549 \n",
       "  952.172,838.929 962.956,835.309 973.741,831.689 984.526,828.068 995.31,824.448 1006.09,820.828 1016.88,817.208 1027.66,813.588 1038.45,809.968 1049.23,806.348 \n",
       "  1060.02,802.728 1070.8,799.108 1081.59,795.487 1092.37,791.867 1103.16,788.247 1113.94,784.627 1124.73,781.007 1135.51,777.387 1146.3,773.767 1157.08,770.147 \n",
       "  1167.86,766.527 1178.65,762.906 1189.43,759.286 1200.22,755.666 1211,752.046 1221.79,748.426 1232.57,744.806 1243.36,741.186 1254.14,737.566 1264.93,733.946 \n",
       "  1275.71,730.325 1286.5,726.705 1297.28,723.085 1308.07,719.465 1318.85,715.845 1329.64,712.225 1340.42,708.605 1351.2,704.985 1361.99,701.365 1372.77,697.744 \n",
       "  1383.56,694.124 1394.34,690.504 1405.13,686.884 1415.91,683.264 1426.7,679.644 1437.48,676.024 1448.27,672.404 1459.05,668.784 1469.84,665.163 1480.62,661.543 \n",
       "  1491.41,657.923 1502.19,654.303 1512.97,650.683 1523.76,647.063 1534.54,643.443 1545.33,639.823 1556.11,636.203 1566.9,632.582 1577.68,628.962 1588.47,625.342 \n",
       "  1599.25,621.722 1610.04,618.102 1620.82,614.482 1631.61,610.862 1642.39,607.242 1653.18,603.622 1663.96,600.002 1674.74,596.381 1685.53,592.761 1696.31,589.141 \n",
       "  1707.1,585.521 1717.88,581.901 1728.67,578.281 1739.45,574.661 1750.24,571.041 1761.02,567.421 1771.81,563.8 1782.59,560.18 1793.38,556.56 \n",
       "  \"/>\n",
       "<polygon clip-path=\"url(#clip4001)\" points=\"\n",
       "592.619,422.624 1137.68,422.624 1137.68,180.704 592.619,180.704 \n",
       "  \" fill=\"#ffffff\" fill-opacity=\"1\"/>\n",
       "<polyline clip-path=\"url(#clip4001)\" style=\"stroke:#000000; stroke-width:4; stroke-opacity:1; fill:none\" points=\"\n",
       "  592.619,422.624 1137.68,422.624 1137.68,180.704 592.619,180.704 592.619,422.624 \n",
       "  \"/>\n",
       "<polyline clip-path=\"url(#clip4001)\" style=\"stroke:#000000; stroke-width:4; stroke-opacity:1; fill:none\" points=\"\n",
       "  611.819,241.184 727.019,241.184 \n",
       "  \"/>\n",
       "<g clip-path=\"url(#clip4001)\">\n",
       "<text style=\"fill:#000000; fill-opacity:1; font-family:Arial,Helvetica Neue,Helvetica,sans-serif; font-size:48px; text-anchor:start;\" transform=\"rotate(0, 746.219, 258.684)\" x=\"746.219\" y=\"258.684\">fn1()</text>\n",
       "</g>\n",
       "<polyline clip-path=\"url(#clip4001)\" style=\"stroke:#ff0000; stroke-width:16; stroke-opacity:1; fill:none\" stroke-dasharray=\"8, 16\" points=\"\n",
       "  611.819,301.664 727.019,301.664 \n",
       "  \"/>\n",
       "<g clip-path=\"url(#clip4001)\">\n",
       "<text style=\"fill:#000000; fill-opacity:1; font-family:Arial,Helvetica Neue,Helvetica,sans-serif; font-size:48px; text-anchor:start;\" transform=\"rotate(0, 746.219, 319.164)\" x=\"746.219\" y=\"319.164\">crude derivative</text>\n",
       "</g>\n",
       "<polyline clip-path=\"url(#clip4001)\" style=\"stroke:#0000ff; stroke-width:8; stroke-opacity:1; fill:none\" stroke-dasharray=\"32, 20\" points=\"\n",
       "  611.819,362.144 727.019,362.144 \n",
       "  \"/>\n",
       "<g clip-path=\"url(#clip4001)\">\n",
       "<text style=\"fill:#000000; fill-opacity:1; font-family:Arial,Helvetica Neue,Helvetica,sans-serif; font-size:48px; text-anchor:start;\" transform=\"rotate(0, 746.219, 379.644)\" x=\"746.219\" y=\"379.644\">ForwardDiff pkg </text>\n",
       "</g>\n",
       "</svg>\n"
      ]
     },
     "execution_count": 10,
     "metadata": {},
     "output_type": "execute_result"
    }
   ],
   "source": [
    "p1 = plot(x,fn1.(x,0.5),color=:black,label=\"fn1()\",legend=:top)\n",
    "plot!(x,dydx_A,color=:red,line=(:dot,4),label=\"crude derivative\")\n",
    "plot!(x,dydx_B,color=:blue,line=(:dash,2),label=\"ForwardDiff pkg \")\n",
    "title!(\"fn1() and its derivative\")\n",
    "xlabel!(\"x\")\n",
    "ylabel!(\"\")"
   ]
  },
  {
   "cell_type": "markdown",
   "metadata": {
    "collapsed": true
   },
   "source": [
    "## (extra) Comments on Using the ForwardDiff Package\n",
    "\n",
    "The `ForwardDiff` package applies an interesting approach to calculate derivatives, using a special number type (\"dual numbers\"). This means that your code must be able to handle such numbers. In most cases, that is not a problem, but you may have to watch out if you create arrays to store (intermediate?) results inside the function. See the examples below"
   ]
  },
  {
   "cell_type": "code",
   "execution_count": 11,
   "metadata": {},
   "outputs": [
    {
     "data": {
      "text/plain": [
       "fnDoesWork (generic function with 1 method)"
      ]
     },
     "execution_count": 11,
     "metadata": {},
     "output_type": "execute_result"
    }
   ],
   "source": [
    "function fnDoesNotWork(b,a)\n",
    "    z = zeros(length(b))              #will not work with ForwardDiff, since\n",
    "    for i = 1:length(z)               #z cannot store dual numbers\n",
    "        z[i] = b[i]*i\n",
    "    end    \n",
    "    return sum(z) + a\n",
    "end    \n",
    "\n",
    "function fnDoesWork(b,a)\n",
    "    z = zeros(eltype(b),length(b))   #will work with ForwardDiff, since\n",
    "    for i = 1:length(z)              #when b is a dual number, so is z \n",
    "        z[i] = b[i]*i\n",
    "    end    \n",
    "    return sum(z) + a\n",
    "end"
   ]
  },
  {
   "cell_type": "code",
   "execution_count": 12,
   "metadata": {},
   "outputs": [
    {
     "data": {
      "text/plain": [
       "2-element Array{Float64,1}:\n",
       " 1.0\n",
       " 2.0"
      ]
     },
     "execution_count": 12,
     "metadata": {},
     "output_type": "execute_result"
    }
   ],
   "source": [
    "b0 = [1.5,2]\n",
    "\n",
    "dydx = try\n",
    "    ForwardDiff.gradient(b->fnDoesNotWork(b,1),b0)\n",
    "    #println(\"using fnDoesNotWork(): \")\n",
    "catch    \n",
    "    ForwardDiff.gradient(b->fnDoesWork(b,1),b0)\n",
    "    #println(\"using fnDoesWork(): \")    \n",
    "end"
   ]
  },
  {
   "cell_type": "code",
   "execution_count": null,
   "metadata": {},
   "outputs": [],
   "source": []
  }
 ],
 "metadata": {
  "anaconda-cloud": {},
  "kernelspec": {
   "display_name": "Julia 1.0.1",
   "language": "julia",
   "name": "julia-1.0"
  },
  "language_info": {
   "file_extension": ".jl",
   "mimetype": "application/julia",
   "name": "julia",
   "version": "1.0.1"
  }
 },
 "nbformat": 4,
 "nbformat_minor": 1
}
