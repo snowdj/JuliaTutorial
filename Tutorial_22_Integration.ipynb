{
 "cells": [
  {
   "cell_type": "markdown",
   "metadata": {},
   "source": [
    "# Numerical Integration and Differentiation\n",
    "\n",
    "This notebook illustrates how to perform numerical integration and differentiation. \n",
    "\n",
    "There are several packages for doing this. Here, the focus is on QuadGK (https://github.com/JuliaMath/QuadGK.jl) and ForwardDiff (https://github.com/JuliaDiff/ForwardDiff.jl)."
   ]
  },
  {
   "cell_type": "markdown",
   "metadata": {},
   "source": [
    "## Load Packages"
   ]
  },
  {
   "cell_type": "code",
   "execution_count": 1,
   "metadata": {},
   "outputs": [
    {
     "data": {
      "text/plain": [
       "printlnPs (generic function with 2 methods)"
      ]
     },
     "execution_count": 1,
     "metadata": {},
     "output_type": "execute_result"
    }
   ],
   "source": [
    "using QuadGK, ForwardDiff\n",
    "\n",
    "using Compat, Missings        #in Julia 0.6 \n",
    "#using Dates                  #in Julia 0.7\n",
    "\n",
    "include(\"printmat.jl\")"
   ]
  },
  {
   "cell_type": "code",
   "execution_count": 2,
   "metadata": {},
   "outputs": [
    {
     "data": {
      "text/plain": [
       "Plots.GRBackend()"
      ]
     },
     "execution_count": 2,
     "metadata": {},
     "output_type": "execute_result"
    }
   ],
   "source": [
    "using Plots\n",
    "\n",
    "backend = \"gr\"              #\"gr\" (default), \"pyplot\" \n",
    "\n",
    "if backend == \"pyplot\"\n",
    "    pyplot(size=(600,400))\n",
    "else    \n",
    "    gr(size=(600,400))\n",
    "end"
   ]
  },
  {
   "cell_type": "markdown",
   "metadata": {},
   "source": [
    "# Numerical Integration\n",
    "\n",
    "As a simple illustration, the next cells plot and integrate the $N(0,1)$ pdf."
   ]
  },
  {
   "cell_type": "markdown",
   "metadata": {},
   "source": [
    "## The Pdf of the N(μ,σ²) Distribution \n",
    "\n",
    "(Notice: the function takes $\\mu$ and $\\sigma^2$ as inputs. This differs from the Distributions package.) "
   ]
  },
  {
   "cell_type": "code",
   "execution_count": 3,
   "metadata": {},
   "outputs": [
    {
     "data": {
      "text/plain": [
       "ϕNS (generic function with 3 methods)"
      ]
     },
     "execution_count": 3,
     "metadata": {},
     "output_type": "execute_result"
    }
   ],
   "source": [
    "function ϕNS(x,μ=0,σ²=1)       #pdf of N(μ,σ²), defaults to N(0,1)\n",
    "    σ = sqrt(σ²)\n",
    "    z = (x - μ)/σ\n",
    "    pdf = exp(-0.5*z^2)/(sqrt(2*pi)*σ)    \n",
    "    return pdf\n",
    "end"
   ]
  },
  {
   "cell_type": "code",
   "execution_count": 4,
   "metadata": {},
   "outputs": [
    {
     "data": {
      "image/svg+xml": [
       "<?xml version=\"1.0\" encoding=\"utf-8\"?>\n",
       "<svg xmlns=\"http://www.w3.org/2000/svg\" xmlns:xlink=\"http://www.w3.org/1999/xlink\" width=\"600\" height=\"400\" viewBox=\"0 0 600 400\">\n",
       "<defs>\n",
       "  <clipPath id=\"clip1200\">\n",
       "    <rect x=\"0\" y=\"0\" width=\"600\" height=\"400\"/>\n",
       "  </clipPath>\n",
       "</defs>\n",
       "<polygon clip-path=\"url(#clip1200)\" points=\"\n",
       "0,400 600,400 600,0 0,0 \n",
       "  \" fill=\"#ffffff\" fill-opacity=\"1\"/>\n",
       "<defs>\n",
       "  <clipPath id=\"clip1201\">\n",
       "    <rect x=\"120\" y=\"0\" width=\"421\" height=\"400\"/>\n",
       "  </clipPath>\n",
       "</defs>\n",
       "<polygon clip-path=\"url(#clip1200)\" points=\"\n",
       "32.4745,360.121 580.315,360.121 580.315,31.4961 32.4745,31.4961 \n",
       "  \" fill=\"#ffffff\" fill-opacity=\"1\"/>\n",
       "<defs>\n",
       "  <clipPath id=\"clip1202\">\n",
       "    <rect x=\"32\" y=\"31\" width=\"549\" height=\"330\"/>\n",
       "  </clipPath>\n",
       "</defs>\n",
       "<polyline clip-path=\"url(#clip1202)\" style=\"stroke:#000000; stroke-width:0.5; stroke-opacity:0.1; fill:none\" points=\"\n",
       "  32.4745,360.121 32.4745,31.4961 \n",
       "  \"/>\n",
       "<polyline clip-path=\"url(#clip1202)\" style=\"stroke:#000000; stroke-width:0.5; stroke-opacity:0.1; fill:none\" points=\"\n",
       "  123.781,360.121 123.781,31.4961 \n",
       "  \"/>\n",
       "<polyline clip-path=\"url(#clip1202)\" style=\"stroke:#000000; stroke-width:0.5; stroke-opacity:0.1; fill:none\" points=\"\n",
       "  215.088,360.121 215.088,31.4961 \n",
       "  \"/>\n",
       "<polyline clip-path=\"url(#clip1202)\" style=\"stroke:#000000; stroke-width:0.5; stroke-opacity:0.1; fill:none\" points=\"\n",
       "  306.395,360.121 306.395,31.4961 \n",
       "  \"/>\n",
       "<polyline clip-path=\"url(#clip1202)\" style=\"stroke:#000000; stroke-width:0.5; stroke-opacity:0.1; fill:none\" points=\"\n",
       "  397.701,360.121 397.701,31.4961 \n",
       "  \"/>\n",
       "<polyline clip-path=\"url(#clip1202)\" style=\"stroke:#000000; stroke-width:0.5; stroke-opacity:0.1; fill:none\" points=\"\n",
       "  489.008,360.121 489.008,31.4961 \n",
       "  \"/>\n",
       "<polyline clip-path=\"url(#clip1202)\" style=\"stroke:#000000; stroke-width:0.5; stroke-opacity:0.1; fill:none\" points=\"\n",
       "  580.315,360.121 580.315,31.4961 \n",
       "  \"/>\n",
       "<polyline clip-path=\"url(#clip1202)\" style=\"stroke:#000000; stroke-width:0.5; stroke-opacity:0.1; fill:none\" points=\"\n",
       "  32.4745,360.121 580.315,360.121 \n",
       "  \"/>\n",
       "<polyline clip-path=\"url(#clip1202)\" style=\"stroke:#000000; stroke-width:0.5; stroke-opacity:0.1; fill:none\" points=\"\n",
       "  32.4745,277.747 580.315,277.747 \n",
       "  \"/>\n",
       "<polyline clip-path=\"url(#clip1202)\" style=\"stroke:#000000; stroke-width:0.5; stroke-opacity:0.1; fill:none\" points=\"\n",
       "  32.4745,195.373 580.315,195.373 \n",
       "  \"/>\n",
       "<polyline clip-path=\"url(#clip1202)\" style=\"stroke:#000000; stroke-width:0.5; stroke-opacity:0.1; fill:none\" points=\"\n",
       "  32.4745,112.999 580.315,112.999 \n",
       "  \"/>\n",
       "<polyline clip-path=\"url(#clip1200)\" style=\"stroke:#000000; stroke-width:1; stroke-opacity:1; fill:none\" points=\"\n",
       "  32.4745,360.121 580.315,360.121 \n",
       "  \"/>\n",
       "<polyline clip-path=\"url(#clip1200)\" style=\"stroke:#000000; stroke-width:1; stroke-opacity:1; fill:none\" points=\"\n",
       "  32.4745,360.121 32.4745,31.4961 \n",
       "  \"/>\n",
       "<polyline clip-path=\"url(#clip1200)\" style=\"stroke:#000000; stroke-width:1; stroke-opacity:1; fill:none\" points=\"\n",
       "  32.4745,360.121 32.4745,355.191 \n",
       "  \"/>\n",
       "<polyline clip-path=\"url(#clip1200)\" style=\"stroke:#000000; stroke-width:1; stroke-opacity:1; fill:none\" points=\"\n",
       "  123.781,360.121 123.781,355.191 \n",
       "  \"/>\n",
       "<polyline clip-path=\"url(#clip1200)\" style=\"stroke:#000000; stroke-width:1; stroke-opacity:1; fill:none\" points=\"\n",
       "  215.088,360.121 215.088,355.191 \n",
       "  \"/>\n",
       "<polyline clip-path=\"url(#clip1200)\" style=\"stroke:#000000; stroke-width:1; stroke-opacity:1; fill:none\" points=\"\n",
       "  306.395,360.121 306.395,355.191 \n",
       "  \"/>\n",
       "<polyline clip-path=\"url(#clip1200)\" style=\"stroke:#000000; stroke-width:1; stroke-opacity:1; fill:none\" points=\"\n",
       "  397.701,360.121 397.701,355.191 \n",
       "  \"/>\n",
       "<polyline clip-path=\"url(#clip1200)\" style=\"stroke:#000000; stroke-width:1; stroke-opacity:1; fill:none\" points=\"\n",
       "  489.008,360.121 489.008,355.191 \n",
       "  \"/>\n",
       "<polyline clip-path=\"url(#clip1200)\" style=\"stroke:#000000; stroke-width:1; stroke-opacity:1; fill:none\" points=\"\n",
       "  580.315,360.121 580.315,355.191 \n",
       "  \"/>\n",
       "<polyline clip-path=\"url(#clip1200)\" style=\"stroke:#000000; stroke-width:1; stroke-opacity:1; fill:none\" points=\"\n",
       "  32.4745,360.121 40.6921,360.121 \n",
       "  \"/>\n",
       "<polyline clip-path=\"url(#clip1200)\" style=\"stroke:#000000; stroke-width:1; stroke-opacity:1; fill:none\" points=\"\n",
       "  32.4745,277.747 40.6921,277.747 \n",
       "  \"/>\n",
       "<polyline clip-path=\"url(#clip1200)\" style=\"stroke:#000000; stroke-width:1; stroke-opacity:1; fill:none\" points=\"\n",
       "  32.4745,195.373 40.6921,195.373 \n",
       "  \"/>\n",
       "<polyline clip-path=\"url(#clip1200)\" style=\"stroke:#000000; stroke-width:1; stroke-opacity:1; fill:none\" points=\"\n",
       "  32.4745,112.999 40.6921,112.999 \n",
       "  \"/>\n",
       "<g clip-path=\"url(#clip1200)\">\n",
       "<text style=\"fill:#000000; fill-opacity:1; font-family:Arial,Helvetica Neue,Helvetica,sans-serif; font-size:12; text-anchor:middle;\" transform=\"rotate(0, 32.4745, 373.921)\" x=\"32.4745\" y=\"373.921\">-3</text>\n",
       "</g>\n",
       "<g clip-path=\"url(#clip1200)\">\n",
       "<text style=\"fill:#000000; fill-opacity:1; font-family:Arial,Helvetica Neue,Helvetica,sans-serif; font-size:12; text-anchor:middle;\" transform=\"rotate(0, 123.781, 373.921)\" x=\"123.781\" y=\"373.921\">-2</text>\n",
       "</g>\n",
       "<g clip-path=\"url(#clip1200)\">\n",
       "<text style=\"fill:#000000; fill-opacity:1; font-family:Arial,Helvetica Neue,Helvetica,sans-serif; font-size:12; text-anchor:middle;\" transform=\"rotate(0, 215.088, 373.921)\" x=\"215.088\" y=\"373.921\">-1</text>\n",
       "</g>\n",
       "<g clip-path=\"url(#clip1200)\">\n",
       "<text style=\"fill:#000000; fill-opacity:1; font-family:Arial,Helvetica Neue,Helvetica,sans-serif; font-size:12; text-anchor:middle;\" transform=\"rotate(0, 306.395, 373.921)\" x=\"306.395\" y=\"373.921\">0</text>\n",
       "</g>\n",
       "<g clip-path=\"url(#clip1200)\">\n",
       "<text style=\"fill:#000000; fill-opacity:1; font-family:Arial,Helvetica Neue,Helvetica,sans-serif; font-size:12; text-anchor:middle;\" transform=\"rotate(0, 397.701, 373.921)\" x=\"397.701\" y=\"373.921\">1</text>\n",
       "</g>\n",
       "<g clip-path=\"url(#clip1200)\">\n",
       "<text style=\"fill:#000000; fill-opacity:1; font-family:Arial,Helvetica Neue,Helvetica,sans-serif; font-size:12; text-anchor:middle;\" transform=\"rotate(0, 489.008, 373.921)\" x=\"489.008\" y=\"373.921\">2</text>\n",
       "</g>\n",
       "<g clip-path=\"url(#clip1200)\">\n",
       "<text style=\"fill:#000000; fill-opacity:1; font-family:Arial,Helvetica Neue,Helvetica,sans-serif; font-size:12; text-anchor:middle;\" transform=\"rotate(0, 580.315, 373.921)\" x=\"580.315\" y=\"373.921\">3</text>\n",
       "</g>\n",
       "<g clip-path=\"url(#clip1200)\">\n",
       "<text style=\"fill:#000000; fill-opacity:1; font-family:Arial,Helvetica Neue,Helvetica,sans-serif; font-size:12; text-anchor:end;\" transform=\"rotate(0, 26.4745, 364.621)\" x=\"26.4745\" y=\"364.621\">0.0</text>\n",
       "</g>\n",
       "<g clip-path=\"url(#clip1200)\">\n",
       "<text style=\"fill:#000000; fill-opacity:1; font-family:Arial,Helvetica Neue,Helvetica,sans-serif; font-size:12; text-anchor:end;\" transform=\"rotate(0, 26.4745, 282.247)\" x=\"26.4745\" y=\"282.247\">0.1</text>\n",
       "</g>\n",
       "<g clip-path=\"url(#clip1200)\">\n",
       "<text style=\"fill:#000000; fill-opacity:1; font-family:Arial,Helvetica Neue,Helvetica,sans-serif; font-size:12; text-anchor:end;\" transform=\"rotate(0, 26.4745, 199.873)\" x=\"26.4745\" y=\"199.873\">0.2</text>\n",
       "</g>\n",
       "<g clip-path=\"url(#clip1200)\">\n",
       "<text style=\"fill:#000000; fill-opacity:1; font-family:Arial,Helvetica Neue,Helvetica,sans-serif; font-size:12; text-anchor:end;\" transform=\"rotate(0, 26.4745, 117.499)\" x=\"26.4745\" y=\"117.499\">0.3</text>\n",
       "</g>\n",
       "<g clip-path=\"url(#clip1200)\">\n",
       "<text style=\"fill:#000000; fill-opacity:1; font-family:Arial,Helvetica Neue,Helvetica,sans-serif; font-size:21; text-anchor:middle;\" transform=\"rotate(0, 306.395, 18)\" x=\"306.395\" y=\"18\">pdf of N(0,1)</text>\n",
       "</g>\n",
       "<g clip-path=\"url(#clip1200)\">\n",
       "<text style=\"fill:#000000; fill-opacity:1; font-family:Arial,Helvetica Neue,Helvetica,sans-serif; font-size:16; text-anchor:middle;\" transform=\"rotate(0, 306.395, 397.6)\" x=\"306.395\" y=\"397.6\">x</text>\n",
       "</g>\n",
       "<polyline clip-path=\"url(#clip1202)\" style=\"stroke:#ff0000; stroke-width:2; stroke-opacity:1; fill:none\" points=\"\n",
       "  32.4745,356.47 41.6052,355.217 50.7358,353.6 59.8665,351.537 68.9972,348.932 78.1279,345.682 87.2585,341.673 96.3892,336.787 105.52,330.899 114.651,323.89 \n",
       "  123.781,315.646 132.912,306.07 142.043,295.086 151.173,282.649 160.304,268.751 169.435,253.432 178.565,236.784 187.696,218.958 196.827,200.162 205.957,180.667 \n",
       "  215.088,160.8 224.219,140.936 233.349,121.49 242.48,102.905 251.611,85.6303 260.741,70.1105 269.872,56.7619 279.003,45.9564 288.133,38.0033 297.264,33.1351 \n",
       "  306.395,31.4961 315.525,33.1351 324.656,38.0033 333.787,45.9564 342.917,56.7619 352.048,70.1105 361.179,85.6303 370.309,102.905 379.44,121.49 388.571,140.936 \n",
       "  397.701,160.8 406.832,180.667 415.963,200.162 425.093,218.958 434.224,236.784 443.355,253.432 452.486,268.751 461.616,282.649 470.747,295.086 479.878,306.07 \n",
       "  489.008,315.646 498.139,323.89 507.27,330.899 516.4,336.787 525.531,341.673 534.662,345.682 543.792,348.932 552.923,351.537 562.054,353.6 571.184,355.217 \n",
       "  580.315,356.47 \n",
       "  \"/>\n",
       "<polygon clip-path=\"url(#clip1202)\" points=\"\n",
       "32.4745,356.47 41.6052,355.217 50.7358,353.6 59.8665,351.537 68.9972,348.932 78.1279,345.682 87.2585,341.673 96.3892,336.787 105.52,330.899 114.651,323.89 \n",
       "  123.781,315.646 132.912,306.07 142.043,295.086 151.173,282.649 160.304,268.751 169.435,253.432 178.565,236.784 187.696,218.958 196.827,200.162 205.957,180.667 \n",
       "  215.088,160.8 224.219,140.936 233.349,121.49 242.48,102.905 251.611,85.6303 260.741,70.1105 269.872,56.7619 279.003,45.9564 288.133,38.0033 297.264,33.1351 \n",
       "  306.395,31.4961 315.525,33.1351 324.656,38.0033 333.787,45.9564 342.917,56.7619 352.048,70.1105 361.179,85.6303 370.309,102.905 379.44,121.49 388.571,140.936 \n",
       "  397.701,160.8 406.832,180.667 415.963,200.162 425.093,218.958 434.224,236.784 443.355,253.432 452.486,268.751 452.486,360.121 443.355,360.121 434.224,360.121 \n",
       "  425.093,360.121 415.963,360.121 406.832,360.121 397.701,360.121 388.571,360.121 379.44,360.121 370.309,360.121 361.179,360.121 352.048,360.121 342.917,360.121 \n",
       "  333.787,360.121 324.656,360.121 315.525,360.121 306.395,360.121 297.264,360.121 288.133,360.121 279.003,360.121 269.872,360.121 260.741,360.121 251.611,360.121 \n",
       "  242.48,360.121 233.349,360.121 224.219,360.121 215.088,360.121 205.957,360.121 196.827,360.121 187.696,360.121 178.565,360.121 169.435,360.121 160.304,360.121 \n",
       "  151.173,360.121 142.043,360.121 132.912,360.121 123.781,360.121 114.651,360.121 105.52,360.121 96.3892,360.121 87.2585,360.121 78.1279,360.121 68.9972,360.121 \n",
       "  59.8665,360.121 50.7358,360.121 41.6052,360.121 32.4745,360.121 \n",
       "  \" fill=\"#ff0000\" fill-opacity=\"1\"/>\n",
       "<polyline clip-path=\"url(#clip1202)\" style=\"stroke:#ff0000; stroke-width:2; stroke-opacity:1; fill:none\" points=\"\n",
       "  32.4745,356.47 41.6052,355.217 50.7358,353.6 59.8665,351.537 68.9972,348.932 78.1279,345.682 87.2585,341.673 96.3892,336.787 105.52,330.899 114.651,323.89 \n",
       "  123.781,315.646 132.912,306.07 142.043,295.086 151.173,282.649 160.304,268.751 169.435,253.432 178.565,236.784 187.696,218.958 196.827,200.162 205.957,180.667 \n",
       "  215.088,160.8 224.219,140.936 233.349,121.49 242.48,102.905 251.611,85.6303 260.741,70.1105 269.872,56.7619 279.003,45.9564 288.133,38.0033 297.264,33.1351 \n",
       "  306.395,31.4961 315.525,33.1351 324.656,38.0033 333.787,45.9564 342.917,56.7619 352.048,70.1105 361.179,85.6303 370.309,102.905 379.44,121.49 388.571,140.936 \n",
       "  397.701,160.8 406.832,180.667 415.963,200.162 425.093,218.958 434.224,236.784 443.355,253.432 452.486,268.751 \n",
       "  \"/>\n",
       "<g clip-path=\"url(#clip1200)\">\n",
       "<text style=\"fill:#000000; fill-opacity:1; font-family:Arial,Helvetica Neue,Helvetica,sans-serif; font-size:21; text-anchor:middle;\" transform=\"rotate(0, 466.182, 150.346)\" x=\"466.182\" y=\"150.346\">the area covers</text>\n",
       "</g>\n",
       "<g clip-path=\"url(#clip1200)\">\n",
       "<text style=\"fill:#000000; fill-opacity:1; font-family:Arial,Helvetica Neue,Helvetica,sans-serif; font-size:21; text-anchor:middle;\" transform=\"rotate(0, 466.182, 173.026)\" x=\"466.182\" y=\"173.026\"> up to x=1.645</text>\n",
       "</g>\n",
       "</svg>\n"
      ]
     },
     "execution_count": 4,
     "metadata": {},
     "output_type": "execute_result"
    }
   ],
   "source": [
    "x  = -3:0.1:3\n",
    "xb = x[x.<=1.645]\n",
    "\n",
    "plot1 = plot(x,ϕNS.(x),color=:red,linewidth=2,legend=nothing)\n",
    "plot!(xb,ϕNS.(xb),color=:red,linewidth=2,legend=nothing,fill=(0,:red))\n",
    "title!(\"pdf of N(0,1)\")\n",
    "xlabel!(\"x\")\n",
    "ylabel!(\"\")\n",
    "annotate!(1.75,0.25,\"the area covers\\n up to x=1.645\")"
   ]
  },
  {
   "cell_type": "markdown",
   "metadata": {},
   "source": [
    "## Calculating Prob(x<=1.645)\n",
    "\n",
    "The next cell calculates (by numeric integration)\n",
    "\n",
    "$\\int_{-\\infty}^{1.645}\\phi(x,0,\\sigma^2)dx$,\n",
    "\n",
    "where $\\phi(x,\\mu,\\sigma^2)$ is the pdf of an $N(\\mu,\\sigma^2)$ variable."
   ]
  },
  {
   "cell_type": "code",
   "execution_count": 5,
   "metadata": {},
   "outputs": [
    {
     "name": "stdout",
     "output_type": "stream",
     "text": [
      "\n",
      "Pr(x<=1.64) according to N(0,1):     0.950\n",
      "\n",
      "Pr(x<=1.64) according to N(0,5):     0.769\n"
     ]
    }
   ],
   "source": [
    "cdf1, = QuadGK.quadgk(x->ϕNS(x),-Inf,1.645)       #could replace x->ϕNS(x), by ϕNS\n",
    "printlnPs(\"\\nPr(x<=1.64) according to N(0,1):\", cdf1)\n",
    "\n",
    "cdf2, = QuadGK.quadgk(x->ϕNS(x,0,5),-Inf,1.645)\n",
    "printlnPs(\"\\nPr(x<=1.64) according to N(0,5):\", cdf2)"
   ]
  },
  {
   "cell_type": "markdown",
   "metadata": {
    "collapsed": true
   },
   "source": [
    "# Numerical Derivatives\n",
    "\n",
    "Numerical derivatives can be calculated by a crude finite difference (see `NumDer()` below) or by the much more sophisticated routines in the ForwardDiff.jl package.\n",
    "\n",
    "The function you want to differentiate must typically have only one argument (even if it is a vector). To turn a multi-argument function fn1(x,a) into a one-argument function transform it to an anonymous function by\n",
    "```\n",
    "x->fn1(x,a),\n",
    "```\n",
    "assuming that `a` has a value already. We can now differentiate wrt. `x`."
   ]
  },
  {
   "cell_type": "code",
   "execution_count": 6,
   "metadata": {},
   "outputs": [
    {
     "data": {
      "text/plain": [
       "NumDer (generic function with 1 method)"
      ]
     },
     "execution_count": 6,
     "metadata": {},
     "output_type": "execute_result"
    }
   ],
   "source": [
    "function NumDer(fun,b0,h)     #crude function for a centered numerical derivative\n",
    "    bminus = b0 .- h\n",
    "    bplus  = b0 .+ h\n",
    "    hh     = bplus - bminus\n",
    "    fplus  = fun(bplus)\n",
    "    fminus = fun(bminus)\n",
    "    D      = (fplus-fminus)/hh\n",
    "    return D\n",
    "end"
   ]
  },
  {
   "cell_type": "code",
   "execution_count": 7,
   "metadata": {},
   "outputs": [
    {
     "data": {
      "text/plain": [
       "fn1 (generic function with 1 method)"
      ]
     },
     "execution_count": 7,
     "metadata": {},
     "output_type": "execute_result"
    }
   ],
   "source": [
    "function fn1(x,a)                 #a simple function, to be differentiated\n",
    "   return (x - 1.1)^2 - a                \n",
    "end"
   ]
  },
  {
   "cell_type": "code",
   "execution_count": 8,
   "metadata": {},
   "outputs": [
    {
     "name": "stdout",
     "output_type": "stream",
     "text": [
      "The derivative at x=2 is (from two different methods): \n",
      "     1.800     1.800\n",
      "\n"
     ]
    }
   ],
   "source": [
    "x0 = 2\n",
    "\n",
    "dydx_A = NumDer(x->fn1(x,0.5),x0,0.01)           #differentiate fn1(x,0.5) at x = x0\n",
    "dydx_B = ForwardDiff.derivative(x->fn1(x,0.5),x0)\n",
    "\n",
    "println(\"The derivative at x=$x0 is (from two different methods): \")\n",
    "printmat([dydx_A dydx_B])"
   ]
  },
  {
   "cell_type": "code",
   "execution_count": 9,
   "metadata": {},
   "outputs": [
    {
     "name": "stdout",
     "output_type": "stream",
     "text": [
      "now lets plot this\n"
     ]
    }
   ],
   "source": [
    "x = -3:6/99:6          #calculate the derivative at many points\n",
    "\n",
    "dydx_A = [NumDer(x->fn1(x,0.5),x[i],0.01) for i=1:length(x)]        \n",
    "\n",
    "dydx_B = [ForwardDiff.derivative(x->fn1(x,0.5),x[i]) for i=1:length(x)]\n",
    "\n",
    "println(\"now lets plot this\")"
   ]
  },
  {
   "cell_type": "code",
   "execution_count": 10,
   "metadata": {},
   "outputs": [
    {
     "data": {
      "image/svg+xml": [
       "<?xml version=\"1.0\" encoding=\"utf-8\"?>\n",
       "<svg xmlns=\"http://www.w3.org/2000/svg\" xmlns:xlink=\"http://www.w3.org/1999/xlink\" width=\"600\" height=\"400\" viewBox=\"0 0 600 400\">\n",
       "<defs>\n",
       "  <clipPath id=\"clip1400\">\n",
       "    <rect x=\"0\" y=\"0\" width=\"600\" height=\"400\"/>\n",
       "  </clipPath>\n",
       "</defs>\n",
       "<polygon clip-path=\"url(#clip1400)\" points=\"\n",
       "0,400 600,400 600,0 0,0 \n",
       "  \" fill=\"#ffffff\" fill-opacity=\"1\"/>\n",
       "<defs>\n",
       "  <clipPath id=\"clip1401\">\n",
       "    <rect x=\"120\" y=\"0\" width=\"421\" height=\"400\"/>\n",
       "  </clipPath>\n",
       "</defs>\n",
       "<polygon clip-path=\"url(#clip1400)\" points=\"\n",
       "29.4661,360.121 580.315,360.121 580.315,31.4961 29.4661,31.4961 \n",
       "  \" fill=\"#ffffff\" fill-opacity=\"1\"/>\n",
       "<defs>\n",
       "  <clipPath id=\"clip1402\">\n",
       "    <rect x=\"29\" y=\"31\" width=\"552\" height=\"330\"/>\n",
       "  </clipPath>\n",
       "</defs>\n",
       "<polyline clip-path=\"url(#clip1402)\" style=\"stroke:#000000; stroke-width:0.5; stroke-opacity:0.1; fill:none\" points=\"\n",
       "  90.8783,360.121 90.8783,31.4961 \n",
       "  \"/>\n",
       "<polyline clip-path=\"url(#clip1402)\" style=\"stroke:#000000; stroke-width:0.5; stroke-opacity:0.1; fill:none\" points=\"\n",
       "  213.703,360.121 213.703,31.4961 \n",
       "  \"/>\n",
       "<polyline clip-path=\"url(#clip1402)\" style=\"stroke:#000000; stroke-width:0.5; stroke-opacity:0.1; fill:none\" points=\"\n",
       "  336.527,360.121 336.527,31.4961 \n",
       "  \"/>\n",
       "<polyline clip-path=\"url(#clip1402)\" style=\"stroke:#000000; stroke-width:0.5; stroke-opacity:0.1; fill:none\" points=\"\n",
       "  459.352,360.121 459.352,31.4961 \n",
       "  \"/>\n",
       "<polyline clip-path=\"url(#clip1402)\" style=\"stroke:#000000; stroke-width:0.5; stroke-opacity:0.1; fill:none\" points=\"\n",
       "  29.4661,326.645 580.315,326.645 \n",
       "  \"/>\n",
       "<polyline clip-path=\"url(#clip1402)\" style=\"stroke:#000000; stroke-width:0.5; stroke-opacity:0.1; fill:none\" points=\"\n",
       "  29.4661,274.34 580.315,274.34 \n",
       "  \"/>\n",
       "<polyline clip-path=\"url(#clip1402)\" style=\"stroke:#000000; stroke-width:0.5; stroke-opacity:0.1; fill:none\" points=\"\n",
       "  29.4661,222.034 580.315,222.034 \n",
       "  \"/>\n",
       "<polyline clip-path=\"url(#clip1402)\" style=\"stroke:#000000; stroke-width:0.5; stroke-opacity:0.1; fill:none\" points=\"\n",
       "  29.4661,169.729 580.315,169.729 \n",
       "  \"/>\n",
       "<polyline clip-path=\"url(#clip1402)\" style=\"stroke:#000000; stroke-width:0.5; stroke-opacity:0.1; fill:none\" points=\"\n",
       "  29.4661,117.423 580.315,117.423 \n",
       "  \"/>\n",
       "<polyline clip-path=\"url(#clip1402)\" style=\"stroke:#000000; stroke-width:0.5; stroke-opacity:0.1; fill:none\" points=\"\n",
       "  29.4661,65.1175 580.315,65.1175 \n",
       "  \"/>\n",
       "<polyline clip-path=\"url(#clip1400)\" style=\"stroke:#000000; stroke-width:1; stroke-opacity:1; fill:none\" points=\"\n",
       "  29.4661,360.121 580.315,360.121 \n",
       "  \"/>\n",
       "<polyline clip-path=\"url(#clip1400)\" style=\"stroke:#000000; stroke-width:1; stroke-opacity:1; fill:none\" points=\"\n",
       "  29.4661,360.121 29.4661,31.4961 \n",
       "  \"/>\n",
       "<polyline clip-path=\"url(#clip1400)\" style=\"stroke:#000000; stroke-width:1; stroke-opacity:1; fill:none\" points=\"\n",
       "  90.8783,360.121 90.8783,355.191 \n",
       "  \"/>\n",
       "<polyline clip-path=\"url(#clip1400)\" style=\"stroke:#000000; stroke-width:1; stroke-opacity:1; fill:none\" points=\"\n",
       "  213.703,360.121 213.703,355.191 \n",
       "  \"/>\n",
       "<polyline clip-path=\"url(#clip1400)\" style=\"stroke:#000000; stroke-width:1; stroke-opacity:1; fill:none\" points=\"\n",
       "  336.527,360.121 336.527,355.191 \n",
       "  \"/>\n",
       "<polyline clip-path=\"url(#clip1400)\" style=\"stroke:#000000; stroke-width:1; stroke-opacity:1; fill:none\" points=\"\n",
       "  459.352,360.121 459.352,355.191 \n",
       "  \"/>\n",
       "<polyline clip-path=\"url(#clip1400)\" style=\"stroke:#000000; stroke-width:1; stroke-opacity:1; fill:none\" points=\"\n",
       "  29.4661,326.645 37.7289,326.645 \n",
       "  \"/>\n",
       "<polyline clip-path=\"url(#clip1400)\" style=\"stroke:#000000; stroke-width:1; stroke-opacity:1; fill:none\" points=\"\n",
       "  29.4661,274.34 37.7289,274.34 \n",
       "  \"/>\n",
       "<polyline clip-path=\"url(#clip1400)\" style=\"stroke:#000000; stroke-width:1; stroke-opacity:1; fill:none\" points=\"\n",
       "  29.4661,222.034 37.7289,222.034 \n",
       "  \"/>\n",
       "<polyline clip-path=\"url(#clip1400)\" style=\"stroke:#000000; stroke-width:1; stroke-opacity:1; fill:none\" points=\"\n",
       "  29.4661,169.729 37.7289,169.729 \n",
       "  \"/>\n",
       "<polyline clip-path=\"url(#clip1400)\" style=\"stroke:#000000; stroke-width:1; stroke-opacity:1; fill:none\" points=\"\n",
       "  29.4661,117.423 37.7289,117.423 \n",
       "  \"/>\n",
       "<polyline clip-path=\"url(#clip1400)\" style=\"stroke:#000000; stroke-width:1; stroke-opacity:1; fill:none\" points=\"\n",
       "  29.4661,65.1175 37.7289,65.1175 \n",
       "  \"/>\n",
       "<g clip-path=\"url(#clip1400)\">\n",
       "<text style=\"fill:#000000; fill-opacity:1; font-family:Arial,Helvetica Neue,Helvetica,sans-serif; font-size:12; text-anchor:middle;\" transform=\"rotate(0, 90.8783, 373.921)\" x=\"90.8783\" y=\"373.921\">-2</text>\n",
       "</g>\n",
       "<g clip-path=\"url(#clip1400)\">\n",
       "<text style=\"fill:#000000; fill-opacity:1; font-family:Arial,Helvetica Neue,Helvetica,sans-serif; font-size:12; text-anchor:middle;\" transform=\"rotate(0, 213.703, 373.921)\" x=\"213.703\" y=\"373.921\">0</text>\n",
       "</g>\n",
       "<g clip-path=\"url(#clip1400)\">\n",
       "<text style=\"fill:#000000; fill-opacity:1; font-family:Arial,Helvetica Neue,Helvetica,sans-serif; font-size:12; text-anchor:middle;\" transform=\"rotate(0, 336.527, 373.921)\" x=\"336.527\" y=\"373.921\">2</text>\n",
       "</g>\n",
       "<g clip-path=\"url(#clip1400)\">\n",
       "<text style=\"fill:#000000; fill-opacity:1; font-family:Arial,Helvetica Neue,Helvetica,sans-serif; font-size:12; text-anchor:middle;\" transform=\"rotate(0, 459.352, 373.921)\" x=\"459.352\" y=\"373.921\">4</text>\n",
       "</g>\n",
       "<g clip-path=\"url(#clip1400)\">\n",
       "<text style=\"fill:#000000; fill-opacity:1; font-family:Arial,Helvetica Neue,Helvetica,sans-serif; font-size:12; text-anchor:end;\" transform=\"rotate(0, 23.4661, 331.145)\" x=\"23.4661\" y=\"331.145\">-5</text>\n",
       "</g>\n",
       "<g clip-path=\"url(#clip1400)\">\n",
       "<text style=\"fill:#000000; fill-opacity:1; font-family:Arial,Helvetica Neue,Helvetica,sans-serif; font-size:12; text-anchor:end;\" transform=\"rotate(0, 23.4661, 278.84)\" x=\"23.4661\" y=\"278.84\">0</text>\n",
       "</g>\n",
       "<g clip-path=\"url(#clip1400)\">\n",
       "<text style=\"fill:#000000; fill-opacity:1; font-family:Arial,Helvetica Neue,Helvetica,sans-serif; font-size:12; text-anchor:end;\" transform=\"rotate(0, 23.4661, 226.534)\" x=\"23.4661\" y=\"226.534\">5</text>\n",
       "</g>\n",
       "<g clip-path=\"url(#clip1400)\">\n",
       "<text style=\"fill:#000000; fill-opacity:1; font-family:Arial,Helvetica Neue,Helvetica,sans-serif; font-size:12; text-anchor:end;\" transform=\"rotate(0, 23.4661, 174.229)\" x=\"23.4661\" y=\"174.229\">10</text>\n",
       "</g>\n",
       "<g clip-path=\"url(#clip1400)\">\n",
       "<text style=\"fill:#000000; fill-opacity:1; font-family:Arial,Helvetica Neue,Helvetica,sans-serif; font-size:12; text-anchor:end;\" transform=\"rotate(0, 23.4661, 121.923)\" x=\"23.4661\" y=\"121.923\">15</text>\n",
       "</g>\n",
       "<g clip-path=\"url(#clip1400)\">\n",
       "<text style=\"fill:#000000; fill-opacity:1; font-family:Arial,Helvetica Neue,Helvetica,sans-serif; font-size:12; text-anchor:end;\" transform=\"rotate(0, 23.4661, 69.6175)\" x=\"23.4661\" y=\"69.6175\">20</text>\n",
       "</g>\n",
       "<g clip-path=\"url(#clip1400)\">\n",
       "<text style=\"fill:#000000; fill-opacity:1; font-family:Arial,Helvetica Neue,Helvetica,sans-serif; font-size:21; text-anchor:middle;\" transform=\"rotate(0, 304.891, 18)\" x=\"304.891\" y=\"18\">fn1() and its derivative</text>\n",
       "</g>\n",
       "<g clip-path=\"url(#clip1400)\">\n",
       "<text style=\"fill:#000000; fill-opacity:1; font-family:Arial,Helvetica Neue,Helvetica,sans-serif; font-size:16; text-anchor:middle;\" transform=\"rotate(0, 304.891, 397.6)\" x=\"304.891\" y=\"397.6\">x</text>\n",
       "</g>\n",
       "<polyline clip-path=\"url(#clip1402)\" style=\"stroke:#000000; stroke-width:1; stroke-opacity:1; fill:none\" points=\"\n",
       "  29.4661,103.719 33.1881,108.879 36.91,113.963 40.632,118.97 44.3539,123.9 48.0759,128.753 51.7978,133.529 55.5198,138.228 59.2417,142.851 62.9637,147.396 \n",
       "  66.6857,151.865 70.4076,156.257 74.1296,160.572 77.8515,164.81 81.5735,168.972 85.2954,173.056 89.0174,177.064 92.7393,180.995 96.4613,184.849 100.183,188.626 \n",
       "  103.905,192.326 107.627,195.95 111.349,199.496 115.071,202.966 118.793,206.359 122.515,209.675 126.237,212.914 129.959,216.076 133.681,219.162 137.403,222.171 \n",
       "  141.125,225.102 144.847,227.957 148.569,230.735 152.291,233.437 156.012,236.061 159.734,238.609 163.456,241.079 167.178,243.473 170.9,245.79 174.622,248.03 \n",
       "  178.344,250.194 182.066,252.28 185.788,254.29 189.51,256.222 193.232,258.078 196.954,259.857 200.676,261.56 204.398,263.185 208.12,264.734 211.842,266.205 \n",
       "  215.564,267.6 219.286,268.918 223.008,270.159 226.73,271.323 230.452,272.411 234.173,273.421 237.895,274.355 241.617,275.212 245.339,275.992 249.061,276.695 \n",
       "  252.783,277.321 256.505,277.871 260.227,278.344 263.949,278.739 267.671,279.058 271.393,279.3 275.115,279.466 278.837,279.554 282.559,279.565 286.281,279.5 \n",
       "  290.003,279.358 293.725,279.139 297.447,278.843 301.169,278.47 304.891,278.021 308.613,277.494 312.334,276.891 316.056,276.211 319.778,275.454 323.5,274.62 \n",
       "  327.222,273.71 330.944,272.722 334.666,271.658 338.388,270.516 342.11,269.298 345.832,268.003 349.554,266.632 353.276,265.183 356.998,263.658 360.72,262.055 \n",
       "  364.442,260.376 368.164,258.62 371.886,256.787 375.608,254.878 379.33,252.891 383.052,250.828 386.773,248.687 390.495,246.47 394.217,244.176 397.939,241.806 \n",
       "  401.661,239.358 405.383,236.833 409.105,234.232 412.827,231.554 416.549,228.799 420.271,225.967 423.993,223.058 427.715,220.073 431.437,217.01 435.159,213.871 \n",
       "  438.881,210.655 442.603,207.362 446.325,203.992 450.047,200.545 453.769,197.022 457.491,193.421 461.213,189.744 464.934,185.99 468.656,182.159 472.378,178.251 \n",
       "  476.1,174.267 479.822,170.205 483.544,166.067 487.266,161.852 490.988,157.56 494.71,153.191 498.432,148.745 502.154,144.222 505.876,139.623 509.598,134.947 \n",
       "  513.32,130.194 517.042,125.364 520.764,120.457 524.486,115.473 528.208,110.413 531.93,105.275 535.652,100.061 539.373,94.7699 543.095,89.402 546.817,83.9572 \n",
       "  550.539,78.4356 554.261,72.8371 557.983,67.1618 561.705,61.4096 565.427,55.5806 569.149,49.6748 572.871,43.692 576.593,37.6325 580.315,31.4961 \n",
       "  \"/>\n",
       "<polyline clip-path=\"url(#clip1402)\" style=\"stroke:#ff0000; stroke-width:4; stroke-opacity:1; fill:none\" stroke-dasharray=\"2, 4\" points=\"\n",
       "  29.4661,360.121 33.1881,358.853 36.91,357.585 40.632,356.317 44.3539,355.049 48.0759,353.781 51.7978,352.513 55.5198,351.245 59.2417,349.977 62.9637,348.709 \n",
       "  66.6857,347.441 70.4076,346.173 74.1296,344.904 77.8515,343.636 81.5735,342.368 85.2954,341.1 89.0174,339.832 92.7393,338.564 96.4613,337.296 100.183,336.028 \n",
       "  103.905,334.76 107.627,333.492 111.349,332.224 115.071,330.956 118.793,329.688 122.515,328.42 126.237,327.152 129.959,325.884 133.681,324.616 137.403,323.348 \n",
       "  141.125,322.08 144.847,320.812 148.569,319.544 152.291,318.276 156.012,317.008 159.734,315.74 163.456,314.472 167.178,313.204 170.9,311.936 174.622,310.668 \n",
       "  178.344,309.4 182.066,308.132 185.788,306.864 189.51,305.596 193.232,304.328 196.954,303.06 200.676,301.792 204.398,300.524 208.12,299.256 211.842,297.988 \n",
       "  215.564,296.72 219.286,295.452 223.008,294.184 226.73,292.916 230.452,291.648 234.173,290.38 237.895,289.112 241.617,287.844 245.339,286.576 249.061,285.308 \n",
       "  252.783,284.04 256.505,282.772 260.227,281.504 263.949,280.236 267.671,278.968 271.393,277.7 275.115,276.432 278.837,275.164 282.559,273.896 286.281,272.628 \n",
       "  290.003,271.36 293.725,270.092 297.447,268.824 301.169,267.556 304.891,266.288 308.613,265.02 312.334,263.752 316.056,262.484 319.778,261.216 323.5,259.948 \n",
       "  327.222,258.68 330.944,257.412 334.666,256.144 338.388,254.876 342.11,253.608 345.832,252.34 349.554,251.072 353.276,249.804 356.998,248.536 360.72,247.268 \n",
       "  364.442,246 368.164,244.732 371.886,243.463 375.608,242.195 379.33,240.927 383.052,239.659 386.773,238.391 390.495,237.123 394.217,235.855 397.939,234.587 \n",
       "  401.661,233.319 405.383,232.051 409.105,230.783 412.827,229.515 416.549,228.247 420.271,226.979 423.993,225.711 427.715,224.443 431.437,223.175 435.159,221.907 \n",
       "  438.881,220.639 442.603,219.371 446.325,218.103 450.047,216.835 453.769,215.567 457.491,214.299 461.213,213.031 464.934,211.763 468.656,210.495 472.378,209.227 \n",
       "  476.1,207.959 479.822,206.691 483.544,205.423 487.266,204.155 490.988,202.887 494.71,201.619 498.432,200.351 502.154,199.083 505.876,197.815 509.598,196.547 \n",
       "  513.32,195.279 517.042,194.011 520.764,192.743 524.486,191.475 528.208,190.207 531.93,188.939 535.652,187.671 539.373,186.403 543.095,185.135 546.817,183.867 \n",
       "  550.539,182.599 554.261,181.331 557.983,180.063 561.705,178.795 565.427,177.527 569.149,176.259 572.871,174.991 576.593,173.723 580.315,172.455 \n",
       "  \"/>\n",
       "<polyline clip-path=\"url(#clip1402)\" style=\"stroke:#0000ff; stroke-width:2; stroke-opacity:1; fill:none\" stroke-dasharray=\"8, 5\" points=\"\n",
       "  29.4661,360.121 33.1881,358.853 36.91,357.585 40.632,356.317 44.3539,355.049 48.0759,353.781 51.7978,352.513 55.5198,351.245 59.2417,349.977 62.9637,348.709 \n",
       "  66.6857,347.441 70.4076,346.173 74.1296,344.904 77.8515,343.636 81.5735,342.368 85.2954,341.1 89.0174,339.832 92.7393,338.564 96.4613,337.296 100.183,336.028 \n",
       "  103.905,334.76 107.627,333.492 111.349,332.224 115.071,330.956 118.793,329.688 122.515,328.42 126.237,327.152 129.959,325.884 133.681,324.616 137.403,323.348 \n",
       "  141.125,322.08 144.847,320.812 148.569,319.544 152.291,318.276 156.012,317.008 159.734,315.74 163.456,314.472 167.178,313.204 170.9,311.936 174.622,310.668 \n",
       "  178.344,309.4 182.066,308.132 185.788,306.864 189.51,305.596 193.232,304.328 196.954,303.06 200.676,301.792 204.398,300.524 208.12,299.256 211.842,297.988 \n",
       "  215.564,296.72 219.286,295.452 223.008,294.184 226.73,292.916 230.452,291.648 234.173,290.38 237.895,289.112 241.617,287.844 245.339,286.576 249.061,285.308 \n",
       "  252.783,284.04 256.505,282.772 260.227,281.504 263.949,280.236 267.671,278.968 271.393,277.7 275.115,276.432 278.837,275.164 282.559,273.896 286.281,272.628 \n",
       "  290.003,271.36 293.725,270.092 297.447,268.824 301.169,267.556 304.891,266.288 308.613,265.02 312.334,263.752 316.056,262.484 319.778,261.216 323.5,259.948 \n",
       "  327.222,258.68 330.944,257.412 334.666,256.144 338.388,254.876 342.11,253.608 345.832,252.34 349.554,251.072 353.276,249.804 356.998,248.536 360.72,247.268 \n",
       "  364.442,246 368.164,244.732 371.886,243.463 375.608,242.195 379.33,240.927 383.052,239.659 386.773,238.391 390.495,237.123 394.217,235.855 397.939,234.587 \n",
       "  401.661,233.319 405.383,232.051 409.105,230.783 412.827,229.515 416.549,228.247 420.271,226.979 423.993,225.711 427.715,224.443 431.437,223.175 435.159,221.907 \n",
       "  438.881,220.639 442.603,219.371 446.325,218.103 450.047,216.835 453.769,215.567 457.491,214.299 461.213,213.031 464.934,211.763 468.656,210.495 472.378,209.227 \n",
       "  476.1,207.959 479.822,206.691 483.544,205.423 487.266,204.155 490.988,202.887 494.71,201.619 498.432,200.351 502.154,199.083 505.876,197.815 509.598,196.547 \n",
       "  513.32,195.279 517.042,194.011 520.764,192.743 524.486,191.475 528.208,190.207 531.93,188.939 535.652,187.671 539.373,186.403 543.095,185.135 546.817,183.867 \n",
       "  550.539,182.599 554.261,181.331 557.983,180.063 561.705,178.795 565.427,177.527 569.149,176.259 572.871,174.991 576.593,173.723 580.315,172.455 \n",
       "  \"/>\n",
       "<polygon clip-path=\"url(#clip1400)\" points=\"\n",
       "414.05,112.856 562.315,112.856 562.315,52.3761 414.05,52.3761 \n",
       "  \" fill=\"#ffffff\" fill-opacity=\"1\"/>\n",
       "<polyline clip-path=\"url(#clip1400)\" style=\"stroke:#000000; stroke-width:1; stroke-opacity:1; fill:none\" points=\"\n",
       "  414.05,112.856 562.315,112.856 562.315,52.3761 414.05,52.3761 414.05,112.856 \n",
       "  \"/>\n",
       "<polyline clip-path=\"url(#clip1400)\" style=\"stroke:#000000; stroke-width:1; stroke-opacity:1; fill:none\" points=\"\n",
       "  420.05,67.4961 456.05,67.4961 \n",
       "  \"/>\n",
       "<g clip-path=\"url(#clip1400)\">\n",
       "<text style=\"fill:#000000; fill-opacity:1; font-family:Arial,Helvetica Neue,Helvetica,sans-serif; font-size:12; text-anchor:start;\" transform=\"rotate(0, 462.05, 71.9961)\" x=\"462.05\" y=\"71.9961\">fn1()</text>\n",
       "</g>\n",
       "<polyline clip-path=\"url(#clip1400)\" style=\"stroke:#ff0000; stroke-width:4; stroke-opacity:1; fill:none\" stroke-dasharray=\"2, 4\" points=\"\n",
       "  420.05,82.6161 456.05,82.6161 \n",
       "  \"/>\n",
       "<g clip-path=\"url(#clip1400)\">\n",
       "<text style=\"fill:#000000; fill-opacity:1; font-family:Arial,Helvetica Neue,Helvetica,sans-serif; font-size:12; text-anchor:start;\" transform=\"rotate(0, 462.05, 87.1161)\" x=\"462.05\" y=\"87.1161\">crude derivative</text>\n",
       "</g>\n",
       "<polyline clip-path=\"url(#clip1400)\" style=\"stroke:#0000ff; stroke-width:2; stroke-opacity:1; fill:none\" stroke-dasharray=\"8, 5\" points=\"\n",
       "  420.05,97.7361 456.05,97.7361 \n",
       "  \"/>\n",
       "<g clip-path=\"url(#clip1400)\">\n",
       "<text style=\"fill:#000000; fill-opacity:1; font-family:Arial,Helvetica Neue,Helvetica,sans-serif; font-size:12; text-anchor:start;\" transform=\"rotate(0, 462.05, 102.236)\" x=\"462.05\" y=\"102.236\">ForwardDiff pkg </text>\n",
       "</g>\n",
       "</svg>\n"
      ]
     },
     "execution_count": 10,
     "metadata": {},
     "output_type": "execute_result"
    }
   ],
   "source": [
    "plot(x,fn1.(x,0.5),color=:black,label=\"fn1()\")\n",
    "plot!(x,dydx_A,color=:red,line=(:dot,4),label=\"crude derivative\")\n",
    "plot!(x,dydx_B,color=:blue,line=(:dash,2),label=\"ForwardDiff pkg \")\n",
    "title!(\"fn1() and its derivative\")\n",
    "xlabel!(\"x\")\n",
    "ylabel!(\"\")"
   ]
  },
  {
   "cell_type": "markdown",
   "metadata": {
    "collapsed": true
   },
   "source": [
    "## (extra) Comments on Using the ForwardDiff Package\n",
    "\n",
    "The ForwardDiff package applies an interesting approach to calculate derivatives, using a special number type (\"dual numbers\"). This means that your code must be able to handle such numbers. In most cases, that is not a problem, but you may have to watch out if you create arrays to store (intermediate?) results inside the function. See the examples below"
   ]
  },
  {
   "cell_type": "code",
   "execution_count": 11,
   "metadata": {},
   "outputs": [
    {
     "data": {
      "text/plain": [
       "fnDoesWork (generic function with 1 method)"
      ]
     },
     "execution_count": 11,
     "metadata": {},
     "output_type": "execute_result"
    }
   ],
   "source": [
    "function fnDoesNotWork(b,a)\n",
    "    z = zeros(length(b))              #will not work with ForwardDiff, since\n",
    "    for i = 1:length(z)               #z cannot store dual numbers\n",
    "        z[i] = b[i]*i\n",
    "    end    \n",
    "    return sum(z) + a\n",
    "end    \n",
    "\n",
    "function fnDoesWork(b,a)\n",
    "    z = zeros(eltype(b),length(b))   #will work with ForwardDiff, since\n",
    "    for i = 1:length(z)              #when b is a dual number, so is z \n",
    "        z[i] = b[i]*i\n",
    "    end    \n",
    "    return sum(z) + a\n",
    "end"
   ]
  },
  {
   "cell_type": "code",
   "execution_count": 12,
   "metadata": {},
   "outputs": [
    {
     "name": "stdout",
     "output_type": "stream",
     "text": [
      "using fnDoesWork(): [1.0, 2.0]\n"
     ]
    }
   ],
   "source": [
    "b0 = [1.5,2]\n",
    "\n",
    "try\n",
    "    ForwardDiff.gradient(b->fnDoesNotWork(b,1),b0)\n",
    "    println(\"using fnDoesNotWork(): \",dydx)\n",
    "catch    \n",
    "    dydx = ForwardDiff.gradient(b->fnDoesWork(b,1),b0)\n",
    "    println(\"using fnDoesWork(): \",dydx)    \n",
    "end"
   ]
  },
  {
   "cell_type": "code",
   "execution_count": null,
   "metadata": {},
   "outputs": [],
   "source": []
  }
 ],
 "metadata": {
  "anaconda-cloud": {},
  "kernelspec": {
   "display_name": "Julia 0.6.2",
   "language": "julia",
   "name": "julia-0.6"
  },
  "language_info": {
   "file_extension": ".jl",
   "mimetype": "application/julia",
   "name": "julia",
   "version": "0.6.2"
  }
 },
 "nbformat": 4,
 "nbformat_minor": 1
}
