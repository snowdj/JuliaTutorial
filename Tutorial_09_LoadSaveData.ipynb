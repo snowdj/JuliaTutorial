{
 "cells": [
  {
   "cell_type": "markdown",
   "metadata": {},
   "source": [
    "# Loading and Saving Data\n",
    "\n",
    "to/from csv, hdf5, jld2, mat and xlsx files."
   ]
  },
  {
   "cell_type": "markdown",
   "metadata": {},
   "source": [
    "# Load Packages\n",
    "\n",
    "The packages are loaded in the respective sections below. This allows you to run parts of this notebook without having to install all packages.\n",
    "\n",
    "The data files created by this notebook are written to and loaded from the subfolder \"Results\"."
   ]
  },
  {
   "cell_type": "code",
   "execution_count": 1,
   "metadata": {},
   "outputs": [],
   "source": [
    "using Dates\n",
    "\n",
    "include(\"printmat.jl\")   #a function for prettier matrix printing\n",
    "\n",
    "if !isdir(\"Results\")\n",
    "    error(\"create the subfolder Results before running this program\")\n",
    "end"
   ]
  },
  {
   "cell_type": "markdown",
   "metadata": {},
   "source": [
    "# Saving and Loading a csv File\n",
    "\n",
    "The csv (\"comma-separated values\") format provides a simple and robust method for moving data, and it can be read by most software.\n",
    "\n",
    "The basic commands of the package DelimitedFiles are\n",
    "```\n",
    "writedlm(FileName,matrix)\n",
    "x = readdlm(FileName)\n",
    "```\n",
    "\n",
    "Extra arguments control the delimiters (for instance, `','`) in the file, the type of data (Float, Int, etc), and whether the file starts with header lines.\n",
    "\n",
    "For instance, if you want to specify that the delimter is comma (,) and also disregard the first 3 lines (perhaps because they contain variable names etc), then use\n",
    "\n",
    "```\n",
    "x = readdlm(FileName,',',skipstart=3)\n",
    "```\n",
    "\n",
    "If you need more powerful write/read routines, try https://github.com/JuliaData/CSV.jl."
   ]
  },
  {
   "cell_type": "code",
   "execution_count": 2,
   "metadata": {},
   "outputs": [
    {
     "name": "stdout",
     "output_type": "stream",
     "text": [
      "NewCsvFile.csv has been created in the subfolder Results. Check it out.\n"
     ]
    }
   ],
   "source": [
    "using DelimitedFiles     \n",
    "\n",
    "A = copy(reshape(1:20,5,4))     #to be on the safe side: only try to save\n",
    "                                #\"independent\" arrays, not reshapes or views \n",
    "\n",
    "writedlm(\"Results/NewCsvFile.csv\",A,',')  #write csv file\n",
    "println(\"NewCsvFile.csv has been created in the subfolder Results. Check it out.\")"
   ]
  },
  {
   "cell_type": "code",
   "execution_count": 3,
   "metadata": {},
   "outputs": [
    {
     "name": "stdout",
     "output_type": "stream",
     "text": [
      "\n",
      "A (in memory):\n",
      "         1         6        11        16\n",
      "         2         7        12        17\n",
      "         3         8        13        18\n",
      "         4         9        14        19\n",
      "         5        10        15        20\n",
      "\n",
      "\n",
      "A2 (read from csv file):\n",
      "         1         6        11        16\n",
      "         2         7        12        17\n",
      "         3         8        13        18\n",
      "         4         9        14        19\n",
      "         5        10        15        20\n",
      "\n"
     ]
    }
   ],
   "source": [
    "A2 = readdlm(\"Results/NewCsvFile.csv\",',',Int)  #read csv file, try Float64 instead of Int\n",
    "\n",
    "println(\"\\nA (in memory):\")\n",
    "printmat(A)\n",
    "println(\"\\nA2 (read from csv file):\")\n",
    "printmat(A2)"
   ]
  },
  {
   "cell_type": "markdown",
   "metadata": {},
   "source": [
    "# (extra) Loading csv and Fixing Missing Values\n",
    "\n",
    "The next cells show how to load a csv files with dates (15/01/1979) and some missing values. "
   ]
  },
  {
   "cell_type": "code",
   "execution_count": 4,
   "metadata": {},
   "outputs": [
    {
     "name": "stdout",
     "output_type": "stream",
     "text": [
      "dates and data (first 4 obs)\n",
      "1979-01-02\n",
      "1979-01-03\n",
      "1979-01-04\n",
      "1979-01-05\n",
      "\n",
      "    96.730          \n",
      "               9.310\n",
      "    98.580     9.310\n",
      "    99.130     9.340\n",
      "\n",
      "data after fix (first 4 obs)\n",
      "    96.730       NaN\n",
      "       NaN     9.310\n",
      "    98.580     9.310\n",
      "    99.130     9.340\n",
      "\n"
     ]
    }
   ],
   "source": [
    "x2 = readdlm(\"Data/DataWithDates.csv\",',',skipstart=1)\n",
    "dN = Date.(x2[:,1],\"d/m/y\")                   #convert 1st column to Date\n",
    "x  = x2[:,2:end]                              #the data, but Any[] since missing data\n",
    "\n",
    "println(\"dates and data (first 4 obs)\")\n",
    "printmat(dN[1:4])\n",
    "printmat(x[1:4,:])\n",
    "\n",
    "vv     = .!isa.(x,Number)               #locate cells that are not numbers,\n",
    "x[vv] .= NaN                            #then set them to NaN (or perhaps missing), and \n",
    "x      = convert(Array{Float64},x)      #convert the matrix from Any to Float64\n",
    "\n",
    "println(\"data after fix (first 4 obs)\")\n",
    "printmat(x[1:4,:])"
   ]
  },
  {
   "cell_type": "markdown",
   "metadata": {},
   "source": [
    "# Saving and Loading an hdf5 File\n",
    "\n",
    "hdf5 files are used in many computer languages. They can store different types of data: integers, floats, strings (but not Julia dates). \n",
    "\n",
    "The basic syntax of the package HDF5 is \n",
    "```\n",
    "fh = h5open(FileName,\"w\")\n",
    "    write(fh,\"x\",x,\"y\",y)\n",
    "close(fh)\n",
    "\n",
    "fh = h5open(FileName,\"r\")   #open for reading\n",
    "    (x,y) = read(fh,\"x\",\"y\")\n",
    "close(fh)\n",
    "```\n",
    "\n",
    "\n",
    "The package HDF5 is at https://github.com/JuliaIO/HDF5.jl. \n",
    "\n",
    "See https://support.hdfgroup.org/products/java/hdfview/\n",
    "for a program that lets you look at the contents of a hdf5 file. (It is not needed here.)"
   ]
  },
  {
   "cell_type": "code",
   "execution_count": 5,
   "metadata": {},
   "outputs": [
    {
     "name": "stdout",
     "output_type": "stream",
     "text": [
      "NewH5File.h5 has been created in the subfolder Results\n"
     ]
    }
   ],
   "source": [
    "using HDF5   \n",
    "\n",
    "A = copy(reshape(1:20,5,4))\n",
    "B = 1\n",
    "C = \"Nice cat\"\n",
    "\n",
    "fh = h5open(\"Results/NewH5File.h5\",\"w\")    #open file for writing   \n",
    "    write(fh,\"A\",A,\"B\",B,\"C\",C)\n",
    "close(fh)                                  #close file\n",
    "\n",
    "println(\"NewH5File.h5 has been created in the subfolder Results\")"
   ]
  },
  {
   "cell_type": "code",
   "execution_count": 6,
   "metadata": {},
   "outputs": [
    {
     "name": "stdout",
     "output_type": "stream",
     "text": [
      "\n",
      "Variables in h5 file: [\"A\", \"B\", \"C\"]\n",
      "\n",
      "A from h5 file is\n",
      "         1         6        11        16\n",
      "         2         7        12        17\n",
      "         3         8        13        18\n",
      "         4         9        14        19\n",
      "         5        10        15        20\n",
      "\n"
     ]
    }
   ],
   "source": [
    "fh = h5open(\"Results/NewH5File.h5\",\"r\")    #open for reading\n",
    "     println(\"\\nVariables in h5 file: \",names(fh))\n",
    "    (A2,B2) = read(fh,\"A\",\"B\")             #load some of the data\n",
    "close(fh)\n",
    "\n",
    "println(\"\\nA from h5 file is\")\n",
    "printmat(A2)"
   ]
  },
  {
   "cell_type": "markdown",
   "metadata": {},
   "source": [
    "# Saving and Loading a jld2 File\n",
    "\n",
    "jld2 files can store very different types of data: integers, floats, strings, dictionaries, etc. It is a dialect of hdf5, designed to save different Julia objects (including Dates). \n",
    "\n",
    "The basic syntax of the package JLD2 is \n",
    "```\n",
    "save(FileName,\"MatrixName1\",matrix1,\"MatrixName2\",matrix2)\n",
    "(x1,x2) = load(FileName,\"MatrixName1\",\"MatrixName2\")  \n",
    "```\n",
    "(It also possible to use the same syntax as for HDF5, except that we use ```jldopen``` instead of ```h5open```.)\n",
    "\n",
    "The package JLD2 is at https://github.com/simonster/JLD2.jl."
   ]
  },
  {
   "cell_type": "code",
   "execution_count": 7,
   "metadata": {},
   "outputs": [
    {
     "name": "stdout",
     "output_type": "stream",
     "text": [
      "NewJldFile.jld2 has been created in the subfolder Results\n"
     ]
    }
   ],
   "source": [
    "using FileIO, JLD2           #the FileIO package is also needed        \n",
    "                                        \n",
    "A = copy(reshape(1:20,5,4))\n",
    "B = 1\n",
    "C = \"Nice cat\"\n",
    "(A2,B2,C2) = (nothing,nothing,nothing)               #erase earlier results\n",
    "\n",
    "save(\"Results/NewJldFile.jld2\",\"A\",A,\"B\",B,\"C\",C)       #write jld file\n",
    "\n",
    "println(\"NewJldFile.jld2 has been created in the subfolder Results\")"
   ]
  },
  {
   "cell_type": "code",
   "execution_count": 8,
   "metadata": {},
   "outputs": [
    {
     "name": "stdout",
     "output_type": "stream",
     "text": [
      "The variables are: [\"B\", \"A\", \"C\"]\n",
      "\n",
      "A from jld2 file is\n",
      "         1         6        11        16\n",
      "         2         7        12        17\n",
      "         3         8        13        18\n",
      "         4         9        14        19\n",
      "         5        10        15        20\n",
      "\n"
     ]
    }
   ],
   "source": [
    "x = load(\"Results/NewJldFile.jld2\")                   #load entire file\n",
    "println(\"The variables are: \",keys(x))               #list contents of the file \n",
    "\n",
    "(A2,B2) = load(\"Results/NewJldFile.jld2\",\"A\",\"B\")     #read some of the data\n",
    "println(\"\\nA from jld2 file is\")\n",
    "printmat(A2)"
   ]
  },
  {
   "cell_type": "markdown",
   "metadata": {},
   "source": [
    "# (extra) Saving and Loading a Matlab mat File\n",
    "\n",
    "The MAT package allows you to load/save (Matlab) mat files, which is another dialect of HDF5. \n",
    "\n",
    "See https://github.com/JuliaIO/MAT.jl."
   ]
  },
  {
   "cell_type": "code",
   "execution_count": 9,
   "metadata": {},
   "outputs": [
    {
     "name": "stdout",
     "output_type": "stream",
     "text": [
      "\n",
      "NewMatFile.mat has been created in the subfolder Results\n"
     ]
    }
   ],
   "source": [
    "using MAT     \n",
    "\n",
    "A = copy(reshape(1:20,5,4))\n",
    "B = 1\n",
    "C = \"Nice cat\"\n",
    "(A2,B2,C2) = (nothing,nothing,nothing)               #erase earlier results\n",
    "\n",
    "fh = matopen(\"Results/NewMatFile.mat\",\"w\")   \n",
    "    write(fh,\"A\",A)             #write one variable at a time                       \n",
    "    write(fh,\"B\",B)\n",
    "    write(fh,\"C\",C)\n",
    "close(fh)\n",
    "\n",
    "println(\"\\nNewMatFile.mat has been created in the subfolder Results\")"
   ]
  },
  {
   "cell_type": "code",
   "execution_count": 10,
   "metadata": {},
   "outputs": [
    {
     "name": "stdout",
     "output_type": "stream",
     "text": [
      "\n",
      "Variables in mat file: [\"A\", \"B\", \"C\"]\n",
      "\n",
      "A from mat file is \n",
      "         1         6        11        16\n",
      "         2         7        12        17\n",
      "         3         8        13        18\n",
      "         4         9        14        19\n",
      "         5        10        15        20\n",
      "\n"
     ]
    }
   ],
   "source": [
    "fh = matopen(\"Results/NewMatFile.mat\")           \n",
    "    println(\"\\nVariables in mat file: \",names(fh))\n",
    "    (A2,B2) = read(fh,\"A\",\"B\")                                \n",
    "close(fh) \n",
    "\n",
    "println(\"\\nA from mat file is \")\n",
    "printmat(A2)"
   ]
  },
  {
   "cell_type": "markdown",
   "metadata": {},
   "source": [
    "# (extra) Loading an xls File\n",
    "\n",
    "The XLSX package (https://github.com/felipenoris/XLSX.jl) allows you to read and write xls (and xlsx) files. \n",
    "\n",
    "As an alternative, you can use ExcelReaders (https://github.com/davidanthoff/ExcelReaders.jl), which requires python and python's xlrd libarary. For instance, this would work\n",
    "```\n",
    "using ExcelReaders\n",
    "data1 = readxl(\"Data/readXlsTsT_Data.xlsx\",\"Data!B2:C11\")\n",
    "x1    = convert(Array{Float64},data1)            \n",
    "printmat(x1)\n",
    "```"
   ]
  },
  {
   "cell_type": "code",
   "execution_count": 11,
   "metadata": {},
   "outputs": [
    {
     "name": "stdout",
     "output_type": "stream",
     "text": [
      "part of the xlsx file:\n",
      "    16.660  -999.990\n",
      "    16.850  -999.990\n",
      "    16.930  -999.990\n",
      "    16.980  -999.990\n",
      "    17.080  -999.990\n",
      "    17.030     7.000\n",
      "    17.090     8.000\n",
      "    16.760  -999.990\n",
      "    16.670  -999.990\n",
      "    16.720  -999.990\n",
      "\n"
     ]
    }
   ],
   "source": [
    "import XLSX\n",
    "\n",
    "data1 = XLSX.readxlsx(\"Data/readXlsTsT_Data.xlsx\")   #reading the entire file\n",
    "x1    = data1[\"Data!B2:C11\"]                         #extracting a part of the sheet \"Data\"\n",
    "x1    = convert(Array{Float64},x1)                   #converting from Any to Float64\n",
    "\n",
    "println(\"part of the xlsx file:\")\n",
    "printmat(x1)"
   ]
  },
  {
   "cell_type": "code",
   "execution_count": null,
   "metadata": {},
   "outputs": [],
   "source": []
  }
 ],
 "metadata": {
  "anaconda-cloud": {},
  "kernelspec": {
   "display_name": "Julia 1.1.0",
   "language": "julia",
   "name": "julia-1.1"
  },
  "language_info": {
   "file_extension": ".jl",
   "mimetype": "application/julia",
   "name": "julia",
   "version": "1.1.0"
  }
 },
 "nbformat": 4,
 "nbformat_minor": 1
}
