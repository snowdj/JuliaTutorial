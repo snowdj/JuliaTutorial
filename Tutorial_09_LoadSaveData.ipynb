{
 "cells": [
  {
   "cell_type": "markdown",
   "metadata": {},
   "source": [
    "# Loading and Saving Data\n",
    "\n",
    "to/from csv, hdf5, jld, mat and xls files."
   ]
  },
  {
   "cell_type": "markdown",
   "metadata": {},
   "source": [
    "# Load Packages\n",
    "\n",
    "The packages are loaded in the respective sections below. This allows you to run parts of this notebook without having to install all packages.\n",
    "\n",
    "All files are written to and loaded from the subfolder \"Results\"."
   ]
  },
  {
   "cell_type": "code",
   "execution_count": 1,
   "metadata": {},
   "outputs": [],
   "source": [
    "using Compat, Missings        #in Julia 0.6 \n",
    "#using Dates                  #in Julia 0.7\n",
    "\n",
    "include(\"printmat.jl\")   #a function for prettier matrix printing\n",
    "\n",
    "if !isdir(\"Results\")\n",
    "    error(\"create the subfolder Results before running this program\")\n",
    "end"
   ]
  },
  {
   "cell_type": "markdown",
   "metadata": {},
   "source": [
    "# Saving and Loading a csv File\n",
    "\n",
    "This functionality is built in to Julia. No package needed.\n",
    "\n",
    "The simplest commands are\n",
    "```\n",
    "writedlm(FileName,matrix)\n",
    "x = readdlm(FileName)\n",
    "```\n",
    "\n",
    "Extra arguments control the delimiters (for instance, ',') in the file, the type of data (Float, Int, etc), and whether the file starts with a header line with variable names.\n",
    "\n",
    "For instance, if you want to specify that the delimter as comma and also disregard the first 3 lines (perhaps because the contain variables names etc), then use\n",
    "\n",
    "```\n",
    "x = readdlm(FileName,',',skipstart=3)\n",
    "```\n",
    "\n",
    "If you need more powerful write/read routines, try https://github.com/JuliaData/CSV.jl."
   ]
  },
  {
   "cell_type": "code",
   "execution_count": 2,
   "metadata": {},
   "outputs": [
    {
     "name": "stdout",
     "output_type": "stream",
     "text": [
      "NewCsvFile.csv has been created in the subfolder Results. Check it out.\n"
     ]
    }
   ],
   "source": [
    "#using DelimitedFiles  #in Julia 0.7        \n",
    "\n",
    "A = copy(reshape(1:20,5,4))     #to be on the safe side: only try to save\n",
    "                                #\"independent\" arrays, not reshapes or views \n",
    "\n",
    "writedlm(\"Results/NewCsvFile.csv\",A,',')  #write csv file\n",
    "println(\"NewCsvFile.csv has been created in the subfolder Results. Check it out.\")"
   ]
  },
  {
   "cell_type": "code",
   "execution_count": 3,
   "metadata": {},
   "outputs": [
    {
     "name": "stdout",
     "output_type": "stream",
     "text": [
      "\n",
      "A (in memory):\n",
      "         1         6        11        16\n",
      "         2         7        12        17\n",
      "         3         8        13        18\n",
      "         4         9        14        19\n",
      "         5        10        15        20\n",
      "\n",
      "\n",
      "A2 (read from csv file):\n",
      "         1         6        11        16\n",
      "         2         7        12        17\n",
      "         3         8        13        18\n",
      "         4         9        14        19\n",
      "         5        10        15        20\n",
      "\n"
     ]
    }
   ],
   "source": [
    "A2 = readdlm(\"Results/NewCsvFile.csv\",',',Int)  #read csv file, try Float64 instead of Int\n",
    "\n",
    "println(\"\\nA (in memory):\")\n",
    "printmat(A)\n",
    "println(\"\\nA2 (read from csv file):\")\n",
    "printmat(A2)"
   ]
  },
  {
   "cell_type": "markdown",
   "metadata": {},
   "source": [
    "# Saving and Loading an hdf5 File\n",
    "\n",
    "hdf5 files are used in many computer languages. They can store different types of data: integers, floats, strings (but not Julia dates). \n",
    "\n",
    "The basic syntax is \n",
    "```\n",
    "fh = h5open(FileName,\"w\")\n",
    "    write(fh,\"x\",x,\"y\",y)\n",
    "close(fh)\n",
    "\n",
    "fh = h5open(FileName,\"r\")   #open for reading\n",
    "    (x,y) = read(fh,\"x\",\"y\")\n",
    "close(fh)\n",
    "```\n",
    "\n",
    "\n",
    "The package HDF5 is at https://github.com/JuliaIO/HDF5.jl. \n",
    "\n",
    "See https://support.hdfgroup.org/products/java/hdfview/\n",
    "for a program that lets you look at the contents of a hdf5 file. (It is not needed here.)"
   ]
  },
  {
   "cell_type": "code",
   "execution_count": 4,
   "metadata": {},
   "outputs": [
    {
     "name": "stdout",
     "output_type": "stream",
     "text": [
      "NewH5File.h5 has been created in the subfolder Results\n"
     ]
    }
   ],
   "source": [
    "using HDF5   \n",
    "\n",
    "A = copy(reshape(1:20,5,4))\n",
    "B = 1\n",
    "C = \"Nice cat\"\n",
    "\n",
    "fh = h5open(\"Results/NewH5File.h5\",\"w\")    #open file for writing   \n",
    "    write(fh,\"A\",A,\"B\",B,\"C\",C)\n",
    "close(fh)                                  #close file\n",
    "\n",
    "println(\"NewH5File.h5 has been created in the subfolder Results\")"
   ]
  },
  {
   "cell_type": "code",
   "execution_count": 5,
   "metadata": {},
   "outputs": [
    {
     "name": "stdout",
     "output_type": "stream",
     "text": [
      "\n",
      "Variables in h5 file: String[\"A\", \"B\", \"C\"]\n",
      "\n",
      "A from h5 file is\n",
      "         1         6        11        16\n",
      "         2         7        12        17\n",
      "         3         8        13        18\n",
      "         4         9        14        19\n",
      "         5        10        15        20\n",
      "\n"
     ]
    }
   ],
   "source": [
    "fh = h5open(\"Results/NewH5File.h5\",\"r\")    #open for reading\n",
    "     println(\"\\nVariables in h5 file: \",names(fh))\n",
    "    (A2,B2) = read(fh,\"A\",\"B\")             #load some of the data\n",
    "close(fh)\n",
    "\n",
    "println(\"\\nA from h5 file is\")\n",
    "printmat(A2)"
   ]
  },
  {
   "cell_type": "markdown",
   "metadata": {},
   "source": [
    "# Saving and Loading a jld File\n",
    "\n",
    "jld files can store very different types of data: integers, floats, strings, dictionaries, etc. It is a \"dialect\" of hdf5, designed to save different Julia objects (including Dates). \n",
    "\n",
    "The easiest syntax is \n",
    "```\n",
    "save(FileName,\"MatrixName1\",matrix1,\"MatrixName2\",matrix2)\n",
    "(x1,x2) = load(FileName,\"MatrixName1\",\"MatrixName2\")  \n",
    "```\n",
    "(It also possible to use the same syntax as for HDF5, except that we use ```jldopen``` instead of ```h5open```.)\n",
    "\n",
    "The package JLD is at https://github.com/JuliaLang/JLD.jl. \n",
    "\n",
    "There is also a new package with similar functionality, with the advantage that is does not depend on external libraries, see https://github.com/simonster/JLD2.jl."
   ]
  },
  {
   "cell_type": "code",
   "execution_count": 6,
   "metadata": {},
   "outputs": [
    {
     "name": "stdout",
     "output_type": "stream",
     "text": [
      "NewJldFile.jld has been created in the subfolder Results\n"
     ]
    }
   ],
   "source": [
    "using JLD       \n",
    "\n",
    "A = copy(reshape(1:20,5,4))\n",
    "B = 1\n",
    "C = \"Nice cat\"\n",
    "(A2,B2,C2) = (nothing,nothing,nothing)               #erase earlier results\n",
    "\n",
    "save(\"Results/NewJldFile.jld\",\"A\",A,\"B\",B,\"C\",C)       #write jld file\n",
    "\n",
    "println(\"NewJldFile.jld has been created in the subfolder Results\")"
   ]
  },
  {
   "cell_type": "code",
   "execution_count": 7,
   "metadata": {},
   "outputs": [
    {
     "name": "stdout",
     "output_type": "stream",
     "text": [
      "The variables are: String[\"B\", \"A\", \"C\"]\n",
      "\n",
      "A from jld file is\n",
      "         1         6        11        16\n",
      "         2         7        12        17\n",
      "         3         8        13        18\n",
      "         4         9        14        19\n",
      "         5        10        15        20\n",
      "\n"
     ]
    }
   ],
   "source": [
    "x = load(\"Results/NewJldFile.jld\")                   #load entire file\n",
    "println(\"The variables are: \",keys(x))               #list contents of the file \n",
    "\n",
    "(A2,B2) = load(\"Results/NewJldFile.jld\",\"A\",\"B\")     #read some of the data\n",
    "println(\"\\nA from jld file is\")\n",
    "printmat(A2)"
   ]
  },
  {
   "cell_type": "markdown",
   "metadata": {},
   "source": [
    "# (extra) Saving and Loading a Matlab mat File\n",
    "\n",
    "The MAT package allows you to load/save (Matlab) mat files, which is another dialect of HDF5. \n",
    "\n",
    "See https://github.com/simonster/MAT.jl."
   ]
  },
  {
   "cell_type": "code",
   "execution_count": 8,
   "metadata": {},
   "outputs": [
    {
     "name": "stdout",
     "output_type": "stream",
     "text": [
      "\n",
      "NewMatFile.mat has been created in the subfolder Results\n"
     ]
    }
   ],
   "source": [
    "using MAT     \n",
    "\n",
    "A = copy(reshape(1:20,5,4))\n",
    "B = 1\n",
    "C = \"Nice cat\"\n",
    "(A2,B2,C2) = (nothing,nothing,nothing)               #erase earlier results\n",
    "\n",
    "fh = matopen(\"Results/NewMatFile.mat\",\"w\")   \n",
    "    write(fh,\"A\",A)             #write one variable at a time                       \n",
    "    write(fh,\"B\",B)\n",
    "    write(fh,\"C\",C)\n",
    "close(fh)\n",
    "\n",
    "println(\"\\nNewMatFile.mat has been created in the subfolder Results\")"
   ]
  },
  {
   "cell_type": "code",
   "execution_count": 9,
   "metadata": {},
   "outputs": [
    {
     "name": "stdout",
     "output_type": "stream",
     "text": [
      "\n",
      "Variables in mat file: String[\"A\", \"B\", \"C\"]\n",
      "\n",
      "A from mat file is \n",
      "         1         6        11        16\n",
      "         2         7        12        17\n",
      "         3         8        13        18\n",
      "         4         9        14        19\n",
      "         5        10        15        20\n",
      "\n"
     ]
    }
   ],
   "source": [
    "fh = matopen(\"Results/NewMatFile.mat\")           \n",
    "    println(\"\\nVariables in mat file: \",names(fh))\n",
    "    (A2,B2) = read(fh,\"A\",\"B\")                                \n",
    "close(fh) \n",
    "\n",
    "println(\"\\nA from mat file is \")\n",
    "printmat(A2)"
   ]
  },
  {
   "cell_type": "markdown",
   "metadata": {},
   "source": [
    "# (extra) Loading csv and Fixing Missing Values\n",
    "\n",
    "The next cells show how to load an csv files with some missing values - and how to convert them to NaNs."
   ]
  },
  {
   "cell_type": "code",
   "execution_count": 10,
   "metadata": {},
   "outputs": [
    {
     "name": "stdout",
     "output_type": "stream",
     "text": [
      "\n",
      "x\n",
      "      1861    10.094     9.998          \n",
      "      1862    10.128     9.994     0.037\n",
      "      1863    10.156    10.044     0.092\n",
      "      1864              10.061     0.098\n",
      "      1865    10.197    10.076     0.078\n",
      "      1866    10.234    10.064     0.061\n",
      "      1867    10.242    10.060     0.025\n",
      "      1868    10.186    10.057    -0.002\n",
      "      1869    10.235    10.068     0.107\n",
      "      1870    10.343    10.160     0.071\n",
      "      1871    10.379    10.188     0.022\n",
      "      1872    10.438    10.256    -0.022\n",
      "      1873    10.494    10.315    -0.060\n",
      "      1874    10.505    10.337     0.005\n",
      "      1875    10.485    10.305     0.074\n",
      "\n"
     ]
    }
   ],
   "source": [
    "x = readdlm(\"Data/loadCsvTsT_Data.csv\",',',skipstart=1)   #load the data\n",
    "\n",
    "println(\"\\nx\")\n",
    "printmat(x)"
   ]
  },
  {
   "cell_type": "code",
   "execution_count": 11,
   "metadata": {},
   "outputs": [
    {
     "name": "stdout",
     "output_type": "stream",
     "text": [
      "\n",
      "after fix\n",
      "  1861.000    10.094     9.998       NaN\n",
      "  1862.000    10.128     9.994     0.037\n",
      "  1863.000    10.156    10.044     0.092\n",
      "  1864.000       NaN    10.061     0.098\n",
      "  1865.000    10.197    10.076     0.078\n",
      "  1866.000    10.234    10.064     0.061\n",
      "  1867.000    10.242    10.060     0.025\n",
      "  1868.000    10.186    10.057    -0.002\n",
      "  1869.000    10.235    10.068     0.107\n",
      "  1870.000    10.343    10.160     0.071\n",
      "  1871.000    10.379    10.188     0.022\n",
      "  1872.000    10.438    10.256    -0.022\n",
      "  1873.000    10.494    10.315    -0.060\n",
      "  1874.000    10.505    10.337     0.005\n",
      "  1875.000    10.485    10.305     0.074\n",
      "\n"
     ]
    }
   ],
   "source": [
    "x2     = copy(x)\n",
    "vv     = .!isa.(x,Number)               #locate cells that are not numbers,\n",
    "x2[vv] = NaN                            #then set them to NaN (or perhaps missing), and \n",
    "x2     = convert(Array{Float64},x2)     #convert the matrix from Any to Float64\n",
    "\n",
    "println(\"\\nafter fix\")\n",
    "printmat(x2)"
   ]
  },
  {
   "cell_type": "markdown",
   "metadata": {},
   "source": [
    "# (extra) Loading an xls File\n",
    "\n",
    "\n",
    "You need python and python's xlrd libarary for this to work. There are two alternative commands (`readxl`  and `readxlsheet`), with slightly different functionality.\n",
    "\n",
    "Missing values can be handled in the same way as for csv files (see above).\n",
    "\n",
    "See https://github.com/davidanthoff/ExcelReaders.jl"
   ]
  },
  {
   "cell_type": "code",
   "execution_count": 12,
   "metadata": {},
   "outputs": [
    {
     "name": "stdout",
     "output_type": "stream",
     "text": [
      "Approach 1: readxl\n",
      "\n",
      "Numeric part after conversion:\n",
      "    16.660  -999.990\n",
      "    16.850  -999.990\n",
      "    16.930  -999.990\n",
      "    16.980  -999.990\n",
      "    17.080  -999.990\n",
      "    17.030     7.000\n",
      "    17.090     8.000\n",
      "    16.760  -999.990\n",
      "    16.670  -999.990\n",
      "    16.720  -999.990\n",
      "\n"
     ]
    }
   ],
   "source": [
    "using ExcelReaders\n",
    "\n",
    "println(\"Approach 1: readxl\")\n",
    "\n",
    "data1 = readxl(\"Data/readXlsTsT_Data.xlsx\",\"Data!B2:C11\")       #reading a range\n",
    "x1    = convert(Array{Float64},data1)            #convert from Any[] to Float64\n",
    "println(\"\\nNumeric part after conversion:\")\n",
    "printmat(x1)"
   ]
  },
  {
   "cell_type": "code",
   "execution_count": 13,
   "metadata": {},
   "outputs": [
    {
     "name": "stdout",
     "output_type": "stream",
     "text": [
      "Approach 2: readxlsheet\n",
      "\n",
      "Numeric part after conversion: \n",
      "    16.660  -999.990\n",
      "    16.850  -999.990\n",
      "    16.930  -999.990\n",
      "    16.980  -999.990\n",
      "    17.080  -999.990\n",
      "    17.030     7.000\n",
      "    17.090     8.000\n",
      "    16.760  -999.990\n",
      "    16.670  -999.990\n",
      "    16.720  -999.990\n",
      "\n",
      "\n",
      "Numeric part after changing -999.99 to NaN:\n",
      "    16.660       NaN\n",
      "    16.850       NaN\n",
      "    16.930       NaN\n",
      "    16.980       NaN\n",
      "    17.080       NaN\n",
      "    17.030     7.000\n",
      "    17.090     8.000\n",
      "    16.760       NaN\n",
      "    16.670       NaN\n",
      "    16.720       NaN\n",
      "\n"
     ]
    }
   ],
   "source": [
    "println(\"Approach 2: readxlsheet\")\n",
    "\n",
    "data2 = readxlsheet(\"Data/readXlsTsT_Data.xlsx\",\"Data\",skipstartrows=1)\n",
    "x2    = convert(Array{Float64},data2[:,2:end])\n",
    "println(\"\\nNumeric part after conversion: \")\n",
    "printmat(x2)\n",
    "\n",
    "vv     = x2 .== -999.99\n",
    "x2[vv] = NaN                     #convert -999.99 to NaNs\n",
    "println(\"\\nNumeric part after changing -999.99 to NaN:\")\n",
    "printmat(x2)"
   ]
  },
  {
   "cell_type": "code",
   "execution_count": null,
   "metadata": {},
   "outputs": [],
   "source": []
  }
 ],
 "metadata": {
  "anaconda-cloud": {},
  "kernelspec": {
   "display_name": "Julia 0.6.4",
   "language": "julia",
   "name": "julia-0.6"
  },
  "language_info": {
   "file_extension": ".jl",
   "mimetype": "application/julia",
   "name": "julia",
   "version": "0.6.4"
  }
 },
 "nbformat": 4,
 "nbformat_minor": 1
}
