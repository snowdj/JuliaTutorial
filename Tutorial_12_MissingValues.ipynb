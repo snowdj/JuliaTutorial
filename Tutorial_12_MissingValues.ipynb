{
 "cells": [
  {
   "cell_type": "markdown",
   "metadata": {},
   "source": [
    "# Missing Values\n",
    "\n",
    "are indicated by ```NaN``` (floats only) or ```missing``` (for most types)."
   ]
  },
  {
   "cell_type": "markdown",
   "metadata": {},
   "source": [
    "# Load Packages"
   ]
  },
  {
   "cell_type": "code",
   "execution_count": 1,
   "metadata": {},
   "outputs": [
    {
     "data": {
      "text/plain": [
       "printlnPs (generic function with 2 methods)"
      ]
     },
     "execution_count": 1,
     "metadata": {},
     "output_type": "execute_result"
    }
   ],
   "source": [
    "using Compat, Missings        #in Julia 0.6 \n",
    "#using Dates                  #in Julia 0.7\n",
    "\n",
    "include(\"printmat.jl\")   #just a function for prettier matrix printing"
   ]
  },
  {
   "cell_type": "markdown",
   "metadata": {},
   "source": [
    "# The Effect of NaNs\n",
    "\n",
    "Most computations involving NaNs give NaN as the result.\n",
    "\n",
    "NaNs are often used to represent missing data."
   ]
  },
  {
   "cell_type": "code",
   "execution_count": 2,
   "metadata": {},
   "outputs": [
    {
     "name": "stdout",
     "output_type": "stream",
     "text": [
      "NaN\n"
     ]
    }
   ],
   "source": [
    "a = 2.0\n",
    "b = NaN\n",
    "println(a+b)"
   ]
  },
  {
   "cell_type": "markdown",
   "metadata": {},
   "source": [
    "## NaNs in a Matrix\n",
    "\n",
    "The code below shows that if a matrix contains NaNs, then many calculations (eg. summing all elements) give NaN as the result. \n",
    "\n",
    "The NaN itself is a Float64 \"number\". For other types of data, you may want to use a ```Missing``` (see below)."
   ]
  },
  {
   "cell_type": "code",
   "execution_count": 3,
   "metadata": {},
   "outputs": [
    {
     "name": "stdout",
     "output_type": "stream",
     "text": [
      "z: \n",
      "     1.000       NaN\n",
      "     2.000    12.000\n",
      "     3.000    13.000\n",
      "\n",
      "z has some NaNs\n",
      "\n",
      "The average of each column: \n",
      "     2.000       NaN\n",
      "\n"
     ]
    }
   ],
   "source": [
    "z = [1.0 NaN;\n",
    "     2.0 12.0;\n",
    "     3.0 13.0]                 #a matrix with NaNs\n",
    "println(\"z: \")\n",
    "printmat(z)\n",
    "\n",
    "if any(isnan.(z))                      #check if any NaNs\n",
    "  println(\"z has some NaNs\")\n",
    "end\n",
    "\n",
    "println(\"\\nThe average of each column: \")\n",
    "printmat(Compat.mean(z,dims=1))                #0.7 syntax"
   ]
  },
  {
   "cell_type": "markdown",
   "metadata": {},
   "source": [
    "# Getting Rid NaNs\n",
    "\n",
    "It is a common procedure in statistics to throw out all cases with NaNs. For instance, if `z[t,:]` is the data for period $t$ and it contains one more more `NaN` values, then it is common to throw out that entire row. \n",
    "\n",
    "(This is a reasonable approach if it can be argued that the fact that the data is missing is random - and not related to the subject of the investigation. It is much less reasonable if, for instance, all the returns for all poorly performing mutual funds are listed as \"missing\" - and you want to study what fund characteristics that drive performance.)\n",
    "\n",
    "The code below shows a simple way of how."
   ]
  },
  {
   "cell_type": "code",
   "execution_count": 4,
   "metadata": {},
   "outputs": [
    {
     "name": "stdout",
     "output_type": "stream",
     "text": [
      "z2: a new matrix where all rows with any NaNs have been pruned:\n",
      "     2.000    12.000\n",
      "     3.000    13.000\n",
      "\n"
     ]
    }
   ],
   "source": [
    "va = isnan.(z)                   #v[i,j]=true if z[i,j]=NaN\n",
    "vb = vec(Compat.any(va,dims=2))  #0.7 syntax, indicates rows with NaNs, vec to make it a vector\n",
    "vc = .!vb                        #indicates rows without NaN\n",
    "\n",
    "z2 = z[vc,:]                #keep only rows without NaNs\n",
    "println(\"z2: a new matrix where all rows with any NaNs have been pruned:\")\n",
    "printmat(z2)"
   ]
  },
  {
   "cell_type": "markdown",
   "metadata": {},
   "source": [
    "# Missings \n",
    "\n",
    "can be used to indicate missing values for most types (not just floats). Missings are built in to Julia 0.7 and available in the Missings package for earlier versions.\n",
    "\n",
    "You typically have to remove them before making calculations on the matrix."
   ]
  },
  {
   "cell_type": "code",
   "execution_count": 6,
   "metadata": {},
   "outputs": [
    {
     "name": "stdout",
     "output_type": "stream",
     "text": [
      "z: \n",
      "         1   missing\n",
      "         2        12\n",
      "         3        13\n",
      "\n"
     ]
    }
   ],
   "source": [
    "z = [1 missing;\n",
    "     2 12;\n",
    "     3 13]                 #a matrix of integers with missing values\n",
    "println(\"z: \")\n",
    "printmat(z)"
   ]
  },
  {
   "cell_type": "code",
   "execution_count": 7,
   "metadata": {},
   "outputs": [
    {
     "name": "stdout",
     "output_type": "stream",
     "text": [
      "z has some missings\n"
     ]
    }
   ],
   "source": [
    "if any(ismissing.(z))                      #check if any NaNs\n",
    "  println(\"z has some missings\")\n",
    "end"
   ]
  },
  {
   "cell_type": "code",
   "execution_count": 8,
   "metadata": {},
   "outputs": [
    {
     "name": "stdout",
     "output_type": "stream",
     "text": [
      "z2: a new matrix where all rows with any missings have been pruned:\n",
      "         2        12\n",
      "         3        13\n",
      "\n"
     ]
    }
   ],
   "source": [
    "vc = .!vec(Compat.any(ismissing.(z),dims=2))  #0.7 syntax\n",
    "\n",
    "z2 = z[vc,:]                #keep only rows without NaNs\n",
    "println(\"z2: a new matrix where all rows with any missings have been pruned:\")\n",
    "printmat(z2)"
   ]
  },
  {
   "cell_type": "code",
   "execution_count": null,
   "metadata": {},
   "outputs": [],
   "source": []
  }
 ],
 "metadata": {
  "anaconda-cloud": {},
  "kernelspec": {
   "display_name": "Julia 0.6.2",
   "language": "julia",
   "name": "julia-0.6"
  },
  "language_info": {
   "file_extension": ".jl",
   "mimetype": "application/julia",
   "name": "julia",
   "version": "0.6.2"
  }
 },
 "nbformat": 4,
 "nbformat_minor": 1
}
