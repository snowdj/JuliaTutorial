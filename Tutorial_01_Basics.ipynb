{
 "cells": [
  {
   "cell_type": "markdown",
   "metadata": {
    "collapsed": true
   },
   "source": [
    "# Basic Julia Tutorial"
   ]
  },
  {
   "cell_type": "markdown",
   "metadata": {},
   "source": [
    "# Running/Installing Julia\n",
    "\n",
    "1. To run Julia without a local installation, use JuliaBox.com. It works well with Firefox and Chrome.\n",
    "2. To install Julia on your machine, download from https://julialang.org/downloads/. You may also want to use the Atom editor with the Juno IDE (see http://junolab.org/). To run IJulia from your local installation, see https://github.com/JuliaLang/IJulia.jl for instructions.\n",
    "3. Instead of downloading and installing Julia yourself, you may want to try JuliaPro (see https://juliacomputing.com/products/juliapro.html.)"
   ]
  },
  {
   "cell_type": "markdown",
   "metadata": {},
   "source": [
    "# Documentation and Help\n",
    "\n",
    "1.  Cheat sheet at https://cheatsheets.quantecon.org/julia-cheatsheet.html\n",
    "2.  Wiki book at https://en.wikibooks.org/wiki/Introducing_Julia\n",
    "3.  The on-line manual is found at https://docs.julialang.org/en/stable/\n",
    "4.  Discussion lists are found at\n",
    "    *  https://discourse.julialang.org/\n",
    "    *  https://stackoverflow.com/questions/tagged/julia-lang\n",
    "    *  https://www.reddit.com/r/Julia/\n",
    "    *  https://gitter.im/JuliaLang/julia\n",
    "5. In Julia, do ```? cos``` to get help with the cos function    "
   ]
  },
  {
   "cell_type": "markdown",
   "metadata": {},
   "source": [
    "# Getting This File to JuliaBox\n",
    "\n",
    "Download this entire repository (\"Clone or download\") to your machine and then upload to JuliaBox (see \"Upload\" in JuliaBox)."
   ]
  },
  {
   "cell_type": "markdown",
   "metadata": {},
   "source": [
    "# About Notebooks\n",
    "\n",
    "This cell is a \"Markdown\" cell. This is meant for comments and documentation, not computations.\n",
    "\n",
    "You can change a cell to \"Code\" or \"Markdown\" in the menu.\n",
    "\n",
    "If you know LaTeX, then Markdown cells can handle it. An example: $\\alpha = \\beta/2$. A Markdown cell can also contain some formatting, like lists of this kind\n",
    "\n",
    "1. To insert a new cell, use the menu. \n",
    "\n",
    "2. The next cell is \"Code\". You can run it. Text after a # sign is treated as a comment.\n",
    "\n",
    "3. The subsequent cell shows how to get help on a command."
   ]
  },
  {
   "cell_type": "code",
   "execution_count": 1,
   "metadata": {},
   "outputs": [
    {
     "data": {
      "text/plain": [
       "2"
      ]
     },
     "execution_count": 1,
     "metadata": {},
     "output_type": "execute_result"
    }
   ],
   "source": [
    "a = 2                  #this is a comment\n",
    "                       #run this cell by using the menu, or by Shift+Enter  "
   ]
  },
  {
   "cell_type": "code",
   "execution_count": 2,
   "metadata": {},
   "outputs": [
    {
     "name": "stdout",
     "output_type": "stream",
     "text": [
      "search: \u001b[0m\u001b[1mc\u001b[22m\u001b[0m\u001b[1mo\u001b[22m\u001b[0m\u001b[1ms\u001b[22m \u001b[0m\u001b[1mc\u001b[22m\u001b[0m\u001b[1mo\u001b[22m\u001b[0m\u001b[1ms\u001b[22mh \u001b[0m\u001b[1mc\u001b[22m\u001b[0m\u001b[1mo\u001b[22m\u001b[0m\u001b[1ms\u001b[22md \u001b[0m\u001b[1mc\u001b[22m\u001b[0m\u001b[1mo\u001b[22m\u001b[0m\u001b[1ms\u001b[22mc \u001b[0m\u001b[1mc\u001b[22m\u001b[0m\u001b[1mo\u001b[22m\u001b[0m\u001b[1ms\u001b[22mpi a\u001b[0m\u001b[1mc\u001b[22m\u001b[0m\u001b[1mo\u001b[22m\u001b[0m\u001b[1ms\u001b[22m a\u001b[0m\u001b[1mc\u001b[22m\u001b[0m\u001b[1mo\u001b[22m\u001b[0m\u001b[1ms\u001b[22mh a\u001b[0m\u001b[1mc\u001b[22m\u001b[0m\u001b[1mo\u001b[22m\u001b[0m\u001b[1ms\u001b[22md sin\u001b[0m\u001b[1mc\u001b[22m\u001b[0m\u001b[1mo\u001b[22m\u001b[0m\u001b[1ms\u001b[22m \u001b[0m\u001b[1mc\u001b[22m\u001b[0m\u001b[1mo\u001b[22mn\u001b[0m\u001b[1ms\u001b[22mt \u001b[0m\u001b[1mc\u001b[22ml\u001b[0m\u001b[1mo\u001b[22m\u001b[0m\u001b[1ms\u001b[22me is\u001b[0m\u001b[1mc\u001b[22m\u001b[0m\u001b[1mo\u001b[22mn\u001b[0m\u001b[1ms\u001b[22mt\n",
      "\n"
     ]
    },
    {
     "data": {
      "text/markdown": [
       "```\n",
       "cos(x)\n",
       "```\n",
       "\n",
       "Compute cosine of `x`, where `x` is in radians.\n",
       "\n",
       "---\n",
       "\n",
       "```\n",
       "cos(A::AbstractMatrix)\n",
       "```\n",
       "\n",
       "Compute the matrix cosine of a square matrix `A`.\n",
       "\n",
       "If `A` is symmetric or Hermitian, its eigendecomposition ([`eigen`](@ref)) is used to compute the cosine. Otherwise, the cosine is determined by calling [`exp`](@ref).\n",
       "\n",
       "# Examples\n",
       "\n",
       "```jldoctest\n",
       "julia> cos(fill(1.0, (2,2)))\n",
       "2×2 Array{Float64,2}:\n",
       "  0.291927  -0.708073\n",
       " -0.708073   0.291927\n",
       "```\n"
      ],
      "text/plain": [
       "\u001b[36m  cos(x)\u001b[39m\n",
       "\n",
       "  Compute cosine of \u001b[36mx\u001b[39m, where \u001b[36mx\u001b[39m is in radians.\n",
       "\n",
       "  ────────────────────────────────────────────────────────────────────────────\n",
       "\n",
       "\u001b[36m  cos(A::AbstractMatrix)\u001b[39m\n",
       "\n",
       "  Compute the matrix cosine of a square matrix \u001b[36mA\u001b[39m.\n",
       "\n",
       "  If \u001b[36mA\u001b[39m is symmetric or Hermitian, its eigendecomposition (\u001b[36meigen\u001b[39m) is used to\n",
       "  compute the cosine. Otherwise, the cosine is determined by calling \u001b[36mexp\u001b[39m.\n",
       "\n",
       "\u001b[1m  Examples\u001b[22m\n",
       "\u001b[1m  ≡≡≡≡≡≡≡≡≡≡\u001b[22m\n",
       "\n",
       "\u001b[36m  julia> cos(fill(1.0, (2,2)))\u001b[39m\n",
       "\u001b[36m  2×2 Array{Float64,2}:\u001b[39m\n",
       "\u001b[36m    0.291927  -0.708073\u001b[39m\n",
       "\u001b[36m   -0.708073   0.291927\u001b[39m"
      ]
     },
     "execution_count": 2,
     "metadata": {},
     "output_type": "execute_result"
    }
   ],
   "source": [
    "? cos                  #to get help on the cos() function "
   ]
  },
  {
   "cell_type": "markdown",
   "metadata": {},
   "source": [
    "# Load Packages\n",
    "\n",
    "There are many packages for Julia, for instance, for plotting or statistical methods (see http://pkg.julialang.org/ for a list). To install a package, you enter the \"package manager mode\" by typing `]` in the Julia console (REPL). Now, you can check which packages you already have installed by `st` followed by Enter. To add a package do `add PackageName` and to update all your packages do `up`. You leave the package manager model by ctrl-c or backspace.\n",
    "\n",
    "Once a package is installed (the most common ones are already installed on JuliaBox), you can use it by running\n",
    "\n",
    "```\n",
    "using PackageName\n",
    "```"
   ]
  },
  {
   "cell_type": "code",
   "execution_count": 3,
   "metadata": {},
   "outputs": [
    {
     "data": {
      "text/plain": [
       "printlnPs (generic function with 2 methods)"
      ]
     },
     "execution_count": 3,
     "metadata": {},
     "output_type": "execute_result"
    }
   ],
   "source": [
    "using Dates                  \n",
    "\n",
    "include(\"printmat.jl\")      #just a function for prettier matrix printing"
   ]
  },
  {
   "cell_type": "code",
   "execution_count": 4,
   "metadata": {},
   "outputs": [],
   "source": [
    "using Plots                 #this loads the Plots package\n",
    "\n",
    "backend = \"gr\"              #choice of plotting backend, \"gr\" (default), \"pyplot\" \n",
    "\n",
    "if backend == \"pyplot\"      #some configurations, do not bother with the details now\n",
    "    pyplot(size=(600,400))  #default size of plots\n",
    "else    \n",
    "    gr(size=(480,320))\n",
    "    default(fmt = :svg)     #try :png or :svg \n",
    "end"
   ]
  },
  {
   "cell_type": "markdown",
   "metadata": {},
   "source": [
    "# Scalars and Matrices\n",
    "\n"
   ]
  },
  {
   "cell_type": "markdown",
   "metadata": {},
   "source": [
    "### Create a Scalar and a Matrix"
   ]
  },
  {
   "cell_type": "code",
   "execution_count": 5,
   "metadata": {},
   "outputs": [
    {
     "name": "stdout",
     "output_type": "stream",
     "text": [
      "q is a scalar. To print, use println() or printlnPs()\n",
      "1\n",
      "\n",
      "Q is a matrix. To print, use display() or printmat()\n",
      "         1         2         3\n",
      "         4         5         6\n",
      "\n"
     ]
    }
   ],
   "source": [
    "q = 1                             #create a scalar\n",
    "Q = [ 1 2 3;                      #create 2x3 matrix\n",
    "      4 5 6 ] \n",
    "println(\"q is a scalar. To print, use println() or printlnPs()\")    \n",
    "println(q)\n",
    "\n",
    "println(\"\\nQ is a matrix. To print, use display() or printmat()\") \n",
    "printmat(Q)                       #case sensitive (q and Q are different)\n",
    "                                  #the \\n adds a line break   "
   ]
  },
  {
   "cell_type": "markdown",
   "metadata": {},
   "source": [
    "### Picking Out Parts of a Matrix"
   ]
  },
  {
   "cell_type": "code",
   "execution_count": 6,
   "metadata": {},
   "outputs": [
    {
     "name": "stdout",
     "output_type": "stream",
     "text": [
      "\n",
      "element [1,2] of Q: 2\n",
      "\n",
      "columns 2 and 3 of Q: \n",
      "         2         3\n",
      "         5         6\n",
      "\n",
      "\n",
      "line 1 of Q (as a vector): \n",
      "         1\n",
      "         2\n",
      "         3\n",
      "\n"
     ]
    }
   ],
   "source": [
    "println(\"\\n\",\"element [1,2] of Q: \",            #commands continue on\n",
    "        Q[1,2])                                 #the next line (until fisnished)\n",
    "\n",
    "println(\"\\ncolumns 2 and 3 of Q: \")\n",
    "printmat(Q[:,2:3])\n",
    "\n",
    "println(\"\\nline 1 of Q (as a vector): \")\n",
    "printmat(Q[1,:])"
   ]
  },
  {
   "cell_type": "markdown",
   "metadata": {},
   "source": [
    "### Basic Linear Algebra\n",
    "\n",
    "The syntax for linear algebra is similar to the standard text book approach. For instance, \n",
    "* `Q'Q` multiplies the transpose ($Q'$) with the matrix ($Q$)\n",
    "* `A*B` does matrix multiplication\n",
    "* `100*Q` multiplies each element of the matrix ($Q$) by 100\n",
    "\n",
    "However, to add a scalar to each element of a matrix, use `100 .+ Q`. Notice the dot."
   ]
  },
  {
   "cell_type": "code",
   "execution_count": 7,
   "metadata": {},
   "outputs": [
    {
     "name": "stdout",
     "output_type": "stream",
     "text": [
      "transpose of Q:\n",
      "         1         4\n",
      "         2         5\n",
      "         3         6\n",
      "\n",
      "Q'Q:\n",
      "        17        22        27\n",
      "        22        29        36\n",
      "        27        36        45\n",
      "\n",
      "scalar * matrix:\n",
      "       100       200       300\n",
      "       400       500       600\n",
      "\n",
      "scalar .+ matrix:\n",
      "       101       102       103\n",
      "       104       105       106\n",
      "\n"
     ]
    }
   ],
   "source": [
    "println(\"transpose of Q:\")\n",
    "printmat(Q')\n",
    "\n",
    "println(\"Q'Q:\")\n",
    "printmat(Q'Q)\n",
    "\n",
    "println(\"scalar * matrix:\")\n",
    "printmat(100*Q)\n",
    "\n",
    "println(\"scalar .+ matrix:\")                        #notice the dot\n",
    "printmat(100 .+ Q)"
   ]
  },
  {
   "cell_type": "markdown",
   "metadata": {},
   "source": [
    "### Creating a Sequence and a Vector"
   ]
  },
  {
   "cell_type": "code",
   "execution_count": 8,
   "metadata": {},
   "outputs": [
    {
     "name": "stdout",
     "output_type": "stream",
     "text": [
      "\n",
      "θ is a sequence: 1:10:21\n",
      "\n",
      "ρ is a vector: \n",
      "         1\n",
      "        11\n",
      "        21\n",
      "\n"
     ]
    }
   ],
   "source": [
    "θ = 1:10:21                  #a sequence (range), type \\theta + TAB to get this symbol        \n",
    "println(\"\\n\",\"θ is a sequence: \",θ)\n",
    "\n",
    "ρ = collect(θ)               #make the sequence into a vector, \\rho+TAB\n",
    "println(\"\\n\",\"ρ is a vector: \")\n",
    "printmat(ρ)"
   ]
  },
  {
   "cell_type": "markdown",
   "metadata": {},
   "source": [
    "# Comparing Things\n",
    "\n",
    "To see if the scalar z <= 0, do \n",
    "```\n",
    "vv = z <= 0\n",
    "```\n",
    "to get a single output (true or false)\n",
    "\n",
    "Instead, if x is an array, do \n",
    "```\n",
    "vv = x .<= 0                      #notice the dot.\n",
    "```\n",
    "to get an array of outputs (same dimension as x)"
   ]
  },
  {
   "cell_type": "code",
   "execution_count": 9,
   "metadata": {},
   "outputs": [
    {
     "name": "stdout",
     "output_type": "stream",
     "text": [
      "x values: \n",
      "    -1.500\n",
      "    -1.000\n",
      "    -0.500\n",
      "     0.000\n",
      "     0.500\n",
      "\n",
      "true if x is in (-1,0]: \n",
      "     false\n",
      "     false\n",
      "      true\n",
      "      true\n",
      "     false\n",
      "\n",
      "x values that are in (-1,0]: \n",
      "    -0.500\n",
      "     0.000\n",
      "\n"
     ]
    }
   ],
   "source": [
    "x =  [-1.5,-1.0,-0.5,0,0.5]             #this is a vector\n",
    "\n",
    "println(\"x values: \")\n",
    "printmat(x)\n",
    "\n",
    "vv = -1 .< x .<= 0                      #true for x values (-1,0], vv is a vector\n",
    "println(\"true if x is in (-1,0]: \")\n",
    "printmat(vv)\n",
    "\n",
    "x2 = x[vv]                              #x values for which vv==true\n",
    "println(\"x values that are in (-1,0]: \")\n",
    "printmat(x2)"
   ]
  },
  {
   "cell_type": "markdown",
   "metadata": {},
   "source": [
    "# Finding Things\n",
    "\n",
    "can be done by, for instance, `findfirst()`, `findall()` and `indexin()`"
   ]
  },
  {
   "cell_type": "code",
   "execution_count": 10,
   "metadata": {},
   "outputs": [
    {
     "name": "stdout",
     "output_type": "stream",
     "text": [
      "x values: \n",
      "    -1.500\n",
      "    -1.000\n",
      "    -0.500\n",
      "     0.000\n",
      "     0.500\n",
      "\n",
      "(first) index v in x such x[v]==0: 4\n",
      "\n",
      "all indices v in x such x[v]>=0: \n",
      "         4\n",
      "         5\n",
      "\n",
      "\n",
      "indices in x so that x[v] equals the vector y=[-1.0, 0.0]: \n",
      "         2\n",
      "         4\n",
      "\n"
     ]
    }
   ],
   "source": [
    "x =  [-1.5,-1.0,-0.5,0,0.5]             #this is a vector\n",
    "\n",
    "println(\"x values: \")\n",
    "printmat(x)\n",
    "\n",
    "v1 = findfirst(x.==0)\n",
    "println(\"(first) index v in x such x[v]==0: \",v1)\n",
    "\n",
    "v2 = findall(x.>=0)\n",
    "println(\"\\nall indices v in x such x[v]>=0: \")\n",
    "printmat(v2)\n",
    "\n",
    "y = [-1.0,0]\n",
    "v3 = indexin(y,x)\n",
    "println(\"\\nindices in x so that x[v] equals the vector y=$y: \")\n",
    "printmat(v3)"
   ]
  },
  {
   "cell_type": "markdown",
   "metadata": {},
   "source": [
    "# If-then-else\n",
    "\n",
    "allows you to run different commands depending on a condition which you specify."
   ]
  },
  {
   "cell_type": "code",
   "execution_count": 11,
   "metadata": {},
   "outputs": [
    {
     "name": "stdout",
     "output_type": "stream",
     "text": [
      "1.05\n"
     ]
    }
   ],
   "source": [
    "z = 1.05\n",
    "\n",
    "if 1 <= z <= 2          #(a) if true, run the next command (y=z) and then jump to end\n",
    "    y = z\n",
    "elseif z < 1            #(b) if (a) is false, try this instead  \n",
    "    y = 1\n",
    "else                    #(c) if also (b) is false, do this\n",
    "    y = 2\n",
    "end    \n",
    "\n",
    "println(y)"
   ]
  },
  {
   "cell_type": "markdown",
   "metadata": {},
   "source": [
    "# Loops\n",
    "\n",
    "The are two types of loops: \"for loops\" and \"while loops\". \n",
    "\n",
    "The *for loop* is best when you know how many times you want to loop (for instance, over all $m$ rows in a matrix). \n",
    "\n",
    "The *while loop* is best when you want to keep looping until something happens, for instance, that $x_0$ and $x_1$ get really close.\n",
    "\n",
    "If you want the loop to assign values to a variable `x` defined before the loop, add `global x` somewhere inside the loop. (This is not needed if you only assign values to some elements of an existing array.) In contrast, to make sure that the `x` calculated inside the loop does not affect `x` outside the loop, add `local x`."
   ]
  },
  {
   "cell_type": "markdown",
   "metadata": {},
   "source": [
    "### A Simple \"for loop\"\n",
    "\n",
    "The \"for loop\" in the next cell makes 3 iterations and changes a global $x$ variable."
   ]
  },
  {
   "cell_type": "code",
   "execution_count": 12,
   "metadata": {},
   "outputs": [
    {
     "name": "stdout",
     "output_type": "stream",
     "text": [
      "i=3 and x=3\n",
      "i=6 and x=9\n",
      "i=9 and x=18\n"
     ]
    }
   ],
   "source": [
    "x = 0\n",
    "for i = 3:3:9                         #first i=3, then i=6, and last i=9, try also i=1:9\n",
    "    global x                          #to change the x outside loop\n",
    "    x = x + i                         #adding i to the \"old\" x\n",
    "    println(\"i=$i and x=$x\")          #$x prints the value of x\n",
    "end"
   ]
  },
  {
   "cell_type": "markdown",
   "metadata": {},
   "source": [
    "### A Double \"for loop\"\n",
    "\n",
    "An example of a nested for for loop\n",
    "\n",
    "```\n",
    "for j = 1:n, i = 1:m         \n",
    "    #do something\n",
    "end\n",
    "```\n",
    "\n",
    "If you prefer, could also write a longer version to do the same thing\n",
    "```\n",
    "for j = 1:n \n",
    "    for i = 1:m         \n",
    "        #do something\n",
    "    end    \n",
    "end\n",
    "```\n",
    "\n",
    "The next cell uses a double loop to fill a matrix. "
   ]
  },
  {
   "cell_type": "code",
   "execution_count": 13,
   "metadata": {},
   "outputs": [
    {
     "name": "stdout",
     "output_type": "stream",
     "text": [
      "new x matrix: \n",
      "\n",
      "        11        12        13\n",
      "        21        22        23\n",
      "        31        32        33\n",
      "        41        42        43\n",
      "\n"
     ]
    }
   ],
   "source": [
    "(m,n) = (4,3)                     #same as m=4;n=3\n",
    "x = fill(-999,(m,n))              #to put results in, initialized as -999\n",
    "for i = 1:m, j = 1:n\n",
    "    x[i,j] = 10*i + j\n",
    "end\n",
    "\n",
    "println(\"new x matrix: \\n\") \n",
    "printmat(x)"
   ]
  },
  {
   "cell_type": "markdown",
   "metadata": {},
   "source": [
    "## A Simple \"while loop\"\n",
    "\n",
    "The \"while loop\" in the next cell iterates until two variables ($x_0$ and $x_1$) get close.\n",
    "\n",
    "(The background to the example is that we want to solve a function $f(x)=x^2$ for the $x$ value that makes $f(x)=2$. The Newton-Raphson algorithm is to start with a value $x_0$ and update it to\n",
    "$\n",
    "x_1 = x_0 + (2-f(x_0))/f'(x_0)\n",
    "$\n",
    "where $f'(x_0)$ is the derivative of $f()$ evaluated at $x_0$. The algorithm iterates until $x_0$ and $x_1$ are close. Clearly, we are trying to find the square root of 2.)"
   ]
  },
  {
   "cell_type": "code",
   "execution_count": 14,
   "metadata": {},
   "outputs": [
    {
     "name": "stdout",
     "output_type": "stream",
     "text": [
      "\n",
      "Solving x^2 = 2 with Newton-Raphson:\n",
      "\n",
      "        10 is changed to      5.100\n",
      "     5.100 is changed to      2.746\n",
      "     2.746 is changed to      1.737\n",
      "     1.737 is changed to      1.444\n",
      "     1.444 is changed to      1.415\n",
      "     1.415 is changed to      1.414\n",
      "\n",
      "The result should be close to      1.414\n"
     ]
    }
   ],
   "source": [
    "println(\"\\nSolving x^2 = 2 with Newton-Raphson:\\n\")\n",
    "\n",
    "x₀ = Inf         #x\\_0 + TAB    \n",
    "x₁ = 10                           \n",
    "\n",
    "while abs(x₁-x₀) > 0.001            #keep going until they get similar\n",
    "    global x₀, x₁\n",
    "    local y, dy                    #to make sure we don't overwrite any y,dy outside loop\n",
    "    x₀ = x₁                         #initial guess is taken from old guess\n",
    "    y  = x₀^2                       #value of function\n",
    "    dy = 2*x₀                       #derivative of function\n",
    "    x₁ = x₀ + (2 - y)/dy            #updating the guess, Newton-Raphson\n",
    "    printlnPs(x₀,\" is changed to \",x₁)\n",
    "end\n",
    "\n",
    "printlnPs(\"\\nThe result should be close to \",sqrt(2))"
   ]
  },
  {
   "cell_type": "markdown",
   "metadata": {},
   "source": [
    "# A Simple Function\n",
    "\n",
    "The next cell defines a new function, `fn1()`. It is meant to take a scalar input (`x`) and return a scalar output (`y`).\n",
    "\n",
    "If you instead use a vector as the input, then the computation fails. (The reason is that you cannot do x^2 on a vector. You could on a square matrix, though.)\n",
    "\n",
    "However, using the \"dot\" syntax\n",
    "```\n",
    "y = fn1.(x)\n",
    "```\n",
    "gives an array as output where element `y[i,j] = fn1(x[i,j])`."
   ]
  },
  {
   "cell_type": "code",
   "execution_count": 15,
   "metadata": {},
   "outputs": [
    {
     "data": {
      "text/plain": [
       "fn1 (generic function with 1 method)"
      ]
     },
     "execution_count": 15,
     "metadata": {},
     "output_type": "execute_result"
    }
   ],
   "source": [
    "function fn1(x)               #define a new function \n",
    "  y = (x-1.1)^2 - 0.5                \n",
    "  return y\n",
    "end  "
   ]
  },
  {
   "cell_type": "code",
   "execution_count": 16,
   "metadata": {},
   "outputs": [
    {
     "name": "stdout",
     "output_type": "stream",
     "text": [
      "result from fn1(1.5):     -0.340\n",
      "\n",
      "result from fn1.(x): \n",
      "    -0.490\n",
      "    -0.340\n",
      "\n"
     ]
    }
   ],
   "source": [
    "y = fn1(1.5)\n",
    "printlnPs(\"result from fn1(1.5): \",y)\n",
    "\n",
    "x = [1;1.5] \n",
    "#y = fn1(x)                   #would give an error \n",
    "y = fn1.(x)                   #calling on the function, dot. to do for each element in x\n",
    "printlnPs(\"\\nresult from fn1.(x): \")\n",
    "printmat(y)"
   ]
  },
  {
   "cell_type": "markdown",
   "metadata": {},
   "source": [
    "# A First Plot\n",
    "\n",
    "With the Plots package you create a a simple plot like this:\n",
    "\n",
    "1. Plot one curve by using the `plot()` command \n",
    "2. Add another curve to the figure by using the `plot!()` command. Notice the !\n",
    "3. Add more things by using the `title!()`, `xlabel!()` etc commands.\n",
    "\n",
    "Notice: the first plot is slow."
   ]
  },
  {
   "cell_type": "code",
   "execution_count": 17,
   "metadata": {},
   "outputs": [
    {
     "data": {
      "image/svg+xml": [
       "<?xml version=\"1.0\" encoding=\"utf-8\"?>\n",
       "<svg xmlns=\"http://www.w3.org/2000/svg\" xmlns:xlink=\"http://www.w3.org/1999/xlink\" width=\"480\" height=\"320\" viewBox=\"0 0 1920 1280\">\n",
       "<defs>\n",
       "  <clipPath id=\"clip9900\">\n",
       "    <rect x=\"0\" y=\"0\" width=\"2000\" height=\"2000\"/>\n",
       "  </clipPath>\n",
       "</defs>\n",
       "<defs>\n",
       "  <clipPath id=\"clip9901\">\n",
       "    <rect x=\"0\" y=\"0\" width=\"1920\" height=\"1280\"/>\n",
       "  </clipPath>\n",
       "</defs>\n",
       "<polygon clip-path=\"url(#clip9901)\" points=\"\n",
       "0,1280 1920,1280 1920,0 0,0 \n",
       "  \" fill=\"#ffffff\" fill-opacity=\"1\"/>\n",
       "<defs>\n",
       "  <clipPath id=\"clip9902\">\n",
       "    <rect x=\"384\" y=\"0\" width=\"1345\" height=\"1280\"/>\n",
       "  </clipPath>\n",
       "</defs>\n",
       "<polygon clip-path=\"url(#clip9901)\" points=\"\n",
       "211.005,1120.48 1841.26,1120.48 1841.26,125.984 211.005,125.984 \n",
       "  \" fill=\"#ffffff\" fill-opacity=\"1\"/>\n",
       "<defs>\n",
       "  <clipPath id=\"clip9903\">\n",
       "    <rect x=\"211\" y=\"125\" width=\"1631\" height=\"995\"/>\n",
       "  </clipPath>\n",
       "</defs>\n",
       "<polyline clip-path=\"url(#clip9903)\" style=\"stroke:#000000; stroke-width:2; stroke-opacity:0.1; fill:none\" points=\"\n",
       "  428.608,1120.48 428.608,125.984 \n",
       "  \"/>\n",
       "<polyline clip-path=\"url(#clip9903)\" style=\"stroke:#000000; stroke-width:2; stroke-opacity:0.1; fill:none\" points=\"\n",
       "  771.535,1120.48 771.535,125.984 \n",
       "  \"/>\n",
       "<polyline clip-path=\"url(#clip9903)\" style=\"stroke:#000000; stroke-width:2; stroke-opacity:0.1; fill:none\" points=\"\n",
       "  1114.46,1120.48 1114.46,125.984 \n",
       "  \"/>\n",
       "<polyline clip-path=\"url(#clip9903)\" style=\"stroke:#000000; stroke-width:2; stroke-opacity:0.1; fill:none\" points=\"\n",
       "  1457.39,1120.48 1457.39,125.984 \n",
       "  \"/>\n",
       "<polyline clip-path=\"url(#clip9903)\" style=\"stroke:#000000; stroke-width:2; stroke-opacity:0.1; fill:none\" points=\"\n",
       "  1800.32,1120.48 1800.32,125.984 \n",
       "  \"/>\n",
       "<polyline clip-path=\"url(#clip9903)\" style=\"stroke:#000000; stroke-width:2; stroke-opacity:0.1; fill:none\" points=\"\n",
       "  211.005,1053.6 1841.26,1053.6 \n",
       "  \"/>\n",
       "<polyline clip-path=\"url(#clip9903)\" style=\"stroke:#000000; stroke-width:2; stroke-opacity:0.1; fill:none\" points=\"\n",
       "  211.005,859.863 1841.26,859.863 \n",
       "  \"/>\n",
       "<polyline clip-path=\"url(#clip9903)\" style=\"stroke:#000000; stroke-width:2; stroke-opacity:0.1; fill:none\" points=\"\n",
       "  211.005,666.129 1841.26,666.129 \n",
       "  \"/>\n",
       "<polyline clip-path=\"url(#clip9903)\" style=\"stroke:#000000; stroke-width:2; stroke-opacity:0.1; fill:none\" points=\"\n",
       "  211.005,472.395 1841.26,472.395 \n",
       "  \"/>\n",
       "<polyline clip-path=\"url(#clip9903)\" style=\"stroke:#000000; stroke-width:2; stroke-opacity:0.1; fill:none\" points=\"\n",
       "  211.005,278.661 1841.26,278.661 \n",
       "  \"/>\n",
       "<polyline clip-path=\"url(#clip9901)\" style=\"stroke:#000000; stroke-width:4; stroke-opacity:1; fill:none\" points=\"\n",
       "  211.005,1120.48 1841.26,1120.48 \n",
       "  \"/>\n",
       "<polyline clip-path=\"url(#clip9901)\" style=\"stroke:#000000; stroke-width:4; stroke-opacity:1; fill:none\" points=\"\n",
       "  211.005,1120.48 211.005,125.984 \n",
       "  \"/>\n",
       "<polyline clip-path=\"url(#clip9901)\" style=\"stroke:#000000; stroke-width:4; stroke-opacity:1; fill:none\" points=\"\n",
       "  428.608,1120.48 428.608,1105.57 \n",
       "  \"/>\n",
       "<polyline clip-path=\"url(#clip9901)\" style=\"stroke:#000000; stroke-width:4; stroke-opacity:1; fill:none\" points=\"\n",
       "  771.535,1120.48 771.535,1105.57 \n",
       "  \"/>\n",
       "<polyline clip-path=\"url(#clip9901)\" style=\"stroke:#000000; stroke-width:4; stroke-opacity:1; fill:none\" points=\"\n",
       "  1114.46,1120.48 1114.46,1105.57 \n",
       "  \"/>\n",
       "<polyline clip-path=\"url(#clip9901)\" style=\"stroke:#000000; stroke-width:4; stroke-opacity:1; fill:none\" points=\"\n",
       "  1457.39,1120.48 1457.39,1105.57 \n",
       "  \"/>\n",
       "<polyline clip-path=\"url(#clip9901)\" style=\"stroke:#000000; stroke-width:4; stroke-opacity:1; fill:none\" points=\"\n",
       "  1800.32,1120.48 1800.32,1105.57 \n",
       "  \"/>\n",
       "<polyline clip-path=\"url(#clip9901)\" style=\"stroke:#000000; stroke-width:4; stroke-opacity:1; fill:none\" points=\"\n",
       "  211.005,1053.6 235.459,1053.6 \n",
       "  \"/>\n",
       "<polyline clip-path=\"url(#clip9901)\" style=\"stroke:#000000; stroke-width:4; stroke-opacity:1; fill:none\" points=\"\n",
       "  211.005,859.863 235.459,859.863 \n",
       "  \"/>\n",
       "<polyline clip-path=\"url(#clip9901)\" style=\"stroke:#000000; stroke-width:4; stroke-opacity:1; fill:none\" points=\"\n",
       "  211.005,666.129 235.459,666.129 \n",
       "  \"/>\n",
       "<polyline clip-path=\"url(#clip9901)\" style=\"stroke:#000000; stroke-width:4; stroke-opacity:1; fill:none\" points=\"\n",
       "  211.005,472.395 235.459,472.395 \n",
       "  \"/>\n",
       "<polyline clip-path=\"url(#clip9901)\" style=\"stroke:#000000; stroke-width:4; stroke-opacity:1; fill:none\" points=\"\n",
       "  211.005,278.661 235.459,278.661 \n",
       "  \"/>\n",
       "<g clip-path=\"url(#clip9901)\">\n",
       "<text style=\"fill:#000000; fill-opacity:1; font-family:Arial,Helvetica Neue,Helvetica,sans-serif; font-size:48px; text-anchor:middle;\" transform=\"rotate(0, 428.608, 1172.08)\" x=\"428.608\" y=\"1172.08\">-2</text>\n",
       "</g>\n",
       "<g clip-path=\"url(#clip9901)\">\n",
       "<text style=\"fill:#000000; fill-opacity:1; font-family:Arial,Helvetica Neue,Helvetica,sans-serif; font-size:48px; text-anchor:middle;\" transform=\"rotate(0, 771.535, 1172.08)\" x=\"771.535\" y=\"1172.08\">0</text>\n",
       "</g>\n",
       "<g clip-path=\"url(#clip9901)\">\n",
       "<text style=\"fill:#000000; fill-opacity:1; font-family:Arial,Helvetica Neue,Helvetica,sans-serif; font-size:48px; text-anchor:middle;\" transform=\"rotate(0, 1114.46, 1172.08)\" x=\"1114.46\" y=\"1172.08\">2</text>\n",
       "</g>\n",
       "<g clip-path=\"url(#clip9901)\">\n",
       "<text style=\"fill:#000000; fill-opacity:1; font-family:Arial,Helvetica Neue,Helvetica,sans-serif; font-size:48px; text-anchor:middle;\" transform=\"rotate(0, 1457.39, 1172.08)\" x=\"1457.39\" y=\"1172.08\">4</text>\n",
       "</g>\n",
       "<g clip-path=\"url(#clip9901)\">\n",
       "<text style=\"fill:#000000; fill-opacity:1; font-family:Arial,Helvetica Neue,Helvetica,sans-serif; font-size:48px; text-anchor:middle;\" transform=\"rotate(0, 1800.32, 1172.08)\" x=\"1800.32\" y=\"1172.08\">6</text>\n",
       "</g>\n",
       "<g clip-path=\"url(#clip9901)\">\n",
       "<text style=\"fill:#000000; fill-opacity:1; font-family:Arial,Helvetica Neue,Helvetica,sans-serif; font-size:48px; text-anchor:end;\" transform=\"rotate(0, 191.805, 1071.1)\" x=\"191.805\" y=\"1071.1\">0</text>\n",
       "</g>\n",
       "<g clip-path=\"url(#clip9901)\">\n",
       "<text style=\"fill:#000000; fill-opacity:1; font-family:Arial,Helvetica Neue,Helvetica,sans-serif; font-size:48px; text-anchor:end;\" transform=\"rotate(0, 191.805, 877.363)\" x=\"191.805\" y=\"877.363\">5</text>\n",
       "</g>\n",
       "<g clip-path=\"url(#clip9901)\">\n",
       "<text style=\"fill:#000000; fill-opacity:1; font-family:Arial,Helvetica Neue,Helvetica,sans-serif; font-size:48px; text-anchor:end;\" transform=\"rotate(0, 191.805, 683.629)\" x=\"191.805\" y=\"683.629\">10</text>\n",
       "</g>\n",
       "<g clip-path=\"url(#clip9901)\">\n",
       "<text style=\"fill:#000000; fill-opacity:1; font-family:Arial,Helvetica Neue,Helvetica,sans-serif; font-size:48px; text-anchor:end;\" transform=\"rotate(0, 191.805, 489.895)\" x=\"191.805\" y=\"489.895\">15</text>\n",
       "</g>\n",
       "<g clip-path=\"url(#clip9901)\">\n",
       "<text style=\"fill:#000000; fill-opacity:1; font-family:Arial,Helvetica Neue,Helvetica,sans-serif; font-size:48px; text-anchor:end;\" transform=\"rotate(0, 191.805, 296.161)\" x=\"191.805\" y=\"296.161\">20</text>\n",
       "</g>\n",
       "<g clip-path=\"url(#clip9901)\">\n",
       "<text style=\"fill:#000000; fill-opacity:1; font-family:Arial,Helvetica Neue,Helvetica,sans-serif; font-size:84px; text-anchor:middle;\" transform=\"rotate(0, 1026.13, 73.2)\" x=\"1026.13\" y=\"73.2\">My Results</text>\n",
       "</g>\n",
       "<g clip-path=\"url(#clip9901)\">\n",
       "<text style=\"fill:#000000; fill-opacity:1; font-family:Arial,Helvetica Neue,Helvetica,sans-serif; font-size:66px; text-anchor:middle;\" transform=\"rotate(0, 1026.13, 1270.4)\" x=\"1026.13\" y=\"1270.4\">x</text>\n",
       "</g>\n",
       "<g clip-path=\"url(#clip9901)\">\n",
       "<text style=\"fill:#000000; fill-opacity:1; font-family:Arial,Helvetica Neue,Helvetica,sans-serif; font-size:66px; text-anchor:middle;\" transform=\"rotate(-90, 57.6, 623.233)\" x=\"57.6\" y=\"623.233\">my output value</text>\n",
       "</g>\n",
       "<polyline clip-path=\"url(#clip9903)\" style=\"stroke:#ff0000; stroke-width:8; stroke-opacity:1; fill:none\" points=\"\n",
       "  257.144,421.637 267.536,440.75 277.928,459.579 288.319,478.124 298.711,496.384 309.103,514.359 319.495,532.049 329.886,549.455 340.278,566.576 350.67,583.413 \n",
       "  361.062,599.965 371.453,616.232 381.845,632.215 392.237,647.912 402.629,663.326 413.02,678.455 423.412,693.299 433.804,707.858 444.195,722.133 454.587,736.123 \n",
       "  464.979,749.828 475.371,763.249 485.762,776.385 496.154,789.237 506.546,801.804 516.938,814.086 527.329,826.084 537.721,837.797 548.113,849.225 558.504,860.369 \n",
       "  568.896,871.228 579.288,881.803 589.68,892.092 600.071,902.097 610.463,911.818 620.855,921.254 631.247,930.405 641.638,939.272 652.03,947.854 662.422,956.151 \n",
       "  672.814,964.164 683.205,971.892 693.597,979.335 703.989,986.494 714.38,993.368 724.772,999.957 735.164,1006.26 745.556,1012.28 755.947,1018.02 766.339,1023.47 \n",
       "  776.731,1028.63 787.123,1033.52 797.514,1038.11 807.906,1042.43 818.298,1046.45 828.69,1050.2 839.081,1053.65 849.473,1056.83 859.865,1059.72 870.256,1062.32 \n",
       "  880.648,1064.64 891.04,1066.68 901.432,1068.43 911.823,1069.89 922.215,1071.07 932.607,1071.97 942.999,1072.58 953.39,1072.91 963.782,1072.95 974.174,1072.71 \n",
       "  984.565,1072.19 994.957,1071.37 1005.35,1070.28 1015.74,1068.9 1026.13,1067.23 1036.52,1065.28 1046.92,1063.05 1057.31,1060.53 1067.7,1057.73 1078.09,1054.64 \n",
       "  1088.48,1051.26 1098.87,1047.61 1109.27,1043.66 1119.66,1039.44 1130.05,1034.93 1140.44,1030.13 1150.83,1025.05 1161.22,1019.68 1171.62,1014.03 1182.01,1008.1 \n",
       "  1192.4,1001.88 1202.79,995.375 1213.18,988.586 1223.58,981.512 1233.97,974.155 1244.36,966.512 1254.75,958.585 1265.14,950.373 1275.53,941.876 1285.93,933.095 \n",
       "  1296.32,924.029 1306.71,914.679 1317.1,905.044 1327.49,895.124 1337.88,884.919 1348.28,874.43 1358.67,863.657 1369.06,852.598 1379.45,841.255 1389.84,829.628 \n",
       "  1400.23,817.715 1410.63,805.519 1421.02,793.037 1431.41,780.271 1441.8,767.22 1452.19,753.885 1462.59,740.264 1472.98,726.36 1483.37,712.17 1493.76,697.696 \n",
       "  1504.15,682.938 1514.54,667.894 1524.94,652.566 1535.33,636.954 1545.72,621.057 1556.11,604.875 1566.5,588.408 1576.89,571.657 1587.29,554.621 1597.68,537.301 \n",
       "  1608.07,519.696 1618.46,501.806 1628.85,483.632 1639.24,465.173 1649.64,446.429 1660.03,427.401 1670.42,408.088 1680.81,388.49 1691.2,368.608 1701.59,348.441 \n",
       "  1711.99,327.99 1722.38,307.253 1732.77,286.233 1743.16,264.927 1753.55,243.337 1763.95,221.462 1774.34,199.303 1784.73,176.859 1795.12,154.13 \n",
       "  \"/>\n",
       "<polyline clip-path=\"url(#clip9903)\" style=\"stroke:#0000ff; stroke-width:4; stroke-opacity:1; fill:none\" stroke-dasharray=\"16, 10\" points=\"\n",
       "  257.144,1091.96 267.536,1091.56 277.928,1091.01 288.319,1090.34 298.711,1089.52 309.103,1088.58 319.495,1087.5 329.886,1086.31 340.278,1084.99 350.67,1083.55 \n",
       "  361.062,1082.01 371.453,1080.36 381.845,1078.62 392.237,1076.78 402.629,1074.86 413.02,1072.85 423.412,1070.78 433.804,1068.65 444.195,1066.46 454.587,1064.22 \n",
       "  464.979,1061.94 475.371,1059.64 485.762,1057.31 496.154,1054.96 506.546,1052.62 516.938,1050.27 527.329,1047.94 537.721,1045.63 548.113,1043.35 558.504,1041.1 \n",
       "  568.896,1038.9 579.288,1036.76 589.68,1034.68 600.071,1032.66 610.463,1030.73 620.855,1028.87 631.247,1027.11 641.638,1025.45 652.03,1023.89 662.422,1022.44 \n",
       "  672.814,1021.1 683.205,1019.88 693.597,1018.79 703.989,1017.82 714.38,1016.98 724.772,1016.28 735.164,1015.72 745.556,1015.29 755.947,1015.01 766.339,1014.87 \n",
       "  776.731,1014.87 787.123,1015.01 797.514,1015.29 807.906,1015.72 818.298,1016.28 828.69,1016.98 839.081,1017.82 849.473,1018.79 859.865,1019.88 870.256,1021.1 \n",
       "  880.648,1022.44 891.04,1023.89 901.432,1025.45 911.823,1027.11 922.215,1028.87 932.607,1030.73 942.999,1032.66 953.39,1034.68 963.782,1036.76 974.174,1038.9 \n",
       "  984.565,1041.1 994.957,1043.35 1005.35,1045.63 1015.74,1047.94 1026.13,1050.27 1036.52,1052.62 1046.92,1054.96 1057.31,1057.31 1067.7,1059.64 1078.09,1061.94 \n",
       "  1088.48,1064.22 1098.87,1066.46 1109.27,1068.65 1119.66,1070.78 1130.05,1072.85 1140.44,1074.86 1150.83,1076.78 1161.22,1078.62 1171.62,1080.36 1182.01,1082.01 \n",
       "  1192.4,1083.55 1202.79,1084.99 1213.18,1086.31 1223.58,1087.5 1233.97,1088.58 1244.36,1089.52 1254.75,1090.34 1265.14,1091.01 1275.53,1091.56 1285.93,1091.96 \n",
       "  1296.32,1092.22 1306.71,1092.34 1317.1,1092.31 1327.49,1092.15 1337.88,1091.84 1348.28,1091.39 1358.67,1090.81 1369.06,1090.08 1379.45,1089.23 1389.84,1088.24 \n",
       "  1400.23,1087.12 1410.63,1085.89 1421.02,1084.53 1431.41,1083.06 1441.8,1081.48 1452.19,1079.8 1462.59,1078.02 1472.98,1076.16 1483.37,1074.21 1493.76,1072.18 \n",
       "  1504.15,1070.09 1514.54,1067.94 1524.94,1065.73 1535.33,1063.48 1545.72,1061.19 1556.11,1058.88 1566.5,1056.54 1576.89,1054.2 1587.29,1051.85 1597.68,1049.51 \n",
       "  1608.07,1047.18 1618.46,1044.88 1628.85,1042.61 1639.24,1040.38 1649.64,1038.19 1660.03,1036.07 1670.42,1034.01 1680.81,1032.02 1691.2,1030.11 1701.59,1028.29 \n",
       "  1711.99,1026.56 1722.38,1024.93 1732.77,1023.4 1743.16,1021.98 1753.55,1020.69 1763.95,1019.51 1774.34,1018.45 1784.73,1017.53 1795.12,1016.74 \n",
       "  \"/>\n",
       "<polygon clip-path=\"url(#clip9901)\" points=\"\n",
       "1492.7,362.144 1783.66,362.144 1783.66,180.704 1492.7,180.704 \n",
       "  \" fill=\"#ffffff\" fill-opacity=\"1\"/>\n",
       "<polyline clip-path=\"url(#clip9901)\" style=\"stroke:#000000; stroke-width:4; stroke-opacity:1; fill:none\" points=\"\n",
       "  1492.7,362.144 1783.66,362.144 1783.66,180.704 1492.7,180.704 1492.7,362.144 \n",
       "  \"/>\n",
       "<polyline clip-path=\"url(#clip9901)\" style=\"stroke:#ff0000; stroke-width:8; stroke-opacity:1; fill:none\" points=\"\n",
       "  1511.9,241.184 1627.1,241.184 \n",
       "  \"/>\n",
       "<g clip-path=\"url(#clip9901)\">\n",
       "<text style=\"fill:#000000; fill-opacity:1; font-family:Arial,Helvetica Neue,Helvetica,sans-serif; font-size:48px; text-anchor:start;\" transform=\"rotate(0, 1646.3, 258.684)\" x=\"1646.3\" y=\"258.684\">fn1()</text>\n",
       "</g>\n",
       "<polyline clip-path=\"url(#clip9901)\" style=\"stroke:#0000ff; stroke-width:4; stroke-opacity:1; fill:none\" stroke-dasharray=\"16, 10\" points=\"\n",
       "  1511.9,301.664 1627.1,301.664 \n",
       "  \"/>\n",
       "<g clip-path=\"url(#clip9901)\">\n",
       "<text style=\"fill:#000000; fill-opacity:1; font-family:Arial,Helvetica Neue,Helvetica,sans-serif; font-size:48px; text-anchor:start;\" transform=\"rotate(0, 1646.3, 319.164)\" x=\"1646.3\" y=\"319.164\">cos</text>\n",
       "</g>\n",
       "</svg>\n"
      ]
     },
     "execution_count": 17,
     "metadata": {},
     "output_type": "execute_result"
    }
   ],
   "source": [
    "x = -3:6/99:6 \n",
    "\n",
    "p1 = plot(x,fn1.(x),color=:red,linewidth=2,label=\"fn1()\")\n",
    "plot!(x,cos.(x),color=:blue,line=(:dash),label=\"cos\")\n",
    "title!(\"My Results\")\n",
    "xlabel!(\"x\")\n",
    "ylabel!(\"my output value\")"
   ]
  },
  {
   "cell_type": "markdown",
   "metadata": {},
   "source": [
    "# Types: Integers, Floats, Bools and Others\n",
    "\n",
    "Julia has many different types of variables: signed integers (like 2 or -5), floating point numbers (2.0 and -5.1), bools (false/true), bitarrays (similar to bools, but with more efficient use of memory), strings (\"hello\"), Dates (2017-04-23) and many more types."
   ]
  },
  {
   "cell_type": "markdown",
   "metadata": {},
   "source": [
    "## Integers and Floats"
   ]
  },
  {
   "cell_type": "code",
   "execution_count": 18,
   "metadata": {},
   "outputs": [
    {
     "name": "stdout",
     "output_type": "stream",
     "text": [
      "Finding the type of a, b, A and B:\n",
      "Int64 Float64 Array{Int64,1} Array{Float64,1}\n"
     ]
    }
   ],
   "source": [
    "a = 2                   #integer, Int (Int64 on most machines)\n",
    "b = 2.0                 #floating point, (Float64 on most machines)\n",
    "A = [1,2]\n",
    "B = [1.0,2.0]\n",
    "\n",
    "println(\"Finding the type of a, b, A and B:\")\n",
    "println(typeof(a),\" \",typeof(b),\" \",typeof(A),\" \",typeof(B))"
   ]
  },
  {
   "cell_type": "markdown",
   "metadata": {},
   "source": [
    "## Bools and BitArrays\n",
    "\n",
    "Bools are \"true\" or \"false\". BitArrays are (more memory efficient) versions of this."
   ]
  },
  {
   "cell_type": "code",
   "execution_count": 19,
   "metadata": {},
   "outputs": [
    {
     "name": "stdout",
     "output_type": "stream",
     "text": [
      "Finding the type of c and C:\n",
      "Bool BitArray{1}\n"
     ]
    }
   ],
   "source": [
    "c = 2 > 1.1\n",
    "C = A .> 1.5        #A is an array, so C is too\n",
    "\n",
    "println(\"Finding the type of c and C:\")\n",
    "println(typeof(c),\" \",typeof(C))"
   ]
  },
  {
   "cell_type": "markdown",
   "metadata": {},
   "source": [
    "## Calculations with Mixed Types\n",
    "\n",
    "A calculation like \"integer\" + \"float\" works and the type of the result will be a float (the more flexible type). Similarly, \"bool\" + \"integer\" will give an integer. These promotion rules make it easy to have mixed types in calculations, and also provide a simple way of converting a variable from one type to another. (There are also an explicit convert() function that might be quicker.)"
   ]
  },
  {
   "cell_type": "code",
   "execution_count": 20,
   "metadata": {},
   "outputs": [
    {
     "name": "stdout",
     "output_type": "stream",
     "text": [
      "3.0\n",
      "3\n"
     ]
    }
   ],
   "source": [
    "println(1+2.0)                #integer + Float\n",
    "println((1>0) + 2)            #bool + integer"
   ]
  },
  {
   "cell_type": "markdown",
   "metadata": {},
   "source": [
    "## Arrays of Arrays (or other types)\n",
    "\n",
    "You can store very different things (a mixture of numbers, matrices, strings) in an array. For instance, if `x1` is a vector and `x2` is a string, then `[x1,x2]` puts them into a vector."
   ]
  },
  {
   "cell_type": "code",
   "execution_count": 21,
   "metadata": {},
   "outputs": [
    {
     "name": "stdout",
     "output_type": "stream",
     "text": [
      "x[2] is: And Ezra Pound and T.S. Eliot fighting in the captain's tower...\n"
     ]
    }
   ],
   "source": [
    "x1 = 1:10\n",
    "x2 = \"And Ezra Pound and T.S. Eliot fighting in the captain's tower...\"\n",
    "x3 = rand(4,3)\n",
    "x  = [x1,x2,x3]\n",
    "\n",
    "println(\"x[2] is: \",x[2])"
   ]
  },
  {
   "cell_type": "code",
   "execution_count": null,
   "metadata": {},
   "outputs": [],
   "source": []
  }
 ],
 "metadata": {
  "anaconda-cloud": {},
  "kernelspec": {
   "display_name": "Julia 1.0.1",
   "language": "julia",
   "name": "julia-1.0"
  },
  "language_info": {
   "file_extension": ".jl",
   "mimetype": "application/julia",
   "name": "julia",
   "version": "1.0.1"
  }
 },
 "nbformat": 4,
 "nbformat_minor": 1
}
